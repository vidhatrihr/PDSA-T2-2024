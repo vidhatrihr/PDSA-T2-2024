{
 "cells": [
  {
   "cell_type": "markdown",
   "metadata": {},
   "source": [
    "## Kruskal's Algorithm using UnionFind"
   ]
  },
  {
   "cell_type": "code",
   "execution_count": 6,
   "metadata": {},
   "outputs": [
    {
     "data": {
      "text/plain": [
       "True"
      ]
     },
     "execution_count": 6,
     "metadata": {},
     "output_type": "execute_result"
    }
   ],
   "source": [
    "class UnionFind:\n",
    "  def __init__(self, vertices):\n",
    "    self.parent = {u: u for u in vertices}\n",
    "\n",
    "  def find(self, node):\n",
    "    while self.parent[node] != node:\n",
    "      node = self.parent[node]\n",
    "    return node\n",
    "\n",
    "  def union(self, u, v):\n",
    "    root1 = self.find(u)\n",
    "    root2 = self.find(v)\n",
    "    if root1 != root2:\n",
    "      self.parent[root2] = root1\n",
    "      return True\n",
    "    return False\n",
    "\n",
    "\n",
    "def kruskal(adj_list):\n",
    "  mst = []\n",
    "\n",
    "  edges = []\n",
    "  for u in adj_list:\n",
    "    for v, weight in adj_list[u]:\n",
    "      edges.append((weight, u, v))\n",
    "  edges.sort()\n",
    "\n",
    "  uf = UnionFind(adj_list)\n",
    "\n",
    "  for weight, u, v in edges:\n",
    "    if uf.union(u, v):\n",
    "      mst.append((u, v, weight))\n",
    "  return mst\n",
    "\n",
    "\n",
    "adjacency_list = {\n",
    "    0: [(1, 10), (2, 6)],\n",
    "    1: [(0, 10), (3, 15), (2, 4)],\n",
    "    2: [(0, 6), (1, 4), (3, 11)],\n",
    "    3: [(1, 15), (2, 11)]\n",
    "}\n",
    "\n",
    "kruskal(adjacency_list) == [(1, 2, 4), (0, 2, 6), (2, 3, 11)]"
   ]
  },
  {
   "cell_type": "markdown",
   "metadata": {},
   "source": [
    "## MaxHeap"
   ]
  },
  {
   "cell_type": "code",
   "execution_count": 7,
   "metadata": {},
   "outputs": [
    {
     "name": "stdout",
     "output_type": "stream",
     "text": [
      "Heap (One-by-One):\n",
      "100 90 60 70 80 20 50 10 40 30\n",
      "Heap (Heapify):\n",
      "100 90 70 80 50 60 30 10 40 20\n"
     ]
    },
    {
     "data": {
      "text/plain": [
       "100"
      ]
     },
     "execution_count": 7,
     "metadata": {},
     "output_type": "execute_result"
    }
   ],
   "source": [
    "class MaxHeap:\n",
    "  def __init__(self, H, method='one_by_one'):\n",
    "    self.heap = []\n",
    "    if method == 'one_by_one':\n",
    "      self._build_heap_by_one_by_one(H)\n",
    "    elif method == 'heapify':\n",
    "      self._build_heap_by_heapify(H)\n",
    "    else:\n",
    "      raise Exception('Invalid Method')\n",
    "\n",
    "  def is_empty(self):\n",
    "    return len(self.value) == None\n",
    "\n",
    "  def delete(self):\n",
    "    if not self.heap:\n",
    "      return None\n",
    "    self._swap(0, len(self.heap)-1)\n",
    "    root = self.heap.pop()\n",
    "    self._heapify_down(0)\n",
    "    return root\n",
    "\n",
    "  def _build_heap_by_one_by_one(self, H):\n",
    "    for value in H:\n",
    "      self.insert(value)\n",
    "\n",
    "  def _build_heap_by_heapify(self, H):\n",
    "    self.heap = H\n",
    "    for i in range(len(H)//2-1, -1, -1):\n",
    "      self._heapify_down(i)\n",
    "\n",
    "  def insert(self, value):\n",
    "    self.heap.append(value)\n",
    "    self._heapify_up(len(self.heap)-1)\n",
    "\n",
    "  def _heapify_up(self, index):\n",
    "    parent_index = (index-1) // 2\n",
    "    if index > 0 and self.heap[index] > self.heap[parent_index]:\n",
    "      self._swap(index, parent_index)\n",
    "      self._heapify_up(parent_index)\n",
    "\n",
    "  def _heapify_down(self, index):\n",
    "    largest = index\n",
    "    left = 2 * index + 1\n",
    "    right = 2 * index + 2\n",
    "    if left < len(self.heap) and self.heap[left] > self.heap[largest]:\n",
    "      largest = left\n",
    "    if right < len(self.heap) and self.heap[right] > self.heap[largest]:\n",
    "      largest = right\n",
    "    if largest != index:\n",
    "      self._swap(index, largest)\n",
    "      self._heapify_down(largest)\n",
    "\n",
    "  def _swap(self, i, j):\n",
    "    self.heap[i], self.heap[j] = self.heap[j], self.heap[i]\n",
    "\n",
    "  def print_heap(self):\n",
    "    print(' '.join(map(str, self.heap)))\n",
    "\n",
    "\n",
    "H = [10, 20, 30, 40, 50, 60, 70, 80, 90, 100]\n",
    "max_heap = MaxHeap(H, method='one_by_one')\n",
    "print(\"Heap (One-by-One):\")\n",
    "max_heap.print_heap()\n",
    "\n",
    "# construct heap using heapify method\n",
    "max_heap = MaxHeap(H, method='heapify')\n",
    "print(\"Heap (Heapify):\")\n",
    "max_heap.print_heap()\n",
    "max_heap.delete()"
   ]
  },
  {
   "cell_type": "code",
   "execution_count": 14,
   "metadata": {},
   "outputs": [
    {
     "name": "stdout",
     "output_type": "stream",
     "text": [
      "Heap (One-by-One):\n",
      "10 20 30 40 50 60 70 80 90 100\n",
      "Heap (Heapify):\n",
      "10 20 30 40 50 60 70 80 90 100\n",
      "10\n"
     ]
    }
   ],
   "source": [
    "class MinHeap:\n",
    "  def __init__(self, H, method='one_by_one'):\n",
    "    self.heap = []\n",
    "    if method == 'one_by_one':\n",
    "      self._build_heap_by_one_by_one(H)\n",
    "    elif method == 'heapify':\n",
    "      self._build_heap_by_heapify(H)\n",
    "    else:\n",
    "      raise Exception('Invalid Method')\n",
    "\n",
    "  def is_empty(self):\n",
    "    return len(self.heap) == 0\n",
    "\n",
    "  def delete(self):\n",
    "    if not self.heap:\n",
    "      return None\n",
    "    self._swap(0, len(self.heap)-1)\n",
    "    root = self.heap.pop()\n",
    "    self._heapify_down(0)\n",
    "    return root\n",
    "\n",
    "  def _build_heap_by_one_by_one(self, H):\n",
    "    for value in H:\n",
    "      self.insert(value)\n",
    "\n",
    "  def _build_heap_by_heapify(self, H):\n",
    "    self.heap = H\n",
    "    for i in range(len(H)//2-1, -1, -1):\n",
    "      self._heapify_down(i)\n",
    "\n",
    "  def insert(self, value):\n",
    "    self.heap.append(value)\n",
    "    self._heapify_up(len(self.heap)-1)\n",
    "\n",
    "  def _heapify_up(self, index):\n",
    "    parent_index = (index-1) // 2\n",
    "    if index > 0 and self.heap[index] < self.heap[parent_index]:\n",
    "      self._swap(index, parent_index)\n",
    "      self._heapify_up(parent_index)\n",
    "\n",
    "  def _heapify_down(self, index):\n",
    "    smallest = index\n",
    "    left = 2 * index + 1\n",
    "    right = 2 * index + 2\n",
    "    if left < len(self.heap) and self.heap[left] < self.heap[smallest]:\n",
    "      smallest = left\n",
    "    if right < len(self.heap) and self.heap[right] < self.heap[smallest]:\n",
    "      smallest = right\n",
    "    if smallest != index:\n",
    "      self._swap(index, smallest)\n",
    "      self._heapify_down(smallest)\n",
    "\n",
    "  def _swap(self, i, j):\n",
    "    self.heap[i], self.heap[j] = self.heap[j], self.heap[i]\n",
    "\n",
    "  def print_heap(self):\n",
    "    print(' '.join(map(str, self.heap)))\n",
    "\n",
    "\n",
    "H = [10, 20, 30, 40, 50, 60, 70, 80, 90, 100]\n",
    "min_heap = MinHeap(H, method='one_by_one')\n",
    "print(\"Heap (One-by-One):\")\n",
    "min_heap.print_heap()\n",
    "\n",
    "# construct heap using heapify method\n",
    "min_heap = MinHeap(H, method='heapify')\n",
    "print(\"Heap (Heapify):\")\n",
    "min_heap.print_heap()\n",
    "print(min_heap.delete())"
   ]
  },
  {
   "cell_type": "markdown",
   "metadata": {},
   "source": [
    "## Priority Queue"
   ]
  },
  {
   "cell_type": "code",
   "execution_count": 15,
   "metadata": {},
   "outputs": [
    {
     "name": "stdout",
     "output_type": "stream",
     "text": [
      "Priority queue:\n",
      "[(1, 'think2'), (3, 'think1'), (2, 'think3'), (4, 'think4')]\n",
      "Dequeue operations:\n",
      "think2\n",
      "think3\n",
      "think1\n",
      "think4\n",
      "Priority queue after dequeues:\n",
      "[]\n"
     ]
    }
   ],
   "source": [
    "class PriorityQueue:\n",
    "  def __init__(self):\n",
    "    self.min_heap = MinHeap([])\n",
    "\n",
    "  def enqueue(self, priority, item):\n",
    "    self.min_heap.insert((priority, item))\n",
    "\n",
    "  def dequeue(self):\n",
    "    return self.min_heap.delete()[1]\n",
    "\n",
    "  def is_empty(self):\n",
    "    return self.min_heap.is_empty()\n",
    "\n",
    "  def __str__(self):\n",
    "    return str(self.min_heap.heap)\n",
    "\n",
    "\n",
    "# test\n",
    "pq = PriorityQueue()\n",
    "pq.enqueue(3, 'think1')\n",
    "pq.enqueue(1, 'think2')\n",
    "pq.enqueue(2, 'think3')\n",
    "pq.enqueue(4, 'think4')\n",
    "\n",
    "print(\"Priority queue:\")\n",
    "print(pq)\n",
    "\n",
    "print(\"Dequeue operations:\")\n",
    "print(pq.dequeue())\n",
    "print(pq.dequeue())\n",
    "print(pq.dequeue())\n",
    "print(pq.dequeue())\n",
    "\n",
    "print(\"Priority queue after dequeues:\")\n",
    "print(pq)"
   ]
  },
  {
   "cell_type": "markdown",
   "metadata": {},
   "source": [
    "## Dijkstra Algorithm"
   ]
  },
  {
   "cell_type": "code",
   "execution_count": 18,
   "metadata": {},
   "outputs": [
    {
     "data": {
      "text/plain": [
       "True"
      ]
     },
     "execution_count": 18,
     "metadata": {},
     "output_type": "execute_result"
    }
   ],
   "source": [
    "def dijkstra(adj_list, start):\n",
    "  visited = {u: False for u in adj_list}\n",
    "  distance = {u: float('inf') for u in adj_list}\n",
    "  distance[start] = 0\n",
    "\n",
    "  pq = PriorityQueue()\n",
    "  pq.enqueue(0, start)\n",
    "\n",
    "  while not pq.is_empty():\n",
    "    curr_vertex = pq.dequeue()\n",
    "    visited[curr_vertex] = True\n",
    "    for neighbor, weight in adj_list[curr_vertex]:\n",
    "      if not visited[neighbor]:\n",
    "        new_distance = distance[curr_vertex] + weight\n",
    "        if new_distance < distance[neighbor]:\n",
    "          distance[neighbor] = new_distance\n",
    "          pq.enqueue(new_distance, neighbor)\n",
    "  return distance\n",
    "\n",
    "\n",
    "adjacency_list = {\n",
    "    0: [(1, 10), (2, 80)],\n",
    "    1: [(2, 6), (4, 20)],\n",
    "    2: [(3, 70)],\n",
    "    4: [(5, 50), (6, 5)],\n",
    "    3: [],\n",
    "    5: [(6, 10)],\n",
    "    6: []\n",
    "}\n",
    "\n",
    "dijkstra(adjacency_list, 0) == {0: 0, 1: 10.0, 2: 16.0, 3: 86.0, 4: 30.0, 5: 80.0, 6: 35.0}"
   ]
  },
  {
   "cell_type": "code",
   "execution_count": 19,
   "metadata": {},
   "outputs": [
    {
     "data": {
      "text/plain": [
       "True"
      ]
     },
     "execution_count": 19,
     "metadata": {},
     "output_type": "execute_result"
    }
   ],
   "source": [
    "adjacency_list = {\n",
    "    'A': [('B', 4), ('C', 2)],\n",
    "    'B': [('C', 3), ('D', 2), ('E', 3)],\n",
    "    'C': [('B', 1), ('D', 4), ('E', 5)],\n",
    "    'D': [],\n",
    "    'E': [('D', 1)],\n",
    "}\n",
    "\n",
    "dijkstra(adjacency_list, 'A') == {'A': 0, 'B': 3, 'C': 2, 'D': 5, 'E': 6}"
   ]
  },
  {
   "cell_type": "markdown",
   "metadata": {},
   "source": [
    "## BST single class approach"
   ]
  },
  {
   "cell_type": "code",
   "execution_count": 20,
   "metadata": {},
   "outputs": [
    {
     "name": "stdout",
     "output_type": "stream",
     "text": [
      "Inorder Traversal: [3, 5, 7, 10, 12, 15, 18]\n",
      "Min: 3\n",
      "Max: 18\n",
      "Is 7 present?: True\n",
      "Is 20 present?: False\n",
      "Inorder Traversal after deleting 10: [3, 5, 7, 12, 15, 18]\n"
     ]
    }
   ],
   "source": [
    "class BST:\n",
    "  def __init__(self, values=None):\n",
    "    self.value, self.right, self.left = None, None, None\n",
    "    if values:\n",
    "      for value in values:\n",
    "        self.insert(value)\n",
    "\n",
    "  def make_empty(self):\n",
    "    self.value, self.right, self.left = None, None, None\n",
    "\n",
    "  def is_empty(self):\n",
    "    return self.value is None\n",
    "\n",
    "  def is_leaf(self):\n",
    "    return self.value is not None and self.left.is_empty() and self.right.is_empty()\n",
    "\n",
    "  def insert(self, number):\n",
    "    if self.is_empty():\n",
    "      self.value = number\n",
    "      self.left = BST()\n",
    "      self.right = BST()\n",
    "    elif number < self.value:\n",
    "      self.left.insert(number)\n",
    "    elif number > self.value:\n",
    "      self.right.insert(number)\n",
    "\n",
    "  def inorder_traversal(self):\n",
    "    if self.is_empty():\n",
    "      return []\n",
    "    return self.left.inorder_traversal() + [self.value] + self.right.inorder_traversal()\n",
    "\n",
    "  def delete(self, value):\n",
    "    if self.is_empty():\n",
    "      return\n",
    "    if value < self.value:\n",
    "      self.left.delete(value)\n",
    "    elif value > self.value:\n",
    "      self.right.delete(value)\n",
    "    else:\n",
    "      if self.is_leaf():\n",
    "        self.make_empty()\n",
    "      elif self.left.is_empty():\n",
    "        self._replace_with_right_subtree()\n",
    "      elif self.right.is_empty():\n",
    "        self._replace_with_left_subtree()\n",
    "      else:\n",
    "        left_max_value = self.left.get_max_value()\n",
    "        self.value = left_max_value\n",
    "        self.left.delete(left_max_value)\n",
    "\n",
    "  def _replace_with_right_subtree(self):\n",
    "    self.value, self.left, self.right = (self.left.value,\n",
    "                                         self.left.left, self.left.right)\n",
    "\n",
    "  def _replace_with_left_subtree(self):\n",
    "    self.value, self.left, self.right = (self.right.value,\n",
    "                                         self.right.left, self.right.right)\n",
    "\n",
    "  def get_min_value(self):\n",
    "    if self.is_empty():\n",
    "      return None\n",
    "    if self.left.is_empty():\n",
    "      return self.value\n",
    "    return self.left.get_min_value()\n",
    "\n",
    "  def get_max_value(self):\n",
    "    if self.is_empty():\n",
    "      return None\n",
    "    if self.right.is_empty():\n",
    "      return self.value\n",
    "    return self.right.get_max_value()\n",
    "\n",
    "  def __str__(self):\n",
    "    return str(self.inorder_traversal())\n",
    "\n",
    "  def find(self, value):\n",
    "    if self.is_empty():\n",
    "      return False\n",
    "    if self.value == value:\n",
    "      return True\n",
    "    if value < self.value:\n",
    "      return self.left.find(value)\n",
    "    return self.right.find(value)\n",
    "\n",
    "\n",
    "# test\n",
    "bst = BST([10, 5, 15, 3, 7, 12, 18])\n",
    "print(\"Inorder Traversal:\", bst.inorder_traversal())\n",
    "print(\"Min:\", bst.get_min_value())\n",
    "print(\"Max:\", bst.get_max_value())\n",
    "print(\"Is 7 present?:\", bst.find(7))\n",
    "print(\"Is 20 present?:\", bst.find(20))\n",
    "bst.delete(10)\n",
    "print(\"Inorder Traversal after deleting 10:\", bst.inorder_traversal())"
   ]
  }
 ],
 "metadata": {
  "kernelspec": {
   "display_name": "Python 3",
   "language": "python",
   "name": "python3"
  },
  "language_info": {
   "codemirror_mode": {
    "name": "ipython",
    "version": 3
   },
   "file_extension": ".py",
   "mimetype": "text/x-python",
   "name": "python",
   "nbconvert_exporter": "python",
   "pygments_lexer": "ipython3",
   "version": "3.12.4"
  }
 },
 "nbformat": 4,
 "nbformat_minor": 2
}
