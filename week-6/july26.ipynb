{
 "cells": [
  {
   "cell_type": "markdown",
   "metadata": {},
   "source": [
    "## Revision 26rd july\n",
    "week-4 basic concepts\n",
    "### Queue and Stack"
   ]
  },
  {
   "cell_type": "code",
   "execution_count": 1,
   "metadata": {},
   "outputs": [
    {
     "name": "stdout",
     "output_type": "stream",
     "text": [
      "10\n",
      "20\n",
      "80\n",
      "30\n",
      "90\n",
      "True\n",
      "[]\n"
     ]
    }
   ],
   "source": [
    "class Queue:\n",
    "  def __init__(self):\n",
    "    self.data = []\n",
    "\n",
    "  def is_empty(self):\n",
    "    return len(self.data) == 0\n",
    "\n",
    "  def enqueue(self, value):\n",
    "    self.data.append(value)\n",
    "\n",
    "  def dequeue(self):\n",
    "    return self.data.pop(0)\n",
    "\n",
    "  def __str__(self):\n",
    "    return str(self.data)\n",
    "\n",
    "\n",
    "q = Queue()\n",
    "q.enqueue(10)\n",
    "q.enqueue(20)\n",
    "q.enqueue(80)\n",
    "print(q.dequeue())\n",
    "print(q.dequeue())\n",
    "q.enqueue(30)\n",
    "q.enqueue(90)\n",
    "print(q.dequeue())\n",
    "print(q.dequeue())\n",
    "print(q.dequeue())\n",
    "print(q.is_empty())\n",
    "\n",
    "print(q)"
   ]
  },
  {
   "cell_type": "code",
   "execution_count": 2,
   "metadata": {},
   "outputs": [
    {
     "name": "stdout",
     "output_type": "stream",
     "text": [
      "30\n",
      "20\n",
      "40\n"
     ]
    },
    {
     "data": {
      "text/plain": [
       "True"
      ]
     },
     "execution_count": 2,
     "metadata": {},
     "output_type": "execute_result"
    },
    {
     "name": "stdout",
     "output_type": "stream",
     "text": [
      "[80, 70]\n"
     ]
    }
   ],
   "source": [
    "class Stack:\n",
    "  def __init__(self):\n",
    "    self.data = []\n",
    "\n",
    "  def is_empty(self):\n",
    "    return len(self.data) == 0\n",
    "\n",
    "  def push(self, value):\n",
    "    self.data.append(value)\n",
    "\n",
    "  def pop(self):\n",
    "    return self.data.pop()\n",
    "\n",
    "  def __str__(self):\n",
    "    return str(self.data)\n",
    "\n",
    "\n",
    "stack = Stack()\n",
    "\n",
    "stack.push(40)\n",
    "stack.push(20)\n",
    "stack.push(30)\n",
    "print(stack.pop())\n",
    "print(stack.pop())\n",
    "print(stack.pop())\n",
    "stack.is_empty()\n",
    "stack.push(80)\n",
    "stack.push(70)\n",
    "print(stack)"
   ]
  },
  {
   "cell_type": "markdown",
   "metadata": {},
   "source": [
    "### Breadth First Search(BFS)"
   ]
  },
  {
   "cell_type": "code",
   "execution_count": 3,
   "metadata": {},
   "outputs": [
    {
     "data": {
      "text/plain": [
       "{0: True, 1: True, 2: True, 3: True, 4: True}"
      ]
     },
     "execution_count": 3,
     "metadata": {},
     "output_type": "execute_result"
    }
   ],
   "source": [
    "def bfs(adjacency_list, start_vertex):\n",
    "  # initialize visited dict = {vertex: False for all vertices}\n",
    "  visited = {vertex: False for vertex in adjacency_list}\n",
    "\n",
    "  # initialize the queue, enqueue the `start_vertex`\n",
    "  queue = Queue()\n",
    "  queue.enqueue(start_vertex)\n",
    "  # mark the `start_vertex` as visited\n",
    "  visited[start_vertex] = True\n",
    "\n",
    "  # while queue is not empty:\n",
    "  while not queue.is_empty():\n",
    "    # a. `curr_vertex` <- queue.dequeue()\n",
    "    current_vertex = queue.dequeue()\n",
    "    # b. for all neighbors of `curr_vertex`:\n",
    "    for adj_vertex in adjacency_list[current_vertex]:\n",
    "      # if neighbor is not visited, enqueue it to queue, mark it visited\n",
    "      if not visited[adj_vertex]:\n",
    "        queue.enqueue(adj_vertex)\n",
    "        visited[adj_vertex] = True\n",
    "\n",
    "  # return visited\n",
    "  return visited\n",
    "\n",
    "\n",
    "adjacency_list = {0: [1, 2], 1: [3, 4], 2: [4, 3], 3: [4], 4: []}\n",
    "bfs(adjacency_list, 0)"
   ]
  },
  {
   "cell_type": "code",
   "execution_count": 20,
   "metadata": {},
   "outputs": [
    {
     "data": {
      "text/plain": [
       "[0, 2, 3, 4, 1]"
      ]
     },
     "execution_count": 20,
     "metadata": {},
     "output_type": "execute_result"
    }
   ],
   "source": [
    "def dfs(adjacency_list, start_vertex):\n",
    "  # initialize visited dict = {vertex: False for all vertices}\n",
    "  visited = {vertex: False for vertex in adjacency_list}\n",
    "  order = []\n",
    "\n",
    "  # initialize the stack, push the `start_vertex`\n",
    "  stack = Stack()\n",
    "  # mark the `start_vertex` as visited\n",
    "  stack.push(start_vertex)\n",
    "\n",
    "  # while stack is not empty:\n",
    "  while not stack.is_empty():\n",
    "    # a. `curr_vertex` <- stack.pop()\n",
    "    current_vertex = stack.pop()\n",
    "    if not visited[current_vertex]:\n",
    "      visited[current_vertex] = True\n",
    "      order.append(current_vertex)\n",
    "      for adj_vertex in adjacency_list[current_vertex]:\n",
    "        if not visited[adj_vertex]:\n",
    "          stack.push(adj_vertex)\n",
    "  # return visited\n",
    "  return order\n",
    "\n",
    "\n",
    "adjacency_list = {0: [1, 2], 1: [3, 4], 2: [4, 3], 3: [4], 4: []}\n",
    "dfs(adjacency_list, 0)"
   ]
  },
  {
   "cell_type": "code",
   "execution_count": 12,
   "metadata": {},
   "outputs": [
    {
     "data": {
      "text/plain": [
       "['A', 'C', 'D', 'E', 'B']"
      ]
     },
     "execution_count": 12,
     "metadata": {},
     "output_type": "execute_result"
    }
   ],
   "source": [
    "dfs({'A': ['B', 'C'], 'B': ['D'], 'C': ['D'], 'D': ['E'], 'E': ['C']}, 'A')"
   ]
  },
  {
   "cell_type": "code",
   "execution_count": 15,
   "metadata": {},
   "outputs": [
    {
     "data": {
      "text/plain": [
       "['A', 'C', 'D', 'E', 'B', 'M']"
      ]
     },
     "execution_count": 15,
     "metadata": {},
     "output_type": "execute_result"
    }
   ],
   "source": [
    "adjacency_list = {'A': ['M', 'B', 'C'],\n",
    "                  'B': ['D'],\n",
    "                  'C': ['D'],\n",
    "                  'D': ['E'],\n",
    "                  'E': ['C', 'M'],\n",
    "                  'M': []}\n",
    "dfs(adjacency_list, 'A')"
   ]
  },
  {
   "cell_type": "markdown",
   "metadata": {},
   "source": [
    "### DFS recursion (Depth first search)"
   ]
  },
  {
   "cell_type": "code",
   "execution_count": null,
   "metadata": {},
   "outputs": [
    {
     "data": {
      "text/plain": [
       "({0: True, 1: True, 2: True, 3: True, 4: True}, [0, 1, 3, 4, 2])"
      ]
     },
     "metadata": {},
     "output_type": "display_data"
    }
   ],
   "source": [
    "def dfs_recursive(adjacency_list, curr_vertex, visited=None, order=None):\n",
    "  # if visited is none, initialize visited and order\n",
    "  if visited is None:\n",
    "    visited = {vertex: False for vertex in adjacency_list}\n",
    "    order = []\n",
    "\n",
    "  # mark `curr_vertex` as visited\n",
    "  visited[curr_vertex] = True\n",
    "  # append `curr_vertex` to order\n",
    "  order.append(curr_vertex)\n",
    "\n",
    "  # for all neighbors of `curr_vertex`:\n",
    "  for adj_vertex in adjacency_list[curr_vertex]:\n",
    "    # if neighbor is not visited, call dfs_recursive on neighbor\n",
    "    if not visited[adj_vertex]:\n",
    "      dfs_recursive(adjacency_list, adj_vertex, visited, order)\n",
    "  # return visited and order\n",
    "  return visited, order\n",
    "\n",
    "\n",
    "adjacency_list = {0: [1, 2], 1: [3, 4], 2: [4, 3], 3: [4], 4: []}\n",
    "dfs_recursive(adjacency_list, 0)"
   ]
  },
  {
   "cell_type": "markdown",
   "metadata": {},
   "source": [
    "## BFS (OPPE version)"
   ]
  },
  {
   "cell_type": "code",
   "execution_count": 5,
   "metadata": {},
   "outputs": [
    {
     "data": {
      "text/plain": [
       "True"
      ]
     },
     "execution_count": 5,
     "metadata": {},
     "output_type": "execute_result"
    }
   ],
   "source": [
    "def bfs(adj_list, start):\n",
    "  visited = {u: False for u in adj_list}\n",
    "  level = {u: 0 for u in adj_list}\n",
    "  parent = {u: None for u in adj_list}\n",
    "  order = []\n",
    "\n",
    "  queue = [start]\n",
    "  while queue:\n",
    "    u = queue.pop(0)\n",
    "    if not visited[u]:\n",
    "      visited[u] = True\n",
    "      order.append(u)\n",
    "      for v in adj_list[u]:\n",
    "        if not visited[v]:\n",
    "          queue.append(v)\n",
    "          if parent[v] is None:\n",
    "            parent[v] = u\n",
    "            level[v] = level[u]+1\n",
    "  return order, level, parent\n",
    "\n",
    "\n",
    "adjacency_list = {0: [1, 2], 1: [3, 4], 2: [4, 3], 3: [4], 4: []}\n",
    "bfs(adjacency_list, 0) == ([0, 1, 2, 3, 4],\n",
    "                           {0: 0, 1: 1, 2: 1, 3: 2, 4: 2},\n",
    "                           {0: None, 1: 0, 2: 0, 3: 1, 4: 1})"
   ]
  },
  {
   "cell_type": "code",
   "execution_count": 8,
   "metadata": {},
   "outputs": [
    {
     "data": {
      "text/plain": [
       "([0, 1, 2, 3, 4],\n",
       " {0: 0, 1: 1, 2: 1, 3: 2, 4: 2},\n",
       " {0: None, 1: 0, 2: 0, 3: 1, 4: 1})"
      ]
     },
     "execution_count": 8,
     "metadata": {},
     "output_type": "execute_result"
    }
   ],
   "source": [
    "def bfs(adj_list, start):\n",
    "  visited = {u: False for u in adj_list}\n",
    "  level = {u: 0 for u in adj_list}\n",
    "  parent = {u: None for u in adj_list}\n",
    "  order = []\n",
    "\n",
    "  queue = [start]\n",
    "  while queue:\n",
    "    u = queue.pop(0)\n",
    "    if not visited[u]:\n",
    "      visited[u] = True\n",
    "      order.append(u)\n",
    "      for v in adj_list[u]:\n",
    "        if not visited[v]:\n",
    "          queue.append(v)\n",
    "          if parent[v] is None:\n",
    "            parent[v] = u\n",
    "            level[v] = level[u] + 1\n",
    "  return order, level, parent\n",
    "\n",
    "\n",
    "adjacency_list = {0: [1, 2], 1: [3, 4], 2: [4, 3], 3: [4], 4: []}\n",
    "bfs(adjacency_list, 0)"
   ]
  },
  {
   "cell_type": "markdown",
   "metadata": {},
   "source": [
    "## DFS (oppe)"
   ]
  },
  {
   "cell_type": "code",
   "execution_count": 18,
   "metadata": {},
   "outputs": [
    {
     "data": {
      "text/plain": [
       "([0, 2, 3, 4, 1],\n",
       " {0: 0, 1: 1, 2: 1, 3: 2, 4: 1},\n",
       " {0: None, 1: 0, 2: 0, 3: 2, 4: 0})"
      ]
     },
     "execution_count": 18,
     "metadata": {},
     "output_type": "execute_result"
    }
   ],
   "source": [
    "def dfs(adj_list, start):\n",
    "  visited = {u: False for u in adj_list}\n",
    "  parent = {u: None for u in adj_list}\n",
    "  level = {u: 0 for u in adj_list}\n",
    "  order = []\n",
    "\n",
    "  stack = [start]\n",
    "  while stack:\n",
    "    u = stack.pop()\n",
    "    if not visited[u]:\n",
    "      visited[u] = True\n",
    "      order.append(u)\n",
    "      for v in adj_list[u]:\n",
    "        if not visited[v]:\n",
    "          stack.append(v)\n",
    "          if parent[v] is None:\n",
    "            parent[v] = u\n",
    "            level[v] = level[u] + 1\n",
    "  return order, level, parent\n",
    "\n",
    "\n",
    "adjacency_list = {0: [4, 1, 2], 1: [3, 4], 2: [4, 3], 3: [4], 4: []}\n",
    "dfs(adjacency_list, 0)"
   ]
  },
  {
   "cell_type": "markdown",
   "metadata": {},
   "source": [
    "## Find Connected Components in graph using BFS"
   ]
  },
  {
   "cell_type": "code",
   "execution_count": 14,
   "metadata": {},
   "outputs": [
    {
     "data": {
      "text/plain": [
       "[['A', 'B', 'C', 'D'], ['E', 'F']]"
      ]
     },
     "execution_count": 14,
     "metadata": {},
     "output_type": "execute_result"
    }
   ],
   "source": [
    "def bfs(adj_list, start, visited):\n",
    "  component = []\n",
    "  queue = [start]\n",
    "\n",
    "  while queue:\n",
    "    u = queue.pop(0)\n",
    "    if not visited[u]:\n",
    "      visited[u] = True\n",
    "      component.append(u)\n",
    "      for v in adj_list[u]:\n",
    "        if not visited[v]:\n",
    "          queue.append(v)\n",
    "\n",
    "  return component\n",
    "\n",
    "\n",
    "def find_connected_components(adj_list):\n",
    "  visited = {u: False for u in adj_list}\n",
    "  components = []\n",
    "\n",
    "  for vertex in adj_list:\n",
    "    if not visited[vertex]:\n",
    "      component = bfs(adj_list, vertex, visited)\n",
    "      components.append(component)\n",
    "  return components\n",
    "\n",
    "\n",
    "adjacency_list = {\n",
    "    'A': ['B'],\n",
    "    'B': ['C', 'D'],\n",
    "    'C': ['A'],\n",
    "    'D': [],\n",
    "    'E': ['F'],\n",
    "    'F': [],\n",
    "}\n",
    "\n",
    "find_connected_components(adjacency_list)"
   ]
  },
  {
   "cell_type": "markdown",
   "metadata": {},
   "source": [
    "## Pre and Post Numbering Using DFS"
   ]
  },
  {
   "cell_type": "code",
   "execution_count": 7,
   "metadata": {},
   "outputs": [
    {
     "name": "stdout",
     "output_type": "stream",
     "text": [
      "0: (0, 9)\n",
      "1: (1, 6)\n",
      "2: (7, 8)\n",
      "3: (2, 3)\n",
      "4: (4, 5)\n",
      "5: (10, 11)\n"
     ]
    }
   ],
   "source": [
    "def dfs(adjacency_list, curr_vertex, visited, pre, post, counter):\n",
    "  visited[curr_vertex] = True\n",
    "\n",
    "  pre[curr_vertex] = counter[0]\n",
    "  counter[0] += 1\n",
    "\n",
    "  for adj_vertex in adjacency_list[curr_vertex]:\n",
    "    if not visited[adj_vertex]:\n",
    "      dfs(adjacency_list, adj_vertex, visited, pre, post, counter)\n",
    "\n",
    "  post[curr_vertex] = counter[0]\n",
    "  counter[0] += 1\n",
    "\n",
    "\n",
    "def pre_post_numbering(adjacency_list):\n",
    "  visited = {u: False for u in adjacency_list}\n",
    "  pre = {u: -1 for u in adjacency_list}\n",
    "  post = {u: -1 for u in adjacency_list}\n",
    "  counter = [0]\n",
    "\n",
    "  for vertex in adjacency_list:\n",
    "    if not visited[vertex]:\n",
    "      dfs(adjacency_list, vertex, visited, pre, post, counter)\n",
    "\n",
    "  return pre, post\n",
    "\n",
    "\n",
    "adjacency_list = {\n",
    "    0: [1, 2],\n",
    "    1: [3, 4],\n",
    "    2: [],\n",
    "    3: [],\n",
    "    4: [],\n",
    "    5: []\n",
    "}\n",
    "\n",
    "#     0\n",
    "#    / \\\n",
    "#   1   2   5\n",
    "#  / \\\n",
    "# 3   4\n",
    "\n",
    "pre, post = pre_post_numbering(adjacency_list)\n",
    "for vertex in adjacency_list:\n",
    "  print(f'{vertex}: ({pre[vertex]}, {post[vertex]})')"
   ]
  },
  {
   "cell_type": "markdown",
   "metadata": {},
   "source": [
    "### GRPA 1"
   ]
  },
  {
   "cell_type": "code",
   "execution_count": 3,
   "metadata": {},
   "outputs": [],
   "source": [
    "def parse_my_input(my_input):\n",
    "  data = my_input.strip().split('\\n')\n",
    "\n",
    "  n = int(data[0])\n",
    "  adjacency_matrix = [list(map(int, data[i+1].split())) for i in range(n)]\n",
    "  px = int(data[-2])\n",
    "  py = int(data[-1])\n",
    "\n",
    "  return n, adjacency_matrix, px, py"
   ]
  },
  {
   "cell_type": "code",
   "execution_count": 16,
   "metadata": {},
   "outputs": [
    {
     "data": {
      "text/plain": [
       "0"
      ]
     },
     "execution_count": 16,
     "metadata": {},
     "output_type": "execute_result"
    }
   ],
   "source": [
    "def convert_adj_matrix_to_list(adj_matrix):\n",
    "  n = len(adj_matrix)\n",
    "  adj_list = {i: [] for i in range(n)}\n",
    "\n",
    "  for i in range(n):\n",
    "    for j in range(n):\n",
    "      if adj_matrix[i][j] == 1:\n",
    "        adj_list[i].append(j)\n",
    "  return adj_list\n",
    "\n",
    "\n",
    "def bfs(adj_list, start):\n",
    "  visited = {u: False for u in adj_list}\n",
    "  parent = {u: None for u in adj_list}\n",
    "  level = {u: 0 for u in adj_list}\n",
    "\n",
    "  queue = [start]\n",
    "  while queue:\n",
    "    u = queue.pop(0)\n",
    "    if not visited[u]:\n",
    "      visited[u] = True\n",
    "\n",
    "    for v in adj_list[u]:\n",
    "      if not visited[v]:\n",
    "        queue.append(v)\n",
    "        if parent[v] is None:\n",
    "          parent[v] = u\n",
    "          level[v] = level[u] + 1\n",
    "\n",
    "  return level\n",
    "\n",
    "\n",
    "def find_connection_level(n, adj_matrix, px, py):\n",
    "  adj_list = convert_adj_matrix_to_list(adj_matrix)\n",
    "  level = bfs(adj_list, px)\n",
    "  return level[py]\n",
    "\n",
    "\n",
    "# Gray code 👇\n",
    "find_connection_level(*parse_my_input(\"\"\"\n",
    "15\n",
    "0 1 1 0 0 0 0 0 0 0 0 0 0 0 0\n",
    "1 0 1 1 1 1 0 0 0 0 0 0 0 0 0\n",
    "1 1 0 1 1 1 0 0 0 0 0 0 0 0 0\n",
    "0 1 1 0 1 0 0 0 0 0 0 0 0 0 0\n",
    "0 1 1 1 0 1 0 0 0 0 0 0 0 0 0\n",
    "0 1 1 0 1 0 1 0 0 0 0 0 0 0 0\n",
    "0 0 0 0 0 1 0 1 0 0 0 0 0 0 0\n",
    "0 0 0 0 0 0 1 0 0 0 0 0 0 0 0\n",
    "0 0 0 0 0 0 0 0 0 0 0 1 0 0 0\n",
    "0 0 0 0 0 0 0 0 0 0 0 1 0 1 0\n",
    "0 0 0 0 0 0 0 0 0 0 0 1 0 0 1\n",
    "0 0 0 0 0 0 0 0 1 1 1 0 1 0 0\n",
    "0 0 0 0 0 0 0 0 0 0 0 1 0 0 0\n",
    "0 0 0 0 0 0 0 0 0 1 0 0 0 0 1\n",
    "0 0 0 0 0 0 0 0 0 0 1 0 0 1 0\n",
    "4\n",
    "11\n",
    "\"\"\"))"
   ]
  },
  {
   "cell_type": "markdown",
   "metadata": {},
   "source": [
    "## GRPA 2"
   ]
  },
  {
   "cell_type": "code",
   "execution_count": 17,
   "metadata": {},
   "outputs": [],
   "source": [
    "def parse_my_input(my_input):\n",
    "  data = my_input.strip().split('\\n')\n",
    "\n",
    "  V = list(map(int, data[0].split()))\n",
    "  E = [list(map(int, edge.split())) for edge in data[2:]]\n",
    "\n",
    "  return V, E"
   ]
  },
  {
   "cell_type": "code",
   "execution_count": 32,
   "metadata": {},
   "outputs": [
    {
     "data": {
      "text/plain": [
       "0"
      ]
     },
     "execution_count": 32,
     "metadata": {},
     "output_type": "execute_result"
    }
   ],
   "source": [
    "def bfs(adj_list, start):\n",
    "  visited = {u: False for u in adj_list}\n",
    "  order = []\n",
    "\n",
    "  queue = [start]\n",
    "  while queue:\n",
    "    u = queue.pop(0)\n",
    "    if not visited[u]:\n",
    "      visited[u] = True\n",
    "      order.append(u)\n",
    "\n",
    "      for v in adj_list[u]:\n",
    "        if not visited[v]:\n",
    "          queue.append(v)\n",
    "  return visited\n",
    "\n",
    "\n",
    "def find_master_tank(tanks, pipes):\n",
    "  adj_list = {u: [] for u in tanks}\n",
    "  for u, v in pipes:\n",
    "    adj_list[u].append(v)\n",
    "\n",
    "  for vertex in adj_list:\n",
    "    visited = bfs(adj_list, vertex)\n",
    "    if all(visited.values()):\n",
    "      return vertex\n",
    "  return 0\n",
    "\n",
    "\n",
    "find_master_tank(*parse_my_input(\"\"\"\n",
    "1 2 3 4 5 6 7\n",
    "8\n",
    "1 3\n",
    "2 3\n",
    "3 6\n",
    "4 6\n",
    "4 7\n",
    "7 5\n",
    "5 1\n",
    "5 6\n",
    "\"\"\"))"
   ]
  },
  {
   "cell_type": "markdown",
   "metadata": {},
   "source": [
    "## Topological sort"
   ]
  },
  {
   "cell_type": "code",
   "execution_count": 36,
   "metadata": {},
   "outputs": [
    {
     "data": {
      "text/plain": [
       "[5, 0, 2, 1, 4, 3]"
      ]
     },
     "execution_count": 36,
     "metadata": {},
     "output_type": "execute_result"
    }
   ],
   "source": [
    "def dfs(adj_list, curr_vertex, visited, stack):\n",
    "  visited[curr_vertex] = True\n",
    "\n",
    "  for neighbor in adj_list[curr_vertex]:\n",
    "    if not visited[neighbor]:\n",
    "      dfs(adj_list, neighbor, visited, stack)\n",
    "\n",
    "  stack.append(curr_vertex)\n",
    "\n",
    "\n",
    "def topological_sort(adj_list):\n",
    "  visited = {u: False for u in adj_list}\n",
    "  stack = []\n",
    "\n",
    "  for vertex in adj_list:\n",
    "    if not visited[vertex]:\n",
    "      dfs(adj_list, vertex, visited, stack)\n",
    "  stack.reverse()\n",
    "  return stack\n",
    "\n",
    "\n",
    "adjacency_list = {\n",
    "    0: [1, 2],\n",
    "    1: [3, 4],\n",
    "    2: [],\n",
    "    3: [],\n",
    "    4: [],\n",
    "    5: []\n",
    "}\n",
    "\n",
    "#     0\n",
    "#    / \\\n",
    "#   1   2   5\n",
    "#  / \\\n",
    "# 3   4\n",
    "\n",
    "topological_sort(adjacency_list)"
   ]
  },
  {
   "cell_type": "code",
   "execution_count": 37,
   "metadata": {},
   "outputs": [
    {
     "data": {
      "text/plain": [
       "[1, 3, 5, 2, 7, 4, 6]"
      ]
     },
     "execution_count": 37,
     "metadata": {},
     "output_type": "execute_result"
    }
   ],
   "source": [
    "adjacency_list = {\n",
    "    1: [2, 3, 7],\n",
    "    2: [4, 7],\n",
    "    3: [5, 7],\n",
    "    4: [6],\n",
    "    5: [6],\n",
    "    7: [6],\n",
    "    6: []\n",
    "}\n",
    "topological_sort(adjacency_list)"
   ]
  },
  {
   "cell_type": "markdown",
   "metadata": {},
   "source": [
    "## Longest Path (DAG)"
   ]
  },
  {
   "cell_type": "code",
   "execution_count": 46,
   "metadata": {},
   "outputs": [
    {
     "data": {
      "text/plain": [
       "True"
      ]
     },
     "execution_count": 46,
     "metadata": {},
     "output_type": "execute_result"
    }
   ],
   "source": [
    "def longest_path(adj_list, start_vertex):\n",
    "  topological_order = topological_sort(adj_list)\n",
    "\n",
    "  distance = {u: -1 for u in adj_list}\n",
    "  distance[start_vertex] = 0\n",
    "\n",
    "  for parent in topological_order:\n",
    "    if distance[parent] != -1:\n",
    "      for child in adj_list[parent]:\n",
    "        new_distance = distance[parent]+1\n",
    "        if new_distance > distance[child]:\n",
    "          distance[child] = new_distance\n",
    "  return distance\n",
    "\n",
    "\n",
    "adjacency_list = {\n",
    "    0: [1, 2],\n",
    "    1: [3, 4],\n",
    "    2: [],\n",
    "    3: [],\n",
    "    4: [],\n",
    "    5: []\n",
    "}\n",
    "\n",
    "#     0\n",
    "#    / \\\n",
    "#   1   2   5\n",
    "#  / \\\n",
    "# 3   4\n",
    "\n",
    "longest_path(adjacency_list, 0) == {0: 0, 1: 1, 2: 1, 3: 2, 4: 2, 5: -1}"
   ]
  },
  {
   "cell_type": "code",
   "execution_count": 47,
   "metadata": {},
   "outputs": [
    {
     "data": {
      "text/plain": [
       "True"
      ]
     },
     "execution_count": 47,
     "metadata": {},
     "output_type": "execute_result"
    }
   ],
   "source": [
    "adjacency_list = {\n",
    "    1: [2, 3, 7],\n",
    "    2: [4, 7],\n",
    "    3: [5, 7],\n",
    "    4: [6],\n",
    "    5: [6],\n",
    "    7: [6],\n",
    "    6: []\n",
    "}\n",
    "longest_path(adjacency_list, 1) == {1: 0, 2: 1, 3: 1, 4: 2, 5: 2, 7: 2, 6: 3}"
   ]
  },
  {
   "cell_type": "code",
   "execution_count": 48,
   "metadata": {},
   "outputs": [
    {
     "data": {
      "text/plain": [
       "{'A': 0, 'B': 2, 'C': 3, 'D': 4, 'E': 5, 'F': 1, 'H': 5}"
      ]
     },
     "execution_count": 48,
     "metadata": {},
     "output_type": "execute_result"
    }
   ],
   "source": [
    "adj_list = {'A': ['B', 'F', 'C'],\n",
    "            'B': ['C', 'D', 'E'],\n",
    "            'C': ['D'],\n",
    "            'D': ['E', 'H'],\n",
    "            'E': [],\n",
    "            'F': ['E', 'B'],\n",
    "            'H': []}\n",
    "longest_path(adj_list, 'A')"
   ]
  },
  {
   "attachments": {
    "image.png": {
     "image/png": "[encoded data removed]"
    }
   },
   "cell_type": "markdown",
   "metadata": {},
   "source": [
    "![image.png](attachment:image.png)"
   ]
  },
  {
   "cell_type": "markdown",
   "metadata": {},
   "source": [
    "## GRPA 3"
   ]
  },
  {
   "cell_type": "code",
   "execution_count": 61,
   "metadata": {},
   "outputs": [],
   "source": [
    "def longest_path(adj_list):\n",
    "  topological_order = topological_sort(adj_list)\n",
    "\n",
    "  distance = {u: -1 for u in adj_list}\n",
    "  predecessor = {u: None for u in adj_list}  # NEW\n",
    "\n",
    "  start_vertex = topological_order[0]\n",
    "  distance[start_vertex] = 0\n",
    "\n",
    "  for parent in topological_order:\n",
    "    if distance[parent] != -1:\n",
    "      for child in adj_list[parent]:\n",
    "        new_distance = distance[parent] + 1\n",
    "        if new_distance > distance[child]:\n",
    "          distance[child] = new_distance\n",
    "          predecessor[child] = parent\n",
    "  return distance, predecessor\n",
    "\n",
    "\n",
    "def display_path_info(distances, predecessor):\n",
    "  # display information for visualization\n",
    "  sorted_vertices = sorted(distances, key=distances.get)\n",
    "  display([(vertex, distances[vertex], predecessor[vertex]) for vertex in sorted_vertices])\n",
    "\n",
    "\n",
    "def reconstruct_path(last_city, predecessor):\n",
    "  path = []\n",
    "\n",
    "  while last_city is not None:\n",
    "    path.append(last_city)\n",
    "    last_city = predecessor[last_city]\n",
    "  path.reverse()\n",
    "  return path\n",
    "\n",
    "\n",
    "def long_journey(adj_list):\n",
    "  distance, predecessor = longest_path(adj_list)\n",
    "  # display_path_info(distance, predecessor)\n",
    "  last_city = max(distance, key=distance.get)\n",
    "  return reconstruct_path(last_city, predecessor)"
   ]
  },
  {
   "cell_type": "code",
   "execution_count": 65,
   "metadata": {},
   "outputs": [
    {
     "data": {
      "text/plain": [
       "True"
      ]
     },
     "execution_count": 65,
     "metadata": {},
     "output_type": "execute_result"
    }
   ],
   "source": [
    "adjacency_list = {'Agra': ['Ranthambore'],\n",
    "                  'Ajanta': ['Ellora', 'Aurangabad'],\n",
    "                  'Aurangabad': ['Mumbai'],\n",
    "                  'Bangalore': ['Chennai', 'Madurai'],\n",
    "                  'Bodhgaya': ['Kolkatta'],\n",
    "                  'Chennai': ['Madurai'],\n",
    "                  'Delhi': ['Jaipur', 'Agra', 'Sravasti'],\n",
    "                  'Ellora': ['Aurangabad'],\n",
    "                  'Gir': [],\n",
    "                  'Goa': ['Bangalore'],\n",
    "                  'Jaipur': ['Pushkar'],\n",
    "                  'Kanyakumari': [],\n",
    "                  'Khajuraho': ['Ajanta'],\n",
    "                  'Kolkatta': ['Ajanta', 'Bangalore', 'Chennai'],\n",
    "                  'Kushinagar': ['Sarnath', 'Vaishali'],\n",
    "                  'Leh': ['Shimla'],\n",
    "                  'Madurai': ['Kanyakumari'],\n",
    "                  'Mumbai': ['Goa'],\n",
    "                  'Pushkar': ['Udaipur', 'Ranthambore'],\n",
    "                  'Ranthambore': ['Khajuraho'],\n",
    "                  'Rishikesh': ['Delhi'],\n",
    "                  'Sarnath': ['Varanasi'],\n",
    "                  'Shimla': ['Rishikesh'],\n",
    "                  'Sravasti': ['Kushinagar'],\n",
    "                  'Udaipur': ['Gir', 'Ajanta'],\n",
    "                  'Vaishali': [],\n",
    "                  'Varanasi': ['Khajuraho', 'Bodhgaya']}\n",
    "\n",
    "expected_output = ['Leh', 'Shimla', 'Rishikesh', 'Delhi', 'Sravasti', 'Kushinagar', 'Sarnath', 'Varanasi', 'Bodhgaya',\n",
    "                   'Kolkatta', 'Ajanta', 'Ellora', 'Aurangabad', 'Mumbai', 'Goa', 'Bangalore', 'Chennai', 'Madurai', 'Kanyakumari']\n",
    "\n",
    "long_journey(adjacency_list) == expected_output"
   ]
  },
  {
   "cell_type": "markdown",
   "metadata": {},
   "source": [
    "## Week 5"
   ]
  },
  {
   "cell_type": "markdown",
   "metadata": {},
   "source": [
    "## dijkstra's algo"
   ]
  },
  {
   "cell_type": "code",
   "execution_count": 8,
   "metadata": {},
   "outputs": [],
   "source": [
    "import heapq\n",
    "\n",
    "\n",
    "class PriorityQueue:\n",
    "  def __init__(self):\n",
    "    self.heap = []\n",
    "\n",
    "  def is_empty(self):\n",
    "    return len(self.heap) == 0\n",
    "\n",
    "  def enqueue(self, priority, item):\n",
    "    heapq.heappush(self.heap, (priority, item))\n",
    "\n",
    "  def dequeue(self):\n",
    "    return heapq.heappop(self.heap)[1]"
   ]
  },
  {
   "cell_type": "code",
   "execution_count": 9,
   "metadata": {},
   "outputs": [
    {
     "data": {
      "text/plain": [
       "True"
      ]
     },
     "execution_count": 9,
     "metadata": {},
     "output_type": "execute_result"
    }
   ],
   "source": [
    "def dijkstra(adj_list, start):\n",
    "  visited = {u: False for u in adj_list}\n",
    "  distance = {u: float('inf') for u in adj_list}\n",
    "  distance[start] = 0\n",
    "\n",
    "  pq = PriorityQueue()\n",
    "  pq.enqueue(0, start)\n",
    "\n",
    "  while not pq.is_empty():\n",
    "    curr_vertex = pq.dequeue()\n",
    "    visited[curr_vertex] = True\n",
    "    for neighbor, weight in adj_list[curr_vertex]:\n",
    "      if not visited[neighbor]:\n",
    "        new_distance = distance[curr_vertex]+weight\n",
    "        if new_distance < distance[neighbor]:\n",
    "          distance[neighbor] = new_distance\n",
    "          pq.enqueue(new_distance, neighbor)\n",
    "  return distance\n",
    "\n",
    "\n",
    "adjacency_list = {\n",
    "    0: [(1, 10), (2, 80)],\n",
    "    1: [(2, 6), (4, 20)],\n",
    "    2: [(3, 70)],\n",
    "    4: [(5, 50), (6, 5)],\n",
    "    3: [],\n",
    "    5: [(6, 10)],\n",
    "    6: []\n",
    "}\n",
    "\n",
    "dijkstra(adjacency_list, 0) == {0: 0, 1: 10.0, 2: 16.0, 3: 86.0, 4: 30.0, 5: 80.0, 6: 35.0}"
   ]
  },
  {
   "cell_type": "code",
   "execution_count": 11,
   "metadata": {},
   "outputs": [
    {
     "data": {
      "text/plain": [
       "True"
      ]
     },
     "execution_count": 11,
     "metadata": {},
     "output_type": "execute_result"
    }
   ],
   "source": [
    "adjacency_list = {\n",
    "    'A': [('B', 4), ('C', 2)],\n",
    "    'B': [('C', 3), ('D', 2), ('E', 3)],\n",
    "    'C': [('B', 1), ('D', 4), ('E', 5)],\n",
    "    'D': [],\n",
    "    'E': [('D', 1)],\n",
    "}\n",
    "\n",
    "dijkstra(adjacency_list, 'A') == {'A': 0, 'B': 3, 'C': 2, 'D': 5, 'E': 6}"
   ]
  },
  {
   "cell_type": "markdown",
   "metadata": {},
   "source": [
    "## Bellman ford"
   ]
  },
  {
   "cell_type": "code",
   "execution_count": 13,
   "metadata": {},
   "outputs": [
    {
     "data": {
      "text/plain": [
       "True"
      ]
     },
     "execution_count": 13,
     "metadata": {},
     "output_type": "execute_result"
    }
   ],
   "source": [
    "def bellman_ford(adj_list, start):\n",
    "  distance = {u: float('inf') for u in adj_list}\n",
    "  distance[start] = 0\n",
    "\n",
    "  for _ in range(len(adj_list) - 1):\n",
    "    for u in adj_list:\n",
    "      for v, weight in adj_list[u]:\n",
    "        new_distance = distance[u] + weight\n",
    "        if new_distance < distance[v]:\n",
    "          distance[v] = new_distance\n",
    "  return distance\n",
    "\n",
    "\n",
    "adjacency_list = {\n",
    "    0: [(1, 10), (2, 80)],\n",
    "    1: [(2, 6), (4, 20)],\n",
    "    2: [(3, 70)],\n",
    "    4: [(5, 50), (6, 5)],\n",
    "    3: [],\n",
    "    5: [(6, 10)],\n",
    "    6: []\n",
    "}\n",
    "\n",
    "bellman_ford(adjacency_list, 0) == {0: 0, 1: 10, 2: 16, 3: 86, 4: 30, 5: 80, 6: 35}"
   ]
  },
  {
   "cell_type": "code",
   "execution_count": 15,
   "metadata": {},
   "outputs": [
    {
     "data": {
      "text/plain": [
       "True"
      ]
     },
     "execution_count": 15,
     "metadata": {},
     "output_type": "execute_result"
    }
   ],
   "source": [
    "adjacency_list = {\n",
    "    'S': [('E', 8), ('A', 10)],\n",
    "    'E': [('D', 1)],\n",
    "    'A': [('C', 2)],\n",
    "    'D': [('A', -4), ('C', -1)],\n",
    "    'B': [('A', 1)],\n",
    "    'C': [('B', -2)],\n",
    "}\n",
    "\n",
    "bellman_ford(adjacency_list, 'S') == {'S': 0, 'E': 8, 'A': 5, 'D': 9, 'B': 5, 'C': 7}"
   ]
  },
  {
   "cell_type": "markdown",
   "metadata": {},
   "source": [
    "## Floyd Warshall"
   ]
  },
  {
   "cell_type": "code",
   "execution_count": 19,
   "metadata": {},
   "outputs": [
    {
     "data": {
      "text/plain": [
       "{0: {0: 0, 1: 5, 2: 5, 3: 6, 4: 9, 5: 7, 6: 9, 7: 8},\n",
       " 1: {0: inf, 1: 0, 2: 0, 3: 1, 4: 4, 5: 2, 6: inf, 7: inf},\n",
       " 2: {0: inf, 1: 1, 2: 0, 3: 1, 4: 4, 5: 3, 6: inf, 7: inf},\n",
       " 3: {0: inf, 1: 1, 2: 0, 3: 0, 4: 3, 5: 2, 6: inf, 7: inf},\n",
       " 4: {0: inf, 1: -2, 2: -3, 3: -2, 4: 0, 5: -1, 6: inf, 7: inf},\n",
       " 5: {0: inf, 1: -1, 2: -2, 3: -1, 4: 2, 5: 0, 6: inf, 7: inf},\n",
       " 6: {0: inf, 1: -4, 2: -4, 3: -3, 4: 0, 5: -2, 6: 0, 7: inf},\n",
       " 7: {0: inf, 1: -3, 2: -3, 3: -2, 4: 1, 5: -1, 6: 1, 7: 0}}"
      ]
     },
     "metadata": {},
     "output_type": "display_data"
    },
    {
     "data": {
      "text/plain": [
       "[[0, 5, 5, 6, 9, 7, 9, 8],\n",
       " [inf, 0, 0, 1, 4, 2, inf, inf],\n",
       " [inf, 1, 0, 1, 4, 3, inf, inf],\n",
       " [inf, 1, 0, 0, 3, 2, inf, inf],\n",
       " [inf, -2, -3, -2, 0, -1, inf, inf],\n",
       " [inf, -1, -2, -1, 2, 0, inf, inf],\n",
       " [inf, -4, -4, -3, 0, -2, 0, inf],\n",
       " [inf, -3, -3, -2, 1, -1, 1, 0]]"
      ]
     },
     "execution_count": 19,
     "metadata": {},
     "output_type": "execute_result"
    }
   ],
   "source": [
    "def floyd_warshall(adj_list):\n",
    "  dist = {u: {v: float('inf') for v in adj_list} for u in adj_list}\n",
    "  for u in adj_list:\n",
    "    dist[u][u] = 0\n",
    "    for v, weight in adj_list[u]:\n",
    "      dist[u][v] = weight\n",
    "\n",
    "  for k in adj_list:\n",
    "    for i in adj_list:\n",
    "      for j in adj_list:\n",
    "        if dist[i][j] > dist[i][k] + dist[k][j]:\n",
    "          dist[i][j] = dist[i][k] + dist[k][j]\n",
    "  return dist\n",
    "\n",
    "\n",
    "adjacency_list = {0: [(1, 10), (7, 8)],\n",
    "                  1: [(5, 2)],\n",
    "                  2: [(1, 1), (3, 1)],\n",
    "                  3: [(4, 3)],\n",
    "                  4: [(5, -1)],\n",
    "                  5: [(2, -2)],\n",
    "                  6: [(1, -4), (5, -1)],\n",
    "                  7: [(6, 1)]}\n",
    "\n",
    "dist = floyd_warshall(adjacency_list)\n",
    "display(dist)\n",
    "\n",
    "# validating the output (printing distances like a matrix)\n",
    "[list(dist[u].values()) for u in adjacency_list]"
   ]
  },
  {
   "cell_type": "code",
   "execution_count": 21,
   "metadata": {},
   "outputs": [
    {
     "data": {
      "text/plain": [
       "{1: {1: 0, 2: -1, 3: -2, 4: 0},\n",
       " 2: {1: 4, 2: 0, 3: 2, 4: 4},\n",
       " 3: {1: 5, 2: 1, 3: 0, 4: 2},\n",
       " 4: {1: 3, 2: -1, 3: 1, 4: 0}}"
      ]
     },
     "metadata": {},
     "output_type": "display_data"
    },
    {
     "data": {
      "text/plain": [
       "[[0, -1, -2, 0], [4, 0, 2, 4], [5, 1, 0, 2], [3, -1, 1, 0]]"
      ]
     },
     "execution_count": 21,
     "metadata": {},
     "output_type": "execute_result"
    },
    {
     "data": {
      "text/plain": [
       "True"
      ]
     },
     "execution_count": 21,
     "metadata": {},
     "output_type": "execute_result"
    }
   ],
   "source": [
    "\n",
    "adjacency_list = {\n",
    "    1: [(3, -2)],\n",
    "    2: [(1, 4), (3, 3)],\n",
    "    3: [(4, 2)],\n",
    "    4: [(2, -1)],\n",
    "}\n",
    "\n",
    "dist = floyd_warshall(adjacency_list)\n",
    "display(dist)\n",
    "\n",
    "# validating the output (printing distances like a matrix)\n",
    "[list(dist[u].values()) for u in adjacency_list]\n",
    "dist == {1: {1: 0, 2: -1, 3: -2, 4: 0},\n",
    "         2: {1: 4, 2: 0, 3: 2, 4: 4},\n",
    "         3: {1: 5, 2: 1, 3: 0, 4: 2},\n",
    "         4: {1: 3, 2: -1, 3: 1, 4: 0}}"
   ]
  },
  {
   "cell_type": "markdown",
   "metadata": {},
   "source": [
    "## Prim's algo"
   ]
  },
  {
   "cell_type": "code",
   "execution_count": 25,
   "metadata": {},
   "outputs": [
    {
     "name": "stdout",
     "output_type": "stream",
     "text": [
      "minimum spanning tree (mst): [(0, 2, 6), (2, 1, 4), (2, 3, 11)]\n"
     ]
    }
   ],
   "source": [
    "import heapq\n",
    "\n",
    "\n",
    "class PriorityQueue:\n",
    "  def __init__(self):\n",
    "    self.heap = []\n",
    "\n",
    "  def is_empty(self):\n",
    "    return len(self.heap) == 0\n",
    "\n",
    "  def enqueue(self, priority, item):\n",
    "    heapq.heappush(self.heap, (priority, item))  # (priority is weight, item is (u, v))\n",
    "\n",
    "  def dequeue(self):\n",
    "    return heapq.heappop(self.heap)  # returns (weight, (u, v))\n",
    "\n",
    "\n",
    "def prim(adj_list, start):\n",
    "  mst = []\n",
    "  pq = PriorityQueue()\n",
    "  visited = {u: False for u in adj_list}\n",
    "  visited[start] = True\n",
    "\n",
    "  for v, weight in adj_list[start]:\n",
    "    pq.enqueue(weight, (start, v))\n",
    "\n",
    "  while not pq.is_empty():\n",
    "    weight, (u, v) = pq.dequeue()\n",
    "    if not visited[v]:\n",
    "      mst.append((u, v, weight))\n",
    "      visited[v] = True\n",
    "      for adj_vertex, weight in adj_list[v]:\n",
    "        pq.enqueue(weight, (v, adj_vertex))\n",
    "  return mst\n",
    "\n",
    "\n",
    "adjacency_list = {\n",
    "    0: [(1, 10), (2, 6)],\n",
    "    1: [(0, 10), (3, 15), (2, 4)],\n",
    "    2: [(0, 6), (1, 4), (3, 11)],\n",
    "    3: [(1, 15), (2, 11)]\n",
    "}\n",
    "\n",
    "mst = prim(adjacency_list, 0)\n",
    "print(\"minimum spanning tree (mst):\", mst)"
   ]
  },
  {
   "cell_type": "code",
   "execution_count": 27,
   "metadata": {},
   "outputs": [
    {
     "data": {
      "text/plain": [
       "True"
      ]
     },
     "execution_count": 27,
     "metadata": {},
     "output_type": "execute_result"
    }
   ],
   "source": [
    "adjacency_list = {\n",
    "    'A': [('C', 3), ('D', 3), ('B', 2)],\n",
    "    'B': [('A', 2), ('C', 4), ('E', 3)],\n",
    "    'C': [('A', 3), ('B', 4), ('F', 6), ('E', 1)],\n",
    "    'D': [('A', 3), ('F', 7)],\n",
    "    'E': [('B', 3), ('C', 1), ('F', 8)],\n",
    "    'F': [('D', 7), ('E', 8), ('G', 9), ('C', 6)],\n",
    "    'G': [('F', 9)]\n",
    "}\n",
    "\n",
    "prim(adjacency_list, 'A') == [('A', 'B', 2),\n",
    "                              ('A', 'C', 3),\n",
    "                              ('C', 'E', 1),\n",
    "                              ('A', 'D', 3),\n",
    "                              ('C', 'F', 6),\n",
    "                              ('F', 'G', 9)]"
   ]
  },
  {
   "cell_type": "markdown",
   "metadata": {},
   "source": [
    "## kruskal algo"
   ]
  },
  {
   "cell_type": "code",
   "execution_count": 31,
   "metadata": {},
   "outputs": [
    {
     "name": "stdout",
     "output_type": "stream",
     "text": [
      "minimum spanning tree (mst): [(1, 2, 4), (0, 2, 6), (2, 3, 11)]\n"
     ]
    },
    {
     "data": {
      "text/plain": [
       "True"
      ]
     },
     "execution_count": 31,
     "metadata": {},
     "output_type": "execute_result"
    }
   ],
   "source": [
    "def kruskal(adj_list):\n",
    "  mst = []\n",
    "\n",
    "  edges = []\n",
    "  for u in adj_list:\n",
    "    for v, weight in adj_list[u]:\n",
    "      edges.append((weight, u, v))\n",
    "  edges.sort()\n",
    "\n",
    "  parent = {u: u for u in adj_list}\n",
    "\n",
    "  def find(node):\n",
    "    while parent[node] != node:\n",
    "      node = parent[node]\n",
    "    return node\n",
    "\n",
    "  def union(u, v):\n",
    "    root1 = find(u)\n",
    "    root2 = find(v)\n",
    "    if root1 != root2:\n",
    "      parent[root2] = root1\n",
    "      return True\n",
    "    return False\n",
    "\n",
    "  # ufs above👆\n",
    "  for weight, u, v in edges:\n",
    "    if union(u, v):\n",
    "      mst.append((u, v, weight))\n",
    "  return mst\n",
    "\n",
    "\n",
    "adjacency_list = {\n",
    "    0: [(1, 10), (2, 6)],\n",
    "    1: [(0, 10), (3, 15), (2, 4)],\n",
    "    2: [(0, 6), (1, 4), (3, 11)],\n",
    "    3: [(1, 15), (2, 11)]\n",
    "}\n",
    "\n",
    "mst = kruskal(adjacency_list)\n",
    "print(\"minimum spanning tree (mst):\", mst)\n",
    "mst == [(1, 2, 4), (0, 2, 6), (2, 3, 11)]"
   ]
  },
  {
   "cell_type": "code",
   "execution_count": 33,
   "metadata": {},
   "outputs": [
    {
     "data": {
      "text/plain": [
       "True"
      ]
     },
     "execution_count": 33,
     "metadata": {},
     "output_type": "execute_result"
    }
   ],
   "source": [
    "adjacency_list = {\n",
    "    'A': [('C', 3), ('D', 3), ('B', 2)],\n",
    "    'B': [('A', 2), ('C', 4), ('E', 3)],\n",
    "    'C': [('A', 3), ('B', 4), ('F', 6), ('E', 1)],\n",
    "    'D': [('A', 3), ('F', 7)],\n",
    "    'E': [('B', 3), ('C', 1), ('F', 8)],\n",
    "    'F': [('D', 7), ('E', 8), ('G', 9), ('C', 6)],\n",
    "    'G': [('F', 9)]\n",
    "}\n",
    "\n",
    "kruskal(adjacency_list) == [('C', 'E', 1),\n",
    "                            ('A', 'B', 2),\n",
    "                            ('A', 'C', 3),\n",
    "                            ('A', 'D', 3),\n",
    "                            ('C', 'F', 6),\n",
    "                            ('F', 'G', 9)]"
   ]
  }
 ],
 "metadata": {
  "kernelspec": {
   "display_name": "Python 3",
   "language": "python",
   "name": "python3"
  },
  "language_info": {
   "codemirror_mode": {
    "name": "ipython",
    "version": 3
   },
   "file_extension": ".py",
   "mimetype": "text/x-python",
   "name": "python",
   "nbconvert_exporter": "python",
   "pygments_lexer": "ipython3",
   "version": "3.12.3"
  }
 },
 "nbformat": 4,
 "nbformat_minor": 2
}
