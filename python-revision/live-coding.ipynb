{
 "cells": [
  {
   "cell_type": "markdown",
   "metadata": {},
   "source": [
    "# week 1 question 1"
   ]
  },
  {
   "cell_type": "code",
   "execution_count": 2,
   "metadata": {},
   "outputs": [
    {
     "data": {
      "text/plain": [
       "True"
      ]
     },
     "execution_count": 2,
     "metadata": {},
     "output_type": "execute_result"
    },
    {
     "data": {
      "text/plain": [
       "True"
      ]
     },
     "execution_count": 2,
     "metadata": {},
     "output_type": "execute_result"
    },
    {
     "data": {
      "text/plain": [
       "False"
      ]
     },
     "execution_count": 2,
     "metadata": {},
     "output_type": "execute_result"
    }
   ],
   "source": [
    "def is_prime(n):\n",
    "  for i in range(2, int(n**0.5)+1):\n",
    "    if n % i == 0:\n",
    "      return False\n",
    "  return True\n",
    "\n",
    "\n",
    "is_prime(2)\n",
    "is_prime(7)\n",
    "is_prime(8)"
   ]
  },
  {
   "cell_type": "code",
   "execution_count": 10,
   "metadata": {},
   "outputs": [
    {
     "data": {
      "text/plain": [
       "False"
      ]
     },
     "execution_count": 10,
     "metadata": {},
     "output_type": "execute_result"
    },
    {
     "name": "stdout",
     "output_type": "stream",
     "text": [
      "2 3\n"
     ]
    },
    {
     "data": {
      "text/plain": [
       "True"
      ]
     },
     "execution_count": 10,
     "metadata": {},
     "output_type": "execute_result"
    },
    {
     "name": "stdout",
     "output_type": "stream",
     "text": [
      "2 29\n"
     ]
    },
    {
     "data": {
      "text/plain": [
       "True"
      ]
     },
     "execution_count": 10,
     "metadata": {},
     "output_type": "execute_result"
    }
   ],
   "source": [
    "def prime_product(m):\n",
    "  for i in range(2, m):\n",
    "    if m % i == 0:\n",
    "      if is_prime(i) and is_prime(m//i):\n",
    "        # print(i, m//i)\n",
    "        return True\n",
    "  return False\n",
    "\n",
    "\n",
    "prime_product(12)\n",
    "prime_product(6)\n",
    "prime_product(58)"
   ]
  },
  {
   "cell_type": "markdown",
   "metadata": {},
   "source": [
    "# week 1 question 2"
   ]
  },
  {
   "cell_type": "code",
   "execution_count": 26,
   "metadata": {},
   "outputs": [
    {
     "data": {
      "text/plain": [
       "'bnn'"
      ]
     },
     "execution_count": 26,
     "metadata": {},
     "output_type": "execute_result"
    },
    {
     "data": {
      "text/plain": [
       "'vidhatri'"
      ]
     },
     "execution_count": 26,
     "metadata": {},
     "output_type": "execute_result"
    }
   ],
   "source": [
    "def del_char(string, c):\n",
    "  if len(c) > 1:\n",
    "    return string\n",
    "  result = ''\n",
    "  for char in string:\n",
    "    if char == c:\n",
    "      continue\n",
    "    result += char\n",
    "  return result\n",
    "\n",
    "\n",
    "del_char('banana', 'a')\n",
    "del_char('vidhatri', 'ir')"
   ]
  },
  {
   "cell_type": "markdown",
   "metadata": {},
   "source": [
    "# week 1 question 3"
   ]
  },
  {
   "cell_type": "code",
   "execution_count": 4,
   "metadata": {},
   "outputs": [
    {
     "name": "stdout",
     "output_type": "stream",
     "text": [
      "0\n",
      "1\n",
      "2\n",
      "3\n"
     ]
    },
    {
     "data": {
      "text/plain": [
       "[1, 6, 2, 7, 4, 8, 5, 5]"
      ]
     },
     "execution_count": 4,
     "metadata": {},
     "output_type": "execute_result"
    }
   ],
   "source": [
    "def shuffle(l1, l2):\n",
    "  m, n = len(l1), len(l2)\n",
    "  result = []\n",
    "  for _ in range(min(m, n)):\n",
    "    result.append(l1.pop(0))\n",
    "    result.append(l2.pop(0))\n",
    "  result += l1 + l2\n",
    "  return result\n",
    "\n",
    "\n",
    "shuffle([1, 2, 4, 5], [6, 7, 8, 5])"
   ]
  },
  {
   "cell_type": "code",
   "execution_count": 7,
   "metadata": {},
   "outputs": [
    {
     "data": {
      "text/plain": [
       "[1, 1, 2, 3, 3, 6, 5, 8, 6, 9]"
      ]
     },
     "execution_count": 7,
     "metadata": {},
     "output_type": "execute_result"
    }
   ],
   "source": [
    "def shuffle(l1, l2):\n",
    "  m, n = len(l1), len(l2)\n",
    "  result = []\n",
    "  z = min(m, n)\n",
    "  for i in range(z):\n",
    "    result.append(l1[i])\n",
    "    result.append(l2[i])\n",
    "  result += l1[z:]+l2[z:]\n",
    "  return result\n",
    "\n",
    "\n",
    "shuffle([1, 2, 3, 5, 6], [1, 3, 6, 8, 9])"
   ]
  },
  {
   "cell_type": "code",
   "execution_count": 42,
   "metadata": {},
   "outputs": [],
   "source": [
    "l1 = [10, 11, 12, 13, 14]\n",
    "l2 = [5, 6, 7]\n"
   ]
  },
  {
   "cell_type": "code",
   "execution_count": 40,
   "metadata": {},
   "outputs": [
    {
     "data": {
      "text/plain": [
       "[1, 2, 3, 4, 5, 10]"
      ]
     },
     "execution_count": 40,
     "metadata": {},
     "output_type": "execute_result"
    }
   ],
   "source": [
    "result = [1, 2, 3]\n",
    "L1 = [4, 5]\n",
    "L2 = [10]\n",
    "\n",
    "result += L1 + L2\n",
    "# result += L1\n",
    "# result += L2\n",
    "result\n",
    "# L1+L2"
   ]
  },
  {
   "cell_type": "code",
   "execution_count": 30,
   "metadata": {},
   "outputs": [
    {
     "data": {
      "text/plain": [
       "1"
      ]
     },
     "execution_count": 30,
     "metadata": {},
     "output_type": "execute_result"
    },
    {
     "data": {
      "text/plain": [
       "[2, 4, 10]"
      ]
     },
     "execution_count": 30,
     "metadata": {},
     "output_type": "execute_result"
    },
    {
     "data": {
      "text/plain": [
       "2"
      ]
     },
     "execution_count": 30,
     "metadata": {},
     "output_type": "execute_result"
    },
    {
     "data": {
      "text/plain": [
       "[4, 10]"
      ]
     },
     "execution_count": 30,
     "metadata": {},
     "output_type": "execute_result"
    }
   ],
   "source": [
    "L = [1, 2, 4, 10]\n",
    "L.pop(0)\n",
    "L\n",
    "L.pop(0)\n",
    "L"
   ]
  },
  {
   "cell_type": "markdown",
   "metadata": {},
   "source": [
    "# week 1 question 4"
   ]
  },
  {
   "cell_type": "code",
   "execution_count": 3,
   "metadata": {},
   "outputs": [
    {
     "data": {
      "text/plain": [
       "True"
      ]
     },
     "execution_count": 3,
     "metadata": {},
     "output_type": "execute_result"
    },
    {
     "data": {
      "text/plain": [
       "False"
      ]
     },
     "execution_count": 3,
     "metadata": {},
     "output_type": "execute_result"
    }
   ],
   "source": [
    "def expanding(L):\n",
    "  last_diff = 0\n",
    "  for i in range(1, len(L)):\n",
    "    # print(i)\n",
    "    diff = abs(L[i-1]-L[i])\n",
    "    # print(diff)\n",
    "    if diff > last_diff:\n",
    "      last_diff = diff\n",
    "      continue\n",
    "    return False\n",
    "  return True\n",
    "\n",
    "\n",
    "expanding([1, 3, 7, 2, 9])\n",
    "expanding([1, 3, 7, 2, -3])"
   ]
  },
  {
   "cell_type": "markdown",
   "metadata": {},
   "source": [
    "# week 1 question 5"
   ]
  },
  {
   "cell_type": "code",
   "execution_count": null,
   "metadata": {},
   "outputs": [],
   "source": []
  },
  {
   "cell_type": "code",
   "execution_count": 5,
   "metadata": {},
   "outputs": [
    {
     "data": {
      "text/plain": [
       "False"
      ]
     },
     "execution_count": 5,
     "metadata": {},
     "output_type": "execute_result"
    },
    {
     "data": {
      "text/plain": [
       "True"
      ]
     },
     "execution_count": 5,
     "metadata": {},
     "output_type": "execute_result"
    }
   ],
   "source": [
    "def is_prime(n):\n",
    "  for i in range(2, int(n**0.5)+1):\n",
    "    if n % i == 0:\n",
    "      return False\n",
    "  return True\n",
    "\n",
    "\n",
    "is_prime(6)\n",
    "is_prime(17)"
   ]
  },
  {
   "cell_type": "code",
   "execution_count": 28,
   "metadata": {},
   "outputs": [
    {
     "name": "stdout",
     "output_type": "stream",
     "text": [
      "3 5\n"
     ]
    },
    {
     "data": {
      "text/plain": [
       "True"
      ]
     },
     "execution_count": 28,
     "metadata": {},
     "output_type": "execute_result"
    }
   ],
   "source": [
    "def prime_product(m):\n",
    "  for i in range(2, m):\n",
    "    if m % i == 0:\n",
    "      if is_prime(i) and is_prime(m//i):\n",
    "        # print(i, m//i)\n",
    "        return True\n",
    "  return False\n",
    "\n",
    "\n",
    "prime_product(15)"
   ]
  },
  {
   "cell_type": "code",
   "execution_count": 35,
   "metadata": {},
   "outputs": [
    {
     "data": {
      "text/plain": [
       "'bnn'"
      ]
     },
     "execution_count": 35,
     "metadata": {},
     "output_type": "execute_result"
    }
   ],
   "source": [
    "def del_char(string, c):\n",
    "  if len(c) > 1:\n",
    "    return string\n",
    "  result = ''\n",
    "  for char in string:\n",
    "    if char == c:\n",
    "      continue\n",
    "    result += char\n",
    "  return result\n",
    "\n",
    "\n",
    "del_char('banana', 'a')"
   ]
  },
  {
   "cell_type": "code",
   "execution_count": 43,
   "metadata": {},
   "outputs": [
    {
     "data": {
      "text/plain": [
       "[0, 1, 7, 2, 4, 3]"
      ]
     },
     "execution_count": 43,
     "metadata": {},
     "output_type": "execute_result"
    }
   ],
   "source": [
    "def shuffle(l1, l2):\n",
    "  m, n = len(l1), len(l2)\n",
    "  new_lst = []\n",
    "  z = min(m, n)\n",
    "  for i in range(z):\n",
    "    new_lst.append(l1[i])\n",
    "    new_lst.append(l2[i])\n",
    "  new_lst += l1[z:] + l2[z:]\n",
    "  return new_lst\n",
    "\n",
    "\n",
    "shuffle([0, 7, 4], [1, 2, 3])"
   ]
  },
  {
   "cell_type": "code",
   "execution_count": 65,
   "metadata": {},
   "outputs": [
    {
     "data": {
      "text/plain": [
       "True"
      ]
     },
     "execution_count": 65,
     "metadata": {},
     "output_type": "execute_result"
    }
   ],
   "source": [
    "def expanding(lst):\n",
    "  last_diff = -1\n",
    "  for i in range(1, len(lst)):\n",
    "    diff = abs(lst[i]-lst[i-1])\n",
    "    if diff <= last_diff:\n",
    "      return False\n",
    "    last_diff = diff\n",
    "  return True\n",
    "\n",
    "\n",
    "expanding([1, 1, 5])"
   ]
  },
  {
   "cell_type": "code",
   "execution_count": 78,
   "metadata": {},
   "outputs": [
    {
     "data": {
      "text/plain": [
       "[59, 4]"
      ]
     },
     "execution_count": 78,
     "metadata": {},
     "output_type": "execute_result"
    }
   ],
   "source": [
    "def sumsquare(lst):\n",
    "  sum_odd = 0\n",
    "  sum_even = 0\n",
    "  for x in lst:\n",
    "    if x % 2 == 0:\n",
    "      sum_even += x**2\n",
    "    else:\n",
    "      sum_odd += x**2\n",
    "  return [sum_odd, sum_even]\n",
    "\n",
    "\n",
    "sumsquare([-1, -2, 3, 7])"
   ]
  },
  {
   "cell_type": "code",
   "execution_count": 102,
   "metadata": {},
   "outputs": [
    {
     "data": {
      "text/plain": [
       "[(11, 2), (12, 2), (7, 4), (13, 4), (14, 4)]"
      ]
     },
     "execution_count": 102,
     "metadata": {},
     "output_type": "execute_result"
    },
    {
     "data": {
      "text/plain": [
       "[(14, 1), (7, 2), (11, 2), (12, 2), (13, 2)]"
      ]
     },
     "execution_count": 102,
     "metadata": {},
     "output_type": "execute_result"
    },
    {
     "data": {
      "text/plain": [
       "[(11, 1), (7, 2), (12, 2), (14, 2), (13, 4)]"
      ]
     },
     "execution_count": 102,
     "metadata": {},
     "output_type": "execute_result"
    }
   ],
   "source": [
    "def histogram(lst):\n",
    "  count = {}\n",
    "  for x in lst:\n",
    "    if x not in count:\n",
    "      count[x] = 0\n",
    "    count[x] += 1\n",
    "  result = list(count.items())\n",
    "  result.sort(key=lambda pair: (pair[1], pair[0]))\n",
    "  return result\n",
    "\n",
    "\n",
    "histogram([13, 7, 12, 7, 11, 13, 14, 13, 7, 11, 13, 14, 12, 14, 14, 7])\n",
    "histogram([7, 12, 11, 13, 7, 11, 13, 14, 12])\n",
    "histogram([13, 12, 11, 13, 14, 13, 7, 7, 13, 14, 12])"
   ]
  },
  {
   "cell_type": "code",
   "execution_count": 96,
   "metadata": {},
   "outputs": [
    {
     "data": {
      "text/plain": [
       "[(11, 2), (12, 2), (7, 4), (13, 4), (14, 4)]"
      ]
     },
     "execution_count": 96,
     "metadata": {},
     "output_type": "execute_result"
    }
   ],
   "source": [
    "lst = [(13, 4), (7, 4), (12, 2), (11, 2), (14, 4)]\n",
    "lst.sort(key=lambda pair: (pair[1], pair[0]))\n",
    "\n",
    "\n",
    "lst"
   ]
  }
 ],
 "metadata": {
  "kernelspec": {
   "display_name": "Python 3",
   "language": "python",
   "name": "python3"
  },
  "language_info": {
   "codemirror_mode": {
    "name": "ipython",
    "version": 3
   },
   "file_extension": ".py",
   "mimetype": "text/x-python",
   "name": "python",
   "nbconvert_exporter": "python",
   "pygments_lexer": "ipython3",
   "version": "3.12.3"
  }
 },
 "nbformat": 4,
 "nbformat_minor": 2
}
