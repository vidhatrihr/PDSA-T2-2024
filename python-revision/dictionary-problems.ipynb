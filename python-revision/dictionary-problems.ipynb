{
 "cells": [
  {
   "cell_type": "markdown",
   "metadata": {},
   "source": [
    "# Problem 1: Square the Values"
   ]
  },
  {
   "cell_type": "code",
   "execution_count": 2,
   "metadata": {},
   "outputs": [
    {
     "name": "stdout",
     "output_type": "stream",
     "text": [
      "All tests passed!\n"
     ]
    }
   ],
   "source": [
    "def square_values(numbers):\n",
    "  \"\"\"\n",
    "  Creates a dictionary where the keys are the integers from the list \n",
    "  and the values are the squares of those integers.\n",
    "\n",
    "  Args:\n",
    "      numbers (list): The list of integers.\n",
    "\n",
    "  Returns:\n",
    "      dict: A dictionary with integers as keys and their squares as values.\n",
    "  \"\"\"\n",
    "  square = {number: number**2 for number in numbers}\n",
    "  return square\n",
    "\n",
    "\n",
    "# Test calls\n",
    "assert square_values([1, 2, 3, 4, 5]) == {1: 1, 2: 4, 3: 9, 4: 16, 5: 25}\n",
    "assert square_values([0, -1, -2]) == {0: 0, -1: 1, -2: 4}\n",
    "assert square_values([10, 20]) == {10: 100, 20: 400}\n",
    "assert square_values([]) == {}\n",
    "\n",
    "print(\"All tests passed!\")"
   ]
  },
  {
   "cell_type": "markdown",
   "metadata": {},
   "source": [
    "# Problem 2: Length of Strings"
   ]
  },
  {
   "cell_type": "code",
   "execution_count": 3,
   "metadata": {},
   "outputs": [
    {
     "name": "stdout",
     "output_type": "stream",
     "text": [
      "All tests passed!\n"
     ]
    }
   ],
   "source": [
    "def length_of_strings(words):\n",
    "  \"\"\"\n",
    "  Creates a dictionary where the keys are the strings and the values are the lengths of those strings.\n",
    "\n",
    "  Args:\n",
    "      words (list): The list of strings.\n",
    "\n",
    "  Returns:\n",
    "      dict: A dictionary with strings as keys and their lengths as values.\n",
    "  \"\"\"\n",
    "  len_dict = {word: len(word) for word in words}\n",
    "  return len_dict\n",
    "\n",
    "\n",
    "# Test calls\n",
    "assert length_of_strings([\"apple\", \"banana\", \"cherry\"]) == {'apple': 5, 'banana': 6, 'cherry': 6}\n",
    "assert length_of_strings([\"a\", \"ab\", \"abc\"]) == {'a': 1, 'ab': 2, 'abc': 3}\n",
    "assert length_of_strings([\"\"]) == {\"\": 0}\n",
    "assert length_of_strings([]) == {}\n",
    "\n",
    "print(\"All tests passed!\")"
   ]
  },
  {
   "cell_type": "markdown",
   "metadata": {},
   "source": [
    "# Problem 3: Filter and Transform"
   ]
  },
  {
   "cell_type": "code",
   "execution_count": 10,
   "metadata": {},
   "outputs": [
    {
     "name": "stdout",
     "output_type": "stream",
     "text": [
      "All tests passed!\n"
     ]
    }
   ],
   "source": [
    "def filter_and_transform(numbers):\n",
    "  \"\"\"\n",
    "  Creates a dictionary where the keys are the integers and the values are the cubes of those integers,\n",
    "  but only includes integers that are even.\n",
    "\n",
    "  Args:\n",
    "      numbers (list): The list of integers.\n",
    "\n",
    "  Returns:\n",
    "      dict: A dictionary with even integers as keys and their cubes as values.\n",
    "  \"\"\"\n",
    "  cube_dict = {}\n",
    "  for num in numbers:\n",
    "    if num % 2 == 0:\n",
    "      cube_dict[num] = num ** 3\n",
    "  return cube_dict\n",
    "\n",
    "\n",
    "# Test calls\n",
    "assert filter_and_transform([1, 2, 3, 4, 5, 6]) == {2: 8, 4: 64, 6: 216}\n",
    "assert filter_and_transform([7, 8, 9, 10]) == {8: 512, 10: 1000}\n",
    "assert filter_and_transform([1, 3, 5]) == {}\n",
    "assert filter_and_transform([]) == {}\n",
    "\n",
    "print(\"All tests passed!\")"
   ]
  },
  {
   "cell_type": "markdown",
   "metadata": {},
   "source": [
    "# Problem 4: Swap Keys and Values"
   ]
  },
  {
   "cell_type": "code",
   "execution_count": 19,
   "metadata": {},
   "outputs": [
    {
     "name": "stdout",
     "output_type": "stream",
     "text": [
      "All tests passed!\n"
     ]
    }
   ],
   "source": [
    "def swap_keys_and_values(original_dict):\n",
    "  \"\"\"\n",
    "  Creates a new dictionary by swapping the keys and values of the given dictionary.\n",
    "\n",
    "  Args:\n",
    "      original_dict (dict): The original dictionary.\n",
    "\n",
    "  Returns:\n",
    "      dict: A new dictionary with swapped keys and values.\n",
    "  \"\"\"\n",
    "  swapped_dict = {}\n",
    "  # for key, value in original_dict.items():\n",
    "  # swapped_dict[value] = key\n",
    "  for key in original_dict:\n",
    "    swapped_dict[original_dict[key]] = key\n",
    "  return swapped_dict\n",
    "\n",
    "\n",
    "# Test calls\n",
    "assert swap_keys_and_values({'a': 1, 'b': 2, 'c': 3}) == {1: 'a', 2: 'b', 3: 'c'}\n",
    "assert swap_keys_and_values({1: 'x', 2: 'y'}) == {'x': 1, 'y': 2}\n",
    "assert swap_keys_and_values({'key': 'value'}) == {'value': 'key'}\n",
    "assert swap_keys_and_values({}) == {}\n",
    "\n",
    "print(\"All tests passed!\")"
   ]
  },
  {
   "cell_type": "markdown",
   "metadata": {},
   "source": [
    "# Problem 5: Character Frequency"
   ]
  },
  {
   "cell_type": "code",
   "execution_count": 21,
   "metadata": {},
   "outputs": [
    {
     "data": {
      "text/plain": [
       "{'a': 4}"
      ]
     },
     "execution_count": 21,
     "metadata": {},
     "output_type": "execute_result"
    },
    {
     "name": "stdout",
     "output_type": "stream",
     "text": [
      "All tests passed!\n"
     ]
    }
   ],
   "source": [
    "def character_frequency(text):\n",
    "  \"\"\"\n",
    "  Creates a dictionary that maps each character to its frequency in the given string.\n",
    "\n",
    "  Args:\n",
    "      text (str): The input string.\n",
    "\n",
    "  Returns:\n",
    "      dict: A dictionary with characters as keys and their frequencies as values.\n",
    "  \"\"\"\n",
    "  freq_dict = {}\n",
    "  for char in text:\n",
    "    if char in freq_dict:\n",
    "      freq_dict[char] += 1\n",
    "    else:\n",
    "      freq_dict[char] = 1\n",
    "  return freq_dict\n",
    "\n",
    "\n",
    "character_frequency(\"aaaa\")\n",
    "# Test calls\n",
    "assert character_frequency(\"hello\") == {'h': 1, 'e': 1, 'l': 2, 'o': 1}\n",
    "assert character_frequency(\"aa bb cc\") == {'a': 2, 'b': 2, 'c': 2, ' ': 2}\n",
    "assert character_frequency(\"abcd abcd\") == {'a': 2, 'b': 2, 'c': 2, 'd': 2, ' ': 1}\n",
    "assert character_frequency(\"\") == {}\n",
    "\n",
    "print(\"All tests passed!\")"
   ]
  },
  {
   "cell_type": "code",
   "execution_count": 21,
   "metadata": {},
   "outputs": [
    {
     "data": {
      "text/plain": [
       "2"
      ]
     },
     "execution_count": 21,
     "metadata": {},
     "output_type": "execute_result"
    }
   ],
   "source": [
    "string = 'apple'\n",
    "string.count('p')"
   ]
  },
  {
   "cell_type": "markdown",
   "metadata": {},
   "source": [
    "# Problem 6: Nested Dictionary from Two Lists"
   ]
  },
  {
   "cell_type": "code",
   "execution_count": 1,
   "metadata": {},
   "outputs": [
    {
     "data": {
      "text/plain": [
       "{'one': {'value': 1, 'type': int},\n",
       " 'two': {'value': 2.0, 'type': float},\n",
       " 'three': {'value': 'three', 'type': str}}"
      ]
     },
     "execution_count": 1,
     "metadata": {},
     "output_type": "execute_result"
    }
   ],
   "source": [
    "def nested_dict_from_lists(keys, values):\n",
    "  result_dict = {}\n",
    "  for i in range(len(keys)):\n",
    "    key = keys[i]\n",
    "    value = values[i]\n",
    "    result_dict[key] = {'value': value, 'type': type(value)}\n",
    "  return result_dict\n",
    "\n",
    "\n",
    "nested_dict_from_lists(['one', 'two', 'three'], [1, 2.0, 'three'])"
   ]
  },
  {
   "cell_type": "code",
   "execution_count": 7,
   "metadata": {},
   "outputs": [
    {
     "data": {
      "text/plain": [
       "True"
      ]
     },
     "execution_count": 7,
     "metadata": {},
     "output_type": "execute_result"
    },
    {
     "name": "stdout",
     "output_type": "stream",
     "text": [
      "All tests passed!\n"
     ]
    }
   ],
   "source": [
    "def nested_dict_from_lists(keys, values):\n",
    "  \"\"\"\n",
    "  Creates a dictionary where each key maps to a nested dictionary with the value and its type.\n",
    "\n",
    "  Args:\n",
    "      keys (list): The list of keys.\n",
    "      values (list): The list of values.\n",
    "\n",
    "  Returns:\n",
    "      dict: A dictionary with keys mapping to nested dictionaries containing value and type.\n",
    "  \"\"\"\n",
    "  nested_dict = {}\n",
    "  for i in range(len(keys)):\n",
    "    nested_dict[keys[i]] = {'value': values[i], 'type': type(values[i])}\n",
    "  return nested_dict\n",
    "\n",
    "\n",
    "nested_dict_from_lists(['one', 'two', 'three'], [1, 2.0, 'three']) == {\n",
    "    'one': {'value': 1, 'type': int},\n",
    "    'two': {'value': 2.0, 'type': float},\n",
    "    'three': {'value': 'three', 'type': str}\n",
    "}\n",
    "# Test calls\n",
    "assert nested_dict_from_lists(['one', 'two', 'three'], [1, 2.0, 'three']) == {\n",
    "    'one': {'value': 1, 'type': int},\n",
    "    'two': {'value': 2.0, 'type': float},\n",
    "    'three': {'value': 'three', 'type': str}\n",
    "}\n",
    "\n",
    "assert nested_dict_from_lists(['a', 'b'], [True, None]) == {\n",
    "    'a': {'value': True, 'type': bool},\n",
    "    'b': {'value': None, 'type': type(None)}\n",
    "}\n",
    "\n",
    "assert nested_dict_from_lists(['name', 'age'], ['vidhatri', 20]) == {\n",
    "    'name': {'value': 'vidhatri', 'type': str},\n",
    "    'age': {'value': 20, 'type': int}\n",
    "}\n",
    "\n",
    "assert nested_dict_from_lists([], []) == {}\n",
    "\n",
    "print(\"All tests passed!\")"
   ]
  },
  {
   "cell_type": "markdown",
   "metadata": {},
   "source": [
    "# Problem 7: Grouping by Length"
   ]
  },
  {
   "cell_type": "code",
   "execution_count": 28,
   "metadata": {},
   "outputs": [
    {
     "data": {
      "text/plain": [
       "{3: ['one', 'two'], 5: ['three']}"
      ]
     },
     "execution_count": 28,
     "metadata": {},
     "output_type": "execute_result"
    },
    {
     "name": "stdout",
     "output_type": "stream",
     "text": [
      "All tests passed!\n"
     ]
    }
   ],
   "source": [
    "def group_by_length(words):\n",
    "  \"\"\"\n",
    "  Creates a dictionary where the keys are the lengths of the strings \n",
    "  and the values are lists of strings of that length.\n",
    "\n",
    "  Args:\n",
    "      words (list): The list of strings.\n",
    "\n",
    "  Returns:\n",
    "      dict: A dictionary with string lengths as keys and lists of strings as values.\n",
    "  \"\"\"\n",
    "  len_dict = {}\n",
    "  for word in words:\n",
    "    if len(word) in len_dict:\n",
    "      len_dict[len(word)].append(word)\n",
    "    else:\n",
    "      len_dict[len(word)] = [word]\n",
    "  return len_dict\n",
    "\n",
    "\n",
    "group_by_length([\"one\", \"two\", \"three\"])\n",
    "# Test calls\n",
    "assert group_by_length([\"a\", 'b', 'c', \"at\", \"bat\", 'cat', \"cats\", \"hello\", \"world\", 'vidhatri', 'vaishnvi']) == {\n",
    "    1: ['a', 'b', 'c'], 2: ['at'],\n",
    "    3: ['bat', 'cat'], 4: ['cats'],\n",
    "    5: ['hello', 'world'],\n",
    "    8: ['vidhatri', 'vaishnvi']\n",
    "}\n",
    "\n",
    "assert group_by_length([\"one\", \"two\", \"three\"]) == {3: ['one', 'two'], 5: ['three']}\n",
    "assert group_by_length([\"\"]) == {0: [\"\"]}\n",
    "assert group_by_length([]) == {}\n",
    "\n",
    "print(\"All tests passed!\")"
   ]
  },
  {
   "cell_type": "markdown",
   "metadata": {},
   "source": [
    "# Problem 8: Frequency of Initials"
   ]
  },
  {
   "cell_type": "code",
   "execution_count": 19,
   "metadata": {},
   "outputs": [
    {
     "data": {
      "text/plain": [
       "{'A': 2, 'B': 1}"
      ]
     },
     "execution_count": 19,
     "metadata": {},
     "output_type": "execute_result"
    },
    {
     "name": "stdout",
     "output_type": "stream",
     "text": [
      "All tests passed!\n"
     ]
    }
   ],
   "source": [
    "def frequency_of_initials(names):\n",
    "  \"\"\"\n",
    "  Creates a dictionary where the keys are the first letters of the names \n",
    "  and the values are the number of names that start with that letter.\n",
    "\n",
    "  Args:\n",
    "      names (list): The list of names.\n",
    "\n",
    "  Returns:\n",
    "      dict: A dictionary with first letters as keys and their frequencies as values.\n",
    "  \"\"\"\n",
    "  result_dict = {}\n",
    "  for name in names:\n",
    "    if name[0] in result_dict:\n",
    "      result_dict[name[0]] += 1\n",
    "    else:\n",
    "      result_dict[name[0]] = 1\n",
    "  return result_dict\n",
    "\n",
    "\n",
    "frequency_of_initials([\"Anna\", \"Alice\", \"Ben\"])\n",
    "# Test calls\n",
    "assert frequency_of_initials([\"Alice\", \"Bob\", \"Charlie\", 'Anna', 'Vidhatri', 'Vaishnvi']) == {\n",
    "    'A': 2, 'B': 1, 'C': 1, 'V': 2\n",
    "}\n",
    "assert frequency_of_initials([\"Anna\", \"Alice\", \"Ben\"]) == {'A': 2, 'B': 1}\n",
    "assert frequency_of_initials([\"Zoe\"]) == {'Z': 1}\n",
    "assert frequency_of_initials([]) == {}\n",
    "\n",
    "print(\"All tests passed!\")"
   ]
  },
  {
   "cell_type": "markdown",
   "metadata": {},
   "source": [
    "# Problem 9: Conditional Transformation"
   ]
  },
  {
   "cell_type": "code",
   "execution_count": 32,
   "metadata": {},
   "outputs": [
    {
     "data": {
      "text/plain": [
       "{'a': 1, 'b': 4, 'c': 3, 'd': 16}"
      ]
     },
     "execution_count": 32,
     "metadata": {},
     "output_type": "execute_result"
    },
    {
     "name": "stdout",
     "output_type": "stream",
     "text": [
      "All tests passed!\n"
     ]
    }
   ],
   "source": [
    "def conditional_transformation(original_dict):\n",
    "  \"\"\"\n",
    "  Creates a new dictionary where keys are the same, but values are squared if they are even \n",
    "  and unchanged if they are odd.\n",
    "\n",
    "  Args:\n",
    "      original_dict (dict): The original dictionary.\n",
    "\n",
    "  Returns:\n",
    "      dict: A new dictionary with conditionally transformed values.\n",
    "  \"\"\"\n",
    "  trans_dict = {}\n",
    "  for key in original_dict:\n",
    "    if original_dict[key] % 2 == 0:\n",
    "      trans_dict[key] = original_dict[key] ** 2\n",
    "    else:\n",
    "      trans_dict[key] = original_dict[key]\n",
    "  return trans_dict\n",
    "\n",
    "\n",
    "conditional_transformation({'a': 1, 'b': 2, 'c': 3, 'd': 4})\n",
    "# Test calls\n",
    "assert conditional_transformation({'a': 1, 'b': 2, 'c': 3, 'd': 4}) == {'a': 1, 'b': 4, 'c': 3, 'd': 16}\n",
    "assert conditional_transformation({'x': 5, 'y': 6, 'z': 7}) == {'x': 5, 'y': 36, 'z': 7}\n",
    "assert conditional_transformation({'vidhatri': 0}) == {'vidhatri': 0}\n",
    "assert conditional_transformation({}) == {}\n",
    "\n",
    "print(\"All tests passed!\")"
   ]
  },
  {
   "cell_type": "markdown",
   "metadata": {},
   "source": [
    "# Problem 10: Sum of List Indices"
   ]
  },
  {
   "cell_type": "code",
   "execution_count": 35,
   "metadata": {},
   "outputs": [
    {
     "name": "stdout",
     "output_type": "stream",
     "text": [
      "All tests passed!\n"
     ]
    }
   ],
   "source": [
    "def sum_of_list_indices(lists):\n",
    "  \"\"\"\n",
    "  Creates a dictionary where the keys are the indices of the outer list, \n",
    "  and the values are the sum of the integers in the corresponding inner list.\n",
    "\n",
    "  Args:\n",
    "      lists (list of list of int): The list of lists of integers.\n",
    "\n",
    "  Returns:\n",
    "      dict: A dictionary with indices as keys and sums of inner lists as values.\n",
    "  \"\"\"\n",
    "  sum_dict = {}\n",
    "  for i in range(len(lists)):\n",
    "    sum_dict[i] = sum(lists[i])\n",
    "  return sum_dict\n",
    "\n",
    "\n",
    "# Test calls\n",
    "assert sum_of_list_indices([[1, 2, 3], [4, 5], [6, 7, 8, 9]]) == {0: 6, 1: 9, 2: 30}\n",
    "assert sum_of_list_indices([[], [1], [1, 2, 3]]) == {0: 0, 1: 1, 2: 6}\n",
    "assert sum_of_list_indices([[-1, -2, -3], [0], [1, 1, 1]]) == {0: -6, 1: 0, 2: 3}\n",
    "assert sum_of_list_indices([]) == {}\n",
    "\n",
    "print(\"All tests passed!\")"
   ]
  },
  {
   "cell_type": "markdown",
   "metadata": {},
   "source": [
    "# Problem 11: Character Position Mapping"
   ]
  },
  {
   "cell_type": "code",
   "execution_count": 40,
   "metadata": {},
   "outputs": [
    {
     "data": {
      "text/plain": [
       "{'h': [0], 'e': [1], 'l': [2, 3], 'o': [4]}"
      ]
     },
     "execution_count": 40,
     "metadata": {},
     "output_type": "execute_result"
    },
    {
     "name": "stdout",
     "output_type": "stream",
     "text": [
      "All tests passed!\n"
     ]
    }
   ],
   "source": [
    "def character_position_mapping(text):\n",
    "  \"\"\"\n",
    "  Creates a dictionary where the keys are the characters, \n",
    "  and the values are lists of positions (indices) where the characters appear in the string.\n",
    "\n",
    "  Args:\n",
    "      text (str): The input string.\n",
    "\n",
    "  Returns:\n",
    "      dict: A dictionary with characters as keys and lists of positions as values.\n",
    "  \"\"\"\n",
    "  result_dict = {}\n",
    "  for i in range(len(text)):\n",
    "    if text[i] in result_dict:\n",
    "      result_dict[text[i]].append(i)\n",
    "    else:\n",
    "      result_dict[text[i]] = [i]\n",
    "  return result_dict\n",
    "\n",
    "\n",
    "character_position_mapping(\"hello\")\n",
    "# Test calls\n",
    "assert character_position_mapping(\"abracadabra\") == {\n",
    "    'a': [0, 3, 5, 7, 10],\n",
    "    'b': [1, 8], 'r': [2, 9], 'c': [4], 'd': [6]\n",
    "}\n",
    "\n",
    "assert character_position_mapping(\"hello\") == {\n",
    "    'h': [0], 'e': [1], 'l': [2, 3], 'o': [4]\n",
    "}\n",
    "\n",
    "assert character_position_mapping(\"aaa\") == {'a': [0, 1, 2]}\n",
    "assert character_position_mapping(\"\") == {}\n",
    "\n",
    "print(\"All tests passed!\")"
   ]
  },
  {
   "cell_type": "markdown",
   "metadata": {},
   "source": [
    "# Problem 12: Indexed String Transformation"
   ]
  },
  {
   "cell_type": "code",
   "execution_count": 47,
   "metadata": {},
   "outputs": [
    {
     "data": {
      "text/plain": [
       "[1]"
      ]
     },
     "execution_count": 47,
     "metadata": {},
     "output_type": "execute_result"
    }
   ],
   "source": [
    "list(map(int, ['1']))"
   ]
  },
  {
   "cell_type": "code",
   "execution_count": 50,
   "metadata": {},
   "outputs": [
    {
     "data": {
      "text/plain": [
       "['e', 'l', 'p', 'p', 'a']"
      ]
     },
     "execution_count": 50,
     "metadata": {},
     "output_type": "execute_result"
    },
    {
     "data": {
      "text/plain": [
       "'elppa'"
      ]
     },
     "execution_count": 50,
     "metadata": {},
     "output_type": "execute_result"
    }
   ],
   "source": [
    "word = 'apple'\n",
    "list(reversed(word))\n",
    "''.join(list(reversed(word)))"
   ]
  },
  {
   "cell_type": "code",
   "execution_count": 62,
   "metadata": {},
   "outputs": [
    {
     "data": {
      "text/plain": [
       "'ELPPA'"
      ]
     },
     "execution_count": 62,
     "metadata": {},
     "output_type": "execute_result"
    }
   ],
   "source": [
    "word = 'apple'\n",
    "word[::-1].upper()"
   ]
  },
  {
   "cell_type": "code",
   "execution_count": 58,
   "metadata": {},
   "outputs": [
    {
     "data": {
      "text/plain": [
       "'elppa'"
      ]
     },
     "execution_count": 58,
     "metadata": {},
     "output_type": "execute_result"
    }
   ],
   "source": [
    "word = 'apple'\n",
    "# word[start:end:step]\n",
    "word[::-1]"
   ]
  },
  {
   "cell_type": "code",
   "execution_count": 71,
   "metadata": {},
   "outputs": [
    {
     "data": {
      "text/plain": [
       "{0: 'OLLEH', 1: 'DLROW'}"
      ]
     },
     "execution_count": 71,
     "metadata": {},
     "output_type": "execute_result"
    },
    {
     "name": "stdout",
     "output_type": "stream",
     "text": [
      "All tests passed!\n"
     ]
    }
   ],
   "source": [
    "def indexed_string_transformation(words):\n",
    "  \"\"\"\n",
    "  Creates a dictionary where the keys are the indices of the list, \n",
    "  and the values are the strings reversed and in uppercase.\n",
    "\n",
    "  Args:\n",
    "      words (list of str): The list of strings.\n",
    "\n",
    "  Returns:\n",
    "      dict: A dictionary with indices as keys and transformed strings as values.\n",
    "  \"\"\"\n",
    "  result_dict = {}\n",
    "  for i in range(len(words)):\n",
    "    result_dict[i] = words[i][::-1].upper()\n",
    "  return result_dict\n",
    "\n",
    "\n",
    "indexed_string_transformation([\"hello\", \"world\"])\n",
    "# Test calls\n",
    "assert indexed_string_transformation([\"apple\", \"banana\", \"cherry\"]) == {0: 'ELPPA', 1: 'ANANAB', 2: 'YRREHC'}\n",
    "assert indexed_string_transformation([\"hello\", \"world\"]) == {0: 'OLLEH', 1: 'DLROW'}\n",
    "assert indexed_string_transformation([\"a\", \"bb\", \"ccc\"]) == {0: 'A', 1: 'BB', 2: 'CCC'}\n",
    "assert indexed_string_transformation([]) == {}\n",
    "\n",
    "print(\"All tests passed!\")"
   ]
  },
  {
   "cell_type": "markdown",
   "metadata": {},
   "source": [
    "# Problem 13: Index-Based Conditional Assignment"
   ]
  },
  {
   "cell_type": "code",
   "execution_count": 81,
   "metadata": {},
   "outputs": [
    {
     "data": {
      "text/plain": [
       "{0: 'odd', 1: 'even', 2: 'odd', 3: 'even', 4: 'odd'}"
      ]
     },
     "execution_count": 81,
     "metadata": {},
     "output_type": "execute_result"
    },
    {
     "name": "stdout",
     "output_type": "stream",
     "text": [
      "All tests passed!\n"
     ]
    }
   ],
   "source": [
    "def index_based_conditional_assignment(numbers):\n",
    "  \"\"\"\n",
    "  Creates a dictionary where the keys are the indices of the list, \n",
    "  and the values are \"even\" or \"odd\" depending on the integer at that index.\n",
    "\n",
    "  Args:\n",
    "      numbers (list of int): The list of integers.\n",
    "\n",
    "  Returns:\n",
    "      dict: A dictionary with indices as keys and \"even\"/\"odd\" as values.\n",
    "  \"\"\"\n",
    "  result_dict = {}\n",
    "  for i in range(len(numbers)):\n",
    "    if numbers[i] % 2 == 0:\n",
    "      result_dict[i] = 'even'\n",
    "    else:\n",
    "      result_dict[i] = 'odd'\n",
    "  return result_dict\n",
    "\n",
    "\n",
    "index_based_conditional_assignment([1, 2, 3, 4, 5])\n",
    "# Test calls\n",
    "assert index_based_conditional_assignment([10, 21, 32, 43, 54]) == {0: 'even', 1: 'odd', 2: 'even', 3: 'odd', 4: 'even'}\n",
    "assert index_based_conditional_assignment([1, 2, 3, 4, 5]) == {0: 'odd', 1: 'even', 2: 'odd', 3: 'even', 4: 'odd'}\n",
    "assert index_based_conditional_assignment([0, 1, 2, 3]) == {0: 'even', 1: 'odd', 2: 'even', 3: 'odd'}\n",
    "assert index_based_conditional_assignment([]) == {}\n",
    "\n",
    "print(\"All tests passed!\")"
   ]
  },
  {
   "cell_type": "markdown",
   "metadata": {},
   "source": [
    "# Problem 14: Index and Value Pairing"
   ]
  },
  {
   "cell_type": "code",
   "execution_count": 88,
   "metadata": {},
   "outputs": [
    {
     "name": "stdout",
     "output_type": "stream",
     "text": [
      "All tests passed!\n"
     ]
    }
   ],
   "source": [
    "def index_and_value_pairing(numbers):\n",
    "  \"\"\"\n",
    "  Creates a dictionary where each key is a tuple containing the index and the value, \n",
    "  and the value is the product of the index and the value.\n",
    "\n",
    "  Args:\n",
    "      numbers (list of int): The list of integers.\n",
    "\n",
    "  Returns:\n",
    "      dict: A dictionary with tuples as keys and products as values.\n",
    "  \"\"\"\n",
    "  result_dict = {}\n",
    "  for i in range(len(numbers)):\n",
    "    value = numbers[i]\n",
    "    result_dict[(i, value)] = i * value\n",
    "  return result_dict\n",
    "\n",
    "\n",
    "# Test calls\n",
    "assert index_and_value_pairing([2, 4, 6, 8]) == {(0, 2): 0, (1, 4): 4, (2, 6): 12, (3, 8): 24}\n",
    "assert index_and_value_pairing([1, 3, 5]) == {(0, 1): 0, (1, 3): 3, (2, 5): 10}\n",
    "assert index_and_value_pairing([0, 1, 2]) == {(0, 0): 0, (1, 1): 1, (2, 2): 4}\n",
    "assert index_and_value_pairing([]) == {}\n",
    "\n",
    "print(\"All tests passed!\")"
   ]
  },
  {
   "cell_type": "code",
   "execution_count": 83,
   "metadata": {},
   "outputs": [],
   "source": [
    "marks = {\n",
    "    'vidhatri': 20,\n",
    "    5: 30,\n",
    "    9.0: 30,\n",
    "    ('rahul', 'harikesh'): 90,\n",
    "}"
   ]
  }
 ],
 "metadata": {
  "kernelspec": {
   "display_name": "Python 3",
   "language": "python",
   "name": "python3"
  },
  "language_info": {
   "codemirror_mode": {
    "name": "ipython",
    "version": 3
   },
   "file_extension": ".py",
   "mimetype": "text/x-python",
   "name": "python",
   "nbconvert_exporter": "python",
   "pygments_lexer": "ipython3",
   "version": "3.12.3"
  }
 },
 "nbformat": 4,
 "nbformat_minor": 2
}
