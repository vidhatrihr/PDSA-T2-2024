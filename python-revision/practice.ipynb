{
 "cells": [
  {
   "cell_type": "code",
   "execution_count": 3,
   "metadata": {},
   "outputs": [
    {
     "data": {
      "text/plain": [
       "10"
      ]
     },
     "execution_count": 3,
     "metadata": {},
     "output_type": "execute_result"
    }
   ],
   "source": [
    "def total(a, b):\n",
    "  s = a + b\n",
    "  return s\n",
    "\n",
    "\n",
    "a = 7\n",
    "b = 3\n",
    "total(a, b)"
   ]
  },
  {
   "cell_type": "code",
   "execution_count": 4,
   "metadata": {},
   "outputs": [
    {
     "name": "stdout",
     "output_type": "stream",
     "text": [
      "0\n",
      "1\n",
      "3\n",
      "6\n",
      "10\n",
      "15\n",
      "21\n",
      "28\n",
      "36\n",
      "45\n"
     ]
    }
   ],
   "source": [
    "n = 10\n",
    "s = 0\n",
    "for i in range(n):\n",
    "  s = s + i\n",
    "  print(s)"
   ]
  },
  {
   "cell_type": "code",
   "execution_count": 5,
   "metadata": {},
   "outputs": [
    {
     "data": {
      "text/plain": [
       "100"
      ]
     },
     "execution_count": 5,
     "metadata": {},
     "output_type": "execute_result"
    }
   ],
   "source": [
    "def total(n):\n",
    "  s = 0\n",
    "  for i in range(n):\n",
    "    for j in range(n):\n",
    "      s = s+1\n",
    "  return s\n",
    "\n",
    "\n",
    "n = 10\n",
    "total(n)"
   ]
  },
  {
   "cell_type": "markdown",
   "metadata": {},
   "source": [
    "computing gcd"
   ]
  },
  {
   "cell_type": "code",
   "execution_count": 6,
   "metadata": {},
   "outputs": [
    {
     "data": {
      "text/plain": [
       "20"
      ]
     },
     "execution_count": 6,
     "metadata": {},
     "output_type": "execute_result"
    }
   ],
   "source": [
    "def gcd(m, n):\n",
    "  cf = []\n",
    "  for i in range(1, min(m, n)+1):\n",
    "    if m % i == 0 and n % i == 0:\n",
    "      cf.append(i)\n",
    "  return cf[-1]\n",
    "\n",
    "\n",
    "m = 80\n",
    "n = 100\n",
    "gcd(m, n)"
   ]
  },
  {
   "cell_type": "code",
   "execution_count": 7,
   "metadata": {},
   "outputs": [
    {
     "data": {
      "text/plain": [
       "2"
      ]
     },
     "execution_count": 7,
     "metadata": {},
     "output_type": "execute_result"
    }
   ],
   "source": [
    "def gcd(m, n):\n",
    "  for i in range(1, min(m, n)+1):\n",
    "    if m % i == 0 and n % i == 0:\n",
    "      mrcf = i\n",
    "  return (mrcf)\n",
    "\n",
    "\n",
    "m = 8\n",
    "n = 6\n",
    "gcd(m, n)"
   ]
  },
  {
   "cell_type": "code",
   "execution_count": 8,
   "metadata": {},
   "outputs": [
    {
     "data": {
      "text/plain": [
       "1"
      ]
     },
     "execution_count": 8,
     "metadata": {},
     "output_type": "execute_result"
    }
   ],
   "source": [
    "def gcd(m, n):\n",
    "  a, b = (max(m, n), min(m, n))\n",
    "  if a % b == 0:\n",
    "    return (b)\n",
    "  else:\n",
    "    return (gcd(b, a-b))\n",
    "\n",
    "\n",
    "m = 1\n",
    "n = 1000\n",
    "gcd(m, n)"
   ]
  },
  {
   "cell_type": "markdown",
   "metadata": {},
   "source": [
    "finding gcd - euclid's algo"
   ]
  },
  {
   "cell_type": "code",
   "execution_count": 9,
   "metadata": {},
   "outputs": [
    {
     "data": {
      "text/plain": [
       "1"
      ]
     },
     "execution_count": 9,
     "metadata": {},
     "output_type": "execute_result"
    }
   ],
   "source": [
    "def gcd(m, n):\n",
    "  a, b = (max(m, n), min(m, n))\n",
    "  if a % b == 0:\n",
    "    return (b)\n",
    "  else:\n",
    "    return (gcd(b, a % b))\n",
    "\n",
    "\n",
    "m = 1\n",
    "n = 10000\n",
    "gcd(m, n)"
   ]
  },
  {
   "cell_type": "markdown",
   "metadata": {},
   "source": [
    "computing prime"
   ]
  },
  {
   "cell_type": "code",
   "execution_count": 10,
   "metadata": {},
   "outputs": [
    {
     "data": {
      "text/plain": [
       "[1, 2, 4, 5, 10, 20, 25, 50, 100]"
      ]
     },
     "execution_count": 10,
     "metadata": {},
     "output_type": "execute_result"
    },
    {
     "data": {
      "text/plain": [
       "[]"
      ]
     },
     "execution_count": 10,
     "metadata": {},
     "output_type": "execute_result"
    }
   ],
   "source": [
    "def factors(n):\n",
    "  fl = []\n",
    "  for i in range(1, n+1):\n",
    "    if n % i == 0:\n",
    "      fl.append(i)\n",
    "  return fl\n",
    "\n",
    "\n",
    "def prime(n):\n",
    "  return (factors == [1, n])\n",
    "\n",
    "\n",
    "n = 100\n",
    "factors(n)\n",
    "\n",
    "\n",
    "def primesupto(m):\n",
    "  pl = []\n",
    "  for i in range(1, m+1):\n",
    "    if prime(i):\n",
    "      pl.append(i)\n",
    "  return pl\n",
    "\n",
    "\n",
    "m = 8\n",
    "primesupto(m)"
   ]
  },
  {
   "cell_type": "code",
   "execution_count": 11,
   "metadata": {},
   "outputs": [
    {
     "data": {
      "text/plain": [
       "False"
      ]
     },
     "execution_count": 11,
     "metadata": {},
     "output_type": "execute_result"
    }
   ],
   "source": [
    "def prime(n):\n",
    "  result = True\n",
    "  for i in range(2, n):\n",
    "    if n % i == 0:\n",
    "      result = False\n",
    "  return result\n",
    "\n",
    "\n",
    "n = 917\n",
    "prime(n)"
   ]
  },
  {
   "cell_type": "code",
   "execution_count": 12,
   "metadata": {},
   "outputs": [
    {
     "data": {
      "text/plain": [
       "False"
      ]
     },
     "execution_count": 12,
     "metadata": {},
     "output_type": "execute_result"
    }
   ],
   "source": [
    "def is_prime(n):\n",
    "  result = True\n",
    "  for i in range(2, n):\n",
    "    if n % i == 0:\n",
    "      result = False\n",
    "      break\n",
    "\n",
    "  return result\n",
    "\n",
    "\n",
    "is_prime(n=210)"
   ]
  },
  {
   "cell_type": "markdown",
   "metadata": {},
   "source": [
    "Computing Primes- Sufficient to check factors up to √ n"
   ]
  },
  {
   "cell_type": "code",
   "execution_count": 13,
   "metadata": {},
   "outputs": [],
   "source": [
    "# import math\n",
    "# def prime(n):\n",
    "#   (result, i) = (True, 2)\n",
    "#   while (result and (i <= math.sqrt(n))):"
   ]
  },
  {
   "cell_type": "markdown",
   "metadata": {},
   "source": [
    "# Create a class"
   ]
  },
  {
   "cell_type": "code",
   "execution_count": 14,
   "metadata": {},
   "outputs": [],
   "source": [
    "class MyClass:\n",
    "  x = 5"
   ]
  },
  {
   "cell_type": "markdown",
   "metadata": {},
   "source": [
    "# create an object"
   ]
  },
  {
   "cell_type": "code",
   "execution_count": 15,
   "metadata": {},
   "outputs": [
    {
     "name": "stdout",
     "output_type": "stream",
     "text": [
      "5\n"
     ]
    }
   ],
   "source": [
    "p1 = MyClass()\n",
    "print(p1.x)"
   ]
  },
  {
   "cell_type": "code",
   "execution_count": 16,
   "metadata": {},
   "outputs": [],
   "source": [
    "# class Person:\n",
    "#   def _init_(self, name, age):\n",
    "#     self.name = name\n",
    "#     self.age = age\n",
    "\n",
    "\n",
    "# p1 = Person('vidhatri', 20)\n",
    "\n",
    "\n",
    "# p1.name\n",
    "# p1.age"
   ]
  },
  {
   "cell_type": "code",
   "execution_count": 17,
   "metadata": {},
   "outputs": [
    {
     "ename": "NameError",
     "evalue": "name 'Person' is not defined",
     "output_type": "error",
     "traceback": [
      "\u001b[1;31m---------------------------------------------------------------------------\u001b[0m",
      "\u001b[1;31mNameError\u001b[0m                                 Traceback (most recent call last)",
      "Cell \u001b[1;32mIn[17], line 1\u001b[0m\n\u001b[1;32m----> 1\u001b[0m \u001b[38;5;28;43;01mclass\u001b[39;49;00m\u001b[43m \u001b[49m\u001b[38;5;21;43;01mPerson\u001b[39;49;00m\u001b[43m:\u001b[49m\n\u001b[0;32m      2\u001b[0m \u001b[43m  \u001b[49m\u001b[38;5;28;43;01mdef\u001b[39;49;00m\u001b[43m \u001b[49m\u001b[38;5;21;43m_int_\u001b[39;49m\u001b[43m(\u001b[49m\u001b[38;5;28;43mself\u001b[39;49m\u001b[43m,\u001b[49m\u001b[43m \u001b[49m\u001b[43mname\u001b[49m\u001b[43m,\u001b[49m\u001b[43m \u001b[49m\u001b[43mage\u001b[49m\u001b[43m)\u001b[49m\u001b[43m:\u001b[49m\n\u001b[0;32m      3\u001b[0m \u001b[43m    \u001b[49m\u001b[38;5;28;43mself\u001b[39;49m\u001b[38;5;241;43m.\u001b[39;49m\u001b[43mname\u001b[49m\u001b[43m \u001b[49m\u001b[38;5;241;43m=\u001b[39;49m\u001b[43m \u001b[49m\u001b[43mname\u001b[49m\n",
      "Cell \u001b[1;32mIn[17], line 9\u001b[0m, in \u001b[0;36mPerson\u001b[1;34m()\u001b[0m\n\u001b[0;32m      6\u001b[0m \u001b[38;5;28;01mdef\u001b[39;00m \u001b[38;5;21m_str_\u001b[39m(\u001b[38;5;28mself\u001b[39m):\n\u001b[0;32m      7\u001b[0m   \u001b[38;5;28;01mreturn\u001b[39;00m \u001b[38;5;124mf\u001b[39m\u001b[38;5;124m'\u001b[39m\u001b[38;5;132;01m{\u001b[39;00m\u001b[38;5;28mself\u001b[39m\u001b[38;5;241m.\u001b[39mname\u001b[38;5;132;01m}\u001b[39;00m\u001b[38;5;124m,(\u001b[39m\u001b[38;5;132;01m{\u001b[39;00m\u001b[38;5;28mself\u001b[39m\u001b[38;5;241m.\u001b[39mage\u001b[38;5;132;01m}\u001b[39;00m\u001b[38;5;124m)\u001b[39m\u001b[38;5;124m'\u001b[39m\n\u001b[1;32m----> 9\u001b[0m p1 \u001b[38;5;241m=\u001b[39m \u001b[43mPerson\u001b[49m(\u001b[38;5;124m'\u001b[39m\u001b[38;5;124mvidhatri\u001b[39m\u001b[38;5;124m'\u001b[39m, \u001b[38;5;241m20\u001b[39m)\n\u001b[0;32m     10\u001b[0m \u001b[38;5;28mprint\u001b[39m(p1)\n",
      "\u001b[1;31mNameError\u001b[0m: name 'Person' is not defined"
     ]
    }
   ],
   "source": [
    "# class Person:\n",
    "#   def _int_(self, name, age):\n",
    "#     self.name = name\n",
    "#     self.age = age\n",
    "\n",
    "#   def _str_(self):\n",
    "#     return f'{self.name},({self.age})'\n",
    "\n",
    "#   p1 = Person('vidhatri', 20)\n",
    "#   print(p1)"
   ]
  },
  {
   "cell_type": "code",
   "execution_count": null,
   "metadata": {},
   "outputs": [
    {
     "ename": "TypeError",
     "evalue": "Person() takes no arguments",
     "output_type": "error",
     "traceback": [
      "\u001b[1;31m---------------------------------------------------------------------------\u001b[0m",
      "\u001b[1;31mTypeError\u001b[0m                                 Traceback (most recent call last)",
      "Cell \u001b[1;32mIn[8], line 1\u001b[0m\n\u001b[1;32m----> 1\u001b[0m \u001b[38;5;28;43;01mclass\u001b[39;49;00m\u001b[43m \u001b[49m\u001b[38;5;21;43;01mPerson\u001b[39;49;00m\u001b[43m:\u001b[49m\n\u001b[0;32m      2\u001b[0m \u001b[43m  \u001b[49m\u001b[38;5;28;43;01mdef\u001b[39;49;00m\u001b[43m \u001b[49m\u001b[38;5;21;43m_int_\u001b[39;49m\u001b[43m(\u001b[49m\u001b[38;5;28;43mself\u001b[39;49m\u001b[43m,\u001b[49m\u001b[43m \u001b[49m\u001b[43mname\u001b[49m\u001b[43m,\u001b[49m\u001b[43m \u001b[49m\u001b[43mage\u001b[49m\u001b[43m)\u001b[49m\u001b[43m:\u001b[49m\n\u001b[0;32m      3\u001b[0m \u001b[43m    \u001b[49m\u001b[38;5;28;43mself\u001b[39;49m\u001b[38;5;241;43m.\u001b[39;49m\u001b[43mname\u001b[49m\u001b[43m \u001b[49m\u001b[38;5;241;43m=\u001b[39;49m\u001b[43m \u001b[49m\u001b[43mname\u001b[49m\n",
      "Cell \u001b[1;32mIn[8], line 9\u001b[0m, in \u001b[0;36mPerson\u001b[1;34m()\u001b[0m\n\u001b[0;32m      6\u001b[0m \u001b[38;5;28;01mdef\u001b[39;00m \u001b[38;5;21mmyfunc\u001b[39m(\u001b[38;5;28mself\u001b[39m):\n\u001b[0;32m      7\u001b[0m   \u001b[38;5;28mprint\u001b[39m(\u001b[38;5;124m'\u001b[39m\u001b[38;5;124mHello my name is + self.name\u001b[39m\u001b[38;5;124m'\u001b[39m)\n\u001b[1;32m----> 9\u001b[0m p1 \u001b[38;5;241m=\u001b[39m \u001b[43mPerson\u001b[49m\u001b[43m(\u001b[49m\u001b[38;5;124;43m'\u001b[39;49m\u001b[38;5;124;43mvidhatri\u001b[39;49m\u001b[38;5;124;43m'\u001b[39;49m\u001b[43m,\u001b[49m\u001b[43m \u001b[49m\u001b[38;5;241;43m20\u001b[39;49m\u001b[43m)\u001b[49m\n\u001b[0;32m     10\u001b[0m p1\u001b[38;5;241m.\u001b[39mmyfunc()\n",
      "\u001b[1;31mTypeError\u001b[0m: Person() takes no arguments"
     ]
    }
   ],
   "source": [
    "class Person:\n",
    "  def _int_(self, name, age):\n",
    "    self.name = name\n",
    "    self.age = age\n",
    "\n",
    "  def myfunc(self):\n",
    "    print('Hello my name is + self.name')\n",
    "\n",
    "  p1 = Person('vidhatri', 20)\n",
    "  p1.myfunc()"
   ]
  },
  {
   "cell_type": "markdown",
   "metadata": {},
   "source": [
    "## delete obj\n"
   ]
  },
  {
   "cell_type": "code",
   "execution_count": null,
   "metadata": {},
   "outputs": [
    {
     "ename": "AttributeError",
     "evalue": "'MyClass' object has no attribute 'age'",
     "output_type": "error",
     "traceback": [
      "\u001b[1;31m---------------------------------------------------------------------------\u001b[0m",
      "\u001b[1;31mAttributeError\u001b[0m                            Traceback (most recent call last)",
      "Cell \u001b[1;32mIn[9], line 1\u001b[0m\n\u001b[1;32m----> 1\u001b[0m \u001b[38;5;28;01mdel\u001b[39;00m \u001b[43mp1\u001b[49m\u001b[38;5;241;43m.\u001b[39;49m\u001b[43mage\u001b[49m\n\u001b[0;32m      2\u001b[0m \u001b[38;5;28;01mdel\u001b[39;00m p1\n",
      "\u001b[1;31mAttributeError\u001b[0m: 'MyClass' object has no attribute 'age'"
     ]
    }
   ],
   "source": [
    "del p1.age\n",
    "del p1"
   ]
  },
  {
   "cell_type": "code",
   "execution_count": null,
   "metadata": {},
   "outputs": [
    {
     "data": {
      "text/plain": [
       "100"
      ]
     },
     "execution_count": 3,
     "metadata": {},
     "output_type": "execute_result"
    }
   ],
   "source": [
    "s = 0\n",
    "n = 10\n",
    "for i in range(n):\n",
    "  for j in range(n):\n",
    "    s = s + 1\n",
    "\n",
    "s"
   ]
  },
  {
   "cell_type": "markdown",
   "metadata": {},
   "source": [
    "#### calculate complexity."
   ]
  },
  {
   "cell_type": "code",
   "execution_count": null,
   "metadata": {},
   "outputs": [],
   "source": [
    "s = 0\n",
    "n = 10\n",
    "for i in range(n):\n",
    "  s = s + 1\n",
    "\n",
    "\n",
    "s = 0\n",
    "for i in range(n):\n",
    "  for j in range(n):\n",
    "    for k in range(n):\n",
    "      s = s + 1"
   ]
  },
  {
   "cell_type": "markdown",
   "metadata": {},
   "source": [
    "complexity for recursive solution"
   ]
  },
  {
   "cell_type": "code",
   "execution_count": null,
   "metadata": {},
   "outputs": [],
   "source": [
    "def merge(A, B):\n",
    "  pass\n",
    "\n",
    "\n",
    "def mergesort(A):\n",
    "  n = len(A)\n",
    "  if n <= 1:\n",
    "    return A\n",
    "  L = mergesort(A[:n//2])\n",
    "  R = mergesort(A[n//2:])\n",
    "  B = merge(L, R)\n",
    "  return B"
   ]
  },
  {
   "cell_type": "code",
   "execution_count": null,
   "metadata": {},
   "outputs": [],
   "source": [
    "def naivesearch(L, v):\n",
    "  for i in range(len(L)):\n",
    "    if v == L[i]:\n",
    "      return i\n",
    "    return False"
   ]
  },
  {
   "cell_type": "markdown",
   "metadata": {},
   "source": [
    "iterative Implementation\n"
   ]
  },
  {
   "cell_type": "code",
   "execution_count": null,
   "metadata": {},
   "outputs": [],
   "source": [
    "def binarysearch(L, v):\n",
    "  low = 0\n",
    "  high = len(L)-1\n",
    "  while low < high:\n",
    "    mid = (low + high) // 2\n",
    "    if L[mid] < v:\n",
    "      low = mid + 1\n",
    "    elif L[mid] > v:\n",
    "      high = mid - 1\n",
    "    else:\n",
    "      return v\n",
    "    return False"
   ]
  },
  {
   "cell_type": "markdown",
   "metadata": {},
   "source": [
    "recursive implementation without slicing"
   ]
  },
  {
   "cell_type": "code",
   "execution_count": null,
   "metadata": {},
   "outputs": [
    {
     "data": {
      "text/plain": [
       "4"
      ]
     },
     "execution_count": 38,
     "metadata": {},
     "output_type": "execute_result"
    }
   ],
   "source": [
    "def binarysearch(L, v, low, high):  # v = target element, low = first index, high = last index\n",
    "  if high - low < 0:\n",
    "    return False\n",
    "  mid = (high + low) // 2\n",
    "  if v == L[mid]:\n",
    "    return mid\n",
    "  elif v > L[mid]:\n",
    "    return binarysearch(L, v, mid+1, high)\n",
    "  return binarysearch(L, v, low, high-1)\n",
    "\n",
    "\n",
    "L = [1, 3, 4, 5, 6, 8]\n",
    "low = 0\n",
    "high = 5\n",
    "v = 6\n",
    "binarysearch(L, v, low, high)"
   ]
  },
  {
   "cell_type": "markdown",
   "metadata": {},
   "source": [
    "lecture implementation"
   ]
  },
  {
   "cell_type": "code",
   "execution_count": null,
   "metadata": {},
   "outputs": [],
   "source": [
    "def binarysearch(L, v):\n",
    "  if L == []:\n",
    "    mid = len(L) // 2\n",
    "    if v == L[mid]:\n",
    "      return v\n",
    "    if v < L[mid]:\n",
    "      return (binarysearch(L[:mid], v))\n",
    "    return (binarysearch(L[mid+1:], v))"
   ]
  },
  {
   "cell_type": "markdown",
   "metadata": {},
   "source": [
    "# sorting algorithm\n",
    "## selection sort"
   ]
  },
  {
   "cell_type": "code",
   "execution_count": null,
   "metadata": {},
   "outputs": [
    {
     "data": {
      "text/plain": [
       "[13, 14, 23, 23, 25, 43]"
      ]
     },
     "execution_count": 9,
     "metadata": {},
     "output_type": "execute_result"
    }
   ],
   "source": [
    "def selection_sort(L):\n",
    "  n = len(L)\n",
    "  if n < 1:\n",
    "    return L\n",
    "  for i in range(n):\n",
    "    min_pos = i\n",
    "    for j in range(i+1, n):\n",
    "      if L[j] < L[min_pos]:\n",
    "        min_pos = j\n",
    "    (L[min_pos], L[i]) = (L[i], L[min_pos])\n",
    "  return L\n",
    "\n",
    "\n",
    "selection_sort([14, 23, 43, 13, 25, 23])"
   ]
  },
  {
   "cell_type": "markdown",
   "metadata": {},
   "source": [
    "revise"
   ]
  },
  {
   "cell_type": "code",
   "execution_count": null,
   "metadata": {},
   "outputs": [
    {
     "data": {
      "text/plain": [
       "[12, 11, 21, 25, 32, 34, 42, 53, 62]"
      ]
     },
     "execution_count": 10,
     "metadata": {},
     "output_type": "execute_result"
    }
   ],
   "source": [
    "def selection_sort(L):\n",
    "  n = len(L)\n",
    "  if n < 1:\n",
    "    return L\n",
    "  for i in range(n):\n",
    "    min_pos = i\n",
    "    for j in range(i+1, n):\n",
    "      if L[j] < L[min_pos]:\n",
    "        min_pos = j\n",
    "      (L[min_pos], L[i]) = (L[i], L[min_pos])\n",
    "  return L\n",
    "\n",
    "\n",
    "selection_sort([12, 11, 32, 42, 53, 62, 25, 34, 21])"
   ]
  },
  {
   "cell_type": "markdown",
   "metadata": {},
   "source": [
    "## insertion sort\n"
   ]
  },
  {
   "cell_type": "code",
   "execution_count": null,
   "metadata": {},
   "outputs": [
    {
     "data": {
      "text/plain": [
       "[26, 8, 3, 1]"
      ]
     },
     "execution_count": 41,
     "metadata": {},
     "output_type": "execute_result"
    }
   ],
   "source": [
    "def insertion_sort(L):\n",
    "  n = len(L)\n",
    "  if n < 1:\n",
    "    return L\n",
    "  for i in range(n):\n",
    "    j = i\n",
    "    while j > 0 and L[j] > L[j-1]:\n",
    "      L[j], L[j-1] = L[j-1], L[j]\n",
    "      j = j - 1\n",
    "  return L\n",
    "\n",
    "\n",
    "insertion_sort([1, 26, 8, 3])"
   ]
  },
  {
   "cell_type": "code",
   "execution_count": null,
   "metadata": {},
   "outputs": [
    {
     "data": {
      "text/plain": [
       "[53, 32, 23, 12, 1]"
      ]
     },
     "execution_count": 11,
     "metadata": {},
     "output_type": "execute_result"
    }
   ],
   "source": [
    "def insertion_sort(L):\n",
    "  n = len(L)\n",
    "  if n < 1:\n",
    "    return L\n",
    "  for i in range(n):\n",
    "    j = i\n",
    "    while j > 0 and L[j] > L[j-1]:\n",
    "      L[j], L[j-1] = L[j-1], L[j]\n",
    "      j = j-1\n",
    "  return L\n",
    "\n",
    "\n",
    "insertion_sort([1, 12, 23, 53, 32])"
   ]
  },
  {
   "cell_type": "markdown",
   "metadata": {},
   "source": [
    "## merge sort"
   ]
  },
  {
   "cell_type": "code",
   "execution_count": null,
   "metadata": {},
   "outputs": [],
   "source": [
    "def merge(A, B):\n",
    "  m, n = len(A), len(B)\n",
    "  c, i, j = [], 0, 0\n",
    "# when both the lists have elements to compare\n",
    "\n",
    "  while i < m and j < n:\n",
    "    if A[i] <= B[j]:\n",
    "      c.append(A[i])\n",
    "      i += 1\n",
    "\n",
    "    c.append(B[j])\n",
    "    j += 1\n",
    "\n",
    "  # if list B is over shift all elements to c\n",
    "\n",
    "  while i < m:\n",
    "    c.append(A[i])\n",
    "    i += 1\n",
    "\n",
    "  # if list A is over shift all elements to c\n",
    "\n",
    "  while j < n:\n",
    "    c.append(B[j])\n",
    "    j += 1"
   ]
  },
  {
   "cell_type": "code",
   "execution_count": null,
   "metadata": {},
   "outputs": [
    {
     "data": {
      "text/plain": [
       "-1"
      ]
     },
     "execution_count": 43,
     "metadata": {},
     "output_type": "execute_result"
    }
   ],
   "source": [
    "def linear_search(L, v):\n",
    "  for i in range(len(L)):\n",
    "    if L[i] == v:\n",
    "      return i\n",
    "  return -1\n",
    "\n",
    "\n",
    "linear_search([2, 4, 7, 91, 4, 2], 70)"
   ]
  },
  {
   "cell_type": "code",
   "execution_count": null,
   "metadata": {},
   "outputs": [
    {
     "data": {
      "text/plain": [
       "2"
      ]
     },
     "execution_count": 18,
     "metadata": {},
     "output_type": "execute_result"
    }
   ],
   "source": [
    "def linear_search(L, v):\n",
    "  for i in range(len(L)):\n",
    "    if L[i] == v:\n",
    "      return i\n",
    "  return -1\n",
    "\n",
    "\n",
    "linear_search([3, 4, 2, 5, 7, 1], 2)"
   ]
  },
  {
   "cell_type": "code",
   "execution_count": null,
   "metadata": {},
   "outputs": [
    {
     "data": {
      "text/plain": [
       "-1"
      ]
     },
     "execution_count": 44,
     "metadata": {},
     "output_type": "execute_result"
    }
   ],
   "source": [
    "def binary_search(L, v):\n",
    "  low = 0\n",
    "  high = len(L)-1\n",
    "  while low <= high:\n",
    "    mid = (low+high) // 2\n",
    "    if L[mid] == v:\n",
    "      return mid\n",
    "    if L[mid] < v:\n",
    "      low = mid+1\n",
    "    else:\n",
    "      high = mid - 1\n",
    "\n",
    "  return -1\n",
    "\n",
    "\n",
    "binary_search([10, 26, 36, 48, 70], 49)"
   ]
  },
  {
   "cell_type": "code",
   "execution_count": null,
   "metadata": {},
   "outputs": [
    {
     "data": {
      "text/plain": [
       "3"
      ]
     },
     "execution_count": 1,
     "metadata": {},
     "output_type": "execute_result"
    }
   ],
   "source": [
    "def binary_search(L, v):\n",
    "  low = 0\n",
    "  high = len(L)-1\n",
    "  while low <= high:\n",
    "    mid = (low+high) // 2\n",
    "    if L[mid] == v:\n",
    "      return mid\n",
    "    if L[mid] < v:\n",
    "      low = mid+1\n",
    "    else:\n",
    "      high = mid - 1\n",
    "  return -1\n",
    "\n",
    "\n",
    "binary_search([10, 12, 13, 34, 56, 32], 34)"
   ]
  },
  {
   "cell_type": "markdown",
   "metadata": {},
   "source": [
    "# bubble sort"
   ]
  },
  {
   "cell_type": "code",
   "execution_count": null,
   "metadata": {},
   "outputs": [
    {
     "data": {
      "text/plain": [
       "[2, 1, 3]"
      ]
     },
     "execution_count": 1,
     "metadata": {},
     "output_type": "execute_result"
    }
   ],
   "source": [
    "def swap(L, a, b):\n",
    "  L[a], L[b] = L[b], L[a]\n",
    "\n",
    "\n",
    "L = [1, 2, 3]\n",
    "swap(L, 0, 1)\n",
    "L"
   ]
  },
  {
   "cell_type": "code",
   "execution_count": null,
   "metadata": {},
   "outputs": [],
   "source": [
    "def swap(L, a, b):\n",
    "  L[a], L[b] = L[b], L[a]\n",
    "\n",
    "  L = [1, 2, 3]\n",
    "  swap(L, 0, 1)\n",
    "  L"
   ]
  },
  {
   "cell_type": "code",
   "execution_count": null,
   "metadata": {},
   "outputs": [],
   "source": [
    "def swap(L, a, b):\n",
    "  L[a]"
   ]
  },
  {
   "cell_type": "code",
   "execution_count": null,
   "metadata": {},
   "outputs": [
    {
     "data": {
      "text/plain": [
       "[1, 2, 3, 4, 5, 8, 9]"
      ]
     },
     "execution_count": 2,
     "metadata": {},
     "output_type": "execute_result"
    }
   ],
   "source": [
    "def bubble_sort(L):\n",
    "  n = len(L)\n",
    "  for i in range(n-1):\n",
    "    # print(f'{i=}')\n",
    "    for j in range(n-1-i):  # last i values are already sorted 🚀🚀\n",
    "      # print(f'{j=}, {j+1}')\n",
    "      if L[j] > L[j+1]:\n",
    "        swap(L, j, j+1)\n",
    "  return L\n",
    "\n",
    "\n",
    "bubble_sort([2, 8, 5, 3, 9, 4, 1])"
   ]
  },
  {
   "cell_type": "code",
   "execution_count": null,
   "metadata": {},
   "outputs": [
    {
     "data": {
      "text/plain": [
       "[1, 2, 3, 4, 5, 8, 9]"
      ]
     },
     "execution_count": 3,
     "metadata": {},
     "output_type": "execute_result"
    }
   ],
   "source": [
    "def bubble_sort(L):\n",
    "  n = len(L)\n",
    "  swapped = True\n",
    "  for i in range(n-1):  # ith pass loop (break if no swapping comparison needed)🚀🚀\n",
    "    # print(f'{i=}')\n",
    "    if not swapped:\n",
    "      break\n",
    "    swapped = False\n",
    "    for j in range(n-1-i):  # last i values are already sorted 🚀🚀\n",
    "      # print(f'{j=}, {j+1}')\n",
    "      if L[j] > L[j+1]:\n",
    "        swap(L, j, j+1)\n",
    "        swapped = True\n",
    "  return L\n",
    "\n",
    "\n",
    "bubble_sort([1, 2, 3, 4, 5, 9, 8])\n",
    "# bubble_sort([2, 8, 5, 3, 9, 4, 1])"
   ]
  },
  {
   "cell_type": "markdown",
   "metadata": {},
   "source": [
    "# selection sort"
   ]
  },
  {
   "cell_type": "code",
   "execution_count": null,
   "metadata": {},
   "outputs": [
    {
     "data": {
      "text/plain": [
       "[1, 2, 3, 4, 5, 8, 9]"
      ]
     },
     "execution_count": 4,
     "metadata": {},
     "output_type": "execute_result"
    }
   ],
   "source": [
    "def selection_sort(L):\n",
    "  n = len(L)\n",
    "  for i in range(n):  # ith pass\n",
    "    min_idx = i\n",
    "    for j in range(min_idx, n):  # calculate proper min_idx\n",
    "      # print(f'{i=}, {j=}')\n",
    "      if L[j] < L[min_idx]:\n",
    "        min_idx = j\n",
    "    if i != min_idx:\n",
    "      swap(L, i, min_idx)\n",
    "  return L\n",
    "\n",
    "\n",
    "selection_sort([2, 8, 5, 3, 9, 4, 1])"
   ]
  },
  {
   "cell_type": "markdown",
   "metadata": {},
   "source": [
    "# insertion sort"
   ]
  },
  {
   "cell_type": "code",
   "execution_count": null,
   "metadata": {},
   "outputs": [
    {
     "data": {
      "text/plain": [
       "[2, 3, 4, 5, 8, 9]"
      ]
     },
     "execution_count": 3,
     "metadata": {},
     "output_type": "execute_result"
    }
   ],
   "source": [
    "def swap(L, a, b):\n",
    "  L[a], L[b] = L[b], L[a]\n",
    "\n",
    "\n",
    "def insertion_sort(L):\n",
    "  n = len(L)\n",
    "  for i in range(1, n):  # ith pass loop\n",
    "    j = i\n",
    "    while j > 0 and L[j] < L[j-1]:\n",
    "      swap(L, j, j-1)\n",
    "      # print(f'{i=}, {j=}, {j-1}')\n",
    "      j -= 1\n",
    "  return L\n",
    "\n",
    "\n",
    "insertion_sort([2, 8, 5, 3, 9, 4])"
   ]
  },
  {
   "cell_type": "markdown",
   "metadata": {},
   "source": [
    "# merge sort\n"
   ]
  },
  {
   "cell_type": "code",
   "execution_count": null,
   "metadata": {},
   "outputs": [
    {
     "data": {
      "text/plain": [
       "[1, 2, 7, 8, 29, 30, 31, 99]"
      ]
     },
     "execution_count": 13,
     "metadata": {},
     "output_type": "execute_result"
    },
    {
     "data": {
      "text/plain": [
       "[5, 7]"
      ]
     },
     "execution_count": 13,
     "metadata": {},
     "output_type": "execute_result"
    }
   ],
   "source": [
    "def merge(left, right):\n",
    "  m, n = len(left), len(right)\n",
    "  merged = []\n",
    "  i, j = 0, 0\n",
    "\n",
    "  # step 1: add elems from left and right together\n",
    "  while i < m and j < n:\n",
    "    if left[i] < right[j]:\n",
    "      merged.append(left[i])\n",
    "      i += 1\n",
    "    else:\n",
    "      merged.append(right[j])\n",
    "      j += 1\n",
    "\n",
    "  # step 2: add remaining elems from left\n",
    "  while i < m:\n",
    "    merged.append(left[i])\n",
    "    i += 1\n",
    "\n",
    "  # step 3: add remaining elems from right\n",
    "  while j < n:\n",
    "    merged.append(right[j])\n",
    "    j += 1\n",
    "  return merged\n",
    "\n",
    "\n",
    "merge([1, 2, 99], [7, 8, 29, 30, 31])\n",
    "merge([7], [5])"
   ]
  },
  {
   "cell_type": "code",
   "execution_count": null,
   "metadata": {},
   "outputs": [
    {
     "data": {
      "text/plain": [
       "[1, 2, 3, 4, 5, 7, 8, 9]"
      ]
     },
     "execution_count": 15,
     "metadata": {},
     "output_type": "execute_result"
    }
   ],
   "source": [
    "def merge_sort(L):\n",
    "  n = len(L)\n",
    "  if n <= 1:\n",
    "    return L\n",
    "\n",
    "  left = L[:n//2]\n",
    "  right = L[n//2:]\n",
    "  # print(left, right)\n",
    "\n",
    "  left = merge_sort(left)\n",
    "  right = merge_sort(right)\n",
    "  return merge(left, right)\n",
    "\n",
    "\n",
    "merge_sort([2, 8, 5, 3, 9, 4, 1, 7])"
   ]
  },
  {
   "cell_type": "markdown",
   "metadata": {},
   "source": [
    "# PPA 1\n"
   ]
  },
  {
   "cell_type": "code",
   "execution_count": null,
   "metadata": {},
   "outputs": [
    {
     "data": {
      "text/plain": [
       "(True, 3)"
      ]
     },
     "execution_count": 4,
     "metadata": {},
     "output_type": "execute_result"
    },
    {
     "data": {
      "text/plain": [
       "(False, 4)"
      ]
     },
     "execution_count": 4,
     "metadata": {},
     "output_type": "execute_result"
    }
   ],
   "source": [
    "def binarySearchIndexAndComparisons(L, k):\n",
    "  low = 0\n",
    "  high = len(L)-1\n",
    "  comparisons = 0\n",
    "\n",
    "  while low <= high:\n",
    "    comparisons += 1\n",
    "    mid = (low + high) // 2\n",
    "    if L[mid] == k:\n",
    "      return (True, comparisons)\n",
    "    if L[mid] < k:\n",
    "      low = mid + 1\n",
    "    else:\n",
    "      high = mid - 1\n",
    "  return (False, comparisons)\n",
    "\n",
    "\n",
    "binarySearchIndexAndComparisons([2, 6, 8, 11, 17, 23, 33, 44, 46, 50, 65], 11)\n",
    "binarySearchIndexAndComparisons([2, 6, 8, 11, 17, 23, 33, 44, 46, 50, 65], 100)"
   ]
  },
  {
   "cell_type": "markdown",
   "metadata": {},
   "source": [
    "# ppa 2\n"
   ]
  },
  {
   "cell_type": "code",
   "execution_count": null,
   "metadata": {},
   "outputs": [
    {
     "data": {
      "text/plain": [
       "[0, 0, 0, 1, 1, 2, 2, 3, 3, 3]"
      ]
     },
     "execution_count": 1,
     "metadata": {},
     "output_type": "execute_result"
    }
   ],
   "source": [
    "def sortInRange(L, r):\n",
    "  count = [0]*r\n",
    "  for x in L:\n",
    "    count[x] += 1\n",
    "\n",
    "  L.clear()\n",
    "  for i in range(r):\n",
    "    L.extend([i] * count[i])\n",
    "\n",
    "\n",
    "L = [0, 2, 1, 1, 0, 2, 3, 3, 0, 3]\n",
    "sortInRange(L, 4)\n",
    "L"
   ]
  },
  {
   "cell_type": "markdown",
   "metadata": {},
   "source": [
    "# GRPA 1"
   ]
  },
  {
   "cell_type": "code",
   "execution_count": null,
   "metadata": {},
   "outputs": [
    {
     "data": {
      "text/plain": [
       "(['b87', 'c65', 'd34', 'd12', 'd77', 'g54', 'g1', 'g40', 'g5'],\n",
       " ['b87', 'c65', 'd77', 'd34', 'd12', 'g54', 'g40', 'g5', 'g1'])"
      ]
     },
     "execution_count": 1,
     "metadata": {},
     "output_type": "execute_result"
    }
   ],
   "source": [
    "def combinationSort(L):\n",
    "  L1 = sorted(L, key=lambda my_string: my_string[0])\n",
    "\n",
    "  L2 = sorted(L, key=lambda my_string: int(my_string[1:]), reverse=True)\n",
    "  # ['b87', 'd77', 'c65', 'g54', 'g40', 'd34', 'd12', 'g5', 'g1']\n",
    "\n",
    "  L2 = sorted(L2, key=lambda my_string: my_string[0])\n",
    "\n",
    "  return (L1, L2)\n",
    "\n",
    "\n",
    "combinationSort(['d34', 'g54', 'd12', 'b87', 'g1', 'c65', 'g40', 'g5', 'd77'])"
   ]
  },
  {
   "cell_type": "code",
   "execution_count": null,
   "metadata": {},
   "outputs": [
    {
     "data": {
      "text/plain": [
       "(['b87', 'c65', 'd34', 'd12', 'd77', 'g54', 'g1', 'g40', 'g5'],\n",
       " ['b87', 'c65', 'd77', 'd34', 'd12', 'g54', 'g40', 'g5', 'g1'])"
      ]
     },
     "execution_count": 2,
     "metadata": {},
     "output_type": "execute_result"
    }
   ],
   "source": [
    "def combinationSort(L):\n",
    "  L1 = sorted(L, key=lambda my_string: my_string[0])\n",
    "\n",
    "  L2 = sorted(L, key=lambda my_string: int(my_string[1:]), reverse=True)\n",
    "\n",
    "  L2 = sorted(L2, key=lambda my_string: my_string[0])\n",
    "\n",
    "  return (L1, L2)\n",
    "\n",
    "\n",
    "combinationSort(['d34', 'g54', 'd12', 'b87', 'g1', 'c65', 'g40', 'g5', 'd77'])"
   ]
  },
  {
   "cell_type": "markdown",
   "metadata": {},
   "source": [
    "# GRPA 2"
   ]
  },
  {
   "cell_type": "code",
   "execution_count": null,
   "metadata": {},
   "outputs": [
    {
     "data": {
      "text/plain": [
       "9"
      ]
     },
     "execution_count": 11,
     "metadata": {},
     "output_type": "execute_result"
    }
   ],
   "source": [
    "def find_largest(L):\n",
    "  max_x = L[0]\n",
    "  for x in L:\n",
    "    if x > max_x:\n",
    "      max_x = x\n",
    "  return max_x\n",
    "\n",
    "\n",
    "L = [3, 4, 6, 9]\n",
    "find_largest(L)"
   ]
  },
  {
   "cell_type": "markdown",
   "metadata": {},
   "source": [
    "# Practice or revision work"
   ]
  },
  {
   "cell_type": "markdown",
   "metadata": {},
   "source": [
    "## Binary search"
   ]
  },
  {
   "cell_type": "code",
   "execution_count": null,
   "metadata": {},
   "outputs": [
    {
     "data": {
      "text/plain": [
       "1"
      ]
     },
     "execution_count": 6,
     "metadata": {},
     "output_type": "execute_result"
    }
   ],
   "source": [
    "def binary_search(L, t):\n",
    "  low = 0\n",
    "  high = len(L)-1\n",
    "  while low <= high:\n",
    "    mid = low + high // 2\n",
    "    if t == L[mid]:\n",
    "      return mid\n",
    "    elif t < L[mid]:\n",
    "      return high - 1\n",
    "    return low + 1\n",
    "  return False\n",
    "\n",
    "\n",
    "binary_search([21, 31, 41, 54, 63, 72, 83], 72)"
   ]
  },
  {
   "cell_type": "markdown",
   "metadata": {},
   "source": [
    "# sorting Algorithms\n",
    "## Selection Sort"
   ]
  },
  {
   "cell_type": "code",
   "execution_count": null,
   "metadata": {},
   "outputs": [],
   "source": [
    "def swap(L, a, b):\n",
    "  L[a], L[b] = L[b], L[a]"
   ]
  },
  {
   "cell_type": "code",
   "execution_count": null,
   "metadata": {},
   "outputs": [
    {
     "data": {
      "text/plain": [
       "[2, 2, 3, 3, 6, 12, 54, 76]"
      ]
     },
     "execution_count": 3,
     "metadata": {},
     "output_type": "execute_result"
    }
   ],
   "source": [
    "def selection_sort(L):\n",
    "  n = len(L)\n",
    "\n",
    "  for i in range(n):\n",
    "    key_idx = i\n",
    "    for j in range(key_idx+1, n):\n",
    "      if L[j] < L[key_idx]:\n",
    "        key_idx = j\n",
    "        swap(L, key_idx, i)\n",
    "  return L\n",
    "\n",
    "\n",
    "selection_sort([2, 3, 6, 12, 3, 2, 54, 76])"
   ]
  },
  {
   "cell_type": "markdown",
   "metadata": {},
   "source": [
    "## week 1 revision for Quiz 1"
   ]
  },
  {
   "cell_type": "code",
   "execution_count": null,
   "metadata": {},
   "outputs": [
    {
     "name": "stdout",
     "output_type": "stream",
     "text": [
      "4\n"
     ]
    }
   ],
   "source": [
    "# computing gcd\n",
    "\n",
    "def gcd(m, n):\n",
    "  common_factors = []\n",
    "  for i in range(1, min(m, n)+1):\n",
    "    # print(f'{i=}')\n",
    "    if m % i == 0 and n % i == 0:\n",
    "      common_factors.append(i)\n",
    "    # print(i)\n",
    "  return common_factors[-1]\n",
    "\n",
    "\n",
    "print(gcd(20, 12))"
   ]
  },
  {
   "cell_type": "code",
   "execution_count": null,
   "metadata": {},
   "outputs": [
    {
     "data": {
      "text/plain": [
       "7"
      ]
     },
     "execution_count": 19,
     "metadata": {},
     "output_type": "execute_result"
    }
   ],
   "source": [
    "def gcd(m, n):\n",
    "  common_factors = []\n",
    "  for i in range(1, min(m, n)+1):\n",
    "    if m % i == 0 and n % i == 0:\n",
    "      common_factors.append(i)\n",
    "  return common_factors[-1]\n",
    "\n",
    "\n",
    "gcd(7, 70)"
   ]
  },
  {
   "cell_type": "code",
   "execution_count": null,
   "metadata": {},
   "outputs": [
    {
     "data": {
      "text/plain": [
       "1"
      ]
     },
     "execution_count": 23,
     "metadata": {},
     "output_type": "execute_result"
    }
   ],
   "source": [
    "def gcd(m, n):\n",
    "  for i in range(1, min(m, n)+1):\n",
    "    if m % i == 0 and n % i == 0:\n",
    "      largest_common_factor = i\n",
    "  return largest_common_factor\n",
    "\n",
    "\n",
    "gcd(18, 25)"
   ]
  },
  {
   "cell_type": "code",
   "execution_count": null,
   "metadata": {},
   "outputs": [
    {
     "data": {
      "text/plain": [
       "50"
      ]
     },
     "execution_count": 24,
     "metadata": {},
     "output_type": "execute_result"
    }
   ],
   "source": [
    "def gcd(m, n):\n",
    "  a, b = max(m, n), min(m, n)\n",
    "  if a % b == 0:\n",
    "    return b\n",
    "  return gcd(b, a-b)\n",
    "\n",
    "\n",
    "gcd(50, 250)"
   ]
  },
  {
   "cell_type": "code",
   "execution_count": null,
   "metadata": {},
   "outputs": [
    {
     "data": {
      "text/plain": [
       "10"
      ]
     },
     "execution_count": 26,
     "metadata": {},
     "output_type": "execute_result"
    }
   ],
   "source": [
    "# euclid's algorithm\n",
    "def gcd(m, n):\n",
    "  a, b = max(m, n), min(m, n)\n",
    "  if a % b == 0:\n",
    "    return b\n",
    "  return gcd(b, a % b)\n",
    "\n",
    "\n",
    "gcd(40, 450)"
   ]
  },
  {
   "cell_type": "code",
   "execution_count": null,
   "metadata": {},
   "outputs": [],
   "source": [
    "# # Exception handling\n",
    "# x = 5\n",
    "# y = 0\n",
    "# x/y"
   ]
  },
  {
   "cell_type": "code",
   "execution_count": null,
   "metadata": {},
   "outputs": [],
   "source": [
    "# num = int('hello')"
   ]
  },
  {
   "cell_type": "code",
   "execution_count": null,
   "metadata": {},
   "outputs": [
    {
     "name": "stdout",
     "output_type": "stream",
     "text": [
      "Invalid integer value\n",
      "25\n"
     ]
    }
   ],
   "source": [
    "try:\n",
    "  num = int('hello')\n",
    "except (ValueError):\n",
    "  num = 25\n",
    "  print('Invalid integer value')\n",
    "print(num)"
   ]
  },
  {
   "cell_type": "code",
   "execution_count": null,
   "metadata": {},
   "outputs": [
    {
     "name": "stdout",
     "output_type": "stream",
     "text": [
      "all good\n",
      "16\n"
     ]
    }
   ],
   "source": [
    "try:\n",
    "  num = int('16')\n",
    "except (ValueError):\n",
    "  num = 25\n",
    "  print('invalid integer value')\n",
    "else:\n",
    "  print('all good')\n",
    "print(num)"
   ]
  },
  {
   "cell_type": "code",
   "execution_count": null,
   "metadata": {},
   "outputs": [
    {
     "data": {
      "text/plain": [
       "[1, 2, 3, 4, 6, 8, 12, 16, 24, 32, 48, 96]"
      ]
     },
     "execution_count": 3,
     "metadata": {},
     "output_type": "execute_result"
    }
   ],
   "source": [
    "def factors(n):\n",
    "  lst = []\n",
    "  for i in range(1, n+1):\n",
    "    if n % i == 0:\n",
    "      lst.append(i)\n",
    "  return lst\n",
    "\n",
    "\n",
    "factors(96)"
   ]
  },
  {
   "cell_type": "code",
   "execution_count": null,
   "metadata": {},
   "outputs": [
    {
     "data": {
      "text/plain": [
       "[1, 2, 3, 4, 6, 8, 12, 16, 24, 48]"
      ]
     },
     "execution_count": 5,
     "metadata": {},
     "output_type": "execute_result"
    }
   ],
   "source": [
    "def common_factors(a, b):\n",
    "  lst = []\n",
    "  for i in range(1, min(a, b)+1):\n",
    "    if a % i == 0 and b % i == 0:\n",
    "      lst.append(i)\n",
    "  return lst\n",
    "\n",
    "\n",
    "common_factors(96, 48)"
   ]
  },
  {
   "cell_type": "code",
   "execution_count": null,
   "metadata": {},
   "outputs": [
    {
     "name": "stdout",
     "output_type": "stream",
     "text": [
      "2\n",
      "3\n",
      "4\n",
      "5\n"
     ]
    },
    {
     "data": {
      "text/plain": [
       "False"
      ]
     },
     "execution_count": 10,
     "metadata": {},
     "output_type": "execute_result"
    }
   ],
   "source": [
    "def co_prime(a, b):\n",
    "  for i in range(2, min(a, b)+1):\n",
    "    print(i)\n",
    "    if a % i == 0 and b % i == 0:\n",
    "      return False\n",
    "  return True\n",
    "\n",
    "\n",
    "co_prime(20, 25)"
   ]
  },
  {
   "cell_type": "code",
   "execution_count": null,
   "metadata": {},
   "outputs": [
    {
     "data": {
      "text/plain": [
       "True"
      ]
     },
     "execution_count": 13,
     "metadata": {},
     "output_type": "execute_result"
    },
    {
     "data": {
      "text/plain": [
       "True"
      ]
     },
     "execution_count": 13,
     "metadata": {},
     "output_type": "execute_result"
    },
    {
     "data": {
      "text/plain": [
       "False"
      ]
     },
     "execution_count": 13,
     "metadata": {},
     "output_type": "execute_result"
    }
   ],
   "source": [
    "def is_prime(n):\n",
    "  for i in range(2, int(n**0.5)+1):\n",
    "    if n % i == 0:\n",
    "      return False\n",
    "  return True\n",
    "\n",
    "\n",
    "is_prime(2)\n",
    "is_prime(7)\n",
    "is_prime(8)"
   ]
  },
  {
   "cell_type": "code",
   "execution_count": null,
   "metadata": {},
   "outputs": [
    {
     "name": "stdout",
     "output_type": "stream",
     "text": [
      "[2, 3, 5, 7, 11, 13, 17, 19, 23, 29, 31, 37, 41, 43, 47, 53, 59, 61, 67, 71, 73, 79, 83, 89, 97]\n"
     ]
    }
   ],
   "source": [
    "def primes_upto(n):\n",
    "  lst = []\n",
    "  for i in range(2, n+1):\n",
    "    if is_prime(i):\n",
    "      lst.append(i)\n",
    "  return lst\n",
    "\n",
    "\n",
    "print(primes_upto(97))"
   ]
  },
  {
   "cell_type": "code",
   "execution_count": null,
   "metadata": {},
   "outputs": [
    {
     "data": {
      "text/plain": [
       "3"
      ]
     },
     "execution_count": 26,
     "metadata": {},
     "output_type": "execute_result"
    }
   ],
   "source": [
    "def count_primes(lst):\n",
    "  count = 0\n",
    "  for x in lst:\n",
    "    if is_prime(x):\n",
    "      count += 1\n",
    "  return count\n",
    "\n",
    "\n",
    "count_primes([2, 10, 15, 19, 17])"
   ]
  },
  {
   "cell_type": "code",
   "execution_count": null,
   "metadata": {},
   "outputs": [
    {
     "data": {
      "text/plain": [
       "[2, 19, 17]"
      ]
     },
     "execution_count": 31,
     "metadata": {},
     "output_type": "execute_result"
    }
   ],
   "source": [
    "def primes_in_lst(lst):\n",
    "  result = []\n",
    "  for x in lst:\n",
    "    if is_prime(x):\n",
    "      result.append(x)\n",
    "  return result\n",
    "\n",
    "\n",
    "primes_in_lst([2, 10, 15, 19, 17])"
   ]
  },
  {
   "cell_type": "code",
   "execution_count": null,
   "metadata": {},
   "outputs": [
    {
     "data": {
      "text/plain": [
       "True"
      ]
     },
     "execution_count": 38,
     "metadata": {},
     "output_type": "execute_result"
    },
    {
     "data": {
      "text/plain": [
       "True"
      ]
     },
     "execution_count": 38,
     "metadata": {},
     "output_type": "execute_result"
    },
    {
     "data": {
      "text/plain": [
       "False"
      ]
     },
     "execution_count": 38,
     "metadata": {},
     "output_type": "execute_result"
    }
   ],
   "source": [
    "def is_magic_number(n):\n",
    "  if n % 2 == 0 or n % 5 == 0:\n",
    "    return True\n",
    "  return False\n",
    "\n",
    "\n",
    "is_magic_number(4)\n",
    "is_magic_number(15)\n",
    "is_magic_number(21)"
   ]
  },
  {
   "cell_type": "code",
   "execution_count": null,
   "metadata": {},
   "outputs": [
    {
     "data": {
      "text/plain": [
       "[2, 4, 5, 6, 8, 10, 12, 14, 15, 16, 18, 20, 22, 24, 25, 26, 28, 30, 32, 34, 35]"
      ]
     },
     "execution_count": 41,
     "metadata": {},
     "output_type": "execute_result"
    }
   ],
   "source": [
    "def magic_numbers_upto(n):\n",
    "  lst = []\n",
    "  for i in range(1, n+1):\n",
    "    if is_magic_number(i):\n",
    "      lst.append(i)\n",
    "  return lst\n",
    "\n",
    "\n",
    "magic_numbers_upto(35)"
   ]
  },
  {
   "cell_type": "code",
   "execution_count": null,
   "metadata": {},
   "outputs": [
    {
     "data": {
      "text/plain": [
       "5"
      ]
     },
     "execution_count": 44,
     "metadata": {},
     "output_type": "execute_result"
    }
   ],
   "source": [
    "def gcd(n, m):\n",
    "  lst = []\n",
    "  for i in range(1, min(n, m)):\n",
    "    if n % i == 0 and m % i == 0:\n",
    "      lst.append(i)\n",
    "  return lst[-1]\n",
    "\n",
    "\n",
    "gcd(10, 15)"
   ]
  },
  {
   "cell_type": "code",
   "execution_count": null,
   "metadata": {},
   "outputs": [
    {
     "data": {
      "text/plain": [
       "5"
      ]
     },
     "execution_count": 45,
     "metadata": {},
     "output_type": "execute_result"
    }
   ],
   "source": [
    "def gcd(n, m):\n",
    "  largest_factor = 1\n",
    "  for i in range(1, min(n, m)):\n",
    "    if n % i == 0 and m % i == 0:\n",
    "      largest_factor = i\n",
    "  return largest_factor\n",
    "\n",
    "\n",
    "gcd(10, 15)"
   ]
  },
  {
   "cell_type": "markdown",
   "metadata": {},
   "source": [
    "# week 2 revision "
   ]
  },
  {
   "cell_type": "markdown",
   "metadata": {},
   "source": [
    "## Linear search"
   ]
  },
  {
   "cell_type": "code",
   "execution_count": null,
   "metadata": {},
   "outputs": [
    {
     "data": {
      "text/plain": [
       "3"
      ]
     },
     "execution_count": 3,
     "metadata": {},
     "output_type": "execute_result"
    },
    {
     "data": {
      "text/plain": [
       "-1"
      ]
     },
     "execution_count": 3,
     "metadata": {},
     "output_type": "execute_result"
    }
   ],
   "source": [
    "def linear_search(L, v):\n",
    "  for i in range(len(L)):\n",
    "    if L[i] == v:\n",
    "      return i\n",
    "  return -1\n",
    "\n",
    "\n",
    "linear_search([12, 13, 14, 23], 23)\n",
    "linear_search([12, 13, 14, 23], 21)"
   ]
  },
  {
   "cell_type": "markdown",
   "metadata": {},
   "source": [
    "## Binary Search"
   ]
  },
  {
   "cell_type": "code",
   "execution_count": null,
   "metadata": {},
   "outputs": [
    {
     "data": {
      "text/plain": [
       "0"
      ]
     },
     "execution_count": 22,
     "metadata": {},
     "output_type": "execute_result"
    }
   ],
   "source": [
    "def binary_search(L, v):\n",
    "  low = 0\n",
    "  high = len(L)-1\n",
    "  while low <= high:\n",
    "    mid = (low+high)//2\n",
    "    if L[mid] <= v:\n",
    "      low = mid + 1\n",
    "      # print(low)\n",
    "    if L[mid] >= v:\n",
    "      high = mid-1\n",
    "      # print(high)\n",
    "    else:\n",
    "      return mid\n",
    "  return -1\n",
    "\n",
    "\n",
    "binary_search([1, 2, 3, 4, 5], 2)\n",
    "# this code is not correct"
   ]
  },
  {
   "cell_type": "markdown",
   "metadata": {},
   "source": [
    "# Recursive implementation without slicing"
   ]
  },
  {
   "cell_type": "code",
   "execution_count": null,
   "metadata": {},
   "outputs": [
    {
     "data": {
      "text/plain": [
       "-1"
      ]
     },
     "execution_count": 24,
     "metadata": {},
     "output_type": "execute_result"
    }
   ],
   "source": [
    "def binary_search_recursive(L, v, low=None, high=None):\n",
    "  if low is None:\n",
    "    low = 0\n",
    "    high = len(L)-1\n",
    "  if low > high:\n",
    "    return -1\n",
    "  mid = (low+high) // 2\n",
    "  if L[mid] == v:\n",
    "    return mid\n",
    "  if L[mid] <= v:\n",
    "    low = mid + 1\n",
    "  else:\n",
    "    high = mid-1\n",
    "  return binary_search_recursive(L, v, low, high)\n",
    "\n",
    "\n",
    "binary_search_recursive([2, 3, 4, 5], 8)"
   ]
  },
  {
   "cell_type": "code",
   "execution_count": null,
   "metadata": {},
   "outputs": [
    {
     "data": {
      "text/plain": [
       "-1"
      ]
     },
     "execution_count": 27,
     "metadata": {},
     "output_type": "execute_result"
    },
    {
     "data": {
      "text/plain": [
       "4"
      ]
     },
     "execution_count": 27,
     "metadata": {},
     "output_type": "execute_result"
    }
   ],
   "source": [
    "def binary_search_recursive(L, v, low=None, high=None):\n",
    "  if low is None:\n",
    "    low = 0\n",
    "    high = len(L)-1\n",
    "  if low > high:\n",
    "    return -1\n",
    "\n",
    "  mid = (low+high)//2\n",
    "  if L[mid] == v:\n",
    "    return mid\n",
    "  if L[mid] < v:\n",
    "    low = mid + 1\n",
    "  else:\n",
    "    high = mid - 1\n",
    "  return binary_search_recursive(L, v, low, high)\n",
    "\n",
    "\n",
    "binary_search_recursive([4, 5, 6, 7, 8], 9)\n",
    "binary_search_recursive([4, 5, 6, 7, 8], 8)"
   ]
  },
  {
   "cell_type": "markdown",
   "metadata": {},
   "source": [
    "# Sorting Algorithms\n",
    "## Bubble Sort\n",
    "## Selection Sort\n",
    "## Insertion Sort"
   ]
  },
  {
   "cell_type": "code",
   "execution_count": null,
   "metadata": {},
   "outputs": [
    {
     "data": {
      "text/plain": [
       "[1, 3, 2, 4, 5]"
      ]
     },
     "execution_count": 31,
     "metadata": {},
     "output_type": "execute_result"
    }
   ],
   "source": [
    "def swap(L, i, j):\n",
    "  L[i], L[j] = L[j], L[i]\n",
    "\n",
    "\n",
    "L = [1, 2, 3, 4, 5]\n",
    "swap(L, 1, 2)\n",
    "L"
   ]
  },
  {
   "cell_type": "code",
   "execution_count": null,
   "metadata": {},
   "outputs": [
    {
     "data": {
      "text/plain": [
       "[5, 4, 3, 2]"
      ]
     },
     "execution_count": 32,
     "metadata": {},
     "output_type": "execute_result"
    }
   ],
   "source": [
    "def bubble_sort(L):\n",
    "  n = len(L)\n",
    "  for i in range(n):\n",
    "    for j in range(n-1-i):\n",
    "      if L[j] < L[j+1]:\n",
    "        swap(L, j, j+1)\n",
    "  return L\n",
    "\n",
    "\n",
    "bubble_sort([2, 3, 4, 5])"
   ]
  },
  {
   "cell_type": "markdown",
   "metadata": {},
   "source": [
    "## selection Sort"
   ]
  },
  {
   "cell_type": "code",
   "execution_count": null,
   "metadata": {},
   "outputs": [],
   "source": [
    "# def selection_sort(L):\n",
    "#   n = len(L)-1\n",
    "#   for i in range(n):\n",
    "#     key_idx =i"
   ]
  },
  {
   "cell_type": "markdown",
   "metadata": {},
   "source": [
    "## Quick Sort"
   ]
  },
  {
   "cell_type": "code",
   "execution_count": null,
   "metadata": {},
   "outputs": [
    {
     "name": "stdout",
     "output_type": "stream",
     "text": [
      " i=0 j=1\n",
      " i=0 j=2\n",
      " i=0 j=3\n",
      " i=0 j=4\n",
      " i=0 j=5\n",
      " i=0 j=6\n"
     ]
    }
   ],
   "source": [
    "def partition(lst, low, high):\n",
    "  pivot = lst[low]\n",
    "  i = low\n",
    "  for j in range(low+1, high+1):\n",
    "    print(f' {i=} {j=}')\n",
    "\n",
    "\n",
    "lst = [8, 2, 4, 9, 10, 15, 1]\n",
    "partition(lst, low=0, high=len(lst)-1)"
   ]
  },
  {
   "cell_type": "code",
   "execution_count": null,
   "metadata": {},
   "outputs": [
    {
     "data": {
      "text/plain": [
       "[8, 2, 4, 9, 10, 15, 1]"
      ]
     },
     "execution_count": 6,
     "metadata": {},
     "output_type": "execute_result"
    }
   ],
   "source": [
    "def quick_sort(lst, low=None, high=None):\n",
    "  if low is None:\n",
    "    low = 0\n",
    "    high = len(lst)-1\n",
    "  if high > low:\n",
    "    return lst\n",
    "  pivot = partition(lst, low, high)\n",
    "  quick_sort(lst, low, pivot+1)\n",
    "  quick_sort(lst, pivot+1, high)\n",
    "  return lst\n",
    "\n",
    "\n",
    "quick_sort([8, 2, 4, 9, 10, 15, 1])"
   ]
  },
  {
   "cell_type": "code",
   "execution_count": null,
   "metadata": {},
   "outputs": [
    {
     "name": "stdout",
     "output_type": "stream",
     "text": [
      "i=0,j=1\n",
      "i=0,j=2\n",
      "i=0,j=3\n",
      "i=0,j=4\n",
      "i=0,j=5\n"
     ]
    }
   ],
   "source": [
    "def partition(lst, low, high):\n",
    "  pivot = lst[low]\n",
    "  i = low\n",
    "  for j in range(low+1, high+1):\n",
    "    print(f'{i=},{j=}')\n",
    "\n",
    "\n",
    "lst = [8, 2, 4, 5, 1, 7]\n",
    "partition(lst, low=0, high=len(lst)-1)"
   ]
  },
  {
   "cell_type": "code",
   "execution_count": null,
   "metadata": {},
   "outputs": [
    {
     "name": "stdout",
     "output_type": "stream",
     "text": [
      "[8, 2, 4, 5, 1, 7]\n"
     ]
    }
   ],
   "source": [
    "def quick_sort(lst, low=None, high=None):\n",
    "  if low is None:\n",
    "    low = 0\n",
    "    high = len(lst)-1\n",
    "  if high > low:\n",
    "    return lst\n",
    "  pivot = partition(lst, low, high)\n",
    "  quick_sort(lst, low, high)\n",
    "  quick_sort(lst, low, high)\n",
    "  return lst\n",
    "\n",
    "\n",
    "print(quick_sort([8, 2, 4, 5, 1, 7]))"
   ]
  },
  {
   "cell_type": "code",
   "execution_count": null,
   "metadata": {},
   "outputs": [
    {
     "name": "stdout",
     "output_type": "stream",
     "text": [
      " (0, [1.1], <class 'list'>) \n",
      " (1, '1.1', <class 'str'>) \n",
      " (2, 1.1, <class 'float'>) \n",
      " (3, (1, 1), <class 'tuple'>) \n",
      "1\n",
      "1\n",
      "1\n"
     ]
    }
   ],
   "source": [
    "l = [[1.1], '1.1', 1.1, (1, 1)]\n",
    "for i in range(len(l)):\n",
    "  print(f' {i, l[i], type(l[i])} ')\n",
    "  # print(f'{i, int(l[i])}')\n",
    "\n",
    "# print(int([1.1]))\n",
    "print(int(1.1))\n",
    "# print(int('1.8'))\n",
    "print(int((1.1)))"
   ]
  }
 ],
 "metadata": {
  "kernelspec": {
   "display_name": "Python 3",
   "language": "python",
   "name": "python3"
  },
  "language_info": {
   "codemirror_mode": {
    "name": "ipython",
    "version": 3
   },
   "file_extension": ".py",
   "mimetype": "text/x-python",
   "name": "python",
   "nbconvert_exporter": "python",
   "pygments_lexer": "ipython3",
   "version": "3.12.3"
  }
 },
 "nbformat": 4,
 "nbformat_minor": 2
}
