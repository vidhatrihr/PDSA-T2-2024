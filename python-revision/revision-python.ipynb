{
 "cells": [
  {
   "cell_type": "code",
   "execution_count": 6,
   "metadata": {},
   "outputs": [
    {
     "data": {
      "text/plain": [
       "{1: 1, 2: 4, 3: 9, 4: 16}"
      ]
     },
     "execution_count": 6,
     "metadata": {},
     "output_type": "execute_result"
    },
    {
     "data": {
      "text/plain": [
       "{1: 1, 2: 4, 3: 9, 4: 16, 5: 25}"
      ]
     },
     "execution_count": 6,
     "metadata": {},
     "output_type": "execute_result"
    },
    {
     "data": {
      "text/plain": [
       "{0: 0, -1: 1, -2: 4}"
      ]
     },
     "execution_count": 6,
     "metadata": {},
     "output_type": "execute_result"
    },
    {
     "data": {
      "text/plain": [
       "{}"
      ]
     },
     "execution_count": 6,
     "metadata": {},
     "output_type": "execute_result"
    },
    {
     "data": {
      "text/plain": [
       "{10: 100, 20: 400}"
      ]
     },
     "execution_count": 6,
     "metadata": {},
     "output_type": "execute_result"
    },
    {
     "name": "stdout",
     "output_type": "stream",
     "text": [
      "All tests passed!\n"
     ]
    }
   ],
   "source": [
    "def square_values(numbers):\n",
    "  result = {number: number**2 for number in numbers}\n",
    "  return result\n",
    "\n",
    "\n",
    "square_values([1, 2, 3, 4])\n",
    "square_values([1, 2, 3, 4, 5])\n",
    "square_values([0, -1, -2])\n",
    "square_values([])\n",
    "square_values([10, 20])\n",
    "print(\"All tests passed!\")"
   ]
  },
  {
   "cell_type": "code",
   "execution_count": 8,
   "metadata": {},
   "outputs": [
    {
     "data": {
      "text/plain": [
       "{'apple': 5, 'banana': 6, 'cherry': 6}"
      ]
     },
     "execution_count": 8,
     "metadata": {},
     "output_type": "execute_result"
    },
    {
     "data": {
      "text/plain": [
       "{'a': 1, 'ab': 2, 'abc': 3}"
      ]
     },
     "execution_count": 8,
     "metadata": {},
     "output_type": "execute_result"
    },
    {
     "data": {
      "text/plain": [
       "{'': 0}"
      ]
     },
     "execution_count": 8,
     "metadata": {},
     "output_type": "execute_result"
    },
    {
     "data": {
      "text/plain": [
       "{}"
      ]
     },
     "execution_count": 8,
     "metadata": {},
     "output_type": "execute_result"
    },
    {
     "name": "stdout",
     "output_type": "stream",
     "text": [
      "All tests passed!\n"
     ]
    }
   ],
   "source": [
    "def length_of_strings(words):\n",
    "  length = {word: len(word) for word in words}\n",
    "  return length\n",
    "\n",
    "\n",
    "length_of_strings([\"apple\", \"banana\", \"cherry\"])\n",
    "length_of_strings([\"a\", \"ab\", \"abc\"])\n",
    "length_of_strings([\"\"])\n",
    "length_of_strings([])\n",
    "print(\"All tests passed!\")"
   ]
  },
  {
   "cell_type": "code",
   "execution_count": 6,
   "metadata": {},
   "outputs": [
    {
     "data": {
      "text/plain": [
       "{2: 8, 4: 64, 6: 216}"
      ]
     },
     "execution_count": 6,
     "metadata": {},
     "output_type": "execute_result"
    },
    {
     "data": {
      "text/plain": [
       "{8: 512, 10: 1000}"
      ]
     },
     "execution_count": 6,
     "metadata": {},
     "output_type": "execute_result"
    },
    {
     "data": {
      "text/plain": [
       "{}"
      ]
     },
     "execution_count": 6,
     "metadata": {},
     "output_type": "execute_result"
    },
    {
     "data": {
      "text/plain": [
       "{}"
      ]
     },
     "execution_count": 6,
     "metadata": {},
     "output_type": "execute_result"
    },
    {
     "name": "stdout",
     "output_type": "stream",
     "text": [
      "All tests passed!\n"
     ]
    }
   ],
   "source": [
    "def filter_and_transform(numbers):\n",
    "  cubes = {integer: integer**3 for integer in numbers if integer % 2 == 0}\n",
    "  return cubes\n",
    "\n",
    "\n",
    "filter_and_transform([1, 2, 3, 4, 5, 6])\n",
    "filter_and_transform([7, 8, 9, 10])\n",
    "filter_and_transform([1, 3, 5])\n",
    "filter_and_transform([])\n",
    "print(\"All tests passed!\")"
   ]
  },
  {
   "cell_type": "code",
   "execution_count": 1,
   "metadata": {},
   "outputs": [
    {
     "data": {
      "text/plain": [
       "{1: 'a', 2: 'b', 3: 'c'}"
      ]
     },
     "execution_count": 1,
     "metadata": {},
     "output_type": "execute_result"
    },
    {
     "data": {
      "text/plain": [
       "{'x': 1, 'y': 2}"
      ]
     },
     "execution_count": 1,
     "metadata": {},
     "output_type": "execute_result"
    },
    {
     "data": {
      "text/plain": [
       "{'x': 1, 'y': 2}"
      ]
     },
     "execution_count": 1,
     "metadata": {},
     "output_type": "execute_result"
    },
    {
     "data": {
      "text/plain": [
       "{}"
      ]
     },
     "execution_count": 1,
     "metadata": {},
     "output_type": "execute_result"
    }
   ],
   "source": [
    "def swap_keys_and_values(original_dict):\n",
    "  modified_dict = {value: key for key, value in original_dict.items()}\n",
    "  return modified_dict\n",
    "\n",
    "\n",
    "swap_keys_and_values({'a': 1, 'b': 2, 'c': 3})\n",
    "swap_keys_and_values({1: 'x', 2: 'y'})\n",
    "swap_keys_and_values({1: 'x', 2: 'y'})\n",
    "swap_keys_and_values({})"
   ]
  },
  {
   "cell_type": "code",
   "execution_count": 2,
   "metadata": {},
   "outputs": [
    {
     "data": {
      "text/plain": [
       "{1: 'a', 2: 'b', 3: 'c'}"
      ]
     },
     "execution_count": 2,
     "metadata": {},
     "output_type": "execute_result"
    },
    {
     "data": {
      "text/plain": [
       "{'x': 1, 'y': 2}"
      ]
     },
     "execution_count": 2,
     "metadata": {},
     "output_type": "execute_result"
    },
    {
     "data": {
      "text/plain": [
       "{'x': 1, 'y': 2}"
      ]
     },
     "execution_count": 2,
     "metadata": {},
     "output_type": "execute_result"
    },
    {
     "data": {
      "text/plain": [
       "{}"
      ]
     },
     "execution_count": 2,
     "metadata": {},
     "output_type": "execute_result"
    }
   ],
   "source": [
    "def swap_keys_and_values(original_dict):\n",
    "  modified_dict = {original_dict[key]: key for key in original_dict}\n",
    "  return modified_dict\n",
    "\n",
    "\n",
    "swap_keys_and_values({'a': 1, 'b': 2, 'c': 3})\n",
    "swap_keys_and_values({1: 'x', 2: 'y'})\n",
    "swap_keys_and_values({1: 'x', 2: 'y'})\n",
    "swap_keys_and_values({})"
   ]
  },
  {
   "cell_type": "code",
   "execution_count": 16,
   "metadata": {},
   "outputs": [],
   "source": [
    "def character_frequency(text):\n",
    "  lst = list(text)\n",
    "  # for i in range(len(lst)):\n",
    "\n",
    "\n",
    "character_frequency(\"hello\")\n",
    "character_frequency(\"aa bb cc\")\n",
    "character_frequency(\"abcd abcd\")\n",
    "character_frequency(\"\")"
   ]
  },
  {
   "cell_type": "code",
   "execution_count": 20,
   "metadata": {},
   "outputs": [
    {
     "data": {
      "text/plain": [
       "{'one': {'values': 1, 'type': int},\n",
       " 'two': {'values': 2.0, 'type': float},\n",
       " 'three': {'values': 'three', 'type': str}}"
      ]
     },
     "execution_count": 20,
     "metadata": {},
     "output_type": "execute_result"
    },
    {
     "data": {
      "text/plain": [
       "{'a': {'values': True, 'type': bool}, 'b': {'values': None, 'type': NoneType}}"
      ]
     },
     "execution_count": 20,
     "metadata": {},
     "output_type": "execute_result"
    },
    {
     "data": {
      "text/plain": [
       "{'name': {'values': 'vidhatri', 'type': str},\n",
       " 'age': {'values': 20, 'type': int}}"
      ]
     },
     "execution_count": 20,
     "metadata": {},
     "output_type": "execute_result"
    }
   ],
   "source": [
    "def nested_dict_from_lists(keys, values):\n",
    "  nest = {keys[i]: {'values': values[i], 'type': type(values[i])} for i in range(len(values))}\n",
    "  return nest\n",
    "\n",
    "\n",
    "nested_dict_from_lists(['one', 'two', 'three'], [1, 2.0, 'three'])\n",
    "nested_dict_from_lists(['a', 'b'], [True, None])\n",
    "nested_dict_from_lists(['name', 'age'], ['vidhatri', 20])"
   ]
  },
  {
   "cell_type": "markdown",
   "metadata": {},
   "source": [
    "Problem 7"
   ]
  },
  {
   "cell_type": "code",
   "execution_count": 26,
   "metadata": {},
   "outputs": [
    {
     "data": {
      "text/plain": [
       "{1: 'c', 2: 'at', 3: 'cat', 4: 'cats', 5: 'world', 8: 'vaishnvi'}"
      ]
     },
     "execution_count": 26,
     "metadata": {},
     "output_type": "execute_result"
    }
   ],
   "source": [
    "def len_count(words):\n",
    "  group = {}\n",
    "  for i in range(len(words)):\n",
    "    # print(i)\n",
    "    group[len(words[i])] = words[i]\n",
    "  return group\n",
    "\n",
    "\n",
    "len_count([\"a\", 'b', 'c', \"at\", \"bat\", 'cat', \"cats\", \"hello\", \"world\", 'vidhatri', 'vaishnvi'])"
   ]
  },
  {
   "cell_type": "code",
   "execution_count": 27,
   "metadata": {},
   "outputs": [],
   "source": [
    "def group_by_length(words):\n",
    "  for word in words:\n",
    "    # if len(word) ==\n",
    "    pass\n",
    "\n",
    "\n",
    "group_by_length([\"a\", 'b', 'c', \"at\", \"bat\", 'cat', \"cats\", \"hello\", \"world\", 'vidhatri', 'vaishnvi'])"
   ]
  },
  {
   "cell_type": "markdown",
   "metadata": {},
   "source": [
    "Problem 8"
   ]
  },
  {
   "cell_type": "markdown",
   "metadata": {},
   "source": [
    "### 1st alphabet of a name is the key\n",
    "### define a dict\n",
    "### corresponding names list is the value\n",
    "### loop for finding names with same 1st letter\n",
    "### put it in the dict"
   ]
  },
  {
   "cell_type": "code",
   "execution_count": 30,
   "metadata": {},
   "outputs": [
    {
     "data": {
      "text/plain": [
       "{'a': ['Vaishnvi']}"
      ]
     },
     "execution_count": 30,
     "metadata": {},
     "output_type": "execute_result"
    },
    {
     "data": {
      "text/plain": [
       "{'e': ['Ben']}"
      ]
     },
     "execution_count": 30,
     "metadata": {},
     "output_type": "execute_result"
    },
    {
     "data": {
      "text/plain": [
       "{'o': ['Zoe']}"
      ]
     },
     "execution_count": 30,
     "metadata": {},
     "output_type": "execute_result"
    }
   ],
   "source": [
    "# def frequency_of_initials(names):\n",
    "#   initial = {}\n",
    "#   for name in names:\n",
    "#     first_letter = name[1]\n",
    "#     initial = {first_letter: [value] for value in names}\n",
    "#   return initial\n",
    "\n",
    "\n",
    "# frequency_of_initials([\"Alice\", \"Bob\", \"Charlie\", 'Anna', 'Vidhatri', 'Vaishnvi'])\n",
    "# frequency_of_initials([\"Anna\", \"Alice\", \"Ben\"])\n",
    "# frequency_of_initials([\"Zoe\"])"
   ]
  },
  {
   "cell_type": "code",
   "execution_count": 5,
   "metadata": {},
   "outputs": [],
   "source": [
    "def conditional_transformation(original_dict):\n",
    "  pass\n",
    "\n",
    "  # transform = {}\n",
    "\n",
    "  # for key in original_dict:\n",
    "\n",
    "  #   if key % 2 == 0:\n",
    "\n",
    "  #     transform[key] = key**2\n",
    "  #   else:\n",
    "\n",
    "  #     transform[key] = key\n",
    "\n",
    "  # return transform\n",
    "\n",
    "\n",
    "\n",
    "conditional_transformation({'a': 1, 'b': 2, 'c': 3, 'd': 4})\n",
    "\n",
    "conditional_transformation({'x': 5, 'y': 6, 'z': 7})\n",
    "\n",
    "conditional_transformation({'vidhatri': 0})\n",
    "\n",
    "conditional_transformation({})"
   ]
  },
  {
   "cell_type": "code",
   "execution_count": 10,
   "metadata": {},
   "outputs": [],
   "source": [
    "def sum_of_list_indices(lists):\n",
    "  pass\n",
    "  sum = 0\n",
    "\n",
    "  # for inner_lst in lists:\n",
    "  #   for num in inner_lst:\n",
    "  #     sum += num\n",
    "  # sum_dict = {index: sum for index in range(len(lists))}\n",
    "  # return sum_dict\n",
    "\n",
    "\n",
    "\n",
    "sum_of_list_indices([[1, 2, 3], [4, 5], [6, 7, 8, 9]])\n",
    "\n",
    "\n",
    "# # Test calls\n",
    "# assert sum_of_list_indices([[1, 2, 3], [4, 5], [6, 7, 8, 9]]) == {0: 6, 1: 9, 2: 30}\n",
    "# assert sum_of_list_indices([[], [1], [1, 2, 3]]) == {0: 0, 1: 1, 2: 6}\n",
    "# assert sum_of_list_indices([[-1, -2, -3], [0], [1, 1, 1]]) == {0: -6, 1: 0, 2: 3}\n",
    "# assert sum_of_list_indices([]) == {}\n",
    "\n",
    "# print(\"All tests passed!\")"
   ]
  }
 ],
 "metadata": {
  "kernelspec": {
   "display_name": "Python 3",
   "language": "python",
   "name": "python3"
  },
  "language_info": {
   "codemirror_mode": {
    "name": "ipython",
    "version": 3
   },
   "file_extension": ".py",
   "mimetype": "text/x-python",
   "name": "python",
   "nbconvert_exporter": "python",
   "pygments_lexer": "ipython3",
   "version": "3.12.3"
  }
 },
 "nbformat": 4,
 "nbformat_minor": 2
}
