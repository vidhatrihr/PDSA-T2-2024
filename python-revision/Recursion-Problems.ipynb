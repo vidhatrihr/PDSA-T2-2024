{
 "cells": [
  {
   "cell_type": "markdown",
   "metadata": {},
   "source": [
    "# Problem 1: Factorial of a Number\n",
    "\n",
    "**Task**: Compute the factorial of a given non-negative integer $ n $.\n",
    "\n",
    "**Walkthrough**:\n",
    "- **Base Case**: If $ n $ is 0, the factorial is 1.\n",
    "- **Recursive Case**: For any positive $ n $, the factorial is $ n \\times \\text{factorial}(n-1) $.\n",
    "\n",
    "**Mathematically**:\n",
    "- **Base Case**: $ \\text{factorial}(0) = 1 $\n",
    "- **Recursive Case**: $ \\text{factorial}(n) = n \\times \\text{factorial}(n-1) $ for $ n > 0 $\n"
   ]
  },
  {
   "cell_type": "code",
   "execution_count": 1,
   "metadata": {},
   "outputs": [
    {
     "name": "stdout",
     "output_type": "stream",
     "text": [
      "All tests passed!\n"
     ]
    }
   ],
   "source": [
    "def factorial(n):\n",
    "  \"\"\"\n",
    "  Compute the factorial of a given non-negative integer n.\n",
    "\n",
    "  Args:\n",
    "      n (int): The non-negative integer for which to compute factorial.\n",
    "\n",
    "  Returns:\n",
    "      int: The factorial of n.\n",
    "  \"\"\"\n",
    "  # Base Case: If n is 0, the factorial is 1.\n",
    "\n",
    "  # Recursive Case: For any positive n, the factorial is n times factorial(n-1).\n",
    "  # Return the result of the recursive call.\n",
    "  if n == 0:\n",
    "    return 1\n",
    "  return n * factorial(n-1)\n",
    "\n",
    "\n",
    "# Test calls\n",
    "assert factorial(0) == 1\n",
    "assert factorial(1) == 1\n",
    "assert factorial(2) == 2\n",
    "assert factorial(3) == 6\n",
    "assert factorial(4) == 24\n",
    "\n",
    "print(\"All tests passed!\")"
   ]
  },
  {
   "cell_type": "markdown",
   "metadata": {},
   "source": [
    "# Problem 2: Fibonacci Sequence\n",
    "\n",
    "**Task**: Compute the $ n $-th Fibonacci number.\n",
    "\n",
    "**Walkthrough**:\n",
    "- **Base Case**: If $ n $ is 0 or 1, return $ n $.\n",
    "- **Recursive Case**: For any $ n $ greater than 1, the Fibonacci number is the sum of the two preceding numbers, i.e., $ \\text{fibonacci}(n-1) + \\text{fibonacci}(n-2) $.\n",
    "\n",
    "**Mathematically**:\n",
    "- **Base Case**: $ \\text{fibonacci}(0) = 0 $, $ \\text{fibonacci}(1) = 1 $\n",
    "- **Recursive Case**: $ \\text{fibonacci}(n) = \\text{fibonacci}(n-1) + \\text{fibonacci}(n-2) $ for $ n > 1 $\n"
   ]
  },
  {
   "cell_type": "code",
   "execution_count": 2,
   "metadata": {},
   "outputs": [
    {
     "name": "stdout",
     "output_type": "stream",
     "text": [
      "All tests passed!\n"
     ]
    }
   ],
   "source": [
    "def fibonacci(n):\n",
    "  \"\"\"\n",
    "  Compute the n-th Fibonacci number.\n",
    "\n",
    "  Args:\n",
    "      n (int): The index of the Fibonacci number to compute.\n",
    "\n",
    "  Returns:\n",
    "      int: The n-th Fibonacci number.\n",
    "  \"\"\"\n",
    "  # Base Case: If n is 0 or 1, return n.\n",
    "\n",
    "  # Recursive Case: Fibonacci number is the sum of the two preceding numbers.\n",
    "  # Return the result of the recursive call.\n",
    "  if n == 0:\n",
    "    return 0\n",
    "  if n == 1:\n",
    "    return 1\n",
    "  return fibonacci(n-1) + fibonacci(n-2)\n",
    "\n",
    "\n",
    "# Test calls\n",
    "assert fibonacci(0) == 0\n",
    "assert fibonacci(1) == 1\n",
    "assert fibonacci(2) == 1\n",
    "assert fibonacci(3) == 2\n",
    "assert fibonacci(4) == 3\n",
    "assert fibonacci(5) == 5\n",
    "\n",
    "print(\"All tests passed!\")"
   ]
  },
  {
   "cell_type": "markdown",
   "metadata": {},
   "source": [
    "# Problem 3: Sum of Digits\n",
    "\n",
    "**Task**: Compute the sum of the digits of a given non-negative integer $ n $.\n",
    "\n",
    "**Walkthrough**:\n",
    "- **Base Case**: If $ n $ is less than 10, return $ n $.\n",
    "- **Recursive Case**: The sum of the digits of $ n $ is the last digit plus the sum of the digits of the number obtained by removing the last digit, i.e., $ n \\% 10 + \\text{sum\\_of\\_digits}(n // 10) $.\n",
    "\n",
    "**Mathematically**:\n",
    "- **Base Case**: $ \\text{sum\\_of\\_digits}(n) = n $ if $ n < 10 $\n",
    "- **Recursive Case**: $ \\text{sum\\_of\\_digits}(n) = n \\% 10 + \\text{sum\\_of\\_digits}(n // 10) $ otherwise\n"
   ]
  },
  {
   "cell_type": "code",
   "execution_count": 3,
   "metadata": {},
   "outputs": [
    {
     "name": "stdout",
     "output_type": "stream",
     "text": [
      "All tests passed!\n"
     ]
    }
   ],
   "source": [
    "def sum_of_digits(n):\n",
    "  \"\"\"\n",
    "  Compute the sum of the digits of a given non-negative integer n.\n",
    "\n",
    "  Args:\n",
    "      n (int): The non-negative integer for which to compute the sum of digits.\n",
    "\n",
    "  Returns:\n",
    "      int: The sum of the digits of n.\n",
    "  \"\"\"\n",
    "  # Base Case: If n is less than 10, return n.\n",
    "\n",
    "  # Recursive Case: The sum of the digits of n is the last digit plus the sum of the digits\n",
    "  #                 of the number obtained by removing the last digit.\n",
    "  # Return the result of the recursive call.\n",
    "  if n < 10:\n",
    "    return n\n",
    "  return n % 10 + sum_of_digits(n//10)\n",
    "\n",
    "\n",
    "# Test calls\n",
    "assert sum_of_digits(0) == 0\n",
    "assert sum_of_digits(1) == 1\n",
    "assert sum_of_digits(123) == 6\n",
    "assert sum_of_digits(456) == 15\n",
    "assert sum_of_digits(987654321) == 45\n",
    "\n",
    "print(\"All tests passed!\")"
   ]
  },
  {
   "cell_type": "markdown",
   "metadata": {},
   "source": [
    "# Problem 4: Reverse a String\n",
    "\n",
    "**Task**: Reverse a given string.\n",
    "\n",
    "**Walkthrough**:\n",
    "- **Base Case**: If the string is empty, return an empty string.\n",
    "- **Recursive Case**: The reversed string is the last character of the string plus the reversed version of the rest of the string, i.e., $ \\text{reverse}(s[1:]) + s[0] $.\n",
    "\n",
    "**Mathematically**:\n",
    "- **Base Case**: $ \\text{reverse}(s) = \"\" $ if the string $ s $ is empty.\n",
    "- **Recursive Case**: $ \\text{reverse}(s) = \\text{reverse}(s[1:]) + s[0] $ for strings with at least one character.\n"
   ]
  },
  {
   "cell_type": "code",
   "execution_count": 4,
   "metadata": {},
   "outputs": [
    {
     "data": {
      "text/plain": [
       "'e'"
      ]
     },
     "execution_count": 4,
     "metadata": {},
     "output_type": "execute_result"
    },
    {
     "data": {
      "text/plain": [
       "'appl'"
      ]
     },
     "execution_count": 4,
     "metadata": {},
     "output_type": "execute_result"
    }
   ],
   "source": [
    "word = 'apple'\n",
    "word[-1]\n",
    "word[:-1]"
   ]
  },
  {
   "cell_type": "code",
   "execution_count": 6,
   "metadata": {},
   "outputs": [
    {
     "name": "stdout",
     "output_type": "stream",
     "text": [
      "All tests passed!\n"
     ]
    }
   ],
   "source": [
    "def reverse(s):\n",
    "  \"\"\"\n",
    "  Reverse a given string.\n",
    "\n",
    "  Args:\n",
    "      s (str): The input string to reverse.\n",
    "\n",
    "  Returns:\n",
    "      str: The reversed string.\n",
    "  \"\"\"\n",
    "  # Base Case: If the string is empty, return an empty string.\n",
    "\n",
    "  # Recursive Case: The reversed string is the last character of the string\n",
    "  #                 plus the reversed version of the rest of the string.\n",
    "  # Return the result of the recursive call.\n",
    "  if s == '':\n",
    "    return s\n",
    "  return s[-1] + reverse(s[:-1])\n",
    "\n",
    "\n",
    "# Test calls\n",
    "assert reverse(\"\") == \"\"\n",
    "assert reverse(\"a\") == \"a\"\n",
    "assert reverse(\"hello\") == \"olleh\"\n",
    "assert reverse(\"vidhatri\") == \"irtahdiv\"\n",
    "assert reverse(\"racecar\") == \"racecar\"\n",
    "assert reverse(\"python\") == \"nohtyp\"\n",
    "\n",
    "print(\"All tests passed!\")"
   ]
  },
  {
   "cell_type": "markdown",
   "metadata": {},
   "source": [
    "# Problem 5: Check Palindrome\n",
    "\n",
    "**Task**: Check if a given string is a palindrome.\n",
    "\n",
    "**Walkthrough**:\n",
    "- **Base Case**: If the string is empty or has one character, it is a palindrome.\n",
    "- **Recursive Case**: Check if the first and last characters of the string are the same, and recursively check the substring excluding these two characters, i.e., $ s[0] == s[-1] $ and $ \\text{is\\_palindrome}(s[1:-1]) $.\n",
    "\n",
    "**Mathematically**:\n",
    "- **Base Case**: $ \\text{is\\_palindrome}(s) = \\text{True} $ if the string $ s $ is empty or has one character.\n",
    "- **Recursive Case**: $ \\text{is\\_palindrome}(s) = (s[0] == s[-1]) \\text{ and } \\text{is\\_palindrome}(s[1:-1]) $ for strings with more than one character.\n"
   ]
  },
  {
   "cell_type": "code",
   "execution_count": 1,
   "metadata": {},
   "outputs": [
    {
     "name": "stdout",
     "output_type": "stream",
     "text": [
      "All tests passed!\n"
     ]
    }
   ],
   "source": [
    "def is_palindrome(s):\n",
    "  \"\"\"\n",
    "  Check if a given string is a palindrome.\n",
    "\n",
    "  Args:\n",
    "      s (str): The input string to check.\n",
    "\n",
    "  Returns:\n",
    "      bool: True if the string is a palindrome, False otherwise.\n",
    "  \"\"\"\n",
    "  # Base Case: If the string is empty or has one character, it is a palindrome.\n",
    "  if len(s) == 0 or len(s) == 1:\n",
    "    return True\n",
    "  # Recursive Case: Check if the first and last characters of the string are the same,\n",
    "  #                 and recursively check the substring excluding these two characters.\n",
    "  # Return True if both conditions are met, otherwise return False.\n",
    "  return s[0] == s[-1] and is_palindrome(s[1:-1])\n",
    "\n",
    "\n",
    "# Test calls\n",
    "assert is_palindrome(\"\") == True  # An empty string is considered a palindrome\n",
    "assert is_palindrome(\"a\") == True\n",
    "assert is_palindrome(\"racecar\") == True\n",
    "assert is_palindrome(\"hello\") == False\n",
    "assert is_palindrome(\"rahul\") == False\n",
    "assert is_palindrome(\"madam\") == True\n",
    "assert is_palindrome(\"level\") == True\n",
    "\n",
    "print(\"All tests passed!\")"
   ]
  },
  {
   "cell_type": "markdown",
   "metadata": {},
   "source": [
    "# Problem 6: Power Function\n",
    "\n",
    "**Task**: Compute $ x $ raised to the power of $ n $ (i.e., $ x^n $).\n",
    "\n",
    "**Walkthrough**:\n",
    "- **Base Case**: If $ n $ is 0, return 1 (since any number to the power of 0 is 1).\n",
    "- **Recursive Case**: For $ n > 0 $, compute $ x^n $ as $ x \\times x^{n-1} $.\n",
    "  \n",
    "**Mathematically**:\n",
    "- **Base Case**: $ \\text{power}(x, 0) = 1 $.\n",
    "- **Recursive Case**: $ \\text{power}(x, n) = x \\times \\text{power}(x, n-1) $ for $ n > 0 $.\n"
   ]
  },
  {
   "cell_type": "code",
   "execution_count": 5,
   "metadata": {},
   "outputs": [
    {
     "name": "stdout",
     "output_type": "stream",
     "text": [
      "All tests passed!\n"
     ]
    }
   ],
   "source": [
    "def power(x, n):\n",
    "  \"\"\"\n",
    "  Compute x raised to the power of n.\n",
    "\n",
    "  Args:\n",
    "      x (int or float): The base number.\n",
    "      n (int): The exponent (non-negative integer).\n",
    "\n",
    "  Returns:\n",
    "      int or float: x raised to the power of n.\n",
    "  \"\"\"\n",
    "  # Base Case: If n is 0, return 1.\n",
    "  if n == 0:\n",
    "    return 1\n",
    "  # Recursive Case: For n > 0, compute x^n as x times power(x, n-1).\n",
    "  # Return the result of the recursive call.\n",
    "  return x * power(x, n-1)\n",
    "\n",
    "\n",
    "# Test calls\n",
    "assert power(2, 0) == 1\n",
    "assert power(2, 1) == 2\n",
    "assert power(2, 5) == 32\n",
    "assert power(3, 4) == 81\n",
    "assert power(1.5, 3) == 3.375\n",
    "\n",
    "print(\"All tests passed!\")"
   ]
  },
  {
   "cell_type": "markdown",
   "metadata": {},
   "source": [
    "# Problem 7: Greatest Common Divisor (GCD)\n",
    "\n",
    "**Task**: Compute the greatest common divisor of two non-negative integers $ a $ and $ b $.\n",
    "\n",
    "**Walkthrough**:\n",
    "- **Base Case**: If $ b $ is 0, return $ a $ (since the GCD of any number and 0 is the number itself).\n",
    "- **Recursive Case**: Use the Euclidean algorithm where $ \\text{GCD}(a, b) = \\text{GCD}(b, a \\% b) $.\n",
    "\n",
    "**Mathematically**:\n",
    "- **Base Case**: $ \\text{GCD}(a, 0) = a $\n",
    "- **Recursive Case**: $ \\text{GCD}(a, b) = \\text{GCD}(b, a \\% b) $"
   ]
  },
  {
   "cell_type": "code",
   "execution_count": 6,
   "metadata": {},
   "outputs": [
    {
     "name": "stdout",
     "output_type": "stream",
     "text": [
      "All tests passed!\n"
     ]
    }
   ],
   "source": [
    "def gcd(a, b):\n",
    "  \"\"\"\n",
    "  Compute the greatest common divisor (GCD) of two non-negative integers a and b.\n",
    "\n",
    "  Args:\n",
    "      a (int): The first integer.\n",
    "      b (int): The second integer.\n",
    "\n",
    "  Returns:\n",
    "      int: The GCD of a and b.\n",
    "  \"\"\"\n",
    "  # Base Case: If b is 0, return a.\n",
    "  if b == 0:\n",
    "    return a\n",
    "  # Recursive Case: Use the Euclidean algorithm: GCD(a, b) = GCD(b, a % b)\n",
    "  # Return the result of the recursive call.\n",
    "  return gcd(b, a % b)\n",
    "\n",
    "\n",
    "# Test calls\n",
    "assert gcd(10, 5) == 5\n",
    "assert gcd(14, 28) == 14\n",
    "assert gcd(3, 9) == 3\n",
    "assert gcd(17, 13) == 1\n",
    "assert gcd(24, 36) == 12\n",
    "\n",
    "print(\"All tests passed!\")"
   ]
  },
  {
   "cell_type": "markdown",
   "metadata": {},
   "source": [
    "# Problem 8: Count the Number of Occurrences\n",
    "\n",
    "**Task**: Count the number of times a particular element appears in a list.\n",
    "\n",
    "**Walkthrough**:\n",
    "- **Base Case**: If the list is empty, return 0, i.e., $ \\text{count\\_occurrences}(lst, target) = 0 $.\n",
    "- **Recursive Case**: For a non-empty list:\n",
    "  - Check if the first element of the list is equal to the target element.\n",
    "    - If it is, add 1 and recurse with the rest of the list, i.e., $ \\text{count\\_occurrences}(\\text{lst}[1:], \\text{target}) + 1 $.\n",
    "    - If it is not, just recurse with the rest of the list, i.e., $ \\text{count\\_occurrences}(\\text{lst}[1:], \\text{target}) $.\n",
    "\n",
    "**Mathematically**:\n",
    "- **Base Case**: $ \\text{count\\_occurrences}(lst, target) = 0 $ if the list is empty.\n",
    "- **Recursive Case**: $ \\text{count\\_occurrences}(lst, target) = (\\text{lst}[0] == \\text{target}) + \\text{count\\_occurrences}(\\text{lst}[1:], \\text{target}) $ for a non-empty list.\n"
   ]
  },
  {
   "cell_type": "code",
   "execution_count": 8,
   "metadata": {},
   "outputs": [
    {
     "name": "stdout",
     "output_type": "stream",
     "text": [
      "All tests passed!\n"
     ]
    }
   ],
   "source": [
    "def count_occurrences(lst, target):\n",
    "  \"\"\"\n",
    "  Count the number of times a particular element appears in a list.\n",
    "\n",
    "  Args:\n",
    "      lst (list): The list in which to search for occurrences.\n",
    "      target: The element to count occurrences of.\n",
    "\n",
    "  Returns:\n",
    "      int: The number of times the target element appears in the list.\n",
    "  \"\"\"\n",
    "  # Base Case: If the list is empty, return 0.\n",
    "  if lst == []:\n",
    "    return 0\n",
    "  # Recursive Case: For a non-empty list:\n",
    "  #   - Check if the first element of the list is equal to the target element.\n",
    "  #     - If it is, add 1 and recurse with the rest of the list.\n",
    "  #     - If it is not, just recurse with the rest of the list.\n",
    "  # Return the result of the recursive call.\n",
    "  if lst[0] == target:\n",
    "    return 1 + count_occurrences(lst[1:], target)\n",
    "  else:\n",
    "    return count_occurrences(lst[1:], target)\n",
    "\n",
    "\n",
    "# Test calls\n",
    "assert count_occurrences([1, 2, 3, 4, 2, 2, 5], 2) == 3\n",
    "assert count_occurrences([0, -1, -2, 0, -1], -1) == 2\n",
    "assert count_occurrences([10, 20, 30, 40, 10], 10) == 2\n",
    "assert count_occurrences([], 5) == 0\n",
    "assert count_occurrences(['v', 'i', 'd', 'h', 'a', 't', 'r', 'i'], 'i') == 2\n",
    "\n",
    "print(\"All tests passed!\")"
   ]
  },
  {
   "cell_type": "markdown",
   "metadata": {},
   "source": [
    "# Problem 9: Sum of a List\n",
    "\n",
    "**Task**: Compute the sum of all elements in a list.\n",
    "\n",
    "**Walkthrough**:\n",
    "- **Base Case**: If the list is empty, return 0, i.e., $ \\text{sum\\_list}(lst) = 0 $.\n",
    "- **Recursive Case**: For a list with elements:\n",
    "  - The sum of the list is the first element plus the sum of the rest of the list, i.e., $ \\text{sum\\_list}(lst) = lst[0] + \\text{sum\\_list}(lst[1:]) $.\n",
    "\n",
    "**Mathematically**:\n",
    "- **Base Case**: $ \\text{sum\\_list}(lst) = 0 $ if the list is empty.\n",
    "- **Recursive Case**: $ \\text{sum\\_list}(lst) = lst[0] + \\text{sum\\_list}(lst[1:]) $ for lists with elements.\n"
   ]
  },
  {
   "cell_type": "code",
   "execution_count": 9,
   "metadata": {},
   "outputs": [
    {
     "name": "stdout",
     "output_type": "stream",
     "text": [
      "All tests passed!\n"
     ]
    }
   ],
   "source": [
    "def sum_list(lst):\n",
    "  \"\"\"\n",
    "  Compute the sum of all elements in a given list.\n",
    "\n",
    "  Args:\n",
    "      lst (list): The list containing numeric elements.\n",
    "\n",
    "  Returns:\n",
    "      int or float: The sum of all elements in the list.\n",
    "  \"\"\"\n",
    "  # Base Case: If the list is empty, return 0.\n",
    "  if lst == []:\n",
    "    return 0\n",
    "  # Recursive Case: For a list with elements:\n",
    "  #   - The sum of the list is the first element plus the sum of the rest of the list.\n",
    "  #   - Return the sum of the first element and the result of recursively calling `sum_list` on lst[1:].\n",
    "  return lst[0] + sum_list(lst[1:])\n",
    "\n",
    "\n",
    "# Test calls\n",
    "assert sum_list([1, 2, 3, 4, 5]) == 15\n",
    "assert sum_list([0, -1, -2, 3, 4]) == 4\n",
    "assert sum_list([10, 20, 30, 40]) == 100\n",
    "assert sum_list([]) == 0\n",
    "\n",
    "print(\"All tests passed!\")"
   ]
  },
  {
   "cell_type": "markdown",
   "metadata": {},
   "source": [
    "# Problem 10: Product of a List\n",
    "\n",
    "**Task**: Compute the product of all elements in a list.\n",
    "\n",
    "**Walkthrough**:\n",
    "- **Base Case**: If the list has one element, return that element, i.e., $ \\text{product\\_list}(lst) = lst[0] $.\n",
    "- **Recursive Case**: For lists with more than one element:\n",
    "  - The product of the list is the first element multiplied by the product of the rest of the list, i.e., $ \\text{product\\_list}(lst) = lst[0] \\times \\text{product\\_list}(lst[1:]) $.\n",
    "\n",
    "**Mathematically**:\n",
    "- **Base Case**: $ \\text{product\\_list}(lst) = lst[0] $ if the list has one element.\n",
    "- **Recursive Case**: $ \\text{product\\_list}(lst) = lst[0] \\times \\text{product\\_list}(lst[1:]) $ for lists with more than one element.\n"
   ]
  },
  {
   "cell_type": "code",
   "execution_count": 11,
   "metadata": {},
   "outputs": [
    {
     "name": "stdout",
     "output_type": "stream",
     "text": [
      "All tests passed!\n"
     ]
    }
   ],
   "source": [
    "def product_list(lst):\n",
    "  \"\"\"\n",
    "  Compute the product of all elements in a given list.\n",
    "\n",
    "  Args:\n",
    "      lst (list): The list containing numeric elements.\n",
    "\n",
    "  Returns:\n",
    "      int: The product of all elements in the list.\n",
    "  \"\"\"\n",
    "  # Base Case: If the list has one element, return that element.\n",
    "  if len(lst) == 1:\n",
    "    return lst[0]\n",
    "  # Recursive Case: For lists with more than one element:\n",
    "  #   - The product of the list is the first element multiplied by the product of the rest of the list.\n",
    "  #   - Return the product of the first element and the result of recursively calling `product_list` on lst[1:].\n",
    "  return lst[0] * product_list(lst[1:])\n",
    "\n",
    "\n",
    "# Test calls\n",
    "assert product_list([1, 2, 3, 4, 5]) == 120\n",
    "assert product_list([0, 1, 2, 3]) == 0\n",
    "assert product_list([10, 20, 30]) == 6000\n",
    "assert product_list([1]) == 1\n",
    "\n",
    "print(\"All tests passed!\")"
   ]
  },
  {
   "cell_type": "markdown",
   "metadata": {},
   "source": [
    "# Problem 11: Check if List is Sorted\n",
    "\n",
    "**Task**: Check if a given list is sorted in non-decreasing order.\n",
    "\n",
    "**Walkthrough**:\n",
    "- **Base Case**: If the list has 0 or 1 elements, it is sorted, i.e., $ \\text{is\\_sorted}(lst) = \\text{True} $.\n",
    "- **Recursive Case**: For a list $ lst $ with more than one element:\n",
    "  - Check if the first element $ lst[0] $ is less than or equal to the second element $ lst[1] $ and if the rest of the list is sorted, i.e.,\n",
    "    - $ \\text{is\\_sorted}(lst) = lst[0] \\leq lst[1] \\text{ and } \\text{is\\_sorted}(lst[1:]) $.\n",
    "\n",
    "**Mathematically**:\n",
    "- **Base Case**: $ \\text{is\\_sorted}(lst) = \\text{True} $ if the list has 0 or 1 elements.\n",
    "- **Recursive Case**: $ \\text{is\\_sorted}(lst) = lst[0] \\leq lst[1] \\text{ and } \\text{is\\_sorted}(lst[1:]) $ for lists with more than one element.\n"
   ]
  },
  {
   "cell_type": "code",
   "execution_count": 12,
   "metadata": {},
   "outputs": [
    {
     "name": "stdout",
     "output_type": "stream",
     "text": [
      "All tests passed!\n"
     ]
    }
   ],
   "source": [
    "def is_sorted(lst):\n",
    "  \"\"\"\n",
    "  Check if a given list is sorted in non-decreasing order.\n",
    "\n",
    "  Args:\n",
    "      lst (list): The input list of elements.\n",
    "\n",
    "  Returns:\n",
    "      bool: True if the list is sorted in non-decreasing order, False otherwise.\n",
    "  \"\"\"\n",
    "  # Base Case: If the list has 0 or 1 elements, it is sorted.\n",
    "  if len(lst) == 0 or len(lst) == 1:\n",
    "    return True\n",
    "  # Recursive Case: For a list lst with more than one element:\n",
    "  #   - Check if the first element lst[0] is less than or equal to the second element lst[1]\n",
    "  #     and if the rest of the list is sorted.\n",
    "  #   - Return True if both conditions are met, otherwise return False.\n",
    "  if lst[0] <= lst[1]:\n",
    "    return is_sorted(lst[1:])\n",
    "  else:\n",
    "    return False\n",
    "\n",
    "\n",
    "# Test calls\n",
    "assert is_sorted([1]) == True\n",
    "assert is_sorted([1, 2, 3, 4, 5]) == True\n",
    "assert is_sorted([1, 2, 3, 3, 4]) == True\n",
    "assert is_sorted([10, 15, 17, 9]) == False\n",
    "assert is_sorted([5, 4, 3, 2, 1]) == False\n",
    "\n",
    "print(\"All tests passed!\")"
   ]
  },
  {
   "cell_type": "markdown",
   "metadata": {},
   "source": [
    "# Problem 12: Count the Number of Vowels\n",
    "\n",
    "**Task**: Count the number of vowels in a given string.\n",
    "\n",
    "**Walkthrough**:\n",
    "- If the string $ s $ is empty, return 0.\n",
    "- Otherwise, check if the first character $ s[0] $ is a vowel ('a', 'e', 'i', 'o', 'u' or their uppercase versions):\n",
    "  - If yes, increment the count and recursively call $ \\text{count\\_vowels} $ on the substring $ s[1:] $.\n",
    "  - If no, recursively call $ \\text{count\\_vowels} $ on the substring $ s[1:] $ without incrementing the count.\n",
    "\n",
    "**Mathematically**:\n",
    "- **Base Case**: $ \\text{count\\_vowels}(s) = 0 $ if $ s $ is empty.\n",
    "- **Recursive Case**: For non-empty string $ s $:\n",
    "  - If $ s[0] $ is a vowel, $ \\text{count\\_vowels}(s) = 1 + \\text{count\\_vowels}(s[1:]) $.\n",
    "  - Otherwise, $ \\text{count\\_vowels}(s) = \\text{count\\_vowels}(s[1:]) $."
   ]
  },
  {
   "cell_type": "code",
   "execution_count": 16,
   "metadata": {},
   "outputs": [
    {
     "name": "stdout",
     "output_type": "stream",
     "text": [
      "All tests passed!\n"
     ]
    }
   ],
   "source": [
    "def count_vowels(s):\n",
    "  \"\"\"\n",
    "  Count the number of vowels in a given string.\n",
    "\n",
    "  Args:\n",
    "      s (str): The input string.\n",
    "\n",
    "  Returns:\n",
    "      int: The number of vowels in the string.\n",
    "  \"\"\"\n",
    "  # Base Case: If the string s is empty, return 0.\n",
    "  if s == '':\n",
    "    return 0\n",
    "  # Recursive Case:\n",
    "  # Check if the first character s[0] is a vowel ('a', 'e', 'i', 'o', 'u' or their uppercase versions):\n",
    "  #   - If yes, increment the count and recursively call count_vowels on the substring s[1:].\n",
    "  #   - If no, recursively call count_vowels on the substring s[1:] without incrementing the count.\n",
    "\n",
    "  if s[0].lower() in ['a', 'e', 'i', 'o', 'u']:\n",
    "    return 1 + count_vowels(s[1:])\n",
    "  else:\n",
    "    return count_vowels(s[1:])\n",
    "\n",
    "\n",
    "# Test calls\n",
    "assert count_vowels(\"Hello World\") == 3\n",
    "assert count_vowels(\"Python Programming\") == 4\n",
    "assert count_vowels(\"ABCDEFGHIJKLMNOPQRSTUVWXYZ\") == 5\n",
    "assert count_vowels(\"vidhatri and rahul\") == 6\n",
    "assert count_vowels(\"\") == 0\n",
    "\n",
    "print(\"All tests passed!\")"
   ]
  },
  {
   "cell_type": "markdown",
   "metadata": {},
   "source": [
    "# Problem 13: Flatten a Nested List\n",
    "\n",
    "**Task**: Given a list with nested lists, return a flattened version.\n",
    "\n",
    "**Walkthrough**:\n",
    "- **Base Case**: $ \\text{flatten}(lst) = [] $ if $ lst $ is empty.\n",
    "- **Recursive Case**: For non-empty $ lst $:\n",
    "  - Initialize an empty result list $ R $.\n",
    "  - Iterate through each element $ x $ in $ lst $:\n",
    "    - If $ x $ is a list, recursively flatten it and extend $ R $ with the flattened result i.e., $ R \\text{ += } \\text{flatten}(x) $.\n",
    "    - If $ x $ is not a list, add $ x $ directly to $ R $ i.e., $ R \\text{.append}(x) $.\n",
    "  - Return $ R $ as the flattened list.\n"
   ]
  },
  {
   "cell_type": "code",
   "execution_count": 22,
   "metadata": {},
   "outputs": [
    {
     "name": "stdout",
     "output_type": "stream",
     "text": [
      "All tests passed!\n"
     ]
    }
   ],
   "source": [
    "def flatten(lst):\n",
    "  \"\"\"\n",
    "  Flatten a nested list.\n",
    "\n",
    "  Args:\n",
    "      lst (list): The nested list to be flattened.\n",
    "\n",
    "  Returns:\n",
    "      list: The flattened list.\n",
    "  \"\"\"\n",
    "  # Base Case: If lst is empty, return an empty list.\n",
    "  if len(lst) == 0:\n",
    "    return lst\n",
    "  # Recursive Case:\n",
    "  # Initialize an empty result list R.\n",
    "  # Iterate through each element x in lst:\n",
    "  #   - If x is a list, recursively flatten it and extend R with the flattened result i.e., R += flatten(x).\n",
    "  #   - If x is not a list, add x directly to R i.e., R.append(x).\n",
    "  # Return R as the flattened list.\n",
    "  R = []\n",
    "  for elem in lst:\n",
    "    if type(elem) == list:\n",
    "      R.extend(flatten(elem))\n",
    "    else:\n",
    "      R.append(elem)\n",
    "  return R\n",
    "\n",
    "\n",
    "# Test calls\n",
    "assert flatten([1, [2, 3], [4, [5, 6]]]) == [1, 2, 3, 4, 5, 6]\n",
    "assert flatten([[], [1, 2], [3, [4], 5]]) == [1, 2, 3, 4, 5]\n",
    "assert flatten([[], [], []]) == []\n",
    "assert flatten([[1], [2], [3]]) == [1, 2, 3]\n",
    "assert flatten([]) == []\n",
    "\n",
    "print(\"All tests passed!\")"
   ]
  },
  {
   "cell_type": "code",
   "execution_count": 18,
   "metadata": {},
   "outputs": [
    {
     "data": {
      "text/plain": [
       "False"
      ]
     },
     "execution_count": 18,
     "metadata": {},
     "output_type": "execute_result"
    }
   ],
   "source": [
    "l = [1, 2]\n",
    "l == list"
   ]
  },
  {
   "cell_type": "code",
   "execution_count": 21,
   "metadata": {},
   "outputs": [
    {
     "data": {
      "text/plain": [
       "True"
      ]
     },
     "execution_count": 21,
     "metadata": {},
     "output_type": "execute_result"
    }
   ],
   "source": [
    "elem = [5]\n",
    "type(elem) == list"
   ]
  },
  {
   "cell_type": "markdown",
   "metadata": {},
   "source": [
    "# Problem 14: Maximum Element in an List\n",
    "**Task**: Find the maximum element in a given list.\n",
    "\n",
    "**Walkthrough**:\n",
    "- **Base Case**: If the list has only one element, return that element.\n",
    "- **Recursive Case**: Compare the first element with the maximum of the rest of the list, i.e., $ \\text{max}(lst[0], \\text{max\\_element}(lst[1:])) $.\n",
    "\n",
    "**Mathematically**:\n",
    "- **Base Case**: $ \\text{max\\_element}(lst) = lst[0] $ if the list has only one element.\n",
    "- **Recursive Case**: $ \\text{max\\_element}(lst) = \\max(lst[0], \\text{max\\_element}(lst[1:])) $ for lists with more than one element.\n"
   ]
  },
  {
   "cell_type": "code",
   "execution_count": 24,
   "metadata": {},
   "outputs": [
    {
     "name": "stdout",
     "output_type": "stream",
     "text": [
      "All tests passed!\n"
     ]
    }
   ],
   "source": [
    "def max_element(lst):\n",
    "  \"\"\"\n",
    "  Find the maximum element in a given list.\n",
    "\n",
    "  Args:\n",
    "      lst (list): The list containing elements.\n",
    "\n",
    "  Returns:\n",
    "      int or float: The maximum element in the list.\n",
    "  \"\"\"\n",
    "  # Base Case: If the list has only one element, return that element.\n",
    "  if len(lst) == 1:\n",
    "    return lst[0]\n",
    "\n",
    "  # Recursive Case: Compare the first element with the maximum of the rest of the list.\n",
    "  return max([lst[0], max_element(lst[1:])])\n",
    "\n",
    "\n",
    "# Test calls\n",
    "assert max_element([1, 2, 3, 4, 5]) == 5\n",
    "assert max_element([-10, -5, 0, 5, 10]) == 10\n",
    "assert max_element([5]) == 5\n",
    "\n",
    "print(\"All tests passed!\")"
   ]
  }
 ],
 "metadata": {
  "kernelspec": {
   "display_name": "Python 3 (ipykernel)",
   "language": "python",
   "name": "python3"
  },
  "language_info": {
   "codemirror_mode": {
    "name": "ipython",
    "version": 3
   },
   "file_extension": ".py",
   "mimetype": "text/x-python",
   "name": "python",
   "nbconvert_exporter": "python",
   "pygments_lexer": "ipython3",
   "version": "3.12.3"
  }
 },
 "nbformat": 4,
 "nbformat_minor": 4
}
