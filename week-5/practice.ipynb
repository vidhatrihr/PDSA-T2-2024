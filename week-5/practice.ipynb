{
 "cells": [
  {
   "cell_type": "markdown",
   "metadata": {},
   "source": [
    "## Weighed Graph"
   ]
  },
  {
   "cell_type": "code",
   "execution_count": 2,
   "metadata": {},
   "outputs": [],
   "source": [
    "# Each tuple (u,v,w) in list is representing the edge from u to v with weight w\n",
    "edges = [(1, 2, 20), (2, 3, 30), (2, 4, 40), (4, 5, 50)]"
   ]
  },
  {
   "cell_type": "markdown",
   "metadata": {},
   "source": [
    "## Adjacency Matrix"
   ]
  },
  {
   "cell_type": "code",
   "execution_count": 3,
   "metadata": {},
   "outputs": [
    {
     "name": "stdout",
     "output_type": "stream",
     "text": [
      "20\n",
      "30\n",
      "40\n",
      "50\n",
      "20\n",
      "30\n",
      "40\n",
      "50\n"
     ]
    },
    {
     "data": {
      "text/plain": [
       "{1, 2, 3, 4, 5}"
      ]
     },
     "execution_count": 3,
     "metadata": {},
     "output_type": "execute_result"
    }
   ],
   "source": [
    "def get_vertices(edges):\n",
    "  vertices = set()\n",
    "  for u, v, w in edges:\n",
    "    print(w)\n",
    "    vertices.add(u)\n",
    "    vertices.add(v)\n",
    "  return vertices\n",
    "\n",
    "\n",
    "vertices = get_vertices(edges)\n",
    "get_vertices(edges)"
   ]
  },
  {
   "cell_type": "code",
   "execution_count": 4,
   "metadata": {},
   "outputs": [],
   "source": [
    "# def create_adjacency_matrix(vertices, edges):\n",
    "#   size = len(vertices)\n",
    "#   adjacency_matrix = [[float('inf')] * size for _ in range(size)]\n",
    "\n",
    "#   for u, v, w in edges:\n",
    "#     adjacency_matrix[u][v] = w\n",
    "\n",
    "#   return adjacency_matrix\n",
    "\n",
    "\n",
    "# create_adjacency_matrix(vertices, edges)"
   ]
  },
  {
   "cell_type": "code",
   "execution_count": 5,
   "metadata": {},
   "outputs": [
    {
     "name": "stdout",
     "output_type": "stream",
     "text": [
      "{1, 2, 3, 4, 5}\n"
     ]
    }
   ],
   "source": [
    "def get_vertices(edges):\n",
    "  vertices = set()\n",
    "  for u, v, w in edges:\n",
    "    vertices.add(u)\n",
    "    vertices.add(v)\n",
    "  return vertices\n",
    "\n",
    "\n",
    "vertices = get_vertices(edges)\n",
    "print(vertices)"
   ]
  },
  {
   "cell_type": "markdown",
   "metadata": {},
   "source": [
    "## Adjacency Matrix"
   ]
  },
  {
   "cell_type": "code",
   "execution_count": 6,
   "metadata": {},
   "outputs": [],
   "source": [
    "# def create_adjacency_matrix(vertices, edges):\n",
    "#   size = len(vertices)\n",
    "#   adjacency_matrix = [[(0, 0) for j in range(size)] for i in range(size)]\n",
    "\n",
    "#   for u, v, w in edges:\n",
    "#     adjacency_matrix[u][v] = (1, w)\n",
    "\n",
    "#   return adjacency_matrix\n",
    "\n",
    "\n",
    "# create_adjacency_matrix(vertices, edges)"
   ]
  },
  {
   "cell_type": "code",
   "execution_count": 7,
   "metadata": {},
   "outputs": [],
   "source": [
    "# each tuple (u, v, w) represents an edge from u to v with weight w.\n",
    "edges = [(0, 1, 10), (0, 2, 80), (1, 2, 6), (1, 4, 20),\n",
    "         (2, 3, 70), (4, 5, 50), (4, 6, 4), (5, 6, 10)]  # E"
   ]
  },
  {
   "cell_type": "code",
   "execution_count": 8,
   "metadata": {},
   "outputs": [
    {
     "data": {
      "text/plain": [
       "{0, 1, 2, 3, 4, 5, 6}"
      ]
     },
     "execution_count": 8,
     "metadata": {},
     "output_type": "execute_result"
    }
   ],
   "source": [
    "def get_vertices(edges):\n",
    "  vertices = set()\n",
    "  for u, v, w in edges:\n",
    "    vertices.add(u)\n",
    "    vertices.add(v)\n",
    "  return vertices\n",
    "\n",
    "\n",
    "vertices = get_vertices(edges)\n",
    "vertices"
   ]
  },
  {
   "cell_type": "code",
   "execution_count": 9,
   "metadata": {},
   "outputs": [
    {
     "data": {
      "text/plain": [
       "{0: [(1, 10), (2, 80)],\n",
       " 1: [(2, 6), (4, 20)],\n",
       " 2: [(3, 70)],\n",
       " 3: [],\n",
       " 4: [(5, 50), (6, 4)],\n",
       " 5: [(6, 10)],\n",
       " 6: []}"
      ]
     },
     "execution_count": 9,
     "metadata": {},
     "output_type": "execute_result"
    }
   ],
   "source": [
    "def create_adjacency_list(vertices, edges):\n",
    "  adjacency_list = {}\n",
    "\n",
    "  for u in vertices:\n",
    "    adjacency_list[u] = []\n",
    "\n",
    "  for u, v, w in edges:\n",
    "    adjacency_list[u].append((v, w))\n",
    "\n",
    "  return adjacency_list\n",
    "\n",
    "\n",
    "create_adjacency_list(vertices, edges)"
   ]
  },
  {
   "cell_type": "markdown",
   "metadata": {},
   "source": [
    "## Dijkstra's Algorithm"
   ]
  },
  {
   "cell_type": "code",
   "execution_count": 10,
   "metadata": {},
   "outputs": [
    {
     "name": "stdout",
     "output_type": "stream",
     "text": [
      "A\n",
      "C\n",
      "B\n",
      "D\n",
      "E\n"
     ]
    },
    {
     "data": {
      "text/plain": [
       "{'A': 0, 'B': 3, 'C': 2, 'D': 5, 'E': 6}"
      ]
     },
     "execution_count": 10,
     "metadata": {},
     "output_type": "execute_result"
    }
   ],
   "source": [
    "def dijkstra(adjacency_list, start_vertex):\n",
    "  visited = {vertex: False for vertex in adjacency_list}\n",
    "  distance = {vertex: float('inf') for vertex in adjacency_list}\n",
    "  distance[start_vertex] = 0\n",
    "\n",
    "  # Iterate until all vertices are processed\n",
    "  while True:\n",
    "    # Find current_vertex with the smallest known distance\n",
    "    current_vertex = None\n",
    "    for vertex in adjacency_list:\n",
    "      if not visited[vertex]:\n",
    "        if current_vertex is None:\n",
    "          current_vertex = vertex\n",
    "        if distance[vertex] < distance[current_vertex]:\n",
    "          current_vertex = vertex\n",
    "\n",
    "    # Break if no current_vertex is found\n",
    "    if current_vertex is None:\n",
    "      break\n",
    "    visited[current_vertex] = True\n",
    "\n",
    "    # Update distances to its neighbors\n",
    "    for neighbor, weight in adjacency_list[current_vertex]:\n",
    "      if not visited[neighbor]:\n",
    "        # offering a new distance to neighbor\n",
    "        new_distance = distance[current_vertex] + weight\n",
    "        if new_distance < distance[neighbor]:\n",
    "          distance[neighbor] = new_distance\n",
    "\n",
    "    print(current_vertex)\n",
    "  return distance\n",
    "\n",
    "\n",
    "adjacency_list = {\n",
    "    'A': [('B', 4), ('C', 2)],\n",
    "    'B': [('C', 3), ('D', 2), ('E', 3)],\n",
    "    'C': [('B', 1), ('D', 4), ('E', 5)],\n",
    "    'D': [],\n",
    "    'E': [('D', 1)],\n",
    "}\n",
    "\n",
    "dijkstra(adjacency_list, 'A')"
   ]
  },
  {
   "cell_type": "code",
   "execution_count": 11,
   "metadata": {},
   "outputs": [
    {
     "name": "stdout",
     "output_type": "stream",
     "text": [
      "11\n"
     ]
    }
   ],
   "source": [
    "goal = None\n",
    "\n",
    "numbers = [12, 13, 11, 34]\n",
    "\n",
    "for num in numbers:\n",
    "  if goal is None:\n",
    "    goal = num\n",
    "  if num < goal:\n",
    "    goal = num\n",
    "print(goal)"
   ]
  },
  {
   "cell_type": "markdown",
   "metadata": {},
   "source": [
    "# Dijkstra's Algorithm (2)\n",
    "## Priority Queue"
   ]
  },
  {
   "cell_type": "code",
   "execution_count": 12,
   "metadata": {},
   "outputs": [
    {
     "data": {
      "text/plain": [
       "(60, 'vidhatri')"
      ]
     },
     "execution_count": 12,
     "metadata": {},
     "output_type": "execute_result"
    }
   ],
   "source": [
    "import heapq\n",
    "heap = []\n",
    "\n",
    "heapq.heappush(heap, (80, 'rahul'))  # (priority,items)\n",
    "heapq.heappush(heap, (60, 'vidhatri'))  # (priority,items)\n",
    "heapq.heappush(heap, (70, 'cmd'))  # (priority,items)\n",
    "\n",
    "heapq.heappop(heap)"
   ]
  },
  {
   "cell_type": "code",
   "execution_count": 13,
   "metadata": {},
   "outputs": [
    {
     "name": "stdout",
     "output_type": "stream",
     "text": [
      "B\n",
      "v\n"
     ]
    }
   ],
   "source": [
    "class PriorityQueue:\n",
    "  def __init__(self):\n",
    "    self.heap = []\n",
    "\n",
    "  def is_empty(self):\n",
    "    return len(self.heap) == 0\n",
    "\n",
    "  def enqueue(self, priority, item):  # dijkstra's (vertex, distance)\n",
    "    heapq.heappush(self.heap, (priority, item))\n",
    "\n",
    "  def dequeue(self):\n",
    "    return heapq.heappop(self.heap)[1]\n",
    "\n",
    "\n",
    "pq = PriorityQueue()\n",
    "pq.enqueue(4, 'B')\n",
    "pq.enqueue(5, 'v')\n",
    "print(pq.dequeue())\n",
    "print(pq.dequeue())"
   ]
  },
  {
   "cell_type": "code",
   "execution_count": 14,
   "metadata": {},
   "outputs": [
    {
     "name": "stdout",
     "output_type": "stream",
     "text": [
      "current_vertex='A', []\n",
      "after: [(2, 'C'), (4, 'B')]\n",
      "current_vertex='C', [(4, 'B')]\n",
      "after: [(3, 'B'), (4, 'B'), (6, 'D'), (7, 'E')]\n",
      "current_vertex='B', [(4, 'B'), (7, 'E'), (6, 'D')]\n",
      "after: [(4, 'B'), (5, 'D'), (6, 'D'), (7, 'E'), (6, 'E')]\n",
      "skip current_vertex='B'\n",
      "current_vertex='D', [(6, 'D'), (6, 'E'), (7, 'E')]\n",
      "after: [(6, 'D'), (6, 'E'), (7, 'E')]\n",
      "skip current_vertex='D'\n",
      "current_vertex='E', [(7, 'E')]\n",
      "after: [(7, 'E')]\n",
      "skip current_vertex='E'\n"
     ]
    },
    {
     "data": {
      "text/plain": [
       "{'A': 0, 'B': 3, 'C': 2, 'D': 5, 'E': 6}"
      ]
     },
     "execution_count": 14,
     "metadata": {},
     "output_type": "execute_result"
    }
   ],
   "source": [
    "def dijkstra(adjacency_list, start_vertex):\n",
    "  visited = {vertex: False for vertex in adjacency_list}\n",
    "  distance = {vertex: float('inf') for vertex in adjacency_list}\n",
    "  distance[start_vertex] = 0\n",
    "\n",
    "  pq = PriorityQueue()\n",
    "  pq.enqueue(0, start_vertex)\n",
    "\n",
    "  while not pq.is_empty():\n",
    "    current_vertex = pq.dequeue()\n",
    "    if visited[current_vertex]:\n",
    "      print(f'skip {current_vertex=}')\n",
    "      continue\n",
    "\n",
    "    print(f'{current_vertex=}, {pq.heap}')\n",
    "    visited[current_vertex] = True\n",
    "\n",
    "    # update distances to its neighbors\n",
    "    for neighbor, weight in adjacency_list[current_vertex]:\n",
    "      if not visited[neighbor]:\n",
    "        new_distance = distance[current_vertex] + weight\n",
    "        if new_distance < distance[neighbor]:\n",
    "          distance[neighbor] = new_distance\n",
    "          pq.enqueue(new_distance, neighbor)\n",
    "    print(f'after: {pq.heap}')\n",
    "  return distance\n",
    "\n",
    "\n",
    "adjacency_list = {\n",
    "    'A': [('B', 4), ('C', 2)],\n",
    "    'B': [('C', 3), ('D', 2), ('E', 3)],\n",
    "    'C': [('B', 1), ('D', 4), ('E', 5)],\n",
    "    'D': [],\n",
    "    'E': [('D', 1)],\n",
    "}\n",
    "\n",
    "dijkstra(adjacency_list, 'A')"
   ]
  },
  {
   "cell_type": "markdown",
   "metadata": {},
   "source": [
    "# Bellman-Ford Algorithm"
   ]
  },
  {
   "cell_type": "code",
   "execution_count": 15,
   "metadata": {},
   "outputs": [
    {
     "data": {
      "text/plain": [
       "True"
      ]
     },
     "execution_count": 15,
     "metadata": {},
     "output_type": "execute_result"
    }
   ],
   "source": [
    "def bellman_ford(adjacency_list, start_vertex):\n",
    "  distance = {vertex: float('inf') for vertex in adjacency_list}\n",
    "  distance[start_vertex] = 0\n",
    "\n",
    "  # |v|-1 times loop (relaxation process)\n",
    "  for _ in range(len(adjacency_list) - 1):\n",
    "    for parent in adjacency_list:\n",
    "      if distance[parent] != float('inf'):\n",
    "        for child, weight in adjacency_list[parent]:\n",
    "          new_distance = distance[parent] + weight\n",
    "          if new_distance < distance[child]:\n",
    "            distance[child] = new_distance\n",
    "\n",
    "  return distance\n",
    "\n",
    "\n",
    "adjacency_list = {\n",
    "    0: [(1, 10), (2, 80)],\n",
    "    1: [(2, 6), (4, 20)],\n",
    "    2: [(3, 70)],\n",
    "    4: [(5, 50), (6, 5)],\n",
    "    3: [],\n",
    "    5: [(6, 10)],\n",
    "    6: []\n",
    "}\n",
    "\n",
    "bellman_ford(adjacency_list, 0) == {0: 0, 1: 10, 2: 16, 3: 86, 4: 30, 5: 80, 6: 35}"
   ]
  },
  {
   "cell_type": "code",
   "execution_count": 16,
   "metadata": {},
   "outputs": [
    {
     "data": {
      "text/plain": [
       "True"
      ]
     },
     "execution_count": 16,
     "metadata": {},
     "output_type": "execute_result"
    }
   ],
   "source": [
    "adjacency_list = {\n",
    "    'S': [('E', 8), ('A', 10)],\n",
    "    'E': [('D', 1)],\n",
    "    'A': [('C', 2)],\n",
    "    'D': [('A', -4), ('C', -1)],\n",
    "    'B': [('A', 1)],\n",
    "    'C': [('B', -2)],\n",
    "}\n",
    "\n",
    "bellman_ford(adjacency_list, 'S') == {'S': 0, 'E': 8, 'A': 5, 'D': 9, 'B': 5, 'C': 7}"
   ]
  },
  {
   "cell_type": "markdown",
   "metadata": {},
   "source": [
    "# Dijkstra's algo"
   ]
  },
  {
   "cell_type": "code",
   "execution_count": 17,
   "metadata": {},
   "outputs": [
    {
     "name": "stdout",
     "output_type": "stream",
     "text": [
      "C\n"
     ]
    }
   ],
   "source": [
    "import heapq\n",
    "\n",
    "\n",
    "class PriorityQueue:\n",
    "  def __init__(self):\n",
    "    self.heap = []\n",
    "\n",
    "  def is_empty(self):\n",
    "    return len(self.heap) == 0\n",
    "\n",
    "  def enqueue(self, priority, item):\n",
    "    heapq.heappush(self.heap, (priority, item))\n",
    "\n",
    "  def dequeue(self):\n",
    "    return heapq.heappop(self.heap)[1]\n",
    "\n",
    "  def __str__(self):\n",
    "    return str(self.heap)\n",
    "\n",
    "\n",
    "pq = PriorityQueue()\n",
    "pq.enqueue(4, 'B')\n",
    "pq.enqueue(2, 'C')\n",
    "print(pq.dequeue())\n",
    "\n",
    "# pq.enqueue(80, \"rahul\")\n",
    "# pq.enqueue(50, \"vidhatri\")\n",
    "# pq.enqueue(100, \"cmd\")\n",
    "# print(pq.dequeue())\n",
    "# print(pq.dequeue())\n",
    "# print(pq.dequeue())"
   ]
  },
  {
   "cell_type": "code",
   "execution_count": 18,
   "metadata": {},
   "outputs": [
    {
     "data": {
      "text/plain": [
       "True"
      ]
     },
     "execution_count": 18,
     "metadata": {},
     "output_type": "execute_result"
    }
   ],
   "source": [
    "import heapq\n",
    "\n",
    "\n",
    "class PriorityQueue:\n",
    "  def __init__(self):\n",
    "    self.heap = []\n",
    "\n",
    "  def is_empty(self):\n",
    "    return len(self.heap) == 0\n",
    "\n",
    "  def enqueue(self, priority, item):\n",
    "    heapq.heappush(self.heap, (priority, item))\n",
    "\n",
    "  def dequeue(self):\n",
    "    return heapq.heappop(self.heap)[1]\n",
    "\n",
    "  def __str__(self):\n",
    "    return str(self.heap)\n",
    "\n",
    "\n",
    "def dijkstra(adjacency_list, start_vertex):\n",
    "  visited = {vertex: False for vertex in adjacency_list}\n",
    "  distance = {vertex: float('inf') for vertex in adjacency_list}\n",
    "  distance[start_vertex] = 0\n",
    "\n",
    "  pq = PriorityQueue()\n",
    "  pq.enqueue(0, start_vertex)\n",
    "\n",
    "  while not pq.is_empty():\n",
    "    current_vertex = pq.dequeue()\n",
    "    visited[current_vertex] = True\n",
    "\n",
    "    for neighbor, weight in adjacency_list[current_vertex]:\n",
    "      if not visited[neighbor]:\n",
    "        new_distance = distance[current_vertex] + weight\n",
    "        if new_distance < distance[neighbor]:\n",
    "          distance[neighbor] = new_distance\n",
    "          pq.enqueue(new_distance, neighbor)\n",
    "\n",
    "  return distance\n",
    "\n",
    "\n",
    "adjacency_list = {\n",
    "    'A': [('B', 4), ('C', 2)],\n",
    "    'B': [('C', 3), ('D', 2), ('E', 3)],\n",
    "    'C': [('B', 1), ('D', 4), ('E', 5)],\n",
    "    'D': [],\n",
    "    'E': [('D', 1)],\n",
    "}\n",
    "\n",
    "dijkstra(adjacency_list, 'A') == {'A': 0, 'B': 3, 'C': 2, 'D': 5, 'E': 6}"
   ]
  },
  {
   "cell_type": "code",
   "execution_count": 19,
   "metadata": {},
   "outputs": [
    {
     "data": {
      "text/plain": [
       "True"
      ]
     },
     "execution_count": 19,
     "metadata": {},
     "output_type": "execute_result"
    }
   ],
   "source": [
    "adjacency_list = {\n",
    "    0: [(1, 10), (2, 80)],\n",
    "    1: [(2, 6), (4, 20)],\n",
    "    2: [(3, 70)],\n",
    "    4: [(5, 50), (6, 5)],\n",
    "    3: [],\n",
    "    5: [(6, 10)],\n",
    "    6: []\n",
    "}\n",
    "\n",
    "dijkstra(adjacency_list, 0) == {0: 0, 1: 10.0, 2: 16.0, 3: 86.0, 4: 30.0, 5: 80.0, 6: 35.0}"
   ]
  },
  {
   "cell_type": "markdown",
   "metadata": {},
   "source": [
    "# Floyd Warshall"
   ]
  },
  {
   "cell_type": "code",
   "execution_count": 20,
   "metadata": {},
   "outputs": [
    {
     "data": {
      "text/plain": [
       "True"
      ]
     },
     "execution_count": 20,
     "metadata": {},
     "output_type": "execute_result"
    },
    {
     "data": {
      "text/plain": [
       "[[0, -1, -2, 0], [4, 0, 2, 4], [5, 1, 0, 2], [3, -1, 1, 0]]"
      ]
     },
     "execution_count": 20,
     "metadata": {},
     "output_type": "execute_result"
    }
   ],
   "source": [
    "def floyd(adjacency_list):\n",
    "\n",
    "  # initialize distances matrix with infinities\n",
    "  dist = {u: {u: float('inf') for u in adjacency_list} for u in adjacency_list}\n",
    "\n",
    "  # set distance to self as 0\n",
    "  for u in adjacency_list:\n",
    "    dist[u][u] = 0\n",
    "\n",
    "  # initialize distances based on adjacency list\n",
    "  for u in adjacency_list:\n",
    "    for v, weight in adjacency_list[u]:\n",
    "      dist[u][v] = weight\n",
    "\n",
    "  # triple nested loop to update distances\n",
    "  for k in adjacency_list:\n",
    "    for i in adjacency_list:\n",
    "      for j in adjacency_list:\n",
    "        # core logic\n",
    "        if dist[i][j] > dist[i][k] + dist[k][j]:\n",
    "          dist[i][j] = dist[i][k] + dist[k][j]\n",
    "\n",
    "  return dist\n",
    "\n",
    "\n",
    "adjacency_list = {\n",
    "    1: [(3, -2)],\n",
    "    2: [(1, 4), (3, 3)],\n",
    "    3: [(4, 2)],\n",
    "    4: [(2, -1)],\n",
    "}\n",
    "expected = {1: {1: 0, 2: -1, 3: -2, 4: 0},\n",
    "            2: {1: 4, 2: 0, 3: 2, 4: 4},\n",
    "            3: {1: 5, 2: 1, 3: 0, 4: 2},\n",
    "            4: {1: 3, 2: -1, 3: 1, 4: 0}}\n",
    "\n",
    "dist = floyd(adjacency_list)\n",
    "dist == expected\n",
    "\n",
    "[[dist[u][v] for v in adjacency_list] for u in adjacency_list]"
   ]
  },
  {
   "attachments": {
    "image.png": {
     "image/png": "[encoded data removed]"
    }
   },
   "cell_type": "markdown",
   "metadata": {},
   "source": [
    "![image.png](attachment:image.png)"
   ]
  },
  {
   "cell_type": "code",
   "execution_count": 21,
   "metadata": {},
   "outputs": [
    {
     "data": {
      "text/plain": [
       "{1: {1: 0, 2: inf, 3: -2, 4: inf},\n",
       " 2: {1: 4, 2: 0, 3: 3, 4: inf},\n",
       " 3: {1: inf, 2: inf, 3: 0, 4: 2},\n",
       " 4: {1: inf, 2: -1, 3: inf, 4: 0}}"
      ]
     },
     "execution_count": 21,
     "metadata": {},
     "output_type": "execute_result"
    }
   ],
   "source": [
    "adjacency_list = {\n",
    "    1: [(3, -2)],\n",
    "    2: [(1, 4), (3, 3)],\n",
    "    3: [(4, 2)],\n",
    "    4: [(2, -1)],\n",
    "}\n",
    "\n",
    "vertices = list(adjacency_list)\n",
    "\n",
    "# initialize distances matrix with infinities\n",
    "dist = {u: {u: float('inf') for u in vertices} for u in vertices}\n",
    "\n",
    "# initialize distances based on adjacency list\n",
    "for u in vertices:\n",
    "  for v, weight in adjacency_list[u]:\n",
    "    dist[u][v] = weight\n",
    "\n",
    "# set distance to self as 0\n",
    "for u in vertices:\n",
    "  dist[u][u] = 0\n",
    "\n",
    "dist"
   ]
  },
  {
   "cell_type": "markdown",
   "metadata": {},
   "source": [
    "# dijkstra revise\n",
    "## 2nd approach"
   ]
  },
  {
   "cell_type": "code",
   "execution_count": 22,
   "metadata": {},
   "outputs": [],
   "source": [
    "class PriorityQueue:\n",
    "  def __init__(self):\n",
    "    self.heap = []\n",
    "\n",
    "  def is_empty(self):\n",
    "    return len(self.heap) == 0\n",
    "\n",
    "  def enqueue(self, priority, item):\n",
    "    heapq.heappush(self.heap, (priority, item))\n",
    "\n",
    "  def dequeue(self):\n",
    "    return heapq.heappop(self.heap)[1]\n",
    "\n",
    "  def __str__(self):\n",
    "    return str(self.heap)"
   ]
  },
  {
   "cell_type": "code",
   "execution_count": 23,
   "metadata": {},
   "outputs": [
    {
     "data": {
      "text/plain": [
       "{0: 0, 1: 10, 2: 16, 4: 30, 3: 86, 5: 80, 6: 35}"
      ]
     },
     "execution_count": 23,
     "metadata": {},
     "output_type": "execute_result"
    }
   ],
   "source": [
    "def dijkstra(adjacency_list, start_vertex):\n",
    "  visited = {vertex: False for vertex in adjacency_list}\n",
    "  distance = {vertex: float('inf') for vertex in adjacency_list}\n",
    "  distance[start_vertex] = 0\n",
    "\n",
    "  pq = PriorityQueue()\n",
    "  pq.enqueue(0, start_vertex)\n",
    "\n",
    "  # process the queue until it's empty\n",
    "  while not pq.is_empty():\n",
    "    current_vertex = pq.dequeue()\n",
    "    visited[current_vertex] = True\n",
    "\n",
    "    # update distances to neighbors\n",
    "    for neighbor, weight in adjacency_list[current_vertex]:\n",
    "      # print(neighbor, weight)\n",
    "      if not visited[neighbor]:\n",
    "        new_distance = distance[current_vertex] + weight\n",
    "        if new_distance < distance[neighbor]:\n",
    "          distance[neighbor] = new_distance\n",
    "          pq.enqueue(new_distance, neighbor)\n",
    "\n",
    "  return distance\n",
    "\n",
    "\n",
    "adjacency_list = {\n",
    "    0: [(1, 10), (2, 80)],\n",
    "    1: [(2, 6), (4, 20)],\n",
    "    2: [(3, 70)],\n",
    "    4: [(5, 50), (6, 5)],\n",
    "    3: [],\n",
    "    5: [(6, 10)],\n",
    "    6: []\n",
    "}\n",
    "dijkstra(adjacency_list, 0)"
   ]
  },
  {
   "cell_type": "code",
   "execution_count": 24,
   "metadata": {},
   "outputs": [
    {
     "data": {
      "text/plain": [
       "{'A': 0, 'B': 4, 'C': 2, 'D': inf, 'E': inf}"
      ]
     },
     "execution_count": 24,
     "metadata": {},
     "output_type": "execute_result"
    }
   ],
   "source": [
    "def dijkstra(adjacency_list, start_vertex):\n",
    "  visited = {vertex: False for vertex in adjacency_list}\n",
    "  distance = {vertex: float('inf') for vertex in adjacency_list}\n",
    "  distance[start_vertex] = 0\n",
    "\n",
    "  pq = PriorityQueue()\n",
    "  pq.enqueue(0, start_vertex)\n",
    "\n",
    "  # process the queue until it's empty\n",
    "  while not pq.is_empty():\n",
    "    current_vertex = pq.dequeue()\n",
    "    visited[current_vertex] = True\n",
    "\n",
    "  # update distances to neighbors\n",
    "  for neighbor, weight in adjacency_list[current_vertex]:\n",
    "    if not visited[neighbor]:\n",
    "      new_distance = distance[current_vertex] + weight\n",
    "      if new_distance < distance[neighbor]:\n",
    "        distance[neighbor] = new_distance\n",
    "        pq.enqueue(new_distance, neighbor)\n",
    "\n",
    "  return distance\n",
    "\n",
    "\n",
    "adjacency_list = {\n",
    "    'A': [('B', 4), ('C', 2)],\n",
    "    'B': [('C', 3), ('D', 2), ('E', 3)],\n",
    "    'C': [('B', 1), ('D', 4), ('E', 5)],\n",
    "    'D': [],\n",
    "    'E': [('D', 1)],\n",
    "}\n",
    "\n",
    "dijkstra(adjacency_list, 'A')"
   ]
  },
  {
   "cell_type": "markdown",
   "metadata": {},
   "source": [
    "## 1st approach"
   ]
  },
  {
   "cell_type": "code",
   "execution_count": 25,
   "metadata": {},
   "outputs": [
    {
     "data": {
      "text/plain": [
       "True"
      ]
     },
     "execution_count": 25,
     "metadata": {},
     "output_type": "execute_result"
    }
   ],
   "source": [
    "def dijkstra(adjacency_list, start_vertex):\n",
    "  visited = {vertex: False for vertex in adjacency_list}\n",
    "  distance = {vertex: float('inf') for vertex in adjacency_list}\n",
    "  distance[start_vertex] = 0\n",
    "\n",
    "  # loop until all vertices have been processed\n",
    "  while True:\n",
    "    current_vertex = None\n",
    "    for vertex in adjacency_list:\n",
    "      if not visited[vertex]:\n",
    "        if current_vertex is None or distance[vertex] < distance[current_vertex]:\n",
    "          current_vertex = vertex\n",
    "\n",
    "    if current_vertex is None:\n",
    "      break  # no more vertices to process (all visited)\n",
    "\n",
    "    visited[current_vertex] = True\n",
    "\n",
    "    for neighbor, weight in adjacency_list[current_vertex]:\n",
    "      if not visited[neighbor]:\n",
    "        new_distance = distance[current_vertex] + weight\n",
    "        if new_distance < distance[neighbor]:\n",
    "          distance[neighbor] = new_distance\n",
    "\n",
    "  return distance\n",
    "\n",
    "\n",
    "adjacency_list = {\n",
    "    0: [(1, 10), (2, 80)],\n",
    "    1: [(2, 6), (4, 20)],\n",
    "    2: [(3, 70)],\n",
    "    4: [(5, 50), (6, 5)],\n",
    "    3: [],\n",
    "    5: [(6, 10)],\n",
    "    6: []\n",
    "}\n",
    "dijkstra(adjacency_list, 0) == {0: 0, 1: 10.0, 2: 16.0, 3: 86.0, 4: 30.0, 5: 80.0, 6: 35.0}"
   ]
  },
  {
   "cell_type": "markdown",
   "metadata": {},
   "source": [
    "# Bellman-ford revise"
   ]
  },
  {
   "cell_type": "code",
   "execution_count": 26,
   "metadata": {},
   "outputs": [
    {
     "data": {
      "text/plain": [
       "True"
      ]
     },
     "execution_count": 26,
     "metadata": {},
     "output_type": "execute_result"
    }
   ],
   "source": [
    "def bellman_ford(adjacency_list, start_vertex):\n",
    "  # initialize distances\n",
    "  distance = {vertex: float('inf') for vertex in adjacency_list}\n",
    "  distance[start_vertex] = 0\n",
    "\n",
    "  # relax for all edges |v|-1 times\n",
    "  for _ in range(len(adjacency_list)-1):\n",
    "    for vertex in adjacency_list:\n",
    "      for neighbor, weight in adjacency_list[vertex]:\n",
    "        if distance[vertex] != float('inf'):\n",
    "          new_distance = distance[vertex] + weight\n",
    "          if new_distance < distance[neighbor]:\n",
    "            distance[neighbor] = new_distance\n",
    "\n",
    "  return distance\n",
    "\n",
    "\n",
    "adjacency_list = {\n",
    "    0: [(1, 10), (2, 80)],\n",
    "    1: [(2, 6), (4, 20)],\n",
    "    2: [(3, 70)],\n",
    "    4: [(5, 50), (6, 5)],\n",
    "    3: [],\n",
    "    5: [(6, 10)],\n",
    "    6: []\n",
    "}\n",
    "\n",
    "bellman_ford(adjacency_list, 0) == {0: 0, 1: 10, 2: 16, 3: 86, 4: 30, 5: 80, 6: 35}"
   ]
  },
  {
   "cell_type": "markdown",
   "metadata": {},
   "source": [
    "# Floyd-Warshall revise"
   ]
  },
  {
   "cell_type": "code",
   "execution_count": 27,
   "metadata": {},
   "outputs": [
    {
     "data": {
      "text/plain": [
       "{0: {0: 0, 1: 5, 2: 5, 3: 6, 4: 9, 5: 7, 6: 9, 7: 8},\n",
       " 1: {0: inf, 1: 0, 2: 0, 3: 1, 4: 4, 5: 2, 6: inf, 7: inf},\n",
       " 2: {0: inf, 1: 1, 2: 0, 3: 1, 4: 4, 5: 3, 6: inf, 7: inf},\n",
       " 3: {0: inf, 1: 1, 2: 0, 3: 0, 4: 3, 5: 2, 6: inf, 7: inf},\n",
       " 4: {0: inf, 1: -2, 2: -3, 3: -2, 4: 0, 5: -1, 6: inf, 7: inf},\n",
       " 5: {0: inf, 1: -1, 2: -2, 3: -1, 4: 2, 5: 0, 6: inf, 7: inf},\n",
       " 6: {0: inf, 1: -4, 2: -4, 3: -3, 4: 0, 5: -2, 6: 0, 7: inf},\n",
       " 7: {0: inf, 1: -3, 2: -3, 3: -2, 4: 1, 5: -1, 6: 1, 7: 0}}"
      ]
     },
     "metadata": {},
     "output_type": "display_data"
    },
    {
     "data": {
      "text/plain": [
       "[[0, 5, 5, 6, 9, 7, 9, 8],\n",
       " [inf, 0, 0, 1, 4, 2, inf, inf],\n",
       " [inf, 1, 0, 1, 4, 3, inf, inf],\n",
       " [inf, 1, 0, 0, 3, 2, inf, inf],\n",
       " [inf, -2, -3, -2, 0, -1, inf, inf],\n",
       " [inf, -1, -2, -1, 2, 0, inf, inf],\n",
       " [inf, -4, -4, -3, 0, -2, 0, inf],\n",
       " [inf, -3, -3, -2, 1, -1, 1, 0]]"
      ]
     },
     "execution_count": 27,
     "metadata": {},
     "output_type": "execute_result"
    }
   ],
   "source": [
    "def floyd_warshall(adjacency_list):\n",
    "  vertices = list(adjacency_list)\n",
    "\n",
    "  # initialize distances matrix with infinities\n",
    "  dist = {u: {v: float('inf')for v in vertices}for u in vertices}\n",
    "\n",
    "  # initialize distances based on adjacency_list\n",
    "  for u in adjacency_list:\n",
    "    for v, weight in adjacency_list[u]:\n",
    "      dist[u][v] = weight\n",
    "\n",
    "  # set distance to self as 0\n",
    "  for v in vertices:\n",
    "    dist[v][v] = 0\n",
    "\n",
    "    # triple nested loop to update distances\n",
    "    for k in vertices:\n",
    "      for i in vertices:\n",
    "        for j in vertices:\n",
    "          if dist[i][k] != float('inf') and dist[k][j] != float('inf'):\n",
    "            dist[i][j] = min(dist[i][j], dist[i][k] + dist[k][j])\n",
    "\n",
    "  return dist\n",
    "\n",
    "\n",
    "adjacency_list = {0: [(1, 10), (7, 8)],\n",
    "                  1: [(5, 2)],\n",
    "                  2: [(1, 1), (3, 1)],\n",
    "                  3: [(4, 3)],\n",
    "                  4: [(5, -1)],\n",
    "                  5: [(2, -2)],\n",
    "                  6: [(1, -4), (5, -1)],\n",
    "                  7: [(6, 1)]}\n",
    "\n",
    "dist = floyd_warshall(adjacency_list)\n",
    "display(dist)\n",
    "\n",
    "[list(dist[u].values()) for u in adjacency_list]"
   ]
  },
  {
   "cell_type": "markdown",
   "metadata": {},
   "source": [
    "# Minimum spanning tree algos"
   ]
  },
  {
   "cell_type": "markdown",
   "metadata": {},
   "source": [
    "## Prim's algorithm"
   ]
  },
  {
   "cell_type": "code",
   "execution_count": 28,
   "metadata": {},
   "outputs": [
    {
     "name": "stdout",
     "output_type": "stream",
     "text": [
      "(4, ('B', 'C'))\n",
      "(5, ('A', 'B'))\n"
     ]
    }
   ],
   "source": [
    "import heapq\n",
    "\n",
    "\n",
    "class PriorityQueue:\n",
    "  def __init__(self):\n",
    "    self.heap = []\n",
    "\n",
    "  def is_empty(self):\n",
    "    return len(self.heap) == 0\n",
    "\n",
    "  def enqueue(self, priority, item):\n",
    "    heapq.heappush(self.heap, (priority, item))\n",
    "\n",
    "  def dequeue(self):\n",
    "    return heapq.heappop(self.heap)\n",
    "\n",
    "  def __str__(self):\n",
    "    return str(self.heap)\n",
    "\n",
    "\n",
    "pq = PriorityQueue()\n",
    "pq.enqueue(5, ('A', 'B'))\n",
    "pq.enqueue(4, ('B', 'C'))\n",
    "print(pq.dequeue())\n",
    "print(pq.dequeue())"
   ]
  },
  {
   "cell_type": "code",
   "execution_count": 29,
   "metadata": {},
   "outputs": [
    {
     "data": {
      "text/plain": [
       "[(0, 2, 6), (2, 1, 4), (2, 3, 11)]"
      ]
     },
     "execution_count": 29,
     "metadata": {},
     "output_type": "execute_result"
    }
   ],
   "source": [
    "def prim(adjacency_list, start_vertex):\n",
    "  visited = {vertex: False for vertex in adjacency_list}\n",
    "  visited[start_vertex] = True\n",
    "  mst = []\n",
    "  pq = PriorityQueue()\n",
    "\n",
    "  # add all edges from start_vertex to the priority queue\n",
    "  for neighbor, weight in adjacency_list[start_vertex]:\n",
    "    pq.enqueue(weight, (start_vertex, neighbor))\n",
    "\n",
    "  while not pq.is_empty():\n",
    "    weight, (u, v) = pq.dequeue()\n",
    "\n",
    "    # if the edge connects to an unvisited node, add this edge to the mst\n",
    "    if not visited[v]:\n",
    "      mst.append((u, v, weight))\n",
    "      visited[v] = True\n",
    "\n",
    "      # and enqueue neighboring edges (of v)\n",
    "      for next_neighbor, next_weight in adjacency_list[v]:\n",
    "        pq.enqueue(next_weight, (v, next_neighbor))\n",
    "\n",
    "  return mst\n",
    "\n",
    "\n",
    "adjacency_list = {\n",
    "    0: [(1, 10), (2, 6)],\n",
    "    1: [(0, 10), (3, 15), (2, 4)],\n",
    "    2: [(0, 6), (1, 4), (3, 11)],\n",
    "    3: [(1, 15), (2, 11)]\n",
    "}\n",
    "\n",
    "prim(adjacency_list, 0)"
   ]
  },
  {
   "cell_type": "code",
   "execution_count": 30,
   "metadata": {},
   "outputs": [
    {
     "data": {
      "text/plain": [
       "True"
      ]
     },
     "execution_count": 30,
     "metadata": {},
     "output_type": "execute_result"
    }
   ],
   "source": [
    "adjacency_list = {\n",
    "    'A': [('C', 3), ('D', 3), ('B', 2)],\n",
    "    'B': [('A', 2), ('C', 4), ('E', 3)],\n",
    "    'C': [('A', 3), ('B', 4), ('F', 6), ('E', 1)],\n",
    "    'D': [('A', 3), ('F', 7)],\n",
    "    'E': [('B', 3), ('C', 1), ('F', 8)],\n",
    "    'F': [('D', 7), ('E', 8), ('G', 9), ('C', 6)],\n",
    "    'G': [('F', 9)]\n",
    "}\n",
    "\n",
    "prim(adjacency_list, 'A') == [('A', 'B', 2),\n",
    "                              ('A', 'C', 3),\n",
    "                              ('C', 'E', 1),\n",
    "                              ('A', 'D', 3),\n",
    "                              ('C', 'F', 6),\n",
    "                              ('F', 'G', 9)]"
   ]
  },
  {
   "cell_type": "markdown",
   "metadata": {},
   "source": [
    "## Kruskal's Algorithm"
   ]
  },
  {
   "cell_type": "code",
   "execution_count": 31,
   "metadata": {},
   "outputs": [
    {
     "data": {
      "text/plain": [
       "True"
      ]
     },
     "execution_count": 31,
     "metadata": {},
     "output_type": "execute_result"
    }
   ],
   "source": [
    "def kruskal(adjacency_list):\n",
    "  edges = []\n",
    "  for u in adjacency_list:\n",
    "    for v, weight in adjacency_list[u]:\n",
    "      edges.append((weight, u, v))\n",
    "\n",
    "  # sort edges by weight\n",
    "  edges.sort()\n",
    "\n",
    "  # initialize the parent dictionary, mst\n",
    "  parent = {vertex: vertex for vertex in adjacency_list}\n",
    "  mst = []\n",
    "\n",
    "  def find(node):\n",
    "    while parent[node] != node:\n",
    "      node = parent[node]\n",
    "    return node\n",
    "\n",
    "  # looping over all the edges\n",
    "  for weight, u, v in edges:\n",
    "    # try joining u -> v\n",
    "    root1 = find(u)\n",
    "    root2 = find(v)\n",
    "    if root1 != root2:\n",
    "      parent[root2] = root1\n",
    "      mst.append((u, v, weight))\n",
    "\n",
    "  return mst\n",
    "\n",
    "\n",
    "adjacency_list = {\n",
    "    0: [(1, 10), (2, 6)],\n",
    "    1: [(0, 10), (3, 15), (2, 4)],\n",
    "    2: [(0, 6), (1, 4), (3, 11)],\n",
    "    3: [(1, 15), (2, 11)]\n",
    "}\n",
    "\n",
    "kruskal(adjacency_list) == [(1, 2, 4), (0, 2, 6), (2, 3, 11)]"
   ]
  },
  {
   "cell_type": "code",
   "execution_count": 32,
   "metadata": {},
   "outputs": [
    {
     "data": {
      "text/plain": [
       "True"
      ]
     },
     "execution_count": 32,
     "metadata": {},
     "output_type": "execute_result"
    }
   ],
   "source": [
    "adjacency_list = {\n",
    "    'A': [('C', 3), ('D', 3), ('B', 2)],\n",
    "    'B': [('A', 2), ('C', 4), ('E', 3)],\n",
    "    'C': [('A', 3), ('B', 4), ('F', 6), ('E', 1)],\n",
    "    'D': [('A', 3), ('F', 7)],\n",
    "    'E': [('B', 3), ('C', 1), ('F', 8)],\n",
    "    'F': [('D', 7), ('E', 8), ('G', 9), ('C', 6)],\n",
    "    'G': [('F', 9)]\n",
    "}\n",
    "\n",
    "kruskal(adjacency_list) == [('C', 'E', 1),\n",
    "                            ('A', 'B', 2),\n",
    "                            ('A', 'C', 3),\n",
    "                            ('A', 'D', 3),\n",
    "                            ('C', 'F', 6),\n",
    "                            ('F', 'G', 9)]"
   ]
  },
  {
   "cell_type": "markdown",
   "metadata": {},
   "source": [
    "# MCST revise"
   ]
  },
  {
   "cell_type": "code",
   "execution_count": 33,
   "metadata": {},
   "outputs": [
    {
     "data": {
      "text/plain": [
       "[(0, 1, 10)]"
      ]
     },
     "execution_count": 33,
     "metadata": {},
     "output_type": "execute_result"
    },
    {
     "data": {
      "text/plain": [
       "[(1, 3, 15)]"
      ]
     },
     "execution_count": 33,
     "metadata": {},
     "output_type": "execute_result"
    },
    {
     "data": {
      "text/plain": [
       "[(2, 3, 11)]"
      ]
     },
     "execution_count": 33,
     "metadata": {},
     "output_type": "execute_result"
    },
    {
     "data": {
      "text/plain": [
       "[(3, 1, 15)]"
      ]
     },
     "execution_count": 33,
     "metadata": {},
     "output_type": "execute_result"
    }
   ],
   "source": [
    "def prim(adjacency_list, start_vertex):\n",
    "  mst = []\n",
    "  pq = PriorityQueue()\n",
    "  visited = {vertex: False for vertex in adjacency_list}\n",
    "  visited[start_vertex] = True\n",
    "\n",
    "  # add all edges from start_vertex to the priority queue\n",
    "  for neighbor, weight in adjacency_list[start_vertex]:\n",
    "    pq.enqueue(weight, (start_vertex, neighbor))\n",
    "\n",
    "  while not pq.is_empty():\n",
    "    weight, (u, v) = pq.dequeue()\n",
    "\n",
    "  # if the edge connects to an unvisited node, add this edge to the mst\n",
    "  if not visited[v]:\n",
    "    mst.append((u, v, weight))\n",
    "    visited[v] = True\n",
    "\n",
    "    # enqueue edges of v that connect to unvisited nodes\n",
    "    for next_neighbor, next_vertex in adjacency_list[v]:\n",
    "      if not visited[next_neighbor]:\n",
    "        pq.enqueue(next_vertex, (v, weight))\n",
    "\n",
    "  return mst\n",
    "\n",
    "\n",
    "adjacency_list = {\n",
    "    0: [(1, 10), (2, 6)],\n",
    "    1: [(0, 10), (3, 15), (2, 4)],\n",
    "    2: [(0, 6), (1, 4), (3, 11)],\n",
    "    3: [(1, 15), (2, 11)]\n",
    "}\n",
    "\n",
    "prim(adjacency_list, 0)\n",
    "prim(adjacency_list, 1)\n",
    "prim(adjacency_list, 2)\n",
    "prim(adjacency_list, 3)"
   ]
  },
  {
   "cell_type": "code",
   "execution_count": 34,
   "metadata": {},
   "outputs": [
    {
     "data": {
      "text/plain": [
       "[(3, 1, 15)]"
      ]
     },
     "execution_count": 34,
     "metadata": {},
     "output_type": "execute_result"
    }
   ],
   "source": [
    "# wrong ans👎\n",
    "\n",
    "def kruskal(adjacency_list):\n",
    "  mst = []\n",
    "\n",
    "  edges = []\n",
    "  for vertex in adjacency_list:\n",
    "    for neighbor, weight in adjacency_list[vertex]:\n",
    "      edges.append((weight, vertex, neighbor))\n",
    "  edges.sort()\n",
    "\n",
    "  parent = {vertex: vertex for vertex in adjacency_list}\n",
    "\n",
    "  def find(node):\n",
    "    while parent[node] != node:\n",
    "      node = parent[node]\n",
    "    return node\n",
    "\n",
    "  for weight, u, v in edges:\n",
    "    root1 = find(u)\n",
    "    root2 = find(v)\n",
    "  if root1 != root2:\n",
    "    parent[root2] = root1\n",
    "    mst.append((u, v, weight))\n",
    "\n",
    "  return mst\n",
    "\n",
    "\n",
    "adjacency_list = {\n",
    "    0: [(1, 10), (2, 6)],\n",
    "    1: [(0, 10), (3, 15), (2, 4)],\n",
    "    2: [(0, 6), (1, 4), (3, 11)],\n",
    "    3: [(1, 15), (2, 11)]\n",
    "}\n",
    "kruskal(adjacency_list)"
   ]
  },
  {
   "cell_type": "code",
   "execution_count": 35,
   "metadata": {},
   "outputs": [
    {
     "data": {
      "text/plain": [
       "True"
      ]
     },
     "execution_count": 35,
     "metadata": {},
     "output_type": "execute_result"
    }
   ],
   "source": [
    "def kruskal(adjacency_list):\n",
    "  mst = []\n",
    "\n",
    "  edges = []\n",
    "  for vertex in adjacency_list:\n",
    "    for neighbor, weight in adjacency_list[vertex]:\n",
    "      edges.append((weight, vertex, neighbor))\n",
    "  edges.sort()\n",
    "\n",
    "  parent = {vertex: vertex for vertex in adjacency_list}\n",
    "\n",
    "  def find(node):\n",
    "    while parent[node] != node:\n",
    "      node = parent[node]\n",
    "    return node\n",
    "\n",
    "  for weight, u, v in edges:\n",
    "    root1 = find(u)\n",
    "    root2 = find(v)\n",
    "    if root1 != root2:\n",
    "      parent[root2] = root1\n",
    "      mst.append((u, v, weight))\n",
    "\n",
    "  return mst\n",
    "\n",
    "\n",
    "adjacency_list = {\n",
    "    0: [(1, 10), (2, 6)],\n",
    "    1: [(0, 10), (3, 15), (2, 4)],\n",
    "    2: [(0, 6), (1, 4), (3, 11)],\n",
    "    3: [(1, 15), (2, 11)]\n",
    "}\n",
    "\n",
    "kruskal(adjacency_list) == [(1, 2, 4), (0, 2, 6), (2, 3, 11)]"
   ]
  },
  {
   "cell_type": "markdown",
   "metadata": {},
   "source": [
    "# July 18"
   ]
  },
  {
   "cell_type": "code",
   "execution_count": 36,
   "metadata": {},
   "outputs": [
    {
     "name": "stdout",
     "output_type": "stream",
     "text": [
      "C\n",
      "B\n"
     ]
    }
   ],
   "source": [
    "import heapq\n",
    "\n",
    "\n",
    "class PriorityQueue:\n",
    "  def __init__(self):\n",
    "    self.heap = []\n",
    "\n",
    "  def is_empty(self):\n",
    "    return len(self.heap) == 0\n",
    "\n",
    "  def enqueue(self, priority, items):\n",
    "    heapq.heappush(self.heap, (priority, items))\n",
    "\n",
    "  def dequeue(self):\n",
    "    return heapq.heappop(self.heap)[1]\n",
    "\n",
    "\n",
    "pq = PriorityQueue()\n",
    "pq.enqueue(4, 'B')\n",
    "pq.enqueue(2, 'C')\n",
    "print(pq.dequeue())\n",
    "print(pq.dequeue())"
   ]
  },
  {
   "cell_type": "code",
   "execution_count": 37,
   "metadata": {},
   "outputs": [
    {
     "data": {
      "text/plain": [
       "True"
      ]
     },
     "execution_count": 37,
     "metadata": {},
     "output_type": "execute_result"
    }
   ],
   "source": [
    "def dijkstra(adjacency_list, start_vertex):\n",
    "  visited = {vertex: False for vertex in adjacency_list}\n",
    "\n",
    "  distance = {vertex: float('inf') for vertex in adjacency_list}\n",
    "  distance[start_vertex] = 0\n",
    "\n",
    "  pq = PriorityQueue()\n",
    "  pq.enqueue(0, start_vertex)\n",
    "\n",
    "  while not pq.is_empty():\n",
    "    current_vertex = pq.dequeue()\n",
    "    visited[current_vertex] = True\n",
    "\n",
    "    for neighbor, weight in adjacency_list[current_vertex]:\n",
    "      if not visited[neighbor]:\n",
    "        new_distance = distance[current_vertex] + weight\n",
    "        if new_distance < distance[neighbor]:\n",
    "          distance[neighbor] = new_distance\n",
    "          pq.enqueue(new_distance, neighbor)\n",
    "\n",
    "  return distance\n",
    "\n",
    "\n",
    "adjacency_list = {\n",
    "    'A': [('B', 4), ('C', 2)],\n",
    "    'B': [('C', 3), ('D', 2), ('E', 3)],\n",
    "    'C': [('B', 1), ('D', 4), ('E', 5)],\n",
    "    'D': [],\n",
    "    'E': [('D', 1)],\n",
    "}\n",
    "\n",
    "dijkstra(adjacency_list, 'A') == {'A': 0, 'B': 3, 'C': 2, 'D': 5, 'E': 6}"
   ]
  },
  {
   "cell_type": "code",
   "execution_count": 38,
   "metadata": {},
   "outputs": [
    {
     "data": {
      "text/plain": [
       "True"
      ]
     },
     "execution_count": 38,
     "metadata": {},
     "output_type": "execute_result"
    }
   ],
   "source": [
    "def bellman_ford(adjacency_list, start_vertex):\n",
    "  distance = {vertex: float('inf') for vertex in adjacency_list}\n",
    "  distance[start_vertex] = 0\n",
    "\n",
    "  for _ in range(len(adjacency_list) - 1):\n",
    "    for vertex in adjacency_list:\n",
    "      for neighbor, weight in adjacency_list[vertex]:\n",
    "        new_distance = distance[vertex] + weight\n",
    "        if new_distance < distance[neighbor]:\n",
    "          distance[neighbor] = new_distance\n",
    "  return distance\n",
    "\n",
    "\n",
    "adjacency_list = {\n",
    "    'S': [('E', 8), ('A', 10)],\n",
    "    'E': [('D', 1)],\n",
    "    'A': [('C', 2)],\n",
    "    'D': [('A', -4), ('C', -1)],\n",
    "    'B': [('A', 1)],\n",
    "    'C': [('B', -2)],\n",
    "}\n",
    "\n",
    "bellman_ford(adjacency_list, 'S') == {'S': 0, 'E': 8, 'A': 5, 'D': 9, 'B': 5, 'C': 7}"
   ]
  },
  {
   "cell_type": "code",
   "execution_count": 39,
   "metadata": {},
   "outputs": [
    {
     "data": {
      "text/plain": [
       "True"
      ]
     },
     "execution_count": 39,
     "metadata": {},
     "output_type": "execute_result"
    }
   ],
   "source": [
    "def floyd(adjacency_list):\n",
    "  dist = {u: {v: float('inf') for v in adjacency_list}for u in adjacency_list}\n",
    "\n",
    "  for vertex in adjacency_list:\n",
    "    dist[vertex][vertex] = 0\n",
    "\n",
    "  for vertex in adjacency_list:\n",
    "    for neighbor, weight in adjacency_list[vertex]:\n",
    "      dist[vertex][neighbor] = weight\n",
    "\n",
    "  for k in adjacency_list:\n",
    "    for i in adjacency_list:\n",
    "      for j in adjacency_list:\n",
    "        if dist[i][j] > dist[i][k] + dist[k][j]:\n",
    "          dist[i][j] = dist[i][k] + dist[k][j]\n",
    "\n",
    "  return dist\n",
    "\n",
    "\n",
    "adjacency_list = {\n",
    "    1: [(3, -2)],\n",
    "    2: [(1, 4), (3, 3)],\n",
    "    3: [(4, 2)],\n",
    "    4: [(2, -1)],\n",
    "}\n",
    "\n",
    "floyd(adjacency_list) == {1: {1: 0, 2: -1, 3: -2, 4: 0},\n",
    "                          2: {1: 4, 2: 0, 3: 2, 4: 4},\n",
    "                          3: {1: 5, 2: 1, 3: 0, 4: 2},\n",
    "                          4: {1: 3, 2: -1, 3: 1, 4: 0}}"
   ]
  },
  {
   "cell_type": "code",
   "execution_count": 40,
   "metadata": {},
   "outputs": [
    {
     "name": "stdout",
     "output_type": "stream",
     "text": [
      "('B', 'H')\n",
      "('A', 'B')\n"
     ]
    }
   ],
   "source": [
    "import heapq\n",
    "\n",
    "\n",
    "class PriorityQueue:\n",
    "  def __init__(self):\n",
    "    self.heap = []\n",
    "\n",
    "  def is_empty(self):\n",
    "    return len(self.heap) == 0\n",
    "\n",
    "  def enqueue(self, priority, item):\n",
    "    heapq.heappush(self.heap, (priority, item))\n",
    "\n",
    "  def dequeue(self):\n",
    "    return heapq.heappop(self.heap)\n",
    "\n",
    "  pq = PriorityQueue()\n",
    "  pq.enqueue(5, ('A', 'B'))\n",
    "  pq.enqueue(2, ('B', 'H'))\n",
    "  print(pq.dequeue())\n",
    "  print(pq.dequeue())"
   ]
  },
  {
   "cell_type": "code",
   "execution_count": 41,
   "metadata": {},
   "outputs": [
    {
     "data": {
      "text/plain": [
       "True"
      ]
     },
     "execution_count": 41,
     "metadata": {},
     "output_type": "execute_result"
    }
   ],
   "source": [
    "def prim(adjacency_list, start_vertex):\n",
    "  mst = []\n",
    "  pq = PriorityQueue()\n",
    "  visited = {vertex: False for vertex in adjacency_list}\n",
    "  visited[start_vertex] = True\n",
    "\n",
    "  for neighbor, weight in adjacency_list[start_vertex]:\n",
    "    pq.enqueue(weight, (start_vertex, neighbor))\n",
    "\n",
    "  while not pq.is_empty():\n",
    "    weight, (u, v) = pq.dequeue()\n",
    "\n",
    "    if not visited[v]:\n",
    "      mst.append((u, v, weight))\n",
    "      visited[v] = True\n",
    "      for next_neighbor, next_weight in adjacency_list[v]:\n",
    "        if not visited[next_neighbor]:\n",
    "          pq.enqueue(next_weight, (v, next_neighbor))\n",
    "\n",
    "  return mst\n",
    "\n",
    "\n",
    "adjacency_list = {\n",
    "    0: [(1, 10), (2, 6)],\n",
    "    1: [(0, 10), (3, 15), (2, 4)],\n",
    "    2: [(0, 6), (1, 4), (3, 11)],\n",
    "    3: [(1, 15), (2, 11)]\n",
    "}\n",
    "\n",
    "prim(adjacency_list, 0) == [(0, 2, 6), (2, 1, 4), (2, 3, 11)]"
   ]
  },
  {
   "cell_type": "code",
   "execution_count": 42,
   "metadata": {},
   "outputs": [
    {
     "data": {
      "text/plain": [
       "True"
      ]
     },
     "execution_count": 42,
     "metadata": {},
     "output_type": "execute_result"
    }
   ],
   "source": [
    "def kruskal(adjacency_list):\n",
    "  mst = []\n",
    "\n",
    "  edges = []\n",
    "  for vertex in adjacency_list:\n",
    "    for neighbor, weight in adjacency_list[vertex]:\n",
    "      edges.append((weight, vertex, neighbor))\n",
    "  edges.sort()\n",
    "\n",
    "  parent = {vertex: vertex for vertex in adjacency_list}\n",
    "\n",
    "  def find(node):\n",
    "    while parent[node] != node:\n",
    "      node = parent[node]\n",
    "    return node\n",
    "\n",
    "  for weight, u, v in edges:\n",
    "    root1 = find(u)\n",
    "    root2 = find(v)\n",
    "    if root1 != root2:\n",
    "      parent[root2] = root1\n",
    "      mst.append((u, v, weight))\n",
    "  return mst\n",
    "\n",
    "\n",
    "adjacency_list = {\n",
    "    0: [(1, 10), (2, 6)],\n",
    "    1: [(0, 10), (3, 15), (2, 4)],\n",
    "    2: [(0, 6), (1, 4), (3, 11)],\n",
    "    3: [(1, 15), (2, 11)]\n",
    "}\n",
    "\n",
    "kruskal(adjacency_list) == [(1, 2, 4), (0, 2, 6), (2, 3, 11)]"
   ]
  },
  {
   "cell_type": "markdown",
   "metadata": {},
   "source": [
    "## GRPAs try"
   ]
  },
  {
   "cell_type": "code",
   "execution_count": 43,
   "metadata": {},
   "outputs": [
    {
     "data": {
      "text/plain": [
       "{'A': [('B', 10)], 'B': [('H', 20)], 'H': []}"
      ]
     },
     "execution_count": 43,
     "metadata": {},
     "output_type": "execute_result"
    },
    {
     "data": {
      "text/plain": [
       "{'A': [('B', 10)], 'B': [('A', 10), ('H', 20)], 'H': [('B', 20)]}"
      ]
     },
     "execution_count": 43,
     "metadata": {},
     "output_type": "execute_result"
    }
   ],
   "source": [
    "def create_directed_adjacency_list(edges):\n",
    "  vertices = set()\n",
    "  for u, v, w in edges:\n",
    "    vertices.add(u)\n",
    "    vertices.add(v)\n",
    "\n",
    "  adjacency_list = {}\n",
    "  for v in vertices:\n",
    "    adjacency_list[v] = []\n",
    "  for u, v, w in edges:\n",
    "    adjacency_list[u].append((v, w))\n",
    "  return adjacency_list\n",
    "\n",
    "\n",
    "def create_undirected_adjacency_list(edges):\n",
    "  vertices = set()\n",
    "  for u, v, w in edges:\n",
    "    vertices.add(u)\n",
    "    vertices.add(v)\n",
    "\n",
    "  adjacency_list = {}\n",
    "  for v in vertices:\n",
    "    adjacency_list[v] = []\n",
    "  for u, v, w in edges:\n",
    "    adjacency_list[u].append((v, w))\n",
    "    adjacency_list[v].append((u, w))\n",
    "  return adjacency_list\n",
    "\n",
    "\n",
    "create_directed_adjacency_list([('A', 'B', 10), ('B', 'H', 20)])\n",
    "create_undirected_adjacency_list([('A', 'B', 10), ('B', 'H', 20)])"
   ]
  },
  {
   "cell_type": "code",
   "execution_count": 51,
   "metadata": {},
   "outputs": [
    {
     "data": {
      "text/plain": [
       "[(0, 1, 10), (2, 4, 20), (1, 2, 30), (4, 6, 37), (1, 3, 40), (5, 6, 45)]"
      ]
     },
     "metadata": {},
     "output_type": "display_data"
    },
    {
     "data": {
      "text/plain": [
       "182"
      ]
     },
     "execution_count": 51,
     "metadata": {},
     "output_type": "execute_result"
    }
   ],
   "source": [
    "# grpa 1 wrong👎 ans\n",
    "\n",
    "def kruskal(adjacency_list):\n",
    "  mst = []\n",
    "\n",
    "  edges = []\n",
    "  for vertex in adjacency_list:\n",
    "    for neighbor, weight in adjacency_list[vertex]:\n",
    "      edges.append((weight, vertex, neighbor))\n",
    "  edges.sort()\n",
    "\n",
    "  parent = {vertex: vertex for vertex in adjacency_list}\n",
    "\n",
    "  def find(node):\n",
    "    while parent[node] != node:\n",
    "      node = parent[node]\n",
    "    return node\n",
    "\n",
    "  for weight, u, v in edges:\n",
    "    root1 = find(u)\n",
    "    root2 = find(v)\n",
    "    if root1 != root2:\n",
    "      parent[root2] = root1\n",
    "      mst.append((u, v, weight))\n",
    "\n",
    "  return mst\n",
    "\n",
    "\n",
    "def fiber_link(adjacency_list):\n",
    "  mst = kruskal(adjacency_list)\n",
    "  display(mst)\n",
    "  fiber_length = 0\n",
    "  for u, v, weight in mst:\n",
    "    fiber_length += weight\n",
    "  return fiber_length\n",
    "\n",
    "\n",
    "edges = [(0, 1, 10), (0, 2, 50), (0, 3, 300), (5, 6, 45), (2, 1, 30),\n",
    "         (6, 4, 37), (1, 6, 65), (2, 5, 76), (1, 3, 40), (3, 4, 60), (2, 4, 20)]\n",
    "fiber_link(create_undirected_adjacency_list(edges))  # == 182"
   ]
  },
  {
   "cell_type": "code",
   "execution_count": 53,
   "metadata": {},
   "outputs": [
    {
     "name": "stdout",
     "output_type": "stream",
     "text": [
      "A\n",
      "B\n"
     ]
    }
   ],
   "source": [
    "import heapq\n",
    "\n",
    "\n",
    "class PriorityQueue:\n",
    "  def __init__(self):\n",
    "    self.heap = []\n",
    "\n",
    "  def is_empty(self):\n",
    "    return len(self.heap) == 0\n",
    "\n",
    "  def enqueue(self, priority, item):\n",
    "    heapq.heappush(self.heap, (priority, item))\n",
    "\n",
    "  def dequeue(self):\n",
    "    return heapq.heappop(self.heap)[1]\n",
    "\n",
    "\n",
    "pq = PriorityQueue()\n",
    "pq.enqueue(2, 'A')\n",
    "pq.enqueue(3, 'B')\n",
    "print(pq.dequeue())\n",
    "print(pq.dequeue())"
   ]
  },
  {
   "cell_type": "code",
   "execution_count": 46,
   "metadata": {},
   "outputs": [
    {
     "data": {
      "text/plain": [
       "({'A': 0, 'B': 3, 'C': 2, 'D': 5, 'E': 6},\n",
       " {'A': None, 'B': 'C', 'C': 'A', 'D': 'B', 'E': 'B'})"
      ]
     },
     "execution_count": 46,
     "metadata": {},
     "output_type": "execute_result"
    }
   ],
   "source": [
    "# grpa 2\n",
    "\n",
    "def dijkstra(adjacency_list, start_vertex):\n",
    "  visited = {vertex: False for vertex in adjacency_list}\n",
    "  predecessor = {vertex: None for vertex in adjacency_list}\n",
    "  distance = {vertex: float('inf') for vertex in adjacency_list}\n",
    "  distance[start_vertex] = 0\n",
    "\n",
    "  pq = PriorityQueue()\n",
    "  pq.enqueue(0, start_vertex)\n",
    "\n",
    "  while not pq.is_empty():\n",
    "    current_vertex = pq.dequeue()\n",
    "    visited[current_vertex] = True\n",
    "\n",
    "    for neighbor, weight in adjacency_list[current_vertex]:\n",
    "      if not visited[neighbor]:\n",
    "        new_distance = distance[current_vertex] + weight\n",
    "        if new_distance < distance[neighbor]:\n",
    "          distance[neighbor] = new_distance\n",
    "          pq.enqueue(new_distance, neighbor)\n",
    "          predecessor[neighbor] = current_vertex\n",
    "\n",
    "  return distance, predecessor\n",
    "\n",
    "\n",
    "adjacency_list = {\n",
    "    'A': [('B', 4), ('C', 2)],\n",
    "    'B': [('C', 3), ('D', 2), ('E', 3)],\n",
    "    'C': [('B', 1), ('D', 4), ('E', 5)],\n",
    "    'D': [],\n",
    "    'E': [('D', 1)],\n",
    "}\n",
    "\n",
    "dijkstra(adjacency_list, 'A')  # {'A': 0, 'B': 3, 'C': 2, 'D': 5, 'E': 6}"
   ]
  },
  {
   "cell_type": "code",
   "execution_count": 54,
   "metadata": {},
   "outputs": [],
   "source": [
    "# got it wrong 👎\n",
    "\n",
    "def construct_path(predecessor, destination):\n",
    "  path = []\n",
    "\n",
    "  while destination is not None:\n",
    "    path.append(destination)\n",
    "    destination = predecessor[destination]\n",
    "  path.reverse()\n",
    "  return path\n",
    "\n",
    "\n",
    "def min_cost_walk(adjacency_list, S, D, V):\n",
    "  dist_S, predecessor_S = dijkstra(adjacency_list, S)\n",
    "  dist_V, predecessor_V = dijkstra(adjacency_list, V)\n",
    "\n",
    "  path_S = construct_path(predecessor_S, V)\n",
    "  path_V = construct_path(predecessor_V, D)\n",
    "\n",
    "  total_distance = dist_S[V] + dist_V[D]\n",
    "  walk_route = path_S[:-1] + path_V\n",
    "  return total_distance, walk_route"
   ]
  },
  {
   "cell_type": "code",
   "execution_count": 55,
   "metadata": {},
   "outputs": [
    {
     "data": {
      "text/plain": [
       "(198, [0, 1, 2, 5, 6, 4])"
      ]
     },
     "execution_count": 55,
     "metadata": {},
     "output_type": "execute_result"
    }
   ],
   "source": [
    "edges = [(0, 1, 10), (0, 2, 50), (0, 3, 300), (5, 6, 45), (2, 1, 30),\n",
    "         (6, 4, 37), (1, 6, 65), (2, 5, 76), (1, 3, 40), (3, 4, 60), (2, 4, 20)]\n",
    "min_cost_walk(create_undirected_adjacency_list(edges), 0, 4, 5)  # (198, [0, 1, 2, 5, 6, 4])"
   ]
  },
  {
   "cell_type": "code",
   "execution_count": 71,
   "metadata": {},
   "outputs": [
    {
     "data": {
      "text/plain": [
       "{'A': [('B', 10)], 'B': [('H', 20)], 'H': []}"
      ]
     },
     "execution_count": 71,
     "metadata": {},
     "output_type": "execute_result"
    },
    {
     "data": {
      "text/plain": [
       "{'A': [('B', 10)], 'B': [('A', 10), ('H', 20)], 'H': [('B', 20)]}"
      ]
     },
     "execution_count": 71,
     "metadata": {},
     "output_type": "execute_result"
    }
   ],
   "source": [
    "def create_directed_adjacency_list(edges):\n",
    "  vertices = set()\n",
    "  for u, v, w in edges:\n",
    "    vertices.add(u)\n",
    "    vertices.add(v)\n",
    "\n",
    "  adjacency_list = {}\n",
    "  for v in vertices:\n",
    "    adjacency_list[v] = []\n",
    "  for u, v, w in edges:\n",
    "    adjacency_list[u].append((v, w))  # u -> v\n",
    "  return adjacency_list\n",
    "\n",
    "\n",
    "def create_undirected_adjacency_list(edges):\n",
    "  vertices = set()\n",
    "  for u, v, w in edges:\n",
    "    vertices.add(u)\n",
    "    vertices.add(v)\n",
    "\n",
    "  adjacency_list = {}\n",
    "  for v in vertices:\n",
    "    adjacency_list[v] = []\n",
    "  for u, v, w in edges:\n",
    "    adjacency_list[u].append((v, w))  # u -> v (undirected graph)\n",
    "    adjacency_list[v].append((u, w))  # v -> u (undirected graph)\n",
    "  return adjacency_list\n",
    "\n",
    "\n",
    "create_directed_adjacency_list([('A', 'B', 10), ('B', 'H', 20)])\n",
    "create_undirected_adjacency_list([('A', 'B', 10), ('B', 'H', 20)])"
   ]
  },
  {
   "cell_type": "code",
   "execution_count": 76,
   "metadata": {},
   "outputs": [
    {
     "name": "stdout",
     "output_type": "stream",
     "text": [
      "distance=None\n"
     ]
    },
    {
     "data": {
      "text/plain": [
       "True"
      ]
     },
     "execution_count": 76,
     "metadata": {},
     "output_type": "execute_result"
    }
   ],
   "source": [
    "# grpa 3\n",
    "\n",
    "# Bellman-Ford Algorithm (standard implementation with cycle detection)\n",
    "def bellman_ford(adjacency_list, start_vertex):\n",
    "  distance = {vertex: float('inf') for vertex in adjacency_list}\n",
    "  distance[start_vertex] = 0\n",
    "\n",
    "  # Relax all edges |V|-1 times\n",
    "  for _ in range(len(adjacency_list)-1):\n",
    "    for vertex in adjacency_list:\n",
    "      for neighbor, weight in adjacency_list[vertex]:\n",
    "        new_distance = distance[vertex] + weight\n",
    "        if new_distance < distance[neighbor]:\n",
    "          distance[neighbor] = new_distance\n",
    "\n",
    "  # Check all edges one more time for cycle detection\n",
    "  for vertex in adjacency_list:\n",
    "    for neighbor, weight in adjacency_list[vertex]:\n",
    "      # same as dijkstra: you offer better distances to neighbors\n",
    "      new_distance = distance[vertex] + weight\n",
    "      if new_distance < distance[neighbor]:\n",
    "        return None\n",
    "  return distance\n",
    "\n",
    "\n",
    "def is_negative_weight_cycle_present(adjacency_list):\n",
    "  distance = bellman_ford(adjacency_list, 0)\n",
    "  print(f'{distance=}')\n",
    "  return distance is None\n",
    "\n",
    "\n",
    "edges = [(0, 1, 10), (0, 2, -5), (0, 3, 2), (3, 2, -5), (2, 1, -20), (1, 3, 10)]\n",
    "is_negative_weight_cycle_present(create_directed_adjacency_list(edges)) == True"
   ]
  },
  {
   "cell_type": "code",
   "execution_count": 77,
   "metadata": {},
   "outputs": [
    {
     "name": "stdout",
     "output_type": "stream",
     "text": [
      "distance=None\n"
     ]
    },
    {
     "data": {
      "text/plain": [
       "True"
      ]
     },
     "execution_count": 77,
     "metadata": {},
     "output_type": "execute_result"
    },
    {
     "name": "stdout",
     "output_type": "stream",
     "text": [
      "distance=None\n"
     ]
    },
    {
     "data": {
      "text/plain": [
       "True"
      ]
     },
     "execution_count": 77,
     "metadata": {},
     "output_type": "execute_result"
    },
    {
     "name": "stdout",
     "output_type": "stream",
     "text": [
      "distance={0: 0, 1: 10, 2: 30, 3: 20, 4: 15, 5: 0}\n"
     ]
    },
    {
     "data": {
      "text/plain": [
       "True"
      ]
     },
     "execution_count": 77,
     "metadata": {},
     "output_type": "execute_result"
    },
    {
     "name": "stdout",
     "output_type": "stream",
     "text": [
      "distance={0: 0, 1: -10, 2: -30, 3: -50}\n"
     ]
    },
    {
     "data": {
      "text/plain": [
       "True"
      ]
     },
     "execution_count": 77,
     "metadata": {},
     "output_type": "execute_result"
    }
   ],
   "source": [
    "# Test cases\n",
    "\n",
    "edges = [(0, 1, 20), (1, 4, -10), (4, 0, 5), (0, 2, 10), (0, 3, 10), (2, 3, 20), (3, 4, 30), (3, 1, -20)]\n",
    "is_negative_weight_cycle_present(create_directed_adjacency_list(edges)) == True\n",
    "\n",
    "edges = [(0, 1, 20), (1, 2, 10), (2, 3, 20), (3, 1, -40)]\n",
    "is_negative_weight_cycle_present(create_directed_adjacency_list(edges)) == True\n",
    "\n",
    "edges = [(0, 1, 10), (1, 2, 20), (2, 3, -10), (3, 4, -5), (4, 5, -15), (5, 0, 5)]\n",
    "is_negative_weight_cycle_present(create_directed_adjacency_list(edges)) == False\n",
    "\n",
    "edges = [(0, 1, -10), (1, 2, -20), (2, 3, -20)]\n",
    "is_negative_weight_cycle_present(create_directed_adjacency_list(edges)) == False"
   ]
  },
  {
   "cell_type": "code",
   "execution_count": 108,
   "metadata": {},
   "outputs": [
    {
     "name": "stdout",
     "output_type": "stream",
     "text": [
      "300\n",
      "[0, 1, 2, 4]\n"
     ]
    }
   ],
   "source": [
    "# PPA 1\n",
    "\n",
    "def floyd_warshall(adjacency_list):\n",
    "  vertices = list(adjacency_list)\n",
    "\n",
    "  dist = {u: {v: float('inf') for v in adjacency_list} for u in adjacency_list}\n",
    "  predecessor = {u: {v: None for v in adjacency_list} for u in adjacency_list}\n",
    "\n",
    "  # for u in adjacency_list:\n",
    "  #   for v, weight in adjacency_list[u]:\n",
    "  #     dist[u][v] = weight\n",
    "\n",
    "  for v in vertices:\n",
    "    dist[v][v] = 0\n",
    "\n",
    "  for vertex in adjacency_list:\n",
    "    for neighbor, weight in adjacency_list[vertex]:\n",
    "      dist[vertex][neighbor] = weight\n",
    "      predecessor[vertex][neighbor] = vertex\n",
    "\n",
    "  for k in vertices:\n",
    "    for i in vertices:\n",
    "      for j in vertices:\n",
    "        if dist[i][j] > dist[i][k] + dist[k][j]:\n",
    "          dist[i][j] = dist[i][k] + dist[k][j]\n",
    "          predecessor[i][j] = k\n",
    "\n",
    "  return dist, predecessor\n",
    "\n",
    "\n",
    "class XYZ_Courier:\n",
    "  def __init__(self, adjacency_list):\n",
    "    self.dist, self.predecessor = floyd_warshall(adjacency_list)\n",
    "\n",
    "  def cost(self, source, destination):\n",
    "    return self.dist[source][destination] * 5\n",
    "\n",
    "  def route(self, source, destination):\n",
    "    path = []\n",
    "    while destination is not None:\n",
    "      path.append(destination)\n",
    "      destination = self.predecessor[source][destination]\n",
    "    path.reverse()\n",
    "    return path\n",
    "\n",
    "\n",
    "edges = [(0, 1, 10), (0, 2, 50), (0, 3, 300), (5, 6, 45), (2, 1, 30),\n",
    "         (6, 4, 37), (1, 6, 65), (2, 5, 76), (1, 3, 40), (3, 4, 60), (2, 4, 20)]\n",
    "courier = XYZ_Courier(create_undirected_adjacency_list(edges))\n",
    "print(courier.cost(0, 4))  # 300\n",
    "print(courier.route(0, 4))  # [0, 1, 2, 4]"
   ]
  },
  {
   "cell_type": "code",
   "execution_count": 113,
   "metadata": {},
   "outputs": [
    {
     "data": {
      "text/plain": [
       "(900, [0, 7, 6, 5, 2, 1])"
      ]
     },
     "execution_count": 113,
     "metadata": {},
     "output_type": "execute_result"
    }
   ],
   "source": [
    "# PPA 2\n",
    "\n",
    "def bellman_ford(adjacency_list, start_vertex):\n",
    "  distance = {vertex: float('inf') for vertex in adjacency_list}\n",
    "  distance[start_vertex] = 0\n",
    "  predecessor = {vertex: None for vertex in adjacency_list}\n",
    "\n",
    "  for _ in range(len(adjacency_list)-1):\n",
    "    for vertex in adjacency_list:\n",
    "      for neighbor, weight in adjacency_list[vertex]:\n",
    "        new_distance = distance[vertex] + weight\n",
    "        if new_distance < distance[neighbor]:\n",
    "          distance[neighbor] = new_distance\n",
    "          predecessor[neighbor] = vertex\n",
    "\n",
    "  return distance, predecessor\n",
    "\n",
    "\n",
    "def construct_path(predecessor, destination):\n",
    "  path = []\n",
    "  while destination is not None:\n",
    "    path.append(destination)\n",
    "    destination = predecessor[destination]\n",
    "  path.reverse()\n",
    "  return path\n",
    "\n",
    "\n",
    "def min_cost(adjacency_list, source, destination):\n",
    "  distance, predecessor = bellman_ford(adjacency_list, source)\n",
    "  path = construct_path(predecessor, destination)\n",
    "  return distance[destination], path\n",
    "\n",
    "\n",
    "edges = [(0, 1, 1000), (0, 7, 800), (1, 5, 200), (2, 1, 100), (2, 3, 100), (3, 4, 300),\n",
    "         (4, 5, 500), (5, 2, -200), (2, 4, -200), (6, 1, 400), (6, 5, 100), (7, 6, 100)]\n",
    "min_cost(create_directed_adjacency_list(edges), 0, 1)"
   ]
  },
  {
   "cell_type": "code",
   "execution_count": 2,
   "metadata": {},
   "outputs": [],
   "source": [
    "class Solution:\n",
    "  def count(self, n):\n",
    "    return 2 ** (n*(n-1)/2)\n",
    "  "
   ]
  }
 ],
 "metadata": {
  "kernelspec": {
   "display_name": "Python 3",
   "language": "python",
   "name": "python3"
  },
  "language_info": {
   "codemirror_mode": {
    "name": "ipython",
    "version": 3
   },
   "file_extension": ".py",
   "mimetype": "text/x-python",
   "name": "python",
   "nbconvert_exporter": "python",
   "pygments_lexer": "ipython3",
   "version": "3.12.3"
  }
 },
 "nbformat": 4,
 "nbformat_minor": 2
}
