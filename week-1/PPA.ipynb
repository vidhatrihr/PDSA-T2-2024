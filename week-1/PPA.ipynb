{
 "cells": [
  {
   "cell_type": "markdown",
   "metadata": {},
   "source": [
    "# PPA-1\n"
   ]
  },
  {
   "cell_type": "code",
   "execution_count": 50,
   "metadata": {},
   "outputs": [
    {
     "data": {
      "text/plain": [
       "False"
      ]
     },
     "execution_count": 50,
     "metadata": {},
     "output_type": "execute_result"
    },
    {
     "data": {
      "text/plain": [
       "True"
      ]
     },
     "execution_count": 50,
     "metadata": {},
     "output_type": "execute_result"
    }
   ],
   "source": [
    "def is_prime(n):\n",
    "  for i in range(2, int(n**0.5) + 1):\n",
    "    if n % i == 0:\n",
    "      return False\n",
    "  return True\n",
    "\n",
    "\n",
    "is_prime(9)\n",
    "is_prime(5)"
   ]
  },
  {
   "cell_type": "code",
   "execution_count": 51,
   "metadata": {},
   "outputs": [
    {
     "name": "stdout",
     "output_type": "stream",
     "text": [
      "[(3, 5), (5, 7)]\n"
     ]
    }
   ],
   "source": [
    "n = 1\n",
    "m = 11\n",
    "n = max(2, n)\n",
    "\n",
    "twins = []\n",
    "for i in range(n, m+1):\n",
    "  if i + 2 <= m and is_prime(i) and is_prime(i+2):\n",
    "    twins.append((i, i+2))\n",
    "\n",
    "print(twins)"
   ]
  },
  {
   "cell_type": "markdown",
   "metadata": {},
   "source": [
    "# PPA-2"
   ]
  },
  {
   "cell_type": "code",
   "execution_count": 73,
   "metadata": {},
   "outputs": [],
   "source": [
    "a = 10\n",
    "b = 3\n",
    "c = 5"
   ]
  },
  {
   "cell_type": "code",
   "execution_count": 74,
   "metadata": {},
   "outputs": [
    {
     "data": {
      "text/plain": [
       "'Invalid'"
      ]
     },
     "execution_count": 74,
     "metadata": {},
     "output_type": "execute_result"
    }
   ],
   "source": [
    "def Is_valid():\n",
    "  if a+b > c and a+c > b and b+c > a:\n",
    "    return 'Valid'\n",
    "  return 'Invalid'\n",
    "\n",
    "\n",
    "Is_valid()"
   ]
  },
  {
   "cell_type": "code",
   "execution_count": 75,
   "metadata": {},
   "outputs": [
    {
     "data": {
      "text/plain": [
       "'Invalid'"
      ]
     },
     "execution_count": 75,
     "metadata": {},
     "output_type": "execute_result"
    }
   ],
   "source": [
    "def Side_Classification():\n",
    "  if Is_valid() == 'Invalid':\n",
    "    return 'Invalid'\n",
    "\n",
    "  if a == b == c:\n",
    "    return 'Equilateral'\n",
    "  if a == b or a == c or b == c:\n",
    "    return 'Isosceles'\n",
    "  return 'Scalene'\n",
    "\n",
    "\n",
    "Side_Classification()"
   ]
  },
  {
   "cell_type": "code",
   "execution_count": 76,
   "metadata": {},
   "outputs": [
    {
     "data": {
      "text/plain": [
       "'Invalid'"
      ]
     },
     "execution_count": 76,
     "metadata": {},
     "output_type": "execute_result"
    }
   ],
   "source": [
    "def Angle_Classification():\n",
    "  if Is_valid() == 'Invalid':\n",
    "    return 'Invalid'\n",
    "\n",
    "  x, y, z = sorted([a, b, c])\n",
    "  if x ** 2 + y ** 2 > z ** 2:\n",
    "    return 'Acute'\n",
    "  if x ** 2 + y ** 2 < z ** 2:\n",
    "    return 'Obtuse'\n",
    "  return 'Right'\n",
    "\n",
    "\n",
    "Angle_Classification()"
   ]
  },
  {
   "cell_type": "code",
   "execution_count": 77,
   "metadata": {},
   "outputs": [
    {
     "data": {
      "text/plain": [
       "'Invalid'"
      ]
     },
     "execution_count": 77,
     "metadata": {},
     "output_type": "execute_result"
    }
   ],
   "source": [
    "def Area():\n",
    "  if Is_valid() == 'Invalid':\n",
    "    return 'Invalid'\n",
    "\n",
    "  s = (a+b+c)/2\n",
    "\n",
    "  area = (s*(s-a)*(s-b)*(s-c))**0.5\n",
    "  return area\n",
    "\n",
    "\n",
    "Area()"
   ]
  },
  {
   "cell_type": "code",
   "execution_count": 11,
   "metadata": {},
   "outputs": [
    {
     "name": "stdout",
     "output_type": "stream",
     "text": [
      "Scalene\n",
      "Valid\n",
      "Obtuse\n",
      "2.9047375096555625\n",
      "\n",
      "Invalid\n",
      "Invalid\n",
      "Invalid\n",
      "Invalid\n",
      "\n",
      "Equilateral\n",
      "Valid\n",
      "Acute\n",
      "10.825317547305483\n"
     ]
    }
   ],
   "source": [
    "class Triangle:\n",
    "  def __init__(self, a, b, c):\n",
    "    self.a = a\n",
    "    self.b = b\n",
    "    self.c = c\n",
    "\n",
    "  def Is_valid(self):\n",
    "    a, b, c = self.a, self.b, self.c\n",
    "    if a+b > c and a+c > b and b+c > a:\n",
    "      return 'Valid'\n",
    "    return 'Invalid'\n",
    "\n",
    "  def Side_Classification(self):\n",
    "    if self.Is_valid() == 'Invalid':\n",
    "      return 'Invalid'\n",
    "    a, b, c = self.a, self.b, self.c\n",
    "    if a == b == c:\n",
    "      return 'Equilateral'\n",
    "    if a == b or a == c or b == c:\n",
    "      return 'Isosceles'\n",
    "    return 'Scalene'\n",
    "\n",
    "  def Angle_Classification(self):\n",
    "    if self.Is_valid() == 'Invalid':\n",
    "      return 'Invalid'\n",
    "\n",
    "    a, b, c = sorted([self.a, self.b, self.c])\n",
    "\n",
    "    if a ** 2 + b ** 2 > c ** 2:\n",
    "      return 'Acute'\n",
    "    if a ** 2 + b ** 2 < c ** 2:\n",
    "      return 'Obtuse'\n",
    "    return 'Right'\n",
    "\n",
    "  def Area(self):\n",
    "    if self.Is_valid() == 'Invalid':\n",
    "      return 'Invalid'\n",
    "    a, b, c = self.a, self.b, self.c\n",
    "    s = (a+b+c)/2\n",
    "\n",
    "    return (s*(s-a)*(s-b)*(s-c))**0.5\n",
    "\n",
    "\n",
    "t = Triangle(2, 3, 4)\n",
    "print(t.Side_Classification())\n",
    "print(t.Is_valid())\n",
    "print(t.Angle_Classification())\n",
    "print(t.Area())\n",
    "\n",
    "print()\n",
    "t = Triangle(10, 3, 5)\n",
    "print(t.Side_Classification())\n",
    "print(t.Is_valid())\n",
    "print(t.Angle_Classification())\n",
    "print(t.Area())\n",
    "\n",
    "print()\n",
    "t = Triangle(5, 5, 5)\n",
    "print(t.Side_Classification())\n",
    "print(t.Is_valid())\n",
    "print(t.Angle_Classification())\n",
    "print(t.Area())"
   ]
  },
  {
   "cell_type": "code",
   "execution_count": 3,
   "metadata": {},
   "outputs": [
    {
     "name": "stdout",
     "output_type": "stream",
     "text": [
      "5 8 15\n"
     ]
    }
   ],
   "source": [
    "a = 15\n",
    "b = 8\n",
    "c = 5\n",
    "\n",
    "a, b, c = sorted([a, b, c])\n",
    "\n",
    "print(a, b, c)"
   ]
  },
  {
   "cell_type": "code",
   "execution_count": 79,
   "metadata": {},
   "outputs": [
    {
     "name": "stdout",
     "output_type": "stream",
     "text": [
      "vidhatri\n"
     ]
    }
   ],
   "source": [
    "person1, person2, person3 = ['rahul', 'vidhatri', 'cmd']\n",
    "print(person2)"
   ]
  },
  {
   "cell_type": "markdown",
   "metadata": {},
   "source": [
    "# GRPA-1\n"
   ]
  },
  {
   "cell_type": "markdown",
   "metadata": {},
   "source": [
    "[1,3,4,7,9,9,12,13,56]\n",
    "\n",
    "[1,3,4,7,9]  8\n",
    "[3,4,7,9,9]  6\n",
    "[4,7,9,9,12] 8\n",
    "[7,9,9,12,13] 6\n",
    "[9,9,12,13,56] 47\n",
    "[9,12,13,56]"
   ]
  },
  {
   "cell_type": "code",
   "execution_count": 89,
   "metadata": {},
   "outputs": [
    {
     "data": {
      "text/plain": [
       "6"
      ]
     },
     "execution_count": 89,
     "metadata": {},
     "output_type": "execute_result"
    }
   ],
   "source": [
    "L = [3, 4, 1, 9, 56, 7, 9, 12, 13]\n",
    "L = sorted(L)\n",
    "\n",
    "diffs = []\n",
    "i = 0\n",
    "while i + 5 <= len(L):\n",
    "  subset = L[i:i+5]\n",
    "  diff = max(subset) - min(subset)\n",
    "  diffs.append(diff)\n",
    "  i += 1\n",
    "\n",
    "min(diffs)"
   ]
  },
  {
   "cell_type": "code",
   "execution_count": 91,
   "metadata": {},
   "outputs": [
    {
     "data": {
      "text/plain": [
       "6"
      ]
     },
     "execution_count": 91,
     "metadata": {},
     "output_type": "execute_result"
    }
   ],
   "source": [
    "def find_Min_Difference(L, P):\n",
    "  L = sorted(L)\n",
    "\n",
    "  diffs = []\n",
    "  i = 0\n",
    "  while i + P <= len(L):\n",
    "    subset = L[i:i+P]\n",
    "    diff = max(subset) - min(subset)\n",
    "    diffs.append(diff)\n",
    "    i += 1\n",
    "\n",
    "  return min(diffs)\n",
    "\n",
    "\n",
    "L = [3, 4, 1, 9, 56, 7, 9, 12, 13]\n",
    "P = 5\n",
    "find_Min_Difference(L, P)"
   ]
  },
  {
   "cell_type": "markdown",
   "metadata": {},
   "source": [
    "# GRPA-2"
   ]
  },
  {
   "cell_type": "code",
   "execution_count": 7,
   "metadata": {},
   "outputs": [
    {
     "data": {
      "text/plain": [
       "[(3, 23), (7, 19), (13, 13)]"
      ]
     },
     "execution_count": 7,
     "metadata": {},
     "output_type": "execute_result"
    }
   ],
   "source": [
    "def is_prime(n):\n",
    "  for i in range(2, int(n ** 0.5)+1):\n",
    "    if n % i == 0:\n",
    "      return False\n",
    "  return True\n",
    "\n",
    "\n",
    "def Goldbach(n):\n",
    "  pairs = []\n",
    "  for i in range(2, n//2+1):\n",
    "    if is_prime(i) and is_prime(n-i):\n",
    "      pair = (i, n-i)\n",
    "      pairs.append(pair)\n",
    "  return pairs\n",
    "\n",
    "\n",
    "Goldbach(26)"
   ]
  },
  {
   "cell_type": "markdown",
   "metadata": {},
   "source": [
    "# GRPA-3"
   ]
  },
  {
   "cell_type": "code",
   "execution_count": 26,
   "metadata": {},
   "outputs": [
    {
     "data": {
      "text/plain": [
       "'str'"
      ]
     },
     "execution_count": 26,
     "metadata": {},
     "output_type": "execute_result"
    },
    {
     "data": {
      "text/plain": [
       "'bool'"
      ]
     },
     "execution_count": 26,
     "metadata": {},
     "output_type": "execute_result"
    }
   ],
   "source": [
    "def odd_one(L):\n",
    "  count = {\n",
    "      'int': 0,\n",
    "      'bool': 0,\n",
    "      'str': 0,\n",
    "      'float': 0\n",
    "  }\n",
    "\n",
    "  for el in L:\n",
    "    # print(el, isinstance(el, int))\n",
    "    if type(el) == int:\n",
    "      count['int'] += 1\n",
    "    elif type(el) == bool:\n",
    "      count['bool'] += 1\n",
    "    elif type(el) == str:\n",
    "      count['str'] += 1\n",
    "    elif type(el) == float:\n",
    "      count['float'] += 1\n",
    "\n",
    "  for key in count:\n",
    "    if count[key] == 1:\n",
    "      return key\n",
    "\n",
    "\n",
    "odd_one([1, 2, 5, '6'])\n",
    "odd_one([1, 2, 5, False])"
   ]
  }
 ],
 "metadata": {
  "kernelspec": {
   "display_name": "Python 3",
   "language": "python",
   "name": "python3"
  },
  "language_info": {
   "codemirror_mode": {
    "name": "ipython",
    "version": 3
   },
   "file_extension": ".py",
   "mimetype": "text/x-python",
   "name": "python",
   "nbconvert_exporter": "python",
   "pygments_lexer": "ipython3",
   "version": "3.12.3"
  }
 },
 "nbformat": 4,
 "nbformat_minor": 2
}
