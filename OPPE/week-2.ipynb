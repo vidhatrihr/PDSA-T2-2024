{
 "cells": [
  {
   "cell_type": "markdown",
   "metadata": {},
   "source": [
    "BS"
   ]
  },
  {
   "cell_type": "code",
   "execution_count": 7,
   "metadata": {},
   "outputs": [
    {
     "name": "stdout",
     "output_type": "stream",
     "text": [
      "-1\n"
     ]
    }
   ],
   "source": [
    "def binary_search(lst, v):\n",
    "  low = 0\n",
    "  high = len(lst)-1\n",
    "  while low <= high:\n",
    "    mid = (low + high) // 2\n",
    "    if lst[mid] < v:\n",
    "      low = mid + 1\n",
    "    elif lst[mid] > v:\n",
    "      high = mid-1\n",
    "    else:\n",
    "      return mid\n",
    "  return -1\n",
    "\n",
    "\n",
    "print(binary_search([17, 18, 19, 25, 26], 50))"
   ]
  },
  {
   "cell_type": "markdown",
   "metadata": {},
   "source": [
    "## PPA 1"
   ]
  },
  {
   "cell_type": "code",
   "execution_count": 10,
   "metadata": {},
   "outputs": [
    {
     "name": "stdout",
     "output_type": "stream",
     "text": [
      "low=0,high=4,mid=2\n",
      "low=3,high=4,mid=3\n",
      "low=4,high=4,mid=4\n",
      "(False, 3)\n"
     ]
    }
   ],
   "source": [
    "def binary_search(lst, v):\n",
    "  low = 0\n",
    "  high = len(lst)-1\n",
    "  count = 0\n",
    "  while low <= high:\n",
    "    mid = (low + high) // 2\n",
    "    count += 1\n",
    "    # print(f'{low=},{high=},{mid=}')\n",
    "    if lst[mid] < v:\n",
    "      low = mid + 1\n",
    "    elif lst[mid] > v:\n",
    "      high = mid-1\n",
    "    else:\n",
    "      return (True, count)\n",
    "  return (False, count)\n",
    "\n",
    "\n",
    "print(binary_search([17, 18, 19, 25, 26], 50))"
   ]
  },
  {
   "cell_type": "code",
   "execution_count": 21,
   "metadata": {},
   "outputs": [],
   "source": [
    "def sortInRange(lst, r): # nlogn\n",
    "  lst.sort()"
   ]
  },
  {
   "cell_type": "code",
   "execution_count": 24,
   "metadata": {},
   "outputs": [],
   "source": [
    "# more costly than previous\n",
    "def sortInRange(lst, r):  # nlogn (max)\n",
    "  my_lst = lst[:]  # n\n",
    "  my_lst.sort()  # nlogn\n",
    "  lst.clear()\n",
    "\n",
    "  for elem in my_lst:  # n\n",
    "    lst += [elem]\n",
    "\n",
    "\n",
    "sortInRange([2, 0, 1, 1, 2, 3, 0, 2, 1, 0, 2, 3, 1, 2], 4)"
   ]
  },
  {
   "cell_type": "code",
   "execution_count": 33,
   "metadata": {},
   "outputs": [],
   "source": [
    "# counting sort\n",
    "def sortInRange(lst, r):  # n+r\n",
    "  count = {i: 0 for i in range(r)}  # r\n",
    "  for num in lst:  # n\n",
    "    count[num] += 1\n",
    "\n",
    "  lst.clear()\n",
    "  for i in range(r):  # r\n",
    "    lst += [i] * count[i]\n",
    "\n",
    "  # print(lst)\n",
    "\n",
    "\n",
    "sortInRange([2, 0, 1, 1, 2, 3, 0, 2, 1, 0, 2, 3, 1, 2], 4)"
   ]
  },
  {
   "cell_type": "markdown",
   "metadata": {},
   "source": [
    "## GRPA 1"
   ]
  },
  {
   "cell_type": "code",
   "execution_count": 68,
   "metadata": {},
   "outputs": [
    {
     "data": {
      "text/plain": [
       "(['b87', 'c65', 'd34', 'd12', 'd77', 'g54', 'g1', 'g40', 'g5'],\n",
       " ['b87', 'c65', 'd77', 'd34', 'd12', 'g54', 'g40', 'g5', 'g1'])"
      ]
     },
     "execution_count": 68,
     "metadata": {},
     "output_type": "execute_result"
    }
   ],
   "source": [
    "def combinationSort(lst):\n",
    "  l1 = sorted(lst, key=lambda string: string[0])\n",
    "  l2 = sorted(lst, key=lambda string: int(string[1:]), reverse=True)\n",
    "  l2 = sorted(l2, key=lambda string: string[0])\n",
    "  return l1, l2\n",
    "\n",
    "\n",
    "combinationSort(['d34', 'g54', 'd12', 'b87', 'g1', 'c65', 'g40', 'g5', 'd77',])"
   ]
  },
  {
   "cell_type": "code",
   "execution_count": 70,
   "metadata": {},
   "outputs": [
    {
     "name": "stdout",
     "output_type": "stream",
     "text": [
      "(['a19', 'a78', 'a56', 'a98', 'b59', 'c40', 'c53', 'c98', 'c29', 'c68', 'c9', 'd2', 'd54', 'd84', 'd23', 'd94', 'd35', 'e28', 'e93', 'e48', 'e62', 'e47', 'e72', 'f31', 'f91', 'f22', 'f96', 'f95', 'h11', 'h56', 'h65', 'h64', 'i25', 'i47', 'i63', 'i58', 'j69', 'j73', 'k11', 'k94', 'k37', 'k56', 'k45', 'l99', 'l55', 'l63', 'l88', 'l32', 'l20', 'm76', 'm6', 'm98', 'm39', 'm22', 'n92', 'n42', 'n18', 'o23', 'o39', 'p50', 'q34', 'q68', 'r25', 'r54', 's89', 's41', 's49', 's24', 's52', 's77', 't82', 't77', 't45', 'u94', 'u71', 'u32', 'u76', 'u29', 'v67', 'v82', 'v50', 'v70', 'v34', 'w26', 'w95', 'w90', 'w81', 'x80', 'x38', 'x89', 'x87', 'y84', 'y87', 'y55', 'z28', 'z60', 'z1', 'z95', 'z32', 'z31'], ['a98', 'a78', 'a56', 'a19', 'b59', 'c98', 'c68', 'c53', 'c40', 'c29', 'c9', 'd94', 'd84', 'd54', 'd35', 'd23', 'd2', 'e93', 'e72', 'e62', 'e48', 'e47', 'e28', 'f96', 'f95', 'f91', 'f31', 'f22', 'h65', 'h64', 'h56', 'h11', 'i63', 'i58', 'i47', 'i25', 'j73', 'j69', 'k94', 'k56', 'k45', 'k37', 'k11', 'l99', 'l88', 'l63', 'l55', 'l32', 'l20', 'm98', 'm76', 'm39', 'm22', 'm6', 'n92', 'n42', 'n18', 'o39', 'o23', 'p50', 'q68', 'q34', 'r54', 'r25', 's89', 's77', 's52', 's49', 's41', 's24', 't82', 't77', 't45', 'u94', 'u76', 'u71', 'u32', 'u29', 'v82', 'v70', 'v67', 'v50', 'v34', 'w95', 'w90', 'w81', 'w26', 'x89', 'x87', 'x80', 'x38', 'y87', 'y84', 'y55', 'z95', 'z60', 'z32', 'z31', 'z28', 'z1'])\n"
     ]
    }
   ],
   "source": [
    "print(combinationSort(['e28', 'i25', 'q34', 'm76', 'o23', 'r25', 'x80', 'x38', 's89', 'u94', 'e93', 'm6', 'j69', 'f31', 'z28', 'o39', 'h11', 'q68', 't82', 't77', 'y84', 'd2', 'h56', 'u71', 'k11', 'x89', 'w26', 'd54', 'a19', 'l99', 'v67', 'f91', 'l55', 'e48', 'c40', 'l63', 's41', 's49', 'v82', 'i47', 'w95', 'i63', 'f22', 'c53', 's24', 's52', 'z60', 'n92', 'm98',\n",
    "                       'l88', 'e62', 'z1', 'u32', 'c98', 'k94', 'k37', 'n42', 'v50', 'j73', 'w90', 'a78', 'f96', 'e47', 'c29', 'y87', 'd84', 'b59', 'l32', 'a56', 'p50', 'v70', 'r54', 'z95', 'c68', 'z32', 'd23', 'n18', 'h65', 'm39', 'k56', 'h64', 't45', 'i58', 'd94', 'u76', 's77', 'v34', 'k45', 'm22', 'e72', 'f95', 'y55', 'c9', 'x87', 'a98', 'l20', 'u29', 'w81', 'd35', 'z31',]))"
   ]
  },
  {
   "cell_type": "code",
   "execution_count": 74,
   "metadata": {},
   "outputs": [
    {
     "data": {
      "text/plain": [
       "8"
      ]
     },
     "execution_count": 74,
     "metadata": {},
     "output_type": "execute_result"
    }
   ],
   "source": [
    "def find_largest(lst): # n\n",
    "  return max(lst)\n",
    "\n",
    "\n",
    "find_largest([7, 8, 2, 4, 5, 6])"
   ]
  },
  {
   "cell_type": "code",
   "execution_count": 77,
   "metadata": {},
   "outputs": [
    {
     "name": "stdout",
     "output_type": "stream",
     "text": [
      "8\n",
      "8\n",
      "8\n",
      "8\n",
      "8\n"
     ]
    }
   ],
   "source": [
    "def find_largest(lst): # n\n",
    "  max_l = lst[0]\n",
    "  for num in lst:\n",
    "    if num > max_l:\n",
    "      max_l = num\n",
    "  return max_l\n",
    "\n",
    "\n",
    "print(find_largest([2, 4, 5, 7, 8]))\n",
    "print(find_largest([8, 2, 4, 5, 7]))\n",
    "print(find_largest([7, 8, 2, 4, 5]))\n",
    "print(find_largest([5, 7, 8, 2, 4]))\n",
    "print(find_largest([4, 5, 7, 8, 2]))"
   ]
  },
  {
   "cell_type": "code",
   "execution_count": null,
   "metadata": {},
   "outputs": [],
   "source": [
    "def find_largest(lst):\n",
    "  low = 0\n",
    "  high = len(lst)-1\n",
    "\n",
    "  while low < high:\n",
    "    mid = (low+ high)// 2\n",
    "    "
   ]
  },
  {
   "cell_type": "code",
   "execution_count": 83,
   "metadata": {},
   "outputs": [
    {
     "name": "stdout",
     "output_type": "stream",
     "text": [
      "0 5 2\n",
      "2 5 3\n",
      "3 5 4\n",
      "4 5 4\n",
      "8\n"
     ]
    }
   ],
   "source": [
    "def findLargest(L):\n",
    "  left = 0\n",
    "  right = len(L)\n",
    "\n",
    "  while left < right:\n",
    "    mid = (left+right)//2\n",
    "    print(left, right, mid)\n",
    "    if L[mid] > L[left]:\n",
    "      left = mid  # go R\n",
    "    else:\n",
    "      right = mid  # go L\n",
    "\n",
    "  return L[left]\n",
    "\n",
    "\n",
    "print(findLargest([2, 4, 5, 7, 8]))"
   ]
  },
  {
   "cell_type": "code",
   "execution_count": 2,
   "metadata": {},
   "outputs": [
    {
     "name": "stdout",
     "output_type": "stream",
     "text": [
      "8\n",
      "8\n",
      "8\n",
      "8\n",
      "8\n",
      "[10, 1, 2, 3, 4, 5, 6, 7, 8, 9] 10\n",
      "[9, 10, 1, 2, 3, 4, 5, 6, 7, 8] 10\n",
      "[8, 9, 10, 1, 2, 3, 4, 5, 6, 7] 10\n",
      "[7, 8, 9, 10, 1, 2, 3, 4, 5, 6] 10\n",
      "[6, 7, 8, 9, 10, 1, 2, 3, 4, 5] 10\n",
      "[5, 6, 7, 8, 9, 10, 1, 2, 3, 4] 10\n",
      "[4, 5, 6, 7, 8, 9, 10, 1, 2, 3] 10\n",
      "[3, 4, 5, 6, 7, 8, 9, 10, 1, 2] 10\n",
      "[2, 3, 4, 5, 6, 7, 8, 9, 10, 1] 10\n",
      "[1, 2, 3, 4, 5, 6, 7, 8, 9, 10] 10\n"
     ]
    }
   ],
   "source": [
    "def findLargest(lst):\n",
    "  low = 0\n",
    "  high = len(lst) - 1\n",
    "\n",
    "  while low <= high:\n",
    "    mid = (low+high) // 2\n",
    "\n",
    "    # mid is max\n",
    "    if lst[mid-1] < lst[mid] > lst[mid+1]:\n",
    "      return lst[mid]\n",
    "\n",
    "    # domain has only 2 num\n",
    "    if high - low == 1:\n",
    "      if lst[low] > lst[high]:\n",
    "        return lst[low]\n",
    "      return lst[high]\n",
    "\n",
    "    # choose left or right\n",
    "    if lst[low] < lst[mid]:\n",
    "      low = mid+1\n",
    "    else:\n",
    "      high = mid-1\n",
    "\n",
    "\n",
    "# primary test cases\n",
    "print(findLargest([2, 4, 5, 7, 8]))\n",
    "print(findLargest([8, 2, 4, 5, 7]))\n",
    "print(findLargest([7, 8, 2, 4, 5]))\n",
    "print(findLargest([5, 7, 8, 2, 4]))\n",
    "print(findLargest([4, 5, 7, 8, 2]))\n",
    "\n",
    "# ultimate test code\n",
    "n = 10\n",
    "L = list(range(1, n+1))\n",
    "for i in range(1, n+1):\n",
    "  test = L[n-i:] + L[:n-i]\n",
    "  print(test, findLargest(test))"
   ]
  },
  {
   "cell_type": "code",
   "execution_count": 3,
   "metadata": {},
   "outputs": [
    {
     "data": {
      "text/plain": [
       "99967"
      ]
     },
     "execution_count": 3,
     "metadata": {},
     "output_type": "execute_result"
    }
   ],
   "source": [
    "f = open('./input.txt')\n",
    "txt = f.read()\n",
    "\n",
    "findLargest(list(map(int, [x for x in txt.strip().split(',') if x])))"
   ]
  },
  {
   "cell_type": "markdown",
   "metadata": {},
   "source": [
    "## Revision "
   ]
  },
  {
   "cell_type": "code",
   "execution_count": 4,
   "metadata": {},
   "outputs": [
    {
     "data": {
      "text/plain": [
       "(True, 3)"
      ]
     },
     "execution_count": 4,
     "metadata": {},
     "output_type": "execute_result"
    }
   ],
   "source": [
    "def binary_search_index_and_comparisons(L, s):\n",
    "  low = 0\n",
    "  high = len(L)-1\n",
    "  count = 0\n",
    "\n",
    "  while low <= high:\n",
    "    mid = (low+high) // 2\n",
    "    count += 1\n",
    "\n",
    "    if L[mid] < s:\n",
    "      low = mid+1\n",
    "    elif L[mid] > s:\n",
    "      high = mid - 1\n",
    "    else:\n",
    "      return (True, count)\n",
    "  return (False, count)\n",
    "\n",
    "\n",
    "binary_search_index_and_comparisons([2, 6, 8, 11, 17, 23, 33, 44, 46, 50, 65], 11)"
   ]
  },
  {
   "cell_type": "code",
   "execution_count": 12,
   "metadata": {},
   "outputs": [
    {
     "name": "stdout",
     "output_type": "stream",
     "text": [
      "[0, 0, 0, 1, 1, 1, 1, 2, 2, 2, 2, 2, 3, 3]\n"
     ]
    }
   ],
   "source": [
    "def sort_in_range(lst, r):\n",
    "  value = {i: 0 for i in range(r)}\n",
    "\n",
    "  for num in lst:\n",
    "    value[num] += 1\n",
    "\n",
    "  lst.clear()\n",
    "  for i in range(r):\n",
    "    lst += [i] * value[i]\n",
    "  print(lst)\n",
    "\n",
    "\n",
    "sort_in_range([2, 0, 1, 1, 2, 3, 0, 2, 1, 0, 2, 3, 1, 2], 4)"
   ]
  },
  {
   "cell_type": "code",
   "execution_count": 21,
   "metadata": {},
   "outputs": [
    {
     "data": {
      "text/plain": [
       "(['b87', 'c65', 'd34', 'd12', 'd77', 'g54', 'g1', 'g40', 'g5'],\n",
       " ['b87', 'c65', 'd77', 'd34', 'd12', 'g54', 'g40', 'g5', 'g1'])"
      ]
     },
     "execution_count": 21,
     "metadata": {},
     "output_type": "execute_result"
    }
   ],
   "source": [
    "def combination_sort(lst):\n",
    "  l1 = sorted(lst, key=lambda string: string[0])\n",
    "  l2 = sorted(lst, key=lambda string: int(string[1:]), reverse=True)\n",
    "  l2 = sorted(l2, key=lambda string: string[0])\n",
    "  return l1, l2\n",
    "\n",
    "\n",
    "combination_sort(['d34', 'g54', 'd12', 'b87', 'g1', 'c65', 'g40', 'g5', 'd77',])"
   ]
  },
  {
   "cell_type": "code",
   "execution_count": 25,
   "metadata": {},
   "outputs": [],
   "source": [
    "def find_largest(L):\n",
    "  low = 0\n",
    "  high = len(L)-1\n",
    "\n",
    "  while low <= high:\n",
    "    mid = (low+high) // 2\n",
    "\n",
    "    # mid is max\n",
    "    if L[mid-1] < L[mid] > L[mid+1]:\n",
    "      return L[mid]\n",
    "\n",
    "    # only 2 num in domain\n",
    "    if high - low == 1:\n",
    "      if L[low] > L[high]:\n",
    "        return L[low]\n",
    "      return L[high]\n",
    "\n",
    "    # choose right or left\n",
    "    if L[low] < L[mid]:\n",
    "      low = mid+1\n",
    "    else:\n",
    "      high = mid-1"
   ]
  },
  {
   "cell_type": "code",
   "execution_count": 26,
   "metadata": {},
   "outputs": [
    {
     "name": "stdout",
     "output_type": "stream",
     "text": [
      "8\n",
      "8\n",
      "8\n",
      "8\n",
      "8\n"
     ]
    }
   ],
   "source": [
    "# primary test cases\n",
    "print(find_largest([2, 4, 5, 7, 8]))\n",
    "print(find_largest([8, 2, 4, 5, 7]))\n",
    "print(find_largest([4, 5, 7, 8, 2]))\n",
    "print(find_largest([7, 8, 2, 4, 5]))\n",
    "print(find_largest([5, 7, 8, 2, 4]))"
   ]
  },
  {
   "cell_type": "code",
   "execution_count": 28,
   "metadata": {},
   "outputs": [
    {
     "name": "stdout",
     "output_type": "stream",
     "text": [
      "[10, 1, 2, 3, 4, 5, 6, 7, 8, 9] 10\n",
      "[9, 10, 1, 2, 3, 4, 5, 6, 7, 8] 10\n",
      "[8, 9, 10, 1, 2, 3, 4, 5, 6, 7] 10\n",
      "[7, 8, 9, 10, 1, 2, 3, 4, 5, 6] 10\n",
      "[6, 7, 8, 9, 10, 1, 2, 3, 4, 5] 10\n",
      "[5, 6, 7, 8, 9, 10, 1, 2, 3, 4] 10\n",
      "[4, 5, 6, 7, 8, 9, 10, 1, 2, 3] 10\n",
      "[3, 4, 5, 6, 7, 8, 9, 10, 1, 2] 10\n",
      "[2, 3, 4, 5, 6, 7, 8, 9, 10, 1] 10\n",
      "[1, 2, 3, 4, 5, 6, 7, 8, 9, 10] 10\n"
     ]
    }
   ],
   "source": [
    "# ultimate test code\n",
    "n = 10\n",
    "L = list(range(1, n+1))\n",
    "for i in range(1, n+1):\n",
    "  test = L[n-i:] + L[:n-i]\n",
    "  print(test, find_largest(test))"
   ]
  },
  {
   "cell_type": "code",
   "execution_count": 29,
   "metadata": {},
   "outputs": [
    {
     "data": {
      "text/plain": [
       "99967"
      ]
     },
     "execution_count": 29,
     "metadata": {},
     "output_type": "execute_result"
    }
   ],
   "source": [
    "f = open('./input.txt')\n",
    "txt = f.read()\n",
    "\n",
    "find_largest(list(map(int, [x for x in txt.strip().split(',') if x])))"
   ]
  },
  {
   "cell_type": "code",
   "execution_count": 3,
   "metadata": {},
   "outputs": [
    {
     "data": {
      "text/plain": [
       "0"
      ]
     },
     "execution_count": 3,
     "metadata": {},
     "output_type": "execute_result"
    }
   ],
   "source": [
    "def find_min_index(L):\n",
    "  lst_min = L[0]\n",
    "  lst_min_index = 0\n",
    "  for i in range(len(L)):\n",
    "    if L[i] < lst_min:\n",
    "      lst_min = L[i]\n",
    "      lst_min_index = i\n",
    "  return lst_min_index\n",
    "\n",
    "\n",
    "find_min_index([3, 19, 17, 5, 15, 21, 13, 20])"
   ]
  },
  {
   "cell_type": "code",
   "execution_count": 1,
   "metadata": {},
   "outputs": [
    {
     "data": {
      "text/plain": [
       "3"
      ]
     },
     "execution_count": 1,
     "metadata": {},
     "output_type": "execute_result"
    }
   ],
   "source": [
    "def find_min_number(L):\n",
    "  lst_min = L[0]\n",
    "  for num in L:\n",
    "    if num < lst_min:\n",
    "      lst_min = num\n",
    "  return lst_min\n",
    "\n",
    "\n",
    "find_min_number([19, 17, 5, 15, 21, 3, 20])"
   ]
  },
  {
   "cell_type": "code",
   "execution_count": 9,
   "metadata": {},
   "outputs": [
    {
     "name": "stdout",
     "output_type": "stream",
     "text": [
      "[1, 2, 3, 4, 5, 6]\n",
      "[9, 10, 13, 15]\n"
     ]
    }
   ],
   "source": [
    "def find_min_index(lst):\n",
    "  lst_min = lst[0]\n",
    "  lst_min_index = 0\n",
    "  for i in range(len(lst)):\n",
    "    if lst[i] < lst_min:\n",
    "      lst_min = lst[i]\n",
    "      lst_min_index = i\n",
    "  return lst_min_index\n",
    "\n",
    "\n",
    "def mergeInPlace(A, B):\n",
    "  # sort A list (ensure ith elem is min(A,B))\n",
    "  for i in range(len(A)):\n",
    "    b_min_index = find_min_index(B)\n",
    "    if B[b_min_index] < A[i]:\n",
    "      A[i], B[b_min_index] = B[b_min_index], A[i]\n",
    "\n",
    "  # sort B list (standard bubble sort)\n",
    "  for i in range(len(B)):\n",
    "    for j in range(i, len(B)-1):\n",
    "      if B[j] > B[j+1]:\n",
    "        B[j], B[j+1] = B[j+1], B[j]\n",
    "\n",
    "\n",
    "A = [2, 4, 6, 9, 13, 15]\n",
    "B = [1, 3, 5, 10]\n",
    "mergeInPlace(A, B)\n",
    "\n",
    "print(A)\n",
    "print(B)"
   ]
  },
  {
   "cell_type": "code",
   "execution_count": 20,
   "metadata": {},
   "outputs": [
    {
     "data": {
      "text/plain": [
       "([0, 1, 2, 3, 5], 5)"
      ]
     },
     "execution_count": 20,
     "metadata": {},
     "output_type": "execute_result"
    }
   ],
   "source": [
    "def merge(A, B):\n",
    "  m, n = len(A), len(B)\n",
    "  merged, i, j = [], 0, 0\n",
    "\n",
    "  while i < m and j < n:\n",
    "    if A[i] < B[j]:\n",
    "      merged.append(A[i])\n",
    "      i += 1\n",
    "    else:\n",
    "      merged.append(B[j])\n",
    "      j += 1\n",
    "\n",
    "  merged += A[i:]\n",
    "  merged += B[j:]\n",
    "  return merged\n",
    "\n",
    "\n",
    "def merge_sort(lst, count):\n",
    "  count += 1\n",
    "\n",
    "  n = len(lst)\n",
    "  if n <= 1:\n",
    "    return lst, count\n",
    "\n",
    "  if n == 2:\n",
    "    return [min(lst), max(lst)], count\n",
    "\n",
    "  left = lst[:n//2]\n",
    "  right = lst[n//2:]\n",
    "\n",
    "  left, count = merge_sort(left, count)\n",
    "  right, count = merge_sort(right, count)\n",
    "  merged = merge(left, right)\n",
    "  return merged, count\n",
    "\n",
    "\n",
    "def subordinates(lst):\n",
    "  return merge_sort(lst, 0)\n",
    "\n",
    "\n",
    "subordinates([3, 1, 2, 0, 5])"
   ]
  },
  {
   "cell_type": "code",
   "execution_count": 1,
   "metadata": {},
   "outputs": [
    {
     "ename": "NameError",
     "evalue": "name 'merge_sort' is not defined",
     "output_type": "error",
     "traceback": [
      "\u001b[1;31m---------------------------------------------------------------------------\u001b[0m",
      "\u001b[1;31mNameError\u001b[0m                                 Traceback (most recent call last)",
      "Cell \u001b[1;32mIn[1], line 5\u001b[0m\n\u001b[0;32m      1\u001b[0m \u001b[38;5;28;01mdef\u001b[39;00m \u001b[38;5;21msubordinates\u001b[39m(lst):\n\u001b[0;32m      2\u001b[0m   \u001b[38;5;28;01mreturn\u001b[39;00m merge_sort(lst)\n\u001b[1;32m----> 5\u001b[0m \u001b[43msubordinates\u001b[49m\u001b[43m(\u001b[49m\u001b[43m[\u001b[49m\u001b[38;5;241;43m194\u001b[39;49m\u001b[43m,\u001b[49m\u001b[43m \u001b[49m\u001b[38;5;241;43m69\u001b[39;49m\u001b[43m,\u001b[49m\u001b[43m \u001b[49m\u001b[38;5;241;43m103\u001b[39;49m\u001b[43m,\u001b[49m\u001b[43m \u001b[49m\u001b[38;5;241;43m150\u001b[39;49m\u001b[43m,\u001b[49m\u001b[43m \u001b[49m\u001b[38;5;241;43m151\u001b[39;49m\u001b[43m,\u001b[49m\u001b[43m \u001b[49m\u001b[38;5;241;43m44\u001b[39;49m\u001b[43m,\u001b[49m\u001b[43m \u001b[49m\u001b[38;5;241;43m103\u001b[39;49m\u001b[43m,\u001b[49m\u001b[43m \u001b[49m\u001b[38;5;241;43m98\u001b[39;49m\u001b[43m]\u001b[49m\u001b[43m)\u001b[49m\n",
      "Cell \u001b[1;32mIn[1], line 2\u001b[0m, in \u001b[0;36msubordinates\u001b[1;34m(lst)\u001b[0m\n\u001b[0;32m      1\u001b[0m \u001b[38;5;28;01mdef\u001b[39;00m \u001b[38;5;21msubordinates\u001b[39m(lst):\n\u001b[1;32m----> 2\u001b[0m   \u001b[38;5;28;01mreturn\u001b[39;00m \u001b[43mmerge_sort\u001b[49m(lst)\n",
      "\u001b[1;31mNameError\u001b[0m: name 'merge_sort' is not defined"
     ]
    }
   ],
   "source": [
    "def merge(A,B):\n",
    "  pass\n",
    "  \n",
    "\n",
    "def merge_sort(lst):\n",
    "  n = len(lst)\n",
    "  if n <= 1:\n",
    "    return lst\n",
    "  \n",
    "  if n == 2:\n",
    "    return [max(lst),min(lst)]\n",
    "  \n",
    "  mid = n//2\n",
    "  left = lst[:mid]\n",
    "  right = lst[mid:]\n",
    "  left = merge_sort(left)\n",
    "  right = merge_sort(right)\n",
    "  merged = merge(left,right)\n",
    "  return merged\n",
    "\n",
    "def subordinates(lst):\n",
    "  return merge_sort(lst)\n",
    "\n",
    "\n",
    "subordinates([194, 69, 103, 150, 151, 44, 103, 98])"
   ]
  }
 ],
 "metadata": {
  "kernelspec": {
   "display_name": "Python 3",
   "language": "python",
   "name": "python3"
  },
  "language_info": {
   "codemirror_mode": {
    "name": "ipython",
    "version": 3
   },
   "file_extension": ".py",
   "mimetype": "text/x-python",
   "name": "python",
   "nbconvert_exporter": "python",
   "pygments_lexer": "ipython3",
   "version": "3.12.4"
  }
 },
 "nbformat": 4,
 "nbformat_minor": 2
}
