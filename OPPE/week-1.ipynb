{
 "cells": [
  {
   "cell_type": "code",
   "execution_count": 1,
   "metadata": {},
   "outputs": [
    {
     "data": {
      "text/plain": [
       "True"
      ]
     },
     "execution_count": 1,
     "metadata": {},
     "output_type": "execute_result"
    },
    {
     "data": {
      "text/plain": [
       "False"
      ]
     },
     "execution_count": 1,
     "metadata": {},
     "output_type": "execute_result"
    },
    {
     "data": {
      "text/plain": [
       "True"
      ]
     },
     "execution_count": 1,
     "metadata": {},
     "output_type": "execute_result"
    }
   ],
   "source": [
    "def is_prime(n):\n",
    "  # if n < 2:\n",
    "  #   return False\n",
    "  for i in range(2, int(n**0.5)+1):\n",
    "    if n % i == 0:\n",
    "      return False\n",
    "  return True\n",
    "\n",
    "\n",
    "is_prime(1)\n",
    "is_prime(9)\n",
    "is_prime(2)"
   ]
  },
  {
   "cell_type": "code",
   "execution_count": 2,
   "metadata": {},
   "outputs": [
    {
     "data": {
      "text/plain": [
       "[(5, 7), (11, 13), (17, 19), (29, 31), (41, 43)]"
      ]
     },
     "execution_count": 2,
     "metadata": {},
     "output_type": "execute_result"
    }
   ],
   "source": [
    "# find all primes within n, m\n",
    "# loop over all primes to find pairs with diff of 2\n",
    "\n",
    "def twin_prime(n, m):\n",
    "  primes = []\n",
    "  for i in range(n, m+1):\n",
    "    if is_prime(i):\n",
    "      primes.append(i)\n",
    "\n",
    "  twins = []\n",
    "  for i in range(len(primes)-1):\n",
    "    if primes[i] - primes[i+1] == -2:\n",
    "      twins.append((primes[i], primes[i+1]))\n",
    "  return twins\n",
    "\n",
    "\n",
    "twin_prime(5, 50)"
   ]
  },
  {
   "cell_type": "code",
   "execution_count": 3,
   "metadata": {},
   "outputs": [
    {
     "data": {
      "text/plain": [
       "[(3, 5), (5, 7), (11, 13)]"
      ]
     },
     "execution_count": 3,
     "metadata": {},
     "output_type": "execute_result"
    }
   ],
   "source": [
    "# iterate over range n,m\n",
    "# find pair i, i+2 (both primes)\n",
    "\n",
    "def Twin_Primes(n, m):\n",
    "  twins = []\n",
    "  for i in range(max(n, 2), m+1):\n",
    "    if (i+2) <= m and is_prime(i) and is_prime(i+2):\n",
    "      twins.append((i, i+2))\n",
    "  return twins\n",
    "\n",
    "\n",
    "Twin_Primes(1, 13)"
   ]
  },
  {
   "cell_type": "code",
   "execution_count": 4,
   "metadata": {},
   "outputs": [
    {
     "data": {
      "text/plain": [
       "10"
      ]
     },
     "execution_count": 4,
     "metadata": {},
     "output_type": "execute_result"
    }
   ],
   "source": [
    "def gcd(m, n):\n",
    "  for i in range(1, min(m, n)+1):\n",
    "    if m % i == 0 and n % i == 0:\n",
    "      greatest_fact = i\n",
    "  return greatest_fact\n",
    "\n",
    "\n",
    "gcd(90, 1700)"
   ]
  },
  {
   "cell_type": "code",
   "execution_count": 5,
   "metadata": {},
   "outputs": [
    {
     "name": "stdout",
     "output_type": "stream",
     "text": [
      "1700 90\n",
      "80 90\n",
      "10 80\n"
     ]
    },
    {
     "data": {
      "text/plain": [
       "10"
      ]
     },
     "execution_count": 5,
     "metadata": {},
     "output_type": "execute_result"
    }
   ],
   "source": [
    "def gcd(m, n):\n",
    "  print(m, n)\n",
    "  m, n = max(m, n), min(m, n)\n",
    "  if m % n == 0:\n",
    "    return n\n",
    "  return gcd(m % n, n)\n",
    "\n",
    "\n",
    "gcd(1700, 90)"
   ]
  },
  {
   "cell_type": "code",
   "execution_count": 6,
   "metadata": {},
   "outputs": [
    {
     "data": {
      "text/plain": [
       "[1, 2, 3, 4, 6, 8, 12, 16, 24, 32, 48, 96]"
      ]
     },
     "execution_count": 6,
     "metadata": {},
     "output_type": "execute_result"
    }
   ],
   "source": [
    "def get_factors(n):\n",
    "  factors = []\n",
    "  for i in range(1, n+1):\n",
    "    if n % i == 0:\n",
    "      factors.append(i)\n",
    "  return factors\n",
    "\n",
    "\n",
    "get_factors(96)"
   ]
  },
  {
   "cell_type": "code",
   "execution_count": 7,
   "metadata": {},
   "outputs": [
    {
     "name": "stdout",
     "output_type": "stream",
     "text": [
      "[2, 3, 5, 7, 11, 13, 17, 19, 23, 29, 31, 37, 41, 43, 47, 53, 59, 61, 67, 71, 73, 79, 83, 89, 97]\n"
     ]
    }
   ],
   "source": [
    "def primes_upto(n):\n",
    "  primes = []\n",
    "  for i in range(2, n+1):\n",
    "    if is_prime(i):\n",
    "      primes.append(i)\n",
    "  return primes\n",
    "\n",
    "\n",
    "print(primes_upto(100))"
   ]
  },
  {
   "cell_type": "code",
   "execution_count": 8,
   "metadata": {},
   "outputs": [
    {
     "name": "stdout",
     "output_type": "stream",
     "text": [
      "[1, 2, 3, 4, 6, 8, 12, 24]\n"
     ]
    }
   ],
   "source": [
    "def common_factors(m, n):\n",
    "  common_factors = []\n",
    "  for i in range(1, min(m, n)+1):\n",
    "    if m % i == 0 and n % i == 0:\n",
    "      common_factors.append(i)\n",
    "  return common_factors\n",
    "\n",
    "\n",
    "print(common_factors(96, 120))"
   ]
  },
  {
   "cell_type": "markdown",
   "metadata": {},
   "source": [
    "## PPA 2"
   ]
  },
  {
   "cell_type": "code",
   "execution_count": 9,
   "metadata": {},
   "outputs": [
    {
     "data": {
      "text/plain": [
       "'Valid'"
      ]
     },
     "execution_count": 9,
     "metadata": {},
     "output_type": "execute_result"
    },
    {
     "data": {
      "text/plain": [
       "'Scalene'"
      ]
     },
     "execution_count": 9,
     "metadata": {},
     "output_type": "execute_result"
    },
    {
     "data": {
      "text/plain": [
       "'Obtuse'"
      ]
     },
     "execution_count": 9,
     "metadata": {},
     "output_type": "execute_result"
    },
    {
     "data": {
      "text/plain": [
       "2.9047375096555625"
      ]
     },
     "execution_count": 9,
     "metadata": {},
     "output_type": "execute_result"
    },
    {
     "data": {
      "text/plain": [
       "'Invalid'"
      ]
     },
     "execution_count": 9,
     "metadata": {},
     "output_type": "execute_result"
    },
    {
     "data": {
      "text/plain": [
       "'Invalid'"
      ]
     },
     "execution_count": 9,
     "metadata": {},
     "output_type": "execute_result"
    },
    {
     "data": {
      "text/plain": [
       "'Invalid'"
      ]
     },
     "execution_count": 9,
     "metadata": {},
     "output_type": "execute_result"
    },
    {
     "data": {
      "text/plain": [
       "'Invalid'"
      ]
     },
     "execution_count": 9,
     "metadata": {},
     "output_type": "execute_result"
    },
    {
     "data": {
      "text/plain": [
       "'Valid'"
      ]
     },
     "execution_count": 9,
     "metadata": {},
     "output_type": "execute_result"
    },
    {
     "data": {
      "text/plain": [
       "'Equilateral'"
      ]
     },
     "execution_count": 9,
     "metadata": {},
     "output_type": "execute_result"
    },
    {
     "data": {
      "text/plain": [
       "'Acute'"
      ]
     },
     "execution_count": 9,
     "metadata": {},
     "output_type": "execute_result"
    },
    {
     "data": {
      "text/plain": [
       "10.825317547305483"
      ]
     },
     "execution_count": 9,
     "metadata": {},
     "output_type": "execute_result"
    }
   ],
   "source": [
    "class Triangle:\n",
    "  def __init__(self, a, b, c):\n",
    "    self.a = a\n",
    "    self.b = b\n",
    "    self.c = c\n",
    "\n",
    "  def Is_valid(self):\n",
    "    a, b, c = self.a, self.b, self.c\n",
    "    if a+b > c and b+c > a and c+a > b:\n",
    "      return 'Valid'\n",
    "    return 'Invalid'\n",
    "\n",
    "  def Side_Classification(self):\n",
    "    if self.Is_valid() == 'Invalid':\n",
    "      return 'Invalid'\n",
    "\n",
    "    a, b, c = self.a, self.b, self.c\n",
    "    if a == b == c:\n",
    "      return 'Equilateral'\n",
    "    if a == b or b == c or a == c:\n",
    "      return 'Isosceles'\n",
    "    return 'Scalene'\n",
    "\n",
    "  def Angle_Classification(self):\n",
    "    if self.Is_valid() == 'Invalid':\n",
    "      return 'Invalid'\n",
    "\n",
    "    a, b, c = sorted([self.a, self.b, self.c])\n",
    "    if a ** 2 + b ** 2 > c**2:\n",
    "      return 'Acute'\n",
    "    if a ** 2 + b ** 2 < c**2:\n",
    "      return 'Obtuse'\n",
    "    return 'Right'\n",
    "\n",
    "  def Area(self):\n",
    "    if self.Is_valid() == 'Invalid':\n",
    "      return 'Invalid'\n",
    "\n",
    "    a, b, c = self.a, self.b, self.c\n",
    "    s = (a+b+c)/2\n",
    "    area = (s*(s-a)*(s-b)*(s-c))**0.5\n",
    "    return area\n",
    "\n",
    "\n",
    "tr1 = Triangle(2, 3, 4)\n",
    "tr1.Is_valid()\n",
    "tr1.Side_Classification()\n",
    "tr1.Angle_Classification()\n",
    "tr1.Area()\n",
    "\n",
    "tr2 = Triangle(10, 3, 5)\n",
    "tr2.Is_valid()\n",
    "tr2.Side_Classification()\n",
    "tr2.Angle_Classification()\n",
    "tr2.Area()\n",
    "\n",
    "tr3 = Triangle(5, 5, 5)\n",
    "tr3.Is_valid()\n",
    "tr3.Side_Classification()\n",
    "tr3.Angle_Classification()\n",
    "tr3.Area()"
   ]
  },
  {
   "cell_type": "code",
   "execution_count": 10,
   "metadata": {},
   "outputs": [
    {
     "data": {
      "text/plain": [
       "35"
      ]
     },
     "execution_count": 10,
     "metadata": {},
     "output_type": "execute_result"
    },
    {
     "data": {
      "text/plain": [
       "2"
      ]
     },
     "execution_count": 10,
     "metadata": {},
     "output_type": "execute_result"
    },
    {
     "data": {
      "text/plain": [
       "5"
      ]
     },
     "execution_count": 10,
     "metadata": {},
     "output_type": "execute_result"
    }
   ],
   "source": [
    "def find_min_diff(lst, P):\n",
    "  lst = sorted(lst)\n",
    "  min_diff = float('inf')\n",
    "\n",
    "  for i in range(len(lst)-P):\n",
    "    # print(f'{lst[i:i+P]}')\n",
    "    group = lst[i:i+P]\n",
    "    diff = group[-1] - group[0]\n",
    "    if diff < min_diff:\n",
    "      min_diff = diff\n",
    "\n",
    "  return min_diff\n",
    "\n",
    "\n",
    "find_min_diff([1, 4, 6, 39, 54, 36, 22, 12, 23, 29, 30, 65, 89, 123, 43, 68, 59, 48, 16, 134, 76, 90, 98, 65], 10)\n",
    "find_min_diff([7, 9, 5, 3, 1, 10, 11, 11, 11], 4)\n",
    "find_min_diff([-5, 1, 6, 23, 44, 60, 42, 70, 46, 78, 41, 90, 45], 5)"
   ]
  },
  {
   "cell_type": "code",
   "execution_count": 11,
   "metadata": {},
   "outputs": [
    {
     "data": {
      "text/plain": [
       "[(3, 13), (5, 11)]"
      ]
     },
     "execution_count": 11,
     "metadata": {},
     "output_type": "execute_result"
    }
   ],
   "source": [
    "def is_prime(n):\n",
    "  for i in range(2, int(n**.5+1)):\n",
    "    if n % i == 0:\n",
    "      return False\n",
    "  return True\n",
    "\n",
    "\n",
    "def Goldbach(n):\n",
    "  pairs = []\n",
    "  for i in range(2, n//2+1):\n",
    "    if is_prime(i) and is_prime(n-i):\n",
    "      pair = (i, n-i)\n",
    "      pairs.append(pair)\n",
    "  return pairs\n",
    "\n",
    "\n",
    "Goldbach(16)"
   ]
  },
  {
   "cell_type": "code",
   "execution_count": 12,
   "metadata": {},
   "outputs": [
    {
     "data": {
      "text/plain": [
       "'float'"
      ]
     },
     "execution_count": 12,
     "metadata": {},
     "output_type": "execute_result"
    },
    {
     "data": {
      "text/plain": [
       "'int'"
      ]
     },
     "execution_count": 12,
     "metadata": {},
     "output_type": "execute_result"
    },
    {
     "data": {
      "text/plain": [
       "'int'"
      ]
     },
     "execution_count": 12,
     "metadata": {},
     "output_type": "execute_result"
    },
    {
     "data": {
      "text/plain": [
       "'bool'"
      ]
     },
     "execution_count": 12,
     "metadata": {},
     "output_type": "execute_result"
    }
   ],
   "source": [
    "def odd_one(lst):\n",
    "  count_int = 0\n",
    "  count_bool = 0\n",
    "  count_float = 0\n",
    "  count_str = 0\n",
    "\n",
    "  for elem in lst:\n",
    "    if type(elem) == int:\n",
    "      count_int += 1\n",
    "    if type(elem) == bool:\n",
    "      count_bool += 1\n",
    "    if type(elem) == float:\n",
    "      count_float += 1\n",
    "    if type(elem) == str:\n",
    "      count_str += 1\n",
    "\n",
    "  if count_int == 1:\n",
    "    return 'int'\n",
    "  if count_bool == 1:\n",
    "    return 'bool'\n",
    "  if count_float == 1:\n",
    "    return 'float'\n",
    "  if count_str == 1:\n",
    "    return 'str'\n",
    "\n",
    "\n",
    "odd_one([1, 2, 3.4, 5, 10])\n",
    "odd_one([1.5, 2.0, 3.6, 1, 2.6, 8.6])\n",
    "odd_one(['abc', 'h', '11', '1.5', 6])\n",
    "odd_one(['abc', 'h', '11', '1.5', True])"
   ]
  },
  {
   "cell_type": "code",
   "execution_count": 13,
   "metadata": {},
   "outputs": [
    {
     "data": {
      "text/plain": [
       "'float'"
      ]
     },
     "execution_count": 13,
     "metadata": {},
     "output_type": "execute_result"
    },
    {
     "data": {
      "text/plain": [
       "'int'"
      ]
     },
     "execution_count": 13,
     "metadata": {},
     "output_type": "execute_result"
    },
    {
     "data": {
      "text/plain": [
       "'int'"
      ]
     },
     "execution_count": 13,
     "metadata": {},
     "output_type": "execute_result"
    },
    {
     "data": {
      "text/plain": [
       "'bool'"
      ]
     },
     "execution_count": 13,
     "metadata": {},
     "output_type": "execute_result"
    }
   ],
   "source": [
    "def odd_one(lst):\n",
    "  counts = {\n",
    "      'int': 0,\n",
    "      'bool': 0,\n",
    "      'float': 0,\n",
    "      'str': 0\n",
    "  }\n",
    "\n",
    "  for elem in lst:\n",
    "    if type(elem) == int:\n",
    "      counts['int'] += 1\n",
    "    if type(elem) == bool:\n",
    "      counts['bool'] += 1\n",
    "    if type(elem) == float:\n",
    "      counts['float'] += 1\n",
    "    if type(elem) == str:\n",
    "      counts['str'] += 1\n",
    "\n",
    "  for key in counts:\n",
    "    if counts[key] == 1:\n",
    "      return key\n",
    "\n",
    "\n",
    "odd_one([1, 2, 3.4, 5, 10])\n",
    "odd_one([1.5, 2.0, 3.6, 1, 2.6, 8.6])\n",
    "odd_one(['abc', 'h', '11', '1.5', 6])\n",
    "odd_one(['abc', 'h', '11', '1.5', True])"
   ]
  },
  {
   "cell_type": "code",
   "execution_count": 14,
   "metadata": {},
   "outputs": [
    {
     "data": {
      "text/plain": [
       "True"
      ]
     },
     "execution_count": 14,
     "metadata": {},
     "output_type": "execute_result"
    }
   ],
   "source": [
    "def prime_product(m):\n",
    "  if m < 0:\n",
    "    return False\n",
    "\n",
    "  for i in range(2, m):\n",
    "    if m % i == 0 and is_prime(i) and is_prime(m/i):\n",
    "      return True\n",
    "  return False\n",
    "\n",
    "\n",
    "prime_product(58)"
   ]
  },
  {
   "cell_type": "code",
   "execution_count": 15,
   "metadata": {},
   "outputs": [
    {
     "data": {
      "text/plain": [
       "False"
      ]
     },
     "execution_count": 15,
     "metadata": {},
     "output_type": "execute_result"
    },
    {
     "data": {
      "text/plain": [
       "True"
      ]
     },
     "execution_count": 15,
     "metadata": {},
     "output_type": "execute_result"
    }
   ],
   "source": [
    "def is_prime(n):\n",
    "  for i in range(2, int(n**0.5)+1):\n",
    "    if n % i == 0:\n",
    "      return False\n",
    "  return True\n",
    "\n",
    "\n",
    "# is_prime(3)\n",
    "\n",
    "def prime_product(m):\n",
    "  if m < 0:\n",
    "    return False\n",
    "\n",
    "  for i in range(2, m//2+1):\n",
    "    if m % i == 0 and is_prime(i) and is_prime(m/i):\n",
    "      return True\n",
    "  return False\n",
    "\n",
    "\n",
    "prime_product(13)\n",
    "prime_product(58)"
   ]
  },
  {
   "cell_type": "code",
   "execution_count": 16,
   "metadata": {},
   "outputs": [
    {
     "data": {
      "text/plain": [
       "'anana'"
      ]
     },
     "execution_count": 16,
     "metadata": {},
     "output_type": "execute_result"
    },
    {
     "data": {
      "text/plain": [
       "'banana'"
      ]
     },
     "execution_count": 16,
     "metadata": {},
     "output_type": "execute_result"
    },
    {
     "data": {
      "text/plain": [
       "'data strctre'"
      ]
     },
     "execution_count": 16,
     "metadata": {},
     "output_type": "execute_result"
    }
   ],
   "source": [
    "def del_char(string, c):\n",
    "  if len(c) != 1:\n",
    "    return string\n",
    "\n",
    "  result = ''\n",
    "  for char in string:\n",
    "    if char != c:\n",
    "      result += char\n",
    "  return result\n",
    "\n",
    "\n",
    "del_char('banana', 'b')\n",
    "del_char('banana', 'an')\n",
    "del_char('data structure', 'u')"
   ]
  },
  {
   "cell_type": "code",
   "execution_count": 17,
   "metadata": {},
   "outputs": [
    {
     "data": {
      "text/plain": [
       "[1, 0, 3, 2, 4, 6]"
      ]
     },
     "execution_count": 17,
     "metadata": {},
     "output_type": "execute_result"
    },
    {
     "data": {
      "text/plain": [
       "[0, 1, 2, 4]"
      ]
     },
     "execution_count": 17,
     "metadata": {},
     "output_type": "execute_result"
    },
    {
     "data": {
      "text/plain": [
       "[0, 1, 2, 3, 4, 5]"
      ]
     },
     "execution_count": 17,
     "metadata": {},
     "output_type": "execute_result"
    }
   ],
   "source": [
    "def shuffle(lst_1, lst_2):\n",
    "  result = []\n",
    "\n",
    "  n = min(len(lst_1), len(lst_2))\n",
    "  for i in range(n):\n",
    "    result.append(lst_1[i])\n",
    "    result.append(lst_2[i])\n",
    "\n",
    "  result += lst_1[n:]\n",
    "  result += lst_2[n:]\n",
    "  return result\n",
    "\n",
    "\n",
    "shuffle([1, 3], [0, 2, 4, 6])\n",
    "shuffle([0, 2, 4], [1])\n",
    "shuffle([0, 2, 4], [1, 3, 5])"
   ]
  },
  {
   "cell_type": "code",
   "execution_count": 18,
   "metadata": {},
   "outputs": [
    {
     "data": {
      "text/plain": [
       "False"
      ]
     },
     "execution_count": 18,
     "metadata": {},
     "output_type": "execute_result"
    },
    {
     "data": {
      "text/plain": [
       "False"
      ]
     },
     "execution_count": 18,
     "metadata": {},
     "output_type": "execute_result"
    },
    {
     "data": {
      "text/plain": [
       "True"
      ]
     },
     "execution_count": 18,
     "metadata": {},
     "output_type": "execute_result"
    }
   ],
   "source": [
    "def expanding(lst):\n",
    "  last_diff = -1\n",
    "\n",
    "  for i in range(len(lst)-1):\n",
    "    diff = abs(lst[i] - lst[i + 1])\n",
    "    if diff <= last_diff:\n",
    "      return False\n",
    "    last_diff = diff\n",
    "  return True\n",
    "\n",
    "\n",
    "expanding([1, 3, 7, 2, -3])\n",
    "expanding([1, 3, 7, 10])\n",
    "expanding([1, 3, 7, 2, 9])"
   ]
  },
  {
   "cell_type": "code",
   "execution_count": 19,
   "metadata": {},
   "outputs": [
    {
     "data": {
      "text/plain": [
       "[35, 0]"
      ]
     },
     "execution_count": 19,
     "metadata": {},
     "output_type": "execute_result"
    }
   ],
   "source": [
    "def sum_square(lst):\n",
    "  odd_sum = 0\n",
    "  even_sum = 0\n",
    "\n",
    "  for elem in lst:\n",
    "    if elem % 2 != 0:\n",
    "      odd_sum += elem ** 2\n",
    "    else:\n",
    "      even_sum += elem ** 2\n",
    "  return [odd_sum, even_sum]\n",
    "\n",
    "\n",
    "sum_square([1, 3, 5])"
   ]
  },
  {
   "cell_type": "code",
   "execution_count": 20,
   "metadata": {},
   "outputs": [
    {
     "data": {
      "text/plain": [
       "[(11, 2), (12, 2), (7, 4), (13, 4), (14, 4)]"
      ]
     },
     "execution_count": 20,
     "metadata": {},
     "output_type": "execute_result"
    },
    {
     "data": {
      "text/plain": [
       "[(11, 1), (7, 2), (12, 2), (14, 2), (13, 4)]"
      ]
     },
     "execution_count": 20,
     "metadata": {},
     "output_type": "execute_result"
    },
    {
     "data": {
      "text/plain": [
       "True"
      ]
     },
     "execution_count": 20,
     "metadata": {},
     "output_type": "execute_result"
    }
   ],
   "source": [
    "def histogram(L):\n",
    "  freq = {}\n",
    "  for num in L:\n",
    "    if num not in freq:\n",
    "      freq[num] = 0\n",
    "    freq[num] += 1\n",
    "\n",
    "  pairs = list(freq.items())\n",
    "\n",
    "  pairs.sort(key=lambda tup: (tup[1], tup[0]))\n",
    "  return pairs\n",
    "\n",
    "\n",
    "histogram([13, 7, 12, 7, 11, 13, 14, 13, 7, 11, 13, 14, 12, 14, 14, 7])\n",
    "histogram([13, 12, 11, 13, 14, 13, 7, 7, 13, 14, 12])\n",
    "histogram([7, 12, 11, 13, 7, 11, 13, 14, 12]) == [(14, 1), (7, 2), (11, 2), (12, 2), (13, 2)]"
   ]
  },
  {
   "cell_type": "markdown",
   "metadata": {},
   "source": [
    "## 11/08/2024"
   ]
  },
  {
   "cell_type": "code",
   "execution_count": 21,
   "metadata": {},
   "outputs": [
    {
     "data": {
      "text/plain": [
       "False"
      ]
     },
     "execution_count": 21,
     "metadata": {},
     "output_type": "execute_result"
    },
    {
     "data": {
      "text/plain": [
       "True"
      ]
     },
     "execution_count": 21,
     "metadata": {},
     "output_type": "execute_result"
    }
   ],
   "source": [
    "def is_prime(n):\n",
    "  for i in range(2, int(n**0.5)+1):\n",
    "    if n % i == 0:\n",
    "      return False\n",
    "  return True\n",
    "\n",
    "\n",
    "is_prime(9)\n",
    "is_prime(97)"
   ]
  },
  {
   "cell_type": "code",
   "execution_count": 22,
   "metadata": {},
   "outputs": [
    {
     "data": {
      "text/plain": [
       "[(5, 7), (11, 13), (17, 19), (29, 31), (41, 43)]"
      ]
     },
     "execution_count": 22,
     "metadata": {},
     "output_type": "execute_result"
    }
   ],
   "source": [
    "def Twin_Primes(n, m):\n",
    "  primes = []\n",
    "\n",
    "  for i in range(n, m+1):\n",
    "    if is_prime(i):\n",
    "      primes.append(i)\n",
    "\n",
    "  twins = []\n",
    "  for i in range(len(primes)-1):\n",
    "    if primes[i+1] - primes[i] == 2:\n",
    "      twins.append((primes[i], primes[i+1]))\n",
    "  return twins\n",
    "\n",
    "\n",
    "Twin_Primes(5, 50)"
   ]
  },
  {
   "cell_type": "code",
   "execution_count": 23,
   "metadata": {},
   "outputs": [
    {
     "name": "stdout",
     "output_type": "stream",
     "text": [
      "Invalid\n",
      "Scalene\n",
      "Obtuse\n",
      "8.4375\n"
     ]
    }
   ],
   "source": [
    "class Triangle:\n",
    "  def __init__(self, a, b, c):\n",
    "    self.a = a\n",
    "    self.b = b\n",
    "    self.c = c\n",
    "\n",
    "  def Is_valid(self):\n",
    "    a, b, c = self.a, self.b, self.c\n",
    "    if a+b < c and b+c < a and a+c < b:\n",
    "      return 'Valid'\n",
    "    return 'Invalid'\n",
    "\n",
    "  def Side_classification(self):\n",
    "    if self.Is_valid == 'Invalid':\n",
    "      return 'Invalid'\n",
    "\n",
    "    a, b, c = self.a, self.b, self.c\n",
    "    if a == b or b == c or c == a:\n",
    "      return 'Isosceles'\n",
    "    if a == b == c:\n",
    "      return 'Equilateral'\n",
    "    return 'Scalene'\n",
    "\n",
    "  def Angle_classification(self):\n",
    "    if self.Is_valid == 'Invalid':\n",
    "      return 'Invalid'\n",
    "\n",
    "    a, b, c = self.a, self.b, self.c\n",
    "    if a**2 + b**2 > c**2:\n",
    "      return 'Acute'\n",
    "    if a**2+b**2 == c**2:\n",
    "      return 'Right'\n",
    "    else:\n",
    "      return 'Obtuse'\n",
    "\n",
    "  def Area(self):\n",
    "    if self.Is_valid == 'Invalid':\n",
    "      return 'Invalid'\n",
    "    a, b, c = self.a, self.b, self.c\n",
    "    s = (a+b+c)/2\n",
    "    area = s*(s-a)*(s-b)*(s-c)\n",
    "    return area\n",
    "\n",
    "\n",
    "t = Triangle(2, 3, 4)\n",
    "print(t.Is_valid())\n",
    "print(t.Side_classification())\n",
    "print(t.Angle_classification())\n",
    "print(t.Area())"
   ]
  },
  {
   "cell_type": "code",
   "execution_count": 24,
   "metadata": {},
   "outputs": [],
   "source": [
    "def find_Min_Difference(lst,P):\n",
    "  pass"
   ]
  },
  {
   "cell_type": "code",
   "execution_count": 34,
   "metadata": {},
   "outputs": [
    {
     "data": {
      "text/plain": [
       "False"
      ]
     },
     "execution_count": 34,
     "metadata": {},
     "output_type": "execute_result"
    }
   ],
   "source": [
    "def expanding(L):\n",
    "  last_diff = -1\n",
    "  for i in range(len(L)-1):\n",
    "    curr_diff = abs(L[i]-L[i+1])\n",
    "    if curr_diff <= last_diff:\n",
    "      return False\n",
    "    last_diff = curr_diff\n",
    "  return True\n",
    "\n",
    "\n",
    "expanding([1, 3, 6, 10, 15, 20])"
   ]
  }
 ],
 "metadata": {
  "kernelspec": {
   "display_name": "Python 3",
   "language": "python",
   "name": "python3"
  },
  "language_info": {
   "codemirror_mode": {
    "name": "ipython",
    "version": 3
   },
   "file_extension": ".py",
   "mimetype": "text/x-python",
   "name": "python",
   "nbconvert_exporter": "python",
   "pygments_lexer": "ipython3",
   "version": "3.12.4"
  }
 },
 "nbformat": 4,
 "nbformat_minor": 2
}
