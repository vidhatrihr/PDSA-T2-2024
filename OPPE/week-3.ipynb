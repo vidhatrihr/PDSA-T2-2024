{
 "cells": [
  {
   "cell_type": "code",
   "execution_count": 1,
   "metadata": {},
   "outputs": [],
   "source": [
    "class Node:\n",
    "  def __init__(self, data):\n",
    "    self.data = data\n",
    "    self.next = None\n",
    "    self.prev = None\n",
    "\n",
    "  def __str__(self):\n",
    "    return f'Node: {self.data}'"
   ]
  },
  {
   "cell_type": "code",
   "execution_count": 2,
   "metadata": {},
   "outputs": [],
   "source": [
    "rahul = Node('rahul')\n",
    "vidu = Node('vidu')\n",
    "cmd = Node('cmd')\n",
    "harikesh = Node('harikesh')\n",
    "\n",
    "# create next/prev pointers\n",
    "rahul.next = vidu\n",
    "vidu.prev = rahul\n",
    "\n",
    "vidu.next = cmd\n",
    "cmd.prev = vidu\n",
    "\n",
    "cmd.next = harikesh\n",
    "harikesh.prev = cmd\n",
    "\n",
    "# LL pointers\n",
    "head = rahul\n",
    "tail = harikesh"
   ]
  },
  {
   "cell_type": "code",
   "execution_count": 3,
   "metadata": {},
   "outputs": [],
   "source": [
    "node = Node('muskan')"
   ]
  },
  {
   "cell_type": "code",
   "execution_count": 4,
   "metadata": {},
   "outputs": [],
   "source": [
    "# # insert at start\n",
    "# node.next = head\n",
    "# head.prev = node\n",
    "# head = node"
   ]
  },
  {
   "cell_type": "code",
   "execution_count": 5,
   "metadata": {},
   "outputs": [],
   "source": [
    "# # insert at end\n",
    "# tail.next = node\n",
    "# node.prev = tail\n",
    "# tail = node"
   ]
  },
  {
   "cell_type": "code",
   "execution_count": 6,
   "metadata": {},
   "outputs": [],
   "source": [
    "# # delete at start\n",
    "# head = head.next\n",
    "# head.prev = None"
   ]
  },
  {
   "cell_type": "code",
   "execution_count": 7,
   "metadata": {},
   "outputs": [],
   "source": [
    "# delete at end\n",
    "tail = tail.prev\n",
    "tail.next = None"
   ]
  },
  {
   "cell_type": "code",
   "execution_count": 8,
   "metadata": {},
   "outputs": [
    {
     "name": "stdout",
     "output_type": "stream",
     "text": [
      "Node: rahul\n",
      "Node: vidu\n",
      "Node: cmd\n"
     ]
    }
   ],
   "source": [
    "curr = head\n",
    "while curr:\n",
    "  print(curr)\n",
    "  curr = curr.next"
   ]
  },
  {
   "cell_type": "code",
   "execution_count": 9,
   "metadata": {},
   "outputs": [
    {
     "name": "stdout",
     "output_type": "stream",
     "text": [
      "Node: cmd\n",
      "Node: vidu\n",
      "Node: rahul\n"
     ]
    }
   ],
   "source": [
    "curr = tail\n",
    "while curr:\n",
    "  print(curr)\n",
    "  curr = curr.prev"
   ]
  },
  {
   "cell_type": "code",
   "execution_count": 10,
   "metadata": {},
   "outputs": [
    {
     "name": "stdout",
     "output_type": "stream",
     "text": [
      "['rahul', 'vidu', 'cmd', 'harikesh']\n",
      "['harikesh', 'cmd', 'vidu', 'rahul']\n"
     ]
    }
   ],
   "source": [
    "class LinkedList:\n",
    "  def __init__(self):\n",
    "    self.head = None\n",
    "    self.tail = None\n",
    "\n",
    "  def is_empty(self):\n",
    "    return self.head == None\n",
    "\n",
    "  def insert_start(self, data):\n",
    "    node = Node(data)\n",
    "    if self.is_empty():\n",
    "      self.head = node\n",
    "      self.tail = node\n",
    "    else:\n",
    "      node.next = self.head\n",
    "      self.head.prev = node\n",
    "      self.head = node\n",
    "\n",
    "  def insert_end(self, data):\n",
    "    node = Node(data)\n",
    "    if self.is_empty():\n",
    "      self.head = node\n",
    "      self.tail = node\n",
    "    else:\n",
    "      self.tail.next = node\n",
    "      node.prev = self.tail\n",
    "      self.tail = node\n",
    "\n",
    "  def traverse_lr(self):\n",
    "    output = []\n",
    "    curr = self.head\n",
    "    while curr:\n",
    "      output.append(curr.data)\n",
    "      curr = curr.next\n",
    "    return output\n",
    "\n",
    "  def traverse_rl(self):\n",
    "    output = []\n",
    "    curr = self.tail\n",
    "    while curr:\n",
    "      output.append(curr.data)\n",
    "      curr = curr.prev\n",
    "    return output\n",
    "\n",
    "  def delete_start(self):\n",
    "    if self.is_empty():\n",
    "      return\n",
    "    if self.head == self.tail:  # only 1 elem\n",
    "      self.head = None\n",
    "      self.tail = None\n",
    "    else:  # at least 2 elems\n",
    "      self.head = self.head.next\n",
    "      self.head.prev = None\n",
    "\n",
    "  def delete_end(self):\n",
    "    if self.is_empty():\n",
    "      return\n",
    "    if self.head == self.tail:  # only 1 elem\n",
    "      self.head = None\n",
    "      self.tail = None\n",
    "    else:  # at least 2 elems\n",
    "      self.tail = self.tail.prev\n",
    "      self.tail.next = None\n",
    "\n",
    "\n",
    "chain = LinkedList()\n",
    "chain.insert_start('rahul')\n",
    "chain.insert_end('vidu')\n",
    "chain.insert_end('cmd')\n",
    "chain.insert_end('harikesh')\n",
    "print(chain.traverse_lr())\n",
    "print(chain.traverse_rl())"
   ]
  },
  {
   "cell_type": "code",
   "execution_count": 11,
   "metadata": {},
   "outputs": [
    {
     "name": "stdout",
     "output_type": "stream",
     "text": [
      "[1, 2, 3, 4, 5]\n",
      "[5, 4, 3, 2, 1]\n"
     ]
    }
   ],
   "source": [
    "class Node:\n",
    "  def __init__(self, data):\n",
    "    self.data = data\n",
    "    self.next = None\n",
    "    self.prev = None\n",
    "\n",
    "  def __str__(self):\n",
    "    return f'Node: {self.data}'\n",
    "\n",
    "\n",
    "class doubly_linked_list:\n",
    "  def __init__(self):\n",
    "    self.head = None\n",
    "    self.last = None\n",
    "\n",
    "  def is_empty(self):\n",
    "    return self.head == None\n",
    "\n",
    "  def insert_end(self, data):\n",
    "    node = Node(data)\n",
    "    if self.is_empty():\n",
    "      self.head = node\n",
    "      self.last = node\n",
    "    else:\n",
    "      self.last.next = node\n",
    "      node.prev = self.last\n",
    "      self.last = node\n",
    "\n",
    "  def delete_end(self):\n",
    "    if self.is_empty():\n",
    "      return\n",
    "    if self.head == self.last:\n",
    "      self.head = None\n",
    "      self.last = None\n",
    "    else:\n",
    "      self.last = self.last.prev\n",
    "      self.last.next = None\n",
    "\n",
    "  def traverse_lr(self):\n",
    "    output = []\n",
    "    curr = self.head\n",
    "    while curr:\n",
    "      output.append(curr.data)\n",
    "      curr = curr.next\n",
    "    return output\n",
    "\n",
    "  def traverse_rl(self):\n",
    "    output = []\n",
    "    curr = self.last\n",
    "    while curr:\n",
    "      output.append(curr.data)\n",
    "      curr = curr.prev\n",
    "    return output\n",
    "\n",
    "\n",
    "chain = doubly_linked_list()\n",
    "\n",
    "for i in [1, 2, 3, 4, 5, 6, 7, 8, 9, 10]:\n",
    "  chain.insert_end(i)\n",
    "\n",
    "for i in range(5):\n",
    "  chain.delete_end()\n",
    "# chain.insert_end('rahul')\n",
    "# chain.insert_end('vidu')\n",
    "# chain.insert_end('cmd')\n",
    "# chain.insert_end('harikesh')\n",
    "print(chain.traverse_lr())\n",
    "print(chain.traverse_rl())"
   ]
  },
  {
   "cell_type": "code",
   "execution_count": 12,
   "metadata": {},
   "outputs": [
    {
     "name": "stdout",
     "output_type": "stream",
     "text": [
      "['vishnu', 'vidu', 'rahul']\n"
     ]
    }
   ],
   "source": [
    "class Node:\n",
    "  def __init__(self, data):\n",
    "    self.data = data\n",
    "    self.prev = None\n",
    "    self.next = None\n",
    "\n",
    "\n",
    "class LinkedList:\n",
    "  def __init__(self):\n",
    "    self.head = None\n",
    "    self.tail = None\n",
    "\n",
    "  def is_empty(self):\n",
    "    return self.head == None\n",
    "\n",
    "  def insert_start(self, data):\n",
    "    node = Node(data)\n",
    "    if self.is_empty():\n",
    "      self.head = node\n",
    "      self.tail = node\n",
    "    else:\n",
    "      node.next = self.head\n",
    "      self.head.prev = node\n",
    "      self.head = node\n",
    "\n",
    "  def insert_end(self, data):\n",
    "    node = Node(data)\n",
    "    if self.is_empty():\n",
    "      self.head = node\n",
    "      self.tail = node\n",
    "    else:\n",
    "      node.prev = self.tail\n",
    "      self.tail.next = node\n",
    "      self.tail = node\n",
    "\n",
    "  def delete_start(self):\n",
    "    if self.is_empty():\n",
    "      return\n",
    "    if self.head == self.tail:\n",
    "      self.head = None\n",
    "      self.tail = None\n",
    "    else:\n",
    "      self.head = self.head.next\n",
    "      self.head.prev = None\n",
    "\n",
    "  def delete_end(self):\n",
    "    if self.is_empty():\n",
    "      return\n",
    "    if self.head == self.tail:\n",
    "      self.head = None\n",
    "      self.tail = None\n",
    "    else:\n",
    "      self.tail = self.tail.prev\n",
    "      self.tail.next = None\n",
    "\n",
    "  def __str__(self):\n",
    "    output = []\n",
    "    curr = self.head\n",
    "    while curr:\n",
    "      output.append(curr.data)\n",
    "      curr = curr.next\n",
    "    return str(output)\n",
    "\n",
    "\n",
    "chain = LinkedList()\n",
    "chain.insert_start('rahul')\n",
    "chain.insert_start('vidu')\n",
    "chain.insert_start('vishnu')\n",
    "chain.insert_end('vaish')\n",
    "chain.delete_end()\n",
    "print(chain)"
   ]
  },
  {
   "cell_type": "code",
   "execution_count": 13,
   "metadata": {},
   "outputs": [],
   "source": [
    "# class Hashing:\n",
    "#   def __init__(self,capacity):\n",
    "#     self.m = capacity\n",
    "#     self.c1 = 1\n",
    "#     self.c2 = 1\n",
    "#     self.storage = [None]* capacity\n",
    "\n",
    "#   def h(self,k):\n",
    "#     return k % self.m\n",
    "\n",
    "#   def linear_probing(self,key):\n",
    "#     index = self.h(key)\n",
    "#     if self.storage[index] == None:"
   ]
  },
  {
   "cell_type": "code",
   "execution_count": 14,
   "metadata": {},
   "outputs": [
    {
     "name": "stdout",
     "output_type": "stream",
     "text": [
      "['rahul', 'vidu']\n",
      "['vidu', 'rahul']\n"
     ]
    }
   ],
   "source": [
    "class Node:\n",
    "  def __init__(self, data):\n",
    "    self.data = data\n",
    "    self.next = None\n",
    "    self.prev = None\n",
    "\n",
    "  def __str__(self):\n",
    "    return f'Node: {self.data}'\n",
    "\n",
    "\n",
    "class doubly_linked_list:\n",
    "  def __init__(self):\n",
    "    self.head = None\n",
    "    self.last = None\n",
    "\n",
    "  def is_empty(self):\n",
    "    return self.head == None\n",
    "\n",
    "  def insert_end(self, data):\n",
    "    node = Node(data)\n",
    "    if self.is_empty():\n",
    "      self.head = node\n",
    "      self.last = node\n",
    "    else:\n",
    "      self.last.next = node\n",
    "      node.prev = self.last\n",
    "      self.last = node\n",
    "\n",
    "  def delete_end(self):\n",
    "    if self.is_empty():\n",
    "      return\n",
    "    if self.head == self.last:\n",
    "      self.head = None\n",
    "      self.last = None\n",
    "    else:\n",
    "      self.last = self.last.prev\n",
    "      self.last.next = None\n",
    "\n",
    "  def traverse_lr(self):\n",
    "    output = []\n",
    "    curr = self.head\n",
    "    while curr:\n",
    "      output.append(curr.data)\n",
    "      curr = curr.next\n",
    "    return output\n",
    "\n",
    "  def traverse_rl(self):\n",
    "    output = []\n",
    "    curr = self.last\n",
    "    while curr:\n",
    "      output.append(curr.data)\n",
    "      curr = curr.prev\n",
    "    return output\n",
    "\n",
    "\n",
    "chain = doubly_linked_list()\n",
    "chain.insert_end('rahul')\n",
    "chain.insert_end('vidu')\n",
    "chain.insert_end('cmd')\n",
    "chain.delete_end()\n",
    "print(chain.traverse_lr())\n",
    "print(chain.traverse_rl())"
   ]
  },
  {
   "cell_type": "code",
   "execution_count": 15,
   "metadata": {},
   "outputs": [
    {
     "name": "stdout",
     "output_type": "stream",
     "text": [
      "[1, 3, 5]\n",
      "[5, 3, 1]\n"
     ]
    }
   ],
   "source": [
    "input = [1, 3, 5, 7, 9]\n",
    "\n",
    "chain = doubly_linked_list()\n",
    "for i in input:\n",
    "  chain.insert_end(i)\n",
    "chain.delete_end()\n",
    "chain.delete_end()\n",
    "print(chain.traverse_lr())\n",
    "print(chain.traverse_rl())"
   ]
  },
  {
   "cell_type": "code",
   "execution_count": 16,
   "metadata": {},
   "outputs": [
    {
     "name": "stdout",
     "output_type": "stream",
     "text": [
      "Hash table is full\n",
      "[7, None, 14, None, None, 28, 21]\n"
     ]
    }
   ],
   "source": [
    "class Hashing:\n",
    "  def __init__(self, c1, c2, m):\n",
    "    self.hashtable = []\n",
    "    for i in range(m):\n",
    "      self.hashtable.append(None)\n",
    "    self.c1 = c1\n",
    "    self.c2 = c2\n",
    "    self.m = m\n",
    "\n",
    "  def h(self, k):\n",
    "    return k % self.m\n",
    "\n",
    "  def h_quad(self, k, i):\n",
    "    return (self.h(k) + self.c1*i + self.c2*i**2) % self.m\n",
    "\n",
    "  def qp(self, data):\n",
    "    # do we even need probing\n",
    "    index = self.h(data)\n",
    "    if self.hashtable[index] == None:\n",
    "      return index\n",
    "    # yes we do need probing\n",
    "    for i in range(self.m):\n",
    "      index = self.h_quad(data, i)\n",
    "      if self.hashtable[index] == None:\n",
    "        return index\n",
    "    return None\n",
    "\n",
    "  def store_data(self, data):\n",
    "    index = self.qp(data)\n",
    "    if index == None:\n",
    "      print(\"Hash table is full\")\n",
    "      return\n",
    "    self.hashtable[index] = data\n",
    "\n",
    "  def display_hashtable(self):\n",
    "    return self.hashtable\n",
    "\n",
    "\n",
    "ht = Hashing(1, 1, 7)\n",
    "ht.store_data(7)\n",
    "ht.store_data(14)\n",
    "ht.store_data(21)\n",
    "ht.store_data(28)\n",
    "ht.store_data(35)\n",
    "print(ht.display_hashtable())"
   ]
  },
  {
   "cell_type": "code",
   "execution_count": 17,
   "metadata": {},
   "outputs": [
    {
     "name": "stdout",
     "output_type": "stream",
     "text": [
      "Hash table is full\n",
      "[11, 12, 13, 14, 15, 16, 17, 18, 19, 20, 10]\n"
     ]
    }
   ],
   "source": [
    "ht = Hashing(1, 2, 11)\n",
    "for i in [10, 11, 12, 13, 14, 15, 16, 17, 18, 19, 20, 21]:\n",
    "  ht.store_data(i)\n",
    "print(ht.display_hashtable())"
   ]
  },
  {
   "cell_type": "code",
   "execution_count": 18,
   "metadata": {},
   "outputs": [
    {
     "data": {
      "text/plain": [
       "True"
      ]
     },
     "execution_count": 18,
     "metadata": {},
     "output_type": "execute_result"
    }
   ],
   "source": [
    "def DishPrepareOrder(orders):\n",
    "  freq = {}\n",
    "  for order in orders:\n",
    "    if order not in freq:\n",
    "      freq[order] = 0\n",
    "    freq[order] += 1\n",
    "\n",
    "  result = list(freq.items())\n",
    "  result.sort(key=lambda item: item[0])\n",
    "  result.sort(key=lambda item: item[1], reverse=True)\n",
    "  return [item[0] for item in result]\n",
    "\n",
    "\n",
    "DishPrepareOrder([1002, 1004, 1005, 1004, 1003, 1009, 1001, 1006, 1002, 1007, 1004, 1002, 1001, 1009, 1006, 1001, 1003, 1009, 1003, 1005, 1006, 1005, 1003, 1008, 1005, 1004, 1003, 1009, 1002, 1008, 1001, 1008, 1003, 1001, 1001, 1007, 1002, 1005, 1009, 1007, 1004, 1005, 1009, 1008, 1009, 1009, 1002, 1008, 1002,\n",
    "                 1006, 1005, 1006, 1009, 1007, 1008, 1005, 1002, 1006, 1006, 1001, 1002, 1005, 1003, 1003, 1005, 1001, 1004, 1004, 1001, 1009, 1005, 1008, 1001, 1008, 1006, 1001, 1001, 1009, 1002, 1001, 1003, 1004, 1009, 1008, 1004, 1006, 1003, 1009, 1007, 1005, 1004, 1009, 1001, 1009, 1007, 1004, 1008, 1005, 1004, 1008]) == [1009, 1001, 1005, 1004, 1008, 1002, 1003, 1006, 1007]"
   ]
  },
  {
   "cell_type": "code",
   "execution_count": 19,
   "metadata": {},
   "outputs": [
    {
     "name": "stdout",
     "output_type": "stream",
     "text": [
      "3.6\n"
     ]
    }
   ],
   "source": [
    "def is_number(token):\n",
    "  try:\n",
    "    float(token)\n",
    "    return True\n",
    "  except:\n",
    "    return False\n",
    "\n",
    "\n",
    "def EvaluateExpression(expression):\n",
    "  stack = []\n",
    "  tokens = expression.split()\n",
    "  for token in tokens:\n",
    "    # token is numeric\n",
    "    if is_number(token):\n",
    "      stack.append(float(token))\n",
    "      continue  # skip to next token\n",
    "\n",
    "    # token is op\n",
    "    b = stack.pop()\n",
    "    a = stack.pop()\n",
    "    if token == '+':\n",
    "      result = a + b\n",
    "    if token == '-':\n",
    "      result = a - b\n",
    "    if token == '*':\n",
    "      result = a * b\n",
    "    if token == '/':\n",
    "      result = a / b\n",
    "    if token == '**':\n",
    "      result = a ** b\n",
    "    stack.append(result)\n",
    "\n",
    "  return stack[0]\n",
    "\n",
    "\n",
    "print(EvaluateExpression('2 4 5 / 5 3 - 5 4 ^ ^ * +'))"
   ]
  },
  {
   "cell_type": "code",
   "execution_count": 20,
   "metadata": {},
   "outputs": [
    {
     "name": "stdout",
     "output_type": "stream",
     "text": [
      "13111.0\n"
     ]
    }
   ],
   "source": [
    "def EvaluateExpression(expression):\n",
    "  stack = []\n",
    "  for token in expression.split():\n",
    "    if token not in ['+', '-', '*', '/', '**']:\n",
    "      stack.append(int(token))\n",
    "      continue\n",
    "\n",
    "    B = stack.pop()\n",
    "    A = stack.pop()\n",
    "\n",
    "    if token == '+':\n",
    "      stack.append(A+B)\n",
    "    if token == '-':\n",
    "      stack.append(A-B)\n",
    "    if token == '*':\n",
    "      stack.append(A*B)\n",
    "    if token == '/':\n",
    "      stack.append(A/B)\n",
    "    if token == '**':\n",
    "      stack.append(A**B)\n",
    "  return stack[0]\n",
    "\n",
    "\n",
    "print(EvaluateExpression('1 2 3 2 3 ** ** * + 6 2 / 4 * -'))"
   ]
  },
  {
   "cell_type": "code",
   "execution_count": 21,
   "metadata": {},
   "outputs": [],
   "source": [
    "class Node:\n",
    "  def __init__(self, data):\n",
    "    self.data = data\n",
    "    self.next = None\n",
    "\n",
    "  def __str__(self):\n",
    "    return f'Node: {self.data}'"
   ]
  },
  {
   "cell_type": "code",
   "execution_count": 22,
   "metadata": {},
   "outputs": [
    {
     "data": {
      "text/plain": [
       "['rahul', 'vidu', 'cmd', 'harikesh']"
      ]
     },
     "execution_count": 22,
     "metadata": {},
     "output_type": "execute_result"
    }
   ],
   "source": [
    "def list_to_ll(elems):\n",
    "  root = Node(elems[0])\n",
    "  prev = root\n",
    "  for elem in elems[1:]:\n",
    "    node = Node(elem)\n",
    "    prev.next = node\n",
    "    prev = node\n",
    "  return root\n",
    "\n",
    "\n",
    "def ll_to_list(root):\n",
    "  output = []\n",
    "  curr = root\n",
    "  while curr:\n",
    "    output.append(curr.data)\n",
    "    curr = curr.next\n",
    "  return output\n",
    "\n",
    "\n",
    "root = list_to_ll(['rahul', 'vidu', 'cmd', 'harikesh'])\n",
    "ll_to_list(root)"
   ]
  },
  {
   "cell_type": "code",
   "execution_count": 23,
   "metadata": {},
   "outputs": [
    {
     "name": "stdout",
     "output_type": "stream",
     "text": [
      "Node: harikesh\n",
      "['harikesh', 'cmd', 'vidu', 'rahul']\n"
     ]
    }
   ],
   "source": [
    "def reverse(root):\n",
    "  prev = root\n",
    "  curr = root.next\n",
    "  root.next = None\n",
    "\n",
    "  while curr:\n",
    "    temp = curr.next\n",
    "    curr.next = prev\n",
    "    prev = curr\n",
    "    curr = temp\n",
    "  return prev\n",
    "\n",
    "\n",
    "rahul = Node('rahul')\n",
    "vidu = Node('vidu')\n",
    "cmd = Node('cmd')\n",
    "harikesh = Node('harikesh')\n",
    "\n",
    "rahul.next = vidu\n",
    "vidu.next = cmd\n",
    "cmd.next = harikesh\n",
    "\n",
    "new_root = reverse(rahul)\n",
    "\n",
    "root = list_to_ll(['rahul', 'vidu', 'cmd', 'harikesh'])\n",
    "new_root = reverse(root)\n",
    "print(new_root)\n",
    "print(ll_to_list(new_root))"
   ]
  },
  {
   "cell_type": "code",
   "execution_count": 24,
   "metadata": {},
   "outputs": [
    {
     "name": "stdout",
     "output_type": "stream",
     "text": [
      "True\n"
     ]
    }
   ],
   "source": [
    "root = list_to_ll([1, 3, 12, 12, 12, 13, 1, 14, 5])\n",
    "new_root = reverse(root)\n",
    "print(ll_to_list(new_root) == [5, 14, 1, 13, 12, 12, 12, 3, 1])"
   ]
  },
  {
   "cell_type": "code",
   "execution_count": 25,
   "metadata": {},
   "outputs": [
    {
     "data": {
      "text/plain": [
       "[1, 2, 3, 4, 5, 7, 9]"
      ]
     },
     "execution_count": 25,
     "metadata": {},
     "output_type": "execute_result"
    }
   ],
   "source": [
    "def removeDuplicate(head):\n",
    "  last = head\n",
    "  curr = head\n",
    "  while curr:  # master loop\n",
    "    if last.data != curr.data:\n",
    "      last.next = curr\n",
    "      last = curr\n",
    "    curr = curr.next  # forward mechanism\n",
    "  last.next = None\n",
    "\n",
    "\n",
    "head = list_to_ll([1, 1, 2, 2, 2, 3, 3, 4, 4, 4, 4, 5, 7, 9])\n",
    "removeDuplicate(head)\n",
    "ll_to_list(head)"
   ]
  },
  {
   "cell_type": "code",
   "execution_count": 26,
   "metadata": {},
   "outputs": [
    {
     "name": "stdout",
     "output_type": "stream",
     "text": [
      "<__main__.doubly_linked_list object at 0x0000018D37A9B0E0>\n"
     ]
    }
   ],
   "source": [
    "class Node:\n",
    "  def __init__(self, data):\n",
    "    self.data = data\n",
    "    self.next = None\n",
    "\n",
    "  def __str__(self):\n",
    "    return f'Node: {self.data}'\n",
    "\n",
    "\n",
    "class doubly_linked_list:\n",
    "  def __init__(self):\n",
    "    self.head = None\n",
    "    self.tail = None\n",
    "\n",
    "  def insert_pos(self, data, position):\n",
    "    curr = self.head\n",
    "    while curr:\n",
    "      print(curr.data)\n",
    "      curr = curr.next\n",
    "\n",
    "\n",
    "chain = doubly_linked_list()\n",
    "chain.insert_pos('sanika', 2)\n",
    "print(chain)"
   ]
  },
  {
   "cell_type": "code",
   "execution_count": 27,
   "metadata": {},
   "outputs": [
    {
     "data": {
      "text/plain": [
       "['rahul', 'vidu', 'sanika', 'cmd', 'harikesh']"
      ]
     },
     "execution_count": 27,
     "metadata": {},
     "output_type": "execute_result"
    }
   ],
   "source": [
    "class Node:\n",
    "  def __init__(self, data):\n",
    "    self.data = data\n",
    "    self.next = None\n",
    "    self.prev = None\n",
    "\n",
    "\n",
    "class doubly_linked_list:\n",
    "  def __init__(self):\n",
    "    self.head = None\n",
    "    self.last = None\n",
    "\n",
    "  def insert_end(self, data):\n",
    "    newnode = Node(data)\n",
    "    newnode.prev = self.last\n",
    "    if self.head == None:\n",
    "      self.head = newnode\n",
    "      self.last = newnode\n",
    "    else:\n",
    "      self.last.next = newnode\n",
    "      self.last = newnode\n",
    "\n",
    "  def insert_at_pos(self, data, pos):\n",
    "    # LL is empty\n",
    "    if self.head == None:\n",
    "      self.insert_end(data)\n",
    "      return\n",
    "\n",
    "    # position at head (pos = 1)\n",
    "    if pos == 1:\n",
    "      node = Node(data)\n",
    "      node.next = self.head\n",
    "      self.head.prev = node\n",
    "      self.head = node\n",
    "      return\n",
    "\n",
    "    # find curr and count\n",
    "    count = 0\n",
    "    curr = self.head\n",
    "    while curr:\n",
    "      count += 1\n",
    "      if count == pos:\n",
    "        break\n",
    "      curr = curr.next\n",
    "\n",
    "    # position > count\n",
    "    if pos > count:\n",
    "      self.insert_end(data)\n",
    "      return\n",
    "\n",
    "    # prev <--> node <--> curr\n",
    "    prev = curr.prev\n",
    "    node = Node(data)\n",
    "\n",
    "    # sandwich vidu <--> sanika <--> cmd\n",
    "    node.next = curr\n",
    "    curr.prev = node\n",
    "\n",
    "    prev.next = node\n",
    "    node.prev = prev\n",
    "\n",
    "\n",
    "chain = doubly_linked_list()\n",
    "chain.insert_end('rahul')\n",
    "chain.insert_end('vidu')\n",
    "chain.insert_end('cmd')\n",
    "chain.insert_end('harikesh')\n",
    "chain.insert_at_pos('sanika', 3)\n",
    "ll_to_list(chain.head)"
   ]
  },
  {
   "cell_type": "code",
   "execution_count": 28,
   "metadata": {},
   "outputs": [
    {
     "data": {
      "text/plain": [
       "['sanika']"
      ]
     },
     "execution_count": 28,
     "metadata": {},
     "output_type": "execute_result"
    }
   ],
   "source": [
    "chain = doubly_linked_list()\n",
    "chain.insert_at_pos('sanika', 10)\n",
    "ll_to_list(chain.head)"
   ]
  },
  {
   "cell_type": "code",
   "execution_count": 29,
   "metadata": {},
   "outputs": [
    {
     "data": {
      "text/plain": [
       "['sanika', 'rahul', 'vidu']"
      ]
     },
     "execution_count": 29,
     "metadata": {},
     "output_type": "execute_result"
    }
   ],
   "source": [
    "chain = doubly_linked_list()\n",
    "chain.insert_end('rahul')\n",
    "chain.insert_end('vidu')\n",
    "chain.insert_at_pos('sanika', 1)\n",
    "ll_to_list(chain.head)"
   ]
  },
  {
   "cell_type": "code",
   "execution_count": 30,
   "metadata": {},
   "outputs": [
    {
     "data": {
      "text/plain": [
       "['rahul', 'vidu', 'sanika']"
      ]
     },
     "execution_count": 30,
     "metadata": {},
     "output_type": "execute_result"
    }
   ],
   "source": [
    "chain = doubly_linked_list()\n",
    "chain.insert_end('rahul')\n",
    "chain.insert_end('vidu')\n",
    "chain.insert_at_pos('sanika', 10)\n",
    "ll_to_list(chain.head)"
   ]
  },
  {
   "cell_type": "code",
   "execution_count": 31,
   "metadata": {},
   "outputs": [
    {
     "name": "stdout",
     "output_type": "stream",
     "text": [
      "['vidu', 'rahul', 'sanika', 'cmd']\n"
     ]
    }
   ],
   "source": [
    "class Node:\n",
    "  def __init__(self, data):\n",
    "    self.data = data\n",
    "    self.next = None\n",
    "    self.prev = None\n",
    "\n",
    "\n",
    "class doubly_linked_list:\n",
    "  def __init__(self):\n",
    "    self.head = None\n",
    "    self.last = None\n",
    "\n",
    "  def __str__(self):\n",
    "    return f'Node: {self.head}'\n",
    "\n",
    "  def insert_end(self, data):\n",
    "    newnode = Node(data)\n",
    "    newnode.prev = self.last\n",
    "    if self.head == None:\n",
    "      self.head = newnode\n",
    "      self.last = newnode\n",
    "    else:\n",
    "      self.last.next = newnode\n",
    "      self.last = newnode\n",
    "\n",
    "  def insert_at_pos(self, data, pos):\n",
    "    # if empty\n",
    "    if self.head == None:\n",
    "      self.insert_end(data)\n",
    "      return\n",
    "\n",
    "    # if insert in 1st pos\n",
    "    if pos == 1:\n",
    "      node = Node(data)\n",
    "      self.head.prev = node\n",
    "      node.next = self.head\n",
    "      self.head = node\n",
    "      return\n",
    "\n",
    "    count = 0\n",
    "    curr = self.head\n",
    "    while curr:\n",
    "      count += 1\n",
    "      if count == pos:\n",
    "        break\n",
    "      curr = curr.next\n",
    "\n",
    "    # pos > no of elems\n",
    "    if pos > count:\n",
    "      self.insert_end(data)\n",
    "      return\n",
    "\n",
    "    # prev <--> node <--> curr\n",
    "    node = Node(data)\n",
    "    prev = curr.prev\n",
    "\n",
    "    node.next = curr\n",
    "    curr.prev = node\n",
    "    prev.next = node\n",
    "    node.prev = prev\n",
    "\n",
    "\n",
    "chain = doubly_linked_list()\n",
    "chain.insert_end('vidu')\n",
    "chain.insert_end('rahul')\n",
    "chain.insert_end('cmd')\n",
    "chain.insert_at_pos('sanika', 3)\n",
    "\n",
    "print(ll_to_list(chain.head))"
   ]
  },
  {
   "cell_type": "code",
   "execution_count": 32,
   "metadata": {},
   "outputs": [],
   "source": [
    "class Node:\n",
    "  def __init__(self, data):\n",
    "    self.data = data\n",
    "    self.next = None"
   ]
  },
  {
   "cell_type": "code",
   "execution_count": 33,
   "metadata": {},
   "outputs": [
    {
     "name": "stdout",
     "output_type": "stream",
     "text": [
      "[3, 4, 5, 6, 7, 9, 10, 11]\n"
     ]
    }
   ],
   "source": [
    "def mergeSortedList(head1, head2):\n",
    "  curr1 = head1\n",
    "  curr2 = head2\n",
    "  last = None\n",
    "\n",
    "  while curr1 and curr2:\n",
    "    if curr1.data < curr2.data:\n",
    "      if last == None:\n",
    "        last = curr1\n",
    "        new_head = curr1\n",
    "      else:\n",
    "        last.next = curr1\n",
    "        last = curr1\n",
    "      curr1 = curr1.next\n",
    "\n",
    "    else:\n",
    "      if last == None:\n",
    "        last = curr2\n",
    "        new_head = curr2\n",
    "      else:\n",
    "        last.next = curr2\n",
    "        last = curr2\n",
    "      curr2 = curr2.next\n",
    "\n",
    "  # if elems remained in ll\n",
    "  if curr1 != None:\n",
    "    last.next = curr1\n",
    "  if curr2 != None:\n",
    "    last.next = curr2\n",
    "\n",
    "  return new_head\n",
    "\n",
    "\n",
    "head1 = list_to_ll([3, 4, 6])\n",
    "head2 = list_to_ll([5, 7, 9, 10, 11])\n",
    "new_head = mergeSortedList(head1, head2)\n",
    "print(ll_to_list(new_head))"
   ]
  },
  {
   "cell_type": "code",
   "execution_count": 34,
   "metadata": {},
   "outputs": [
    {
     "name": "stdout",
     "output_type": "stream",
     "text": [
      "30\n",
      "30\n",
      "20\n"
     ]
    }
   ],
   "source": [
    "class Queue:\n",
    "  def __init__(self):\n",
    "    self.items = []\n",
    "\n",
    "  def enqueue(self, key):\n",
    "    self.items.insert(0, key)\n",
    "\n",
    "  def dequeue(self):\n",
    "    return self.items.pop()\n",
    "\n",
    "\n",
    "class stack:\n",
    "  def __init__(self):\n",
    "    self.q1 = Queue()\n",
    "    self.q2 = Queue()\n",
    "    self.size = 0\n",
    "\n",
    "  def isempty(self):\n",
    "    return self.size == 0\n",
    "\n",
    "  def push(self, value):\n",
    "    # (step1) transfer q1>q2,\n",
    "    for i in range(self.size):\n",
    "      self.q2.enqueue(self.q1.dequeue())\n",
    "\n",
    "    # (step2) enqueue value to q1,\n",
    "    self.q1.enqueue(value)\n",
    "\n",
    "    # (step3) transfer q2>q1\n",
    "    for i in range(self.size):\n",
    "      self.q1.enqueue(self.q2.dequeue())\n",
    "\n",
    "    self.size += 1\n",
    "\n",
    "  def pop(self):\n",
    "    if self.isempty():\n",
    "      return 'Stack is empty'\n",
    "\n",
    "    self.size -= 1\n",
    "    return self.q1.dequeue()\n",
    "\n",
    "  def top(self):\n",
    "    if self.isempty():\n",
    "      return 'Stack is empty'\n",
    "\n",
    "    value = self.pop()\n",
    "    self.push(value)\n",
    "    return value\n",
    "\n",
    "\n",
    "stack = stack()\n",
    "stack.push(10)\n",
    "stack.push(20)\n",
    "stack.push(30)\n",
    "print(stack.top())\n",
    "print(stack.pop())\n",
    "print(stack.top())"
   ]
  },
  {
   "cell_type": "code",
   "execution_count": 36,
   "metadata": {},
   "outputs": [
    {
     "data": {
      "text/plain": [
       "[1, 2, 3]"
      ]
     },
     "execution_count": 36,
     "metadata": {},
     "output_type": "execute_result"
    }
   ],
   "source": [
    "class Node:\n",
    "  def __init__(self, data):\n",
    "    self.data = data\n",
    "    self.next = None\n",
    "\n",
    "def remove_duplicate(head):\n",
    "  last = head\n",
    "  curr = head\n",
    "  while curr:\n",
    "    if last.data != curr.data:\n",
    "      last.next = curr\n",
    "      last = curr\n",
    "    curr = curr.next\n",
    "  last.next = None\n",
    "\n",
    "\n",
    "head = list_to_ll([1, 1, 2, 2, 2, 2, 3, 3, 3, 3])\n",
    "removeDuplicate(head)\n",
    "ll_to_list(head)"
   ]
  },
  {
   "cell_type": "code",
   "execution_count": 39,
   "metadata": {},
   "outputs": [
    {
     "data": {
      "text/plain": [
       "[1, 2, 3]"
      ]
     },
     "execution_count": 39,
     "metadata": {},
     "output_type": "execute_result"
    }
   ],
   "source": [
    "class Node:\n",
    "  def __init__(self, data):\n",
    "    self.data = data\n",
    "    self.next = None\n",
    "\n",
    "\n",
    "def removeDuplicate(head):\n",
    "  last = head\n",
    "  curr = head\n",
    "  while curr:\n",
    "    if last.data != curr.data:\n",
    "      last.next = curr\n",
    "      last = curr\n",
    "    curr = curr.next\n",
    "  last.next = None\n",
    "\n",
    "\n",
    "head = list_to_ll([1, 1, 2, 2, 2, 2, 3, 3, 3, 3])\n",
    "removeDuplicate(head)\n",
    "ll_to_list(head)"
   ]
  },
  {
   "cell_type": "code",
   "execution_count": 70,
   "metadata": {},
   "outputs": [
    {
     "data": {
      "text/plain": [
       "[7, 8, 9, 9, 10, 10, 11]"
      ]
     },
     "execution_count": 70,
     "metadata": {},
     "output_type": "execute_result"
    }
   ],
   "source": [
    "def mergeSortedList(head1, head2):\n",
    "  curr1 = head1\n",
    "  curr2 = head2\n",
    "  root = None\n",
    "  last = None\n",
    "\n",
    "  while curr1 and curr2:\n",
    "    if curr1.data < curr2.data:\n",
    "      if last == None:\n",
    "        last = curr1\n",
    "        root = last\n",
    "      else:\n",
    "        last.next = curr1\n",
    "        last = curr1\n",
    "      curr1 = curr1.next\n",
    "\n",
    "    else:\n",
    "      if last == None:\n",
    "        last = curr2\n",
    "        root = last\n",
    "      else:\n",
    "        last.next = curr2\n",
    "        last = curr2\n",
    "      curr2 = curr2.next\n",
    "\n",
    "  if curr1 != None:\n",
    "    last.next = curr1\n",
    "\n",
    "  if curr2 != None:\n",
    "    last.next = curr2\n",
    "\n",
    "  return root\n",
    "\n",
    "\n",
    "head1 = list_to_ll([7, 9, 10, 11])\n",
    "head2 = list_to_ll([8, 9, 10])\n",
    "new_root = mergeSortedList(head1, head2)\n",
    "ll_to_list(new_root)"
   ]
  },
  {
   "cell_type": "code",
   "execution_count": 78,
   "metadata": {},
   "outputs": [
    {
     "data": {
      "text/plain": [
       "[5, 6, 7, 8, 8, 9, 9, 10]"
      ]
     },
     "execution_count": 78,
     "metadata": {},
     "output_type": "execute_result"
    }
   ],
   "source": [
    "def merge(A, B):\n",
    "  m, n = len(A), len(B)\n",
    "  merged, i, j = [], 0, 0\n",
    "\n",
    "  while i < m and j < n:\n",
    "    if A[i] < B[j]:\n",
    "      merged.append(A[i])\n",
    "      i += 1\n",
    "    else:\n",
    "      merged.append(B[j])\n",
    "      j += 1\n",
    "\n",
    "  merged += A[i:]\n",
    "  merged += B[j:]\n",
    "  return merged\n",
    "\n",
    "\n",
    "merge([7, 8, 9], [5, 6, 8, 9, 10])"
   ]
  },
  {
   "cell_type": "markdown",
   "metadata": {},
   "source": [
    "w1, w2, w3 \n",
    "sorted(), freq, merge sort, binary search, ll, stack, queue\n",
    "\n",
    "w4, w5, w6\n",
    "bfs, dfs, topo sort, longest path\n",
    "dijkstra, bellman, floyd, prim, kruskal\n",
    "heap, BST, AVL\n",
    "\n",
    "w7, w8, w9\n",
    "greedy, divide n conquer, DP\n"
   ]
  },
  {
   "cell_type": "markdown",
   "metadata": {},
   "source": [
    "15th\n",
    "w5 ques, sql (10 ques)\n",
    "\n",
    "16th\n",
    "sql 2, heap n BST\n",
    "\n",
    "16th, 17th\n",
    "psycopg2"
   ]
  },
  {
   "cell_type": "markdown",
   "metadata": {},
   "source": [
    "sql 1\n",
    "select, from, where, like, order by, group by, having, set ops\n",
    "\n",
    "sql 2\n",
    "joins, sub queries\n",
    "\n",
    "psycopg2\n",
    "py connectivity"
   ]
  }
 ],
 "metadata": {
  "kernelspec": {
   "display_name": "Python 3",
   "language": "python",
   "name": "python3"
  },
  "language_info": {
   "codemirror_mode": {
    "name": "ipython",
    "version": 3
   },
   "file_extension": ".py",
   "mimetype": "text/x-python",
   "name": "python",
   "nbconvert_exporter": "python",
   "pygments_lexer": "ipython3",
   "version": "3.12.4"
  }
 },
 "nbformat": 4,
 "nbformat_minor": 2
}
