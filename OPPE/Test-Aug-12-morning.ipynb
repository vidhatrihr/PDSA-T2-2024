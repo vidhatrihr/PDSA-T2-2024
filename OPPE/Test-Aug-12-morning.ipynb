{
 "cells": [
  {
   "cell_type": "markdown",
   "metadata": {},
   "source": [
    "**Problem 1**\n",
    "\n",
    "- Implement binary search to find the index of a word in a sorted list.\n",
    "\n",
    "- **Args:**\n",
    "  - `words` (list of str): Sorted list of words.\n",
    "  - `target` (str): The word to search for.\n",
    "\n",
    "- **Returns:**\n",
    "  - `int`: Index of the word if found, otherwise -1.\n"
   ]
  },
  {
   "cell_type": "code",
   "execution_count": 1,
   "metadata": {},
   "outputs": [
    {
     "data": {
      "text/plain": [
       "2"
      ]
     },
     "execution_count": 1,
     "metadata": {},
     "output_type": "execute_result"
    }
   ],
   "source": [
    "def binary_search(words, target):\n",
    "  low = 0\n",
    "  high = len(words)-1\n",
    "\n",
    "  while low <= high:\n",
    "    mid = (low+high)//2\n",
    "    if words[mid] < target:\n",
    "      low = mid+1\n",
    "    elif words[mid] > target:\n",
    "      high = mid-1\n",
    "    else:\n",
    "      return mid\n",
    "  return -1\n",
    "\n",
    "\n",
    "binary_search([\"alpha\", \"bravo\", \"charlie\", \"delta\", \"echo\", \"foxtrot\", \"golf\"], \"charlie\")"
   ]
  },
  {
   "cell_type": "code",
   "execution_count": 2,
   "metadata": {},
   "outputs": [
    {
     "name": "stdout",
     "output_type": "stream",
     "text": [
      "All tests passed!\n"
     ]
    }
   ],
   "source": [
    "# Test calls\n",
    "assert binary_search([\"alpha\", \"bravo\", \"charlie\", \"delta\", \"echo\", \"foxtrot\", \"golf\"], \"charlie\") == 2\n",
    "assert binary_search([\"alpha\", \"bravo\", \"charlie\", \"delta\", \"echo\", \"foxtrot\", \"golf\"], \"bravo\") == 1\n",
    "assert binary_search([\"alpha\", \"bravo\", \"charlie\", \"delta\", \"echo\", \"foxtrot\", \"golf\"], \"echo\") == 4\n",
    "assert binary_search([\"alpha\", \"bravo\", \"charlie\", \"delta\", \"echo\", \"foxtrot\", \"golf\"], \"foxtrot\") == 5\n",
    "assert binary_search([\"alpha\", \"bravo\", \"charlie\", \"delta\", \"echo\", \"foxtrot\", \"golf\"], \"alpha\") == 0\n",
    "assert binary_search([\"alpha\", \"bravo\", \"charlie\", \"delta\", \"echo\", \"foxtrot\", \"golf\"], \"hotel\") == -1\n",
    "assert binary_search([\"alpha\", \"bravo\", \"charlie\", \"delta\", \"echo\", \"foxtrot\", \"golf\"], \"golf\") == 6\n",
    "\n",
    "print(\"All tests passed!\")"
   ]
  },
  {
   "cell_type": "markdown",
   "metadata": {},
   "source": [
    "**Problem 2**\n",
    "\n",
    "- Find common elements between two lists.\n",
    "\n",
    "- **Args:**\n",
    "  - `list1` (list of any): First list of elements.\n",
    "  - `list2` (list of any): Second list of elements.\n",
    "\n",
    "- **Returns:**\n",
    "  - `list`: List of common elements.\n"
   ]
  },
  {
   "cell_type": "code",
   "execution_count": 5,
   "metadata": {},
   "outputs": [
    {
     "data": {
      "text/plain": [
       "[3, 4]"
      ]
     },
     "execution_count": 5,
     "metadata": {},
     "output_type": "execute_result"
    }
   ],
   "source": [
    "def find_common_elements(list1, list2):\n",
    "  return list(set(list1) & set(list2))\n",
    "\n",
    "\n",
    "find_common_elements([1, 2, 3, 4], [3, 4, 5, 6])"
   ]
  },
  {
   "cell_type": "code",
   "execution_count": 8,
   "metadata": {},
   "outputs": [
    {
     "data": {
      "text/plain": [
       "[3, 4]"
      ]
     },
     "execution_count": 8,
     "metadata": {},
     "output_type": "execute_result"
    }
   ],
   "source": [
    "def find_common_elements(list1, list2):\n",
    "  found1 = {num: True for num in list1}\n",
    "  found2 = {num: True for num in list2}\n",
    "\n",
    "  commons = []\n",
    "  for key in found1:\n",
    "    if key in found2:\n",
    "      commons.append(key)\n",
    "  return commons\n",
    "\n",
    "\n",
    "find_common_elements([1, 2, 3, 4], [3, 4, 5, 6])"
   ]
  },
  {
   "cell_type": "code",
   "execution_count": 9,
   "metadata": {},
   "outputs": [
    {
     "name": "stdout",
     "output_type": "stream",
     "text": [
      "All tests passed!\n"
     ]
    }
   ],
   "source": [
    "# Test calls\n",
    "assert find_common_elements([1, 2, 3, 4], [3, 4, 5, 6]) == [3, 4]\n",
    "assert find_common_elements([\"apple\", \"banana\", \"cherry\"], [\"cherry\", \"date\", \"fig\"]) == [\"cherry\"]\n",
    "assert find_common_elements([7, 8, 9], [10, 11, 12]) == []\n",
    "assert find_common_elements([\"alpha\", \"bravo\"], [\"charlie\", \"bravo\", \"delta\"]) == [\"bravo\"]\n",
    "assert find_common_elements([1.5, 2.5, 3.5], [2.5, 4.5]) == [2.5]\n",
    "assert find_common_elements([\"dog\", \"cat\", \"mouse\"], [\"dog\", \"elephant\", \"mouse\"]) == [\"dog\", \"mouse\"]\n",
    "assert find_common_elements([], [\"anything\"]) == []\n",
    "\n",
    "print(\"All tests passed!\")"
   ]
  },
  {
   "cell_type": "markdown",
   "metadata": {},
   "source": [
    "**Problem 3**\n",
    "\n",
    "- Returns a list of unique dish names in decreasing order of their frequency from a given list of dishes.\n",
    "\n",
    "- **Args:**\n",
    "  - `dishes` (list): The list of dish names.\n",
    "\n",
    "- **Returns:**\n",
    "  - `list`: A list of unique dish names sorted by their frequency in decreasing order.\n"
   ]
  },
  {
   "cell_type": "code",
   "execution_count": 14,
   "metadata": {},
   "outputs": [
    {
     "data": {
      "text/plain": [
       "['chay', 'samosa', 'idli', 'dosa']"
      ]
     },
     "execution_count": 14,
     "metadata": {},
     "output_type": "execute_result"
    }
   ],
   "source": [
    "def unique_dishes_by_frequency(dishes):\n",
    "  freq = {}\n",
    "  for dish in dishes:\n",
    "    if dish not in freq:\n",
    "      freq[dish] = 0\n",
    "    freq[dish] += 1\n",
    "\n",
    "  result = list(freq.items())\n",
    "  result = sorted(result, key=lambda item: item[1], reverse=True)\n",
    "  result = [item[0] for item in result]\n",
    "  return result\n",
    "\n",
    "\n",
    "unique_dishes_by_frequency(['chay', 'samosa', 'idli', 'dosa', 'samosa', 'idli', 'chay', 'chay'])"
   ]
  },
  {
   "cell_type": "code",
   "execution_count": 15,
   "metadata": {},
   "outputs": [
    {
     "name": "stdout",
     "output_type": "stream",
     "text": [
      "All tests passed!\n"
     ]
    }
   ],
   "source": [
    "# Test calls\n",
    "assert unique_dishes_by_frequency(['chay', 'samosa', 'idli', 'dosa', 'samosa', 'idli', 'chay', 'chay']) == [\n",
    "    'chay', 'samosa', 'idli', 'dosa']\n",
    "assert unique_dishes_by_frequency(['dosa', 'dosa', 'idli', 'samosa']) == ['dosa', 'idli', 'samosa']\n",
    "assert unique_dishes_by_frequency(['idli']) == ['idli']\n",
    "assert unique_dishes_by_frequency([]) == []\n",
    "assert unique_dishes_by_frequency(['chay', 'chay', 'chay']) == ['chay']\n",
    "\n",
    "print(\"All tests passed!\")"
   ]
  },
  {
   "cell_type": "markdown",
   "metadata": {},
   "source": [
    "**Problem 4**\n",
    "\n",
    "- Implement counting sort for a list of integers between 0 and r.\n",
    "\n",
    "- **Args:**\n",
    "  - `nums` (list of int): A list of integers to be sorted.\n",
    "  - `r` (int): The maximum value in the list.\n",
    "\n",
    "- **Returns:**\n",
    "  - `list`: A new sorted list.\n"
   ]
  },
  {
   "cell_type": "code",
   "execution_count": null,
   "metadata": {},
   "outputs": [],
   "source": [
    "def counting_sort(nums, r):\n",
    "  pass\n",
    "\n",
    "\n",
    "counting_sort([1, 2, 1, 3, 3, 3, 1, 4, 4, 2, 2, 3, 1, 1, 1, 2, 0, 0, 0], 4)"
   ]
  },
  {
   "cell_type": "code",
   "execution_count": null,
   "metadata": {},
   "outputs": [],
   "source": [
    "# Test calls\n",
    "assert counting_sort([1, 2, 1, 3, 3, 3, 1, 4, 4, 2, 2, 3, 1, 1, 1, 2, 0, 0, 0], 4) == [\n",
    "    0, 0, 0, 1, 1, 1, 1, 1, 2, 2, 2, 2, 3, 3, 3, 3, 4, 4]\n",
    "assert counting_sort([2, 3, 2, 3, 2], 3) == [2, 2, 2, 3, 3]\n",
    "assert counting_sort([0, 0, 0, 0], 0) == [0, 0, 0, 0]\n",
    "assert counting_sort([4, 4, 3, 3, 2, 2, 1, 1, 0, 0], 4) == [0, 0, 1, 1, 2, 2, 3, 3, 4, 4]\n",
    "assert counting_sort([4, 4, 4, 4, 4], 4) == [4, 4, 4, 4, 4]\n",
    "assert counting_sort([3, 3, 3, 1, 1], 3) == [1, 1, 3, 3, 3]\n",
    "assert counting_sort([], 4) == []\n",
    "\n",
    "print(\"All tests passed!\")"
   ]
  },
  {
   "cell_type": "markdown",
   "metadata": {},
   "source": [
    "**Problem 5**\n",
    "\n",
    "- Implement merge sort for a list of integers.\n",
    "\n",
    "- **Args:**\n",
    "  - `nums` (list of int): A list of integers to be sorted.\n",
    "\n",
    "- **Returns:**\n",
    "  - `list`: A new sorted list.\n"
   ]
  },
  {
   "cell_type": "code",
   "execution_count": null,
   "metadata": {},
   "outputs": [],
   "source": [
    "def merge_sort(nums):\n",
    "  pass\n",
    "\n",
    "\n",
    "merge_sort([38, 27, 43, 3, 9, 82, 10])"
   ]
  },
  {
   "cell_type": "code",
   "execution_count": null,
   "metadata": {},
   "outputs": [],
   "source": [
    "# Test calls\n",
    "assert merge_sort([38, 27, 43, 3, 9, 82, 10]) == [3, 9, 10, 27, 38, 43, 82]\n",
    "assert merge_sort([5, 3, 8, 6, 2, 7, 4, 1]) == [1, 2, 3, 4, 5, 6, 7, 8]\n",
    "assert merge_sort([10, -1, 2, 5, 0, 6, 4, -5]) == [-5, -1, 0, 2, 4, 5, 6, 10]\n",
    "assert merge_sort([1, 2, 3, 4, 5]) == [1, 2, 3, 4, 5]\n",
    "assert merge_sort([5, 4, 3, 2, 1]) == [1, 2, 3, 4, 5]\n",
    "assert merge_sort([1]) == [1]\n",
    "assert merge_sort([]) == []\n",
    "\n",
    "print(\"All tests passed!\")"
   ]
  },
  {
   "cell_type": "markdown",
   "metadata": {},
   "source": [
    "**Test code for problem 6 👇**"
   ]
  },
  {
   "cell_type": "code",
   "execution_count": null,
   "metadata": {},
   "outputs": [],
   "source": [
    "class Node:\n",
    "  def __init__(self, data):\n",
    "    self.data = data\n",
    "    self.next = None\n",
    "    self.prev = None\n",
    "\n",
    "\n",
    "def list_to_ll(elements):\n",
    "  if not elements:\n",
    "    return None\n",
    "  head = Node(elements[0])\n",
    "  current = head\n",
    "  for element in elements[1:]:\n",
    "    new_node = Node(element)\n",
    "    current.next = new_node\n",
    "    new_node.prev = current\n",
    "    current = new_node\n",
    "  return head\n",
    "\n",
    "\n",
    "def ll_to_list(head):\n",
    "  elements = []\n",
    "  current = head\n",
    "  while current:\n",
    "    elements.append(current.data)\n",
    "    current = current.next\n",
    "  return elements"
   ]
  },
  {
   "cell_type": "markdown",
   "metadata": {},
   "source": [
    "**Problem 6**\n",
    "\n",
    "- Implement a linked list class with basic operations.\n",
    "\n",
    "- **Class:**\n",
    "  - `LinkedList`: A class representing a linked list.\n",
    "\n",
    "- **Methods:**\n",
    "  - `insert_start(self, data)`: Insert a node with the given data at the start.\n",
    "  - `insert_end(self, data)`: Insert a node with the given data at the end.\n",
    "  - `delete_start(self)`: Delete the node at the start.\n",
    "  - `delete_end(self)`: Delete the node at the end.\n",
    "  - `is_empty(self)`: Check if the list is empty.\n",
    "  - `traverse_lr(self)`: Traverse the list from left to right.\n",
    "  - `traverse_rl(self)`: Traverse the list from right to left.\n"
   ]
  },
  {
   "cell_type": "code",
   "execution_count": null,
   "metadata": {},
   "outputs": [],
   "source": [
    "class Node:\n",
    "  def __init__(self, data):\n",
    "    self.data = data\n",
    "    self.next = None\n",
    "    self.prev = None\n",
    "\n",
    "\n",
    "class LinkedList:\n",
    "  def __init__(self):\n",
    "    self.head = None\n",
    "    self.tail = None\n",
    "\n",
    "  def is_empty(self):\n",
    "    return self.head is None\n",
    "\n",
    "  def insert_start(self, data):\n",
    "    pass\n",
    "\n",
    "  def insert_end(self, data):\n",
    "    pass\n",
    "\n",
    "  def delete_start(self):\n",
    "    pass\n",
    "\n",
    "  def delete_end(self):\n",
    "    pass\n",
    "\n",
    "  def traverse_lr(self):\n",
    "    pass\n",
    "\n",
    "  def traverse_rl(self):\n",
    "    pass"
   ]
  },
  {
   "cell_type": "code",
   "execution_count": null,
   "metadata": {},
   "outputs": [],
   "source": [
    "# Test calls\n",
    "# Creating a linked list from a list\n",
    "ll = LinkedList()\n",
    "\n",
    "# Test insert_start\n",
    "ll.insert_start(5)\n",
    "ll.insert_start(4)\n",
    "ll.insert_start(3)\n",
    "ll.insert_start(2)\n",
    "ll.insert_start(1)\n",
    "ll.insert_start(0)\n",
    "assert ll_to_list(ll.head) == [0, 1, 2, 3, 4, 5]\n",
    "\n",
    "# Test insert_end\n",
    "ll.insert_end(6)\n",
    "assert ll_to_list(ll.head) == [0, 1, 2, 3, 4, 5, 6]\n",
    "\n",
    "# Test delete_start\n",
    "ll.delete_start()\n",
    "assert ll_to_list(ll.head) == [1, 2, 3, 4, 5, 6]\n",
    "\n",
    "# Test delete_end\n",
    "ll.delete_end()\n",
    "assert ll_to_list(ll.head) == [1, 2, 3, 4, 5]\n",
    "\n",
    "# Test is_empty\n",
    "assert ll.is_empty() == False\n",
    "\n",
    "# Test traversal left to right\n",
    "assert ll.traverse_lr() == [1, 2, 3, 4, 5]\n",
    "\n",
    "# Test traversal right to left\n",
    "assert ll.traverse_rl() == [5, 4, 3, 2, 1]\n",
    "\n",
    "# Test empty list\n",
    "empty_ll = LinkedList()\n",
    "assert empty_ll.is_empty() == True\n",
    "assert empty_ll.traverse_lr() == []\n",
    "assert empty_ll.traverse_rl() == []\n",
    "\n",
    "print(\"All tests passed!\")"
   ]
  }
 ],
 "metadata": {
  "kernelspec": {
   "display_name": "Python 3",
   "language": "python",
   "name": "python3"
  },
  "language_info": {
   "codemirror_mode": {
    "name": "ipython",
    "version": 3
   },
   "file_extension": ".py",
   "mimetype": "text/x-python",
   "name": "python",
   "nbconvert_exporter": "python",
   "pygments_lexer": "ipython3",
   "version": "3.12.4"
  }
 },
 "nbformat": 4,
 "nbformat_minor": 2
}
