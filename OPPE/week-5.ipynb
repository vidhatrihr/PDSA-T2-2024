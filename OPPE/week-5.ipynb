{
 "cells": [
  {
   "cell_type": "code",
   "execution_count": 7,
   "metadata": {},
   "outputs": [
    {
     "data": {
      "text/plain": [
       "(5, 'rahul')"
      ]
     },
     "execution_count": 7,
     "metadata": {},
     "output_type": "execute_result"
    },
    {
     "data": {
      "text/plain": [
       "(7, 'cmd')"
      ]
     },
     "execution_count": 7,
     "metadata": {},
     "output_type": "execute_result"
    },
    {
     "data": {
      "text/plain": [
       "(15, 'muskan')"
      ]
     },
     "execution_count": 7,
     "metadata": {},
     "output_type": "execute_result"
    },
    {
     "data": {
      "text/plain": [
       "(15, 'vidu')"
      ]
     },
     "execution_count": 7,
     "metadata": {},
     "output_type": "execute_result"
    }
   ],
   "source": [
    "import heapq\n",
    "\n",
    "heap = []\n",
    "heapq.heappush(heap, (5, 'rahul'))\n",
    "heapq.heappush(heap, (15, 'vidu'))\n",
    "heapq.heappush(heap, (15, 'muskan'))\n",
    "heapq.heappush(heap, (7, 'cmd'))\n",
    "heapq.heappop(heap)\n",
    "heapq.heappop(heap)\n",
    "heapq.heappop(heap)\n",
    "heapq.heappop(heap)"
   ]
  },
  {
   "cell_type": "code",
   "execution_count": 14,
   "metadata": {},
   "outputs": [
    {
     "data": {
      "text/plain": [
       "{0: 0, 1: 10, 2: 16, 4: 30, 3: 86, 5: 80, 6: 35}"
      ]
     },
     "execution_count": 14,
     "metadata": {},
     "output_type": "execute_result"
    }
   ],
   "source": [
    "import heapq\n",
    "\n",
    "\n",
    "class PriorityQueue:\n",
    "  def __init__(self):\n",
    "    self.heap = []\n",
    "\n",
    "  def is_empty(self):\n",
    "    return len(self.heap) == 0\n",
    "\n",
    "  def enqueue(self, priority, item):\n",
    "    heapq.heappush(self.heap, (priority, item))\n",
    "\n",
    "  def dequeue(self):\n",
    "    return heapq.heappop(self.heap)[1]\n",
    "\n",
    "\n",
    "def dijkstra(adj_list, start):\n",
    "  visited = {u: False for u in adj_list}\n",
    "  distance = {u: float('inf') for u in adj_list}\n",
    "  distance[start] = 0\n",
    "\n",
    "  pq = PriorityQueue()\n",
    "  pq.enqueue(0, start)\n",
    "\n",
    "  while not pq.is_empty():\n",
    "    curr = pq.dequeue()\n",
    "    visited[curr] = True\n",
    "\n",
    "    for neighbor, weight in adj_list[curr]:\n",
    "      if not visited[neighbor]:\n",
    "        new_distance = distance[curr] + weight\n",
    "        if new_distance < distance[neighbor]:\n",
    "          distance[neighbor] = new_distance\n",
    "          pq.enqueue(new_distance, neighbor)\n",
    "  return distance\n",
    "\n",
    "\n",
    "adjacency_list = {\n",
    "    0: [(1, 10), (2, 80)],\n",
    "    1: [(2, 6), (4, 20)],\n",
    "    2: [(3, 70)],\n",
    "    4: [(5, 50), (6, 5)],\n",
    "    3: [],\n",
    "    5: [(6, 10)],\n",
    "    6: []\n",
    "}\n",
    "\n",
    "dijkstra(adjacency_list, 0)"
   ]
  },
  {
   "cell_type": "code",
   "execution_count": 15,
   "metadata": {},
   "outputs": [
    {
     "data": {
      "text/plain": [
       "{'A': 0, 'B': 3, 'C': 2, 'D': 5, 'E': 6}"
      ]
     },
     "execution_count": 15,
     "metadata": {},
     "output_type": "execute_result"
    }
   ],
   "source": [
    "adjacency_list = {\n",
    "    'A': [('B', 4), ('C', 2)],\n",
    "    'B': [('C', 3), ('D', 2), ('E', 3)],\n",
    "    'C': [('B', 1), ('D', 4), ('E', 5)],\n",
    "    'D': [],\n",
    "    'E': [('D', 1)],\n",
    "}\n",
    "\n",
    "dijkstra(adjacency_list, 'A')"
   ]
  },
  {
   "cell_type": "code",
   "execution_count": 17,
   "metadata": {},
   "outputs": [
    {
     "data": {
      "text/plain": [
       "True"
      ]
     },
     "execution_count": 17,
     "metadata": {},
     "output_type": "execute_result"
    }
   ],
   "source": [
    "def bellman_ford(adj_list, start):\n",
    "  distance = {u: float('inf') for u in adj_list}\n",
    "  distance[start] = 0\n",
    "\n",
    "  for _ in range(len(adj_list)-1):\n",
    "    for u in adj_list:\n",
    "      for v, weight in adj_list[u]:\n",
    "        new_distance = distance[u] + weight\n",
    "        if new_distance < distance[v]:\n",
    "          distance[v] = new_distance\n",
    "  return distance\n",
    "\n",
    "\n",
    "adjacency_list = {\n",
    "    0: [(1, 10), (2, 80)],\n",
    "    1: [(2, 6), (4, 20)],\n",
    "    2: [(3, 70)],\n",
    "    4: [(5, 50), (6, 5)],\n",
    "    3: [],\n",
    "    5: [(6, 10)],\n",
    "    6: []\n",
    "}\n",
    "\n",
    "bellman_ford(adjacency_list, 0) == {0: 0, 1: 10, 2: 16, 3: 86, 4: 30, 5: 80, 6: 35}"
   ]
  },
  {
   "cell_type": "code",
   "execution_count": 18,
   "metadata": {},
   "outputs": [
    {
     "data": {
      "text/plain": [
       "True"
      ]
     },
     "execution_count": 18,
     "metadata": {},
     "output_type": "execute_result"
    }
   ],
   "source": [
    "adjacency_list = {\n",
    "    'S': [('E', 8), ('A', 10)],\n",
    "    'E': [('D', 1)],\n",
    "    'A': [('C', 2)],\n",
    "    'D': [('A', -4), ('C', -1)],\n",
    "    'B': [('A', 1)],\n",
    "    'C': [('B', -2)],\n",
    "}\n",
    "\n",
    "bellman_ford(adjacency_list, 'S') == {'S': 0, 'E': 8, 'A': 5, 'D': 9, 'B': 5, 'C': 7}"
   ]
  },
  {
   "cell_type": "code",
   "execution_count": 20,
   "metadata": {},
   "outputs": [
    {
     "data": {
      "text/plain": [
       "{0: {0: 0, 1: 5, 2: 5, 3: 6, 4: 9, 5: 7, 6: 9, 7: 8},\n",
       " 1: {0: inf, 1: 0, 2: 0, 3: 1, 4: 4, 5: 2, 6: inf, 7: inf},\n",
       " 2: {0: inf, 1: 1, 2: 0, 3: 1, 4: 4, 5: 3, 6: inf, 7: inf},\n",
       " 3: {0: inf, 1: 1, 2: 0, 3: 0, 4: 3, 5: 2, 6: inf, 7: inf},\n",
       " 4: {0: inf, 1: -2, 2: -3, 3: -2, 4: 0, 5: -1, 6: inf, 7: inf},\n",
       " 5: {0: inf, 1: -1, 2: -2, 3: -1, 4: 2, 5: 0, 6: inf, 7: inf},\n",
       " 6: {0: inf, 1: -4, 2: -4, 3: -3, 4: 0, 5: -2, 6: 0, 7: inf},\n",
       " 7: {0: inf, 1: -3, 2: -3, 3: -2, 4: 1, 5: -1, 6: 1, 7: 0}}"
      ]
     },
     "metadata": {},
     "output_type": "display_data"
    },
    {
     "data": {
      "text/plain": [
       "[[0, 5, 5, 6, 9, 7, 9, 8],\n",
       " [inf, 0, 0, 1, 4, 2, inf, inf],\n",
       " [inf, 1, 0, 1, 4, 3, inf, inf],\n",
       " [inf, 1, 0, 0, 3, 2, inf, inf],\n",
       " [inf, -2, -3, -2, 0, -1, inf, inf],\n",
       " [inf, -1, -2, -1, 2, 0, inf, inf],\n",
       " [inf, -4, -4, -3, 0, -2, 0, inf],\n",
       " [inf, -3, -3, -2, 1, -1, 1, 0]]"
      ]
     },
     "execution_count": 20,
     "metadata": {},
     "output_type": "execute_result"
    }
   ],
   "source": [
    "def floyd_warshall(adj_list):\n",
    "  dist = {u: {v: float('inf') for v in adj_list} for u in adj_list}\n",
    "\n",
    "  for u in adj_list:\n",
    "    dist[u][u] = 0\n",
    "\n",
    "  for u in adj_list:\n",
    "    for v, weight in adj_list[u]:\n",
    "      dist[u][v] = weight\n",
    "\n",
    "  for k in adj_list:\n",
    "    for i in adj_list:\n",
    "      for j in adj_list:\n",
    "        if dist[i][j] > dist[i][k] + dist[k][j]:\n",
    "          dist[i][j] = dist[i][k] + dist[k][j]\n",
    "  return dist\n",
    "\n",
    "\n",
    "adjacency_list = {0: [(1, 10), (7, 8)],\n",
    "                  1: [(5, 2)],\n",
    "                  2: [(1, 1), (3, 1)],\n",
    "                  3: [(4, 3)],\n",
    "                  4: [(5, -1)],\n",
    "                  5: [(2, -2)],\n",
    "                  6: [(1, -4), (5, -1)],\n",
    "                  7: [(6, 1)]}\n",
    "dist = floyd_warshall(adjacency_list)\n",
    "display(dist)\n",
    "\n",
    "# validating the output (printing distances like a matrix)\n",
    "[list(dist[u].values()) for u in adjacency_list]"
   ]
  },
  {
   "cell_type": "code",
   "execution_count": 21,
   "metadata": {},
   "outputs": [],
   "source": [
    "\n",
    "class PriorityQueue:\n",
    "  def __init__(self):\n",
    "    self.heap = []\n",
    "\n",
    "  def is_empty(self):\n",
    "    return len(self.heap) == 0\n",
    "\n",
    "  def enqueue(self, priority, item):\n",
    "    heapq.heappush(self.heap, (priority, item))\n",
    "\n",
    "  def dequeue(self):\n",
    "    return heapq.heappop(self.heap)"
   ]
  },
  {
   "cell_type": "code",
   "execution_count": 43,
   "metadata": {},
   "outputs": [
    {
     "name": "stdout",
     "output_type": "stream",
     "text": [
      "minimum spanning tree (mst): [(0, 2, 6), (2, 1, 4), (2, 3, 11)]\n"
     ]
    }
   ],
   "source": [
    "def prim(adj_list, start):\n",
    "  mst = []\n",
    "  visited = {u: False for u in adj_list}\n",
    "\n",
    "  pq = PriorityQueue()\n",
    "  for v, weight in adj_list[start]:\n",
    "    pq.enqueue(weight, (start, v))\n",
    "\n",
    "  while not pq.is_empty():\n",
    "    weight, (u, v) = pq.dequeue()\n",
    "    visited[u] = True\n",
    "    if not visited[v]:\n",
    "      mst.append((u, v, weight))\n",
    "      for neighbor, weight in adj_list[v]:\n",
    "        pq.enqueue(weight, (v, neighbor))\n",
    "  return mst\n",
    "\n",
    "\n",
    "adjacency_list = {\n",
    "    0: [(1, 10), (2, 6)],\n",
    "    1: [(0, 10), (3, 15), (2, 4)],\n",
    "    2: [(0, 6), (1, 4), (3, 11)],\n",
    "    3: [(1, 15), (2, 11)]\n",
    "}\n",
    "\n",
    "mst = prim(adjacency_list, 0)\n",
    "print(\"minimum spanning tree (mst):\", mst)"
   ]
  },
  {
   "cell_type": "code",
   "execution_count": 44,
   "metadata": {},
   "outputs": [
    {
     "data": {
      "text/plain": [
       "True"
      ]
     },
     "execution_count": 44,
     "metadata": {},
     "output_type": "execute_result"
    }
   ],
   "source": [
    "adjacency_list = {\n",
    "    'A': [('C', 3), ('D', 3), ('B', 2)],\n",
    "    'B': [('A', 2), ('C', 4), ('E', 3)],\n",
    "    'C': [('A', 3), ('B', 4), ('F', 6), ('E', 1)],\n",
    "    'D': [('A', 3), ('F', 7)],\n",
    "    'E': [('B', 3), ('C', 1), ('F', 8)],\n",
    "    'F': [('D', 7), ('E', 8), ('G', 9), ('C', 6)],\n",
    "    'G': [('F', 9)]\n",
    "}\n",
    "\n",
    "prim(adjacency_list, 'A') == [('A', 'B', 2),\n",
    "                              ('A', 'C', 3),\n",
    "                              ('C', 'E', 1),\n",
    "                              ('A', 'D', 3),\n",
    "                              ('C', 'F', 6),\n",
    "                              ('F', 'G', 9)]"
   ]
  },
  {
   "cell_type": "code",
   "execution_count": 50,
   "metadata": {},
   "outputs": [
    {
     "data": {
      "text/plain": [
       "[(1, 2, 4), (0, 2, 6), (2, 3, 11)]"
      ]
     },
     "execution_count": 50,
     "metadata": {},
     "output_type": "execute_result"
    }
   ],
   "source": [
    "class UnionFind:\n",
    "  def __init__(self, vertices):\n",
    "    self.parent = {u: u for u in vertices}\n",
    "\n",
    "  def find(self, node):\n",
    "    while node != self.parent[node]:\n",
    "      node = self.parent[node]\n",
    "    return node\n",
    "\n",
    "  def union(self, u, v):\n",
    "    root1 = self.find(u)\n",
    "    root2 = self.find(v)\n",
    "    if root1 != root2:\n",
    "      self.parent[root1] = root2\n",
    "      return True\n",
    "    return False\n",
    "\n",
    "\n",
    "def kruskal(adj_list):\n",
    "  mst = []\n",
    "\n",
    "  edges = []\n",
    "  for u in adj_list:\n",
    "    for v, weight in adj_list[u]:\n",
    "      edges.append((weight, u, v))\n",
    "  edges.sort()\n",
    "\n",
    "  ufs = UnionFind(adj_list)\n",
    "  for weight, u, v in edges:\n",
    "    if ufs.union(u, v):\n",
    "      mst.append((u, v, weight))\n",
    "  return mst\n",
    "\n",
    "\n",
    "adjacency_list = {\n",
    "    0: [(1, 10), (2, 6)],\n",
    "    1: [(0, 10), (3, 15), (2, 4)],\n",
    "    2: [(0, 6), (1, 4), (3, 11)],\n",
    "    3: [(1, 15), (2, 11)]\n",
    "}\n",
    "\n",
    "kruskal(adjacency_list)"
   ]
  },
  {
   "cell_type": "code",
   "execution_count": 51,
   "metadata": {},
   "outputs": [
    {
     "data": {
      "text/plain": [
       "True"
      ]
     },
     "execution_count": 51,
     "metadata": {},
     "output_type": "execute_result"
    }
   ],
   "source": [
    "adjacency_list = {\n",
    "    'A': [('C', 3), ('D', 3), ('B', 2)],\n",
    "    'B': [('A', 2), ('C', 4), ('E', 3)],\n",
    "    'C': [('A', 3), ('B', 4), ('F', 6), ('E', 1)],\n",
    "    'D': [('A', 3), ('F', 7)],\n",
    "    'E': [('B', 3), ('C', 1), ('F', 8)],\n",
    "    'F': [('D', 7), ('E', 8), ('G', 9), ('C', 6)],\n",
    "    'G': [('F', 9)]\n",
    "}\n",
    "\n",
    "kruskal(adjacency_list) == [('C', 'E', 1),\n",
    "                            ('A', 'B', 2),\n",
    "                            ('A', 'C', 3),\n",
    "                            ('A', 'D', 3),\n",
    "                            ('C', 'F', 6),\n",
    "                            ('F', 'G', 9)]"
   ]
  }
 ],
 "metadata": {
  "kernelspec": {
   "display_name": "Python 3",
   "language": "python",
   "name": "python3"
  },
  "language_info": {
   "codemirror_mode": {
    "name": "ipython",
    "version": 3
   },
   "file_extension": ".py",
   "mimetype": "text/x-python",
   "name": "python",
   "nbconvert_exporter": "python",
   "pygments_lexer": "ipython3",
   "version": "3.12.4"
  }
 },
 "nbformat": 4,
 "nbformat_minor": 2
}
