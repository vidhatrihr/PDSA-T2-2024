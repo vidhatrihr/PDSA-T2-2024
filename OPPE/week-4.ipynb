{
 "cells": [
  {
   "cell_type": "code",
   "execution_count": 3,
   "metadata": {},
   "outputs": [],
   "source": [
    "def parse_ppa1(my_input: str):\n",
    "  data = my_input.strip().split('\\n')\n",
    "  vertices = data[0].split()\n",
    "  edges = [tuple(edge.split()) for edge in data[2:]]\n",
    "  return vertices, edges"
   ]
  },
  {
   "cell_type": "code",
   "execution_count": 4,
   "metadata": {},
   "outputs": [
    {
     "data": {
      "text/plain": [
       "3"
      ]
     },
     "execution_count": 4,
     "metadata": {},
     "output_type": "execute_result"
    }
   ],
   "source": [
    "def make_adj_list(vertices, edges):\n",
    "  adj_list = {u: [] for u in vertices}\n",
    "  for u, v in edges:\n",
    "    adj_list[u].append(v)\n",
    "    adj_list[v].append(u)\n",
    "  return adj_list\n",
    "\n",
    "\n",
    "def bfs(adj_list, start, visited):\n",
    "  component = []\n",
    "  queue = [start]\n",
    "\n",
    "  while queue:\n",
    "    curr = queue.pop(0)\n",
    "    if not visited[curr]:\n",
    "      visited[curr] = True\n",
    "      component.append(curr)\n",
    "      for v in adj_list[curr]:\n",
    "        if not visited[v]:\n",
    "          queue.append(v)\n",
    "  return component\n",
    "\n",
    "\n",
    "def findComponents_undirectedGraph(vertices, edges):\n",
    "  adj_list = make_adj_list(vertices, edges)\n",
    "  visited = {u: False for u in adj_list}\n",
    "  components = []\n",
    "\n",
    "  for u in adj_list:\n",
    "    if not visited[u]:\n",
    "      component = bfs(adj_list, u, visited)\n",
    "      components.append(component)\n",
    "  return len(components)\n",
    "\n",
    "\n",
    "findComponents_undirectedGraph(*parse_ppa1(\"\"\"\n",
    "1 2 3 4 5 6 7 8\n",
    "6\n",
    "1 3\n",
    "3 4\n",
    "3 7\n",
    "5 6\n",
    "5 8\n",
    "6 8\"\"\"))"
   ]
  },
  {
   "cell_type": "markdown",
   "metadata": {},
   "source": [
    "## GRPA 1"
   ]
  },
  {
   "cell_type": "code",
   "execution_count": 5,
   "metadata": {},
   "outputs": [],
   "source": [
    "def parse_my_input(my_input):\n",
    "  data = my_input.strip().split('\\n')\n",
    "\n",
    "  n = int(data[0])\n",
    "  adjacency_matrix = [list(map(int, data[i+1].split())) for i in range(n)]\n",
    "  px = int(data[-2])\n",
    "  py = int(data[-1])\n",
    "\n",
    "  return n, adjacency_matrix, px, py"
   ]
  },
  {
   "cell_type": "code",
   "execution_count": 6,
   "metadata": {},
   "outputs": [
    {
     "data": {
      "text/plain": [
       "3"
      ]
     },
     "execution_count": 6,
     "metadata": {},
     "output_type": "execute_result"
    }
   ],
   "source": [
    "def matrix_to_list(adj_matrix):\n",
    "  n = len(adj_matrix)\n",
    "  adj_list = {u: [] for u in range(n)}\n",
    "\n",
    "  for i in range(n):\n",
    "    for j in range(n):\n",
    "      if adj_matrix[i][j] == 1:\n",
    "        adj_list[i].append(j)\n",
    "  return (adj_list)\n",
    "\n",
    "\n",
    "def bfs(adj_list, start):\n",
    "  visited = {u: False for u in adj_list}\n",
    "  parent = {u: None for u in adj_list}\n",
    "  level = {u: 0 for u in adj_list}\n",
    "\n",
    "  queue = [start]\n",
    "  while queue:\n",
    "    u = queue.pop(0)\n",
    "    if not visited[u]:\n",
    "      visited[u] = True\n",
    "\n",
    "      for v in adj_list[u]:\n",
    "        if not visited[v]:\n",
    "          queue.append(v)\n",
    "\n",
    "          if parent[v] == None:\n",
    "            parent[v] = u\n",
    "            level[v] = level[u]+1\n",
    "  return level\n",
    "\n",
    "\n",
    "def find_connection(n, adj_matrix, px, py):\n",
    "  adj_list = matrix_to_list(adj_matrix)\n",
    "  level = bfs(adj_list, px)\n",
    "  return level[py]\n",
    "\n",
    "\n",
    "find_connection(*parse_my_input(\"\"\" \n",
    "15\n",
    "0 1 1 0 0 0 0 0 0 0 0 0 0 0 0\n",
    "1 0 1 1 1 1 0 0 0 0 0 0 0 0 0\n",
    "1 1 0 1 1 1 0 0 0 0 0 0 0 0 0\n",
    "0 1 1 0 1 0 0 0 0 0 0 0 0 0 0\n",
    "0 1 1 1 0 1 0 0 0 0 0 0 0 0 0\n",
    "0 1 1 0 1 0 1 0 0 0 0 0 0 0 0\n",
    "0 0 0 0 0 1 0 1 0 0 0 0 0 0 0\n",
    "0 0 0 0 0 0 1 0 0 0 0 0 0 0 0\n",
    "0 0 0 0 0 0 0 0 0 0 0 1 0 0 0\n",
    "0 0 0 0 0 0 0 0 0 0 0 1 0 1 0\n",
    "0 0 0 0 0 0 0 0 0 0 0 1 0 0 1\n",
    "0 0 0 0 0 0 0 0 1 1 1 0 1 0 0\n",
    "0 0 0 0 0 0 0 0 0 0 0 1 0 0 0\n",
    "0 0 0 0 0 0 0 0 0 1 0 0 0 0 1\n",
    "0 0 0 0 0 0 0 0 0 0 1 0 0 1 0\n",
    "12\n",
    "13\"\"\"))"
   ]
  },
  {
   "cell_type": "code",
   "execution_count": 7,
   "metadata": {},
   "outputs": [],
   "source": [
    "def parse_my_input(my_input):\n",
    "  data = my_input.strip().split('\\n')\n",
    "\n",
    "  V = list(map(int, data[0].split()))\n",
    "  E = [list(map(int, edge.split())) for edge in data[2:]]\n",
    "\n",
    "  return V, E"
   ]
  },
  {
   "cell_type": "code",
   "execution_count": 8,
   "metadata": {},
   "outputs": [],
   "source": [
    "def find_master_tank(tanks, pipes):\n",
    "  pass"
   ]
  },
  {
   "cell_type": "code",
   "execution_count": 9,
   "metadata": {},
   "outputs": [
    {
     "data": {
      "text/plain": [
       "([0, 1, 4, 3, 2],\n",
       " {0: None, 1: 0, 2: 0, 3: 1, 4: 1},\n",
       " {0: 0, 1: 1, 2: 1, 3: 2, 4: 2})"
      ]
     },
     "execution_count": 9,
     "metadata": {},
     "output_type": "execute_result"
    }
   ],
   "source": [
    "def dfs(adj_list, start):\n",
    "  visited = {u: False for u in adj_list}\n",
    "  parent = {u: None for u in adj_list}\n",
    "  level = {u: 0 for u in adj_list}\n",
    "  order = []\n",
    "  stack = [start]\n",
    "\n",
    "  while stack:\n",
    "    u = stack.pop()\n",
    "    if not visited[u]:\n",
    "      visited[u] = True\n",
    "      order.append(u)\n",
    "\n",
    "      for v in adj_list[u]:\n",
    "        if not visited[v]:\n",
    "          stack.append(v)\n",
    "          if parent[v] == None:\n",
    "            parent[v] = u\n",
    "            level[v] = level[u] + 1\n",
    "\n",
    "  return order, parent, level\n",
    "\n",
    "\n",
    "adj_list = {0: [2, 1], 1: [3, 4], 2: [4, 3], 3: [4], 4: []}\n",
    "dfs(adj_list, 0)"
   ]
  },
  {
   "attachments": {
    "image.png": {
     "image/png": "[encoded data removed]"
    }
   },
   "cell_type": "markdown",
   "metadata": {},
   "source": [
    "![image.png](attachment:image.png)"
   ]
  },
  {
   "cell_type": "markdown",
   "metadata": {},
   "source": [
    "## Demo"
   ]
  },
  {
   "cell_type": "code",
   "execution_count": 10,
   "metadata": {},
   "outputs": [
    {
     "data": {
      "text/plain": [
       "([0, 1, 2, 3, 4],\n",
       " {0: None, 1: 0, 2: 0, 3: 1, 4: 1},\n",
       " {0: 0, 1: 1, 2: 1, 3: 2, 4: 2})"
      ]
     },
     "execution_count": 10,
     "metadata": {},
     "output_type": "execute_result"
    }
   ],
   "source": [
    "def bfs(adj_list, start):\n",
    "  visited = {u: False for u in adj_list}\n",
    "  parent = {u: None for u in adj_list}\n",
    "  level = {u: 0 for u in adj_list}\n",
    "  order = []\n",
    "  queue = [start]\n",
    "\n",
    "  while queue:\n",
    "    u = queue.pop(0)\n",
    "    if not visited[u]:\n",
    "      visited[u] = True\n",
    "      order.append(u)\n",
    "\n",
    "      for v in adj_list[u]:\n",
    "        if not visited[v]:\n",
    "          queue.append(v)\n",
    "          if parent[v] == None:\n",
    "            parent[v] = u\n",
    "            level[v] = level[u] + 1\n",
    "  return order, parent, level\n",
    "\n",
    "\n",
    "adj_list = {0: [1, 2], 1: [3, 4], 2: [4, 3], 3: [4], 4: []}\n",
    "bfs(adj_list, 0)"
   ]
  },
  {
   "cell_type": "code",
   "execution_count": 11,
   "metadata": {},
   "outputs": [
    {
     "data": {
      "text/plain": [
       "([0, 2, 3, 4, 1],\n",
       " {0: None, 1: 0, 2: 0, 3: 2, 4: 2},\n",
       " {0: 0, 1: 1, 2: 1, 3: 2, 4: 2})"
      ]
     },
     "execution_count": 11,
     "metadata": {},
     "output_type": "execute_result"
    }
   ],
   "source": [
    "def dfs(adj_list, start):\n",
    "  visited = {u: False for u in adj_list}\n",
    "  parent = {u: None for u in adj_list}\n",
    "  level = {u: 0 for u in adj_list}\n",
    "  order = []\n",
    "  stack = [start]\n",
    "\n",
    "  while stack:\n",
    "    u = stack.pop()\n",
    "    if not visited[u]:\n",
    "      visited[u] = True\n",
    "      order.append(u)\n",
    "\n",
    "      for v in adj_list[u]:\n",
    "        if not visited[v]:\n",
    "          stack.append(v)\n",
    "          if parent[v] == None:\n",
    "            parent[v] = u\n",
    "            level[v] = level[u] + 1\n",
    "  return order, parent, level\n",
    "\n",
    "\n",
    "adj_list = {0: [1, 2], 1: [3, 4], 2: [4, 3], 3: [4], 4: []}\n",
    "dfs(adj_list, 0)"
   ]
  },
  {
   "cell_type": "code",
   "execution_count": 12,
   "metadata": {},
   "outputs": [
    {
     "data": {
      "text/plain": [
       "([0, 1, 3, 4, 2],\n",
       " {0: None, 1: 0, 2: 0, 3: 1, 4: 3},\n",
       " {0: 0, 1: 1, 2: 1, 3: 2, 4: 3})"
      ]
     },
     "execution_count": 12,
     "metadata": {},
     "output_type": "execute_result"
    }
   ],
   "source": [
    "def dfs_recursive(adj_list, u, visited=None, order=None, parent=None, level=None):\n",
    "  if visited == None:\n",
    "    visited = {u: False for u in adj_list}\n",
    "    parent = {u: None for u in adj_list}\n",
    "    level = {u: 0 for u in adj_list}\n",
    "    order = []\n",
    "\n",
    "  visited[u] = True\n",
    "  order.append(u)\n",
    "\n",
    "  for v in adj_list[u]:\n",
    "    if not visited[v]:\n",
    "      if parent[v] == None:\n",
    "        parent[v] = u\n",
    "        level[v] = level[u] + 1\n",
    "      dfs_recursive(adj_list, v, visited, order, parent, level)\n",
    "  return order, parent, level\n",
    "\n",
    "\n",
    "adj_list = {0: [1, 2], 1: [3, 4], 2: [4, 3], 3: [4], 4: []}\n",
    "dfs_recursive(adj_list, 0)"
   ]
  },
  {
   "cell_type": "code",
   "execution_count": 13,
   "metadata": {},
   "outputs": [
    {
     "data": {
      "text/plain": [
       "[['A', 'B', 'C', 'D'], ['E', 'F']]"
      ]
     },
     "execution_count": 13,
     "metadata": {},
     "output_type": "execute_result"
    }
   ],
   "source": [
    "def bfs(adj_list, start, visited):\n",
    "  order = []\n",
    "  queue = [start]\n",
    "\n",
    "  while queue:\n",
    "    u = queue.pop(0)\n",
    "    if not visited[u]:\n",
    "      visited[u] = True\n",
    "      order.append(u)\n",
    "\n",
    "      for v in adj_list[u]:\n",
    "        if not visited[v]:\n",
    "          queue.append(v)\n",
    "  return order\n",
    "\n",
    "\n",
    "def find_connected_components(adj_list):\n",
    "  visited = {u: False for u in adj_list}\n",
    "  components = []\n",
    "\n",
    "  for u in adj_list:\n",
    "    if not visited[u]:\n",
    "      order = bfs(adj_list, u, visited)\n",
    "      components.append(order)\n",
    "  return components\n",
    "\n",
    "\n",
    "adjacency_list = {\n",
    "    'A': ['B'],\n",
    "    'B': ['C', 'D'],\n",
    "    'C': ['A'],\n",
    "    'D': [],\n",
    "    'E': ['F'],\n",
    "    'F': [],\n",
    "}\n",
    "find_connected_components(adjacency_list)"
   ]
  },
  {
   "cell_type": "code",
   "execution_count": 14,
   "metadata": {},
   "outputs": [
    {
     "data": {
      "text/plain": [
       "['A', 'C', 'F', 'B', 'E', 'M', 'D', 'X']"
      ]
     },
     "execution_count": 14,
     "metadata": {},
     "output_type": "execute_result"
    }
   ],
   "source": [
    "def dfs_recursive(adj_list, start, visited, stack):\n",
    "  visited[start] = True\n",
    "\n",
    "  for v in adj_list[start]:\n",
    "    if not visited[v]:\n",
    "      dfs_recursive(adj_list, v, visited, stack)\n",
    "  stack.append(start)\n",
    "\n",
    "\n",
    "def topological_sort(adj_list):\n",
    "  visited = {u: False for u in adj_list}\n",
    "  stack = []\n",
    "  for u in adj_list:\n",
    "    if not visited[u]:\n",
    "      dfs_recursive(adj_list, u, visited, stack)\n",
    "  return stack[::-1]\n",
    "\n",
    "\n",
    "adjacency_list = {\n",
    "    'A': ['B', 'C'],\n",
    "    'B': ['D', 'E'],\n",
    "    'C': ['E', 'F'],\n",
    "    'D': ['X'],\n",
    "    'E': ['D', 'M'],\n",
    "    'F': [],\n",
    "    'X': [],\n",
    "    'M': [],\n",
    "}\n",
    "topological_sort(adjacency_list)"
   ]
  },
  {
   "cell_type": "code",
   "execution_count": 28,
   "metadata": {},
   "outputs": [
    {
     "data": {
      "text/plain": [
       "[7, 6]"
      ]
     },
     "execution_count": 28,
     "metadata": {},
     "output_type": "execute_result"
    }
   ],
   "source": [
    "def longest_path(adj_list, start):\n",
    "  topological_order = topological_sort(adj_list)\n",
    "  distance = {u: -1 for u in adj_list}\n",
    "  distance[start] = 0\n",
    "  predecessor = {u: None for u in adj_list}\n",
    "\n",
    "  for u in topological_order:\n",
    "    if distance[u] != -1:\n",
    "      for v in adj_list[u]:\n",
    "        new_distance = distance[u] + 1\n",
    "        if new_distance > distance[v]:\n",
    "          distance[v] = new_distance\n",
    "          predecessor[v] = u\n",
    "  return distance, predecessor\n",
    "\n",
    "\n",
    "adjacency_list = {\n",
    "    1: [2, 3, 7],\n",
    "    2: [4, 7],\n",
    "    3: [5, 7],\n",
    "    4: [6],\n",
    "    5: [6],\n",
    "    7: [6],\n",
    "    6: []\n",
    "}\n",
    "\n",
    "\n",
    "def reconstruct_path(predecessor, destination):\n",
    "  if predecessor[destination] == None:\n",
    "    return []\n",
    "\n",
    "  path = []\n",
    "  while destination != None:\n",
    "    path.append(destination)\n",
    "    destination = predecessor[destination]\n",
    "  return path[::-1]\n",
    "\n",
    "\n",
    "source = 7\n",
    "destination = 6\n",
    "distance, predecessor = longest_path(adjacency_list, source)\n",
    "reconstruct_path(predecessor, destination)"
   ]
  },
  {
   "attachments": {
    "image.png": {
     "image/png": "[encoded data removed]"
    }
   },
   "cell_type": "markdown",
   "metadata": {},
   "source": [
    "![image.png](attachment:image.png)"
   ]
  }
 ],
 "metadata": {
  "kernelspec": {
   "display_name": "Python 3",
   "language": "python",
   "name": "python3"
  },
  "language_info": {
   "codemirror_mode": {
    "name": "ipython",
    "version": 3
   },
   "file_extension": ".py",
   "mimetype": "text/x-python",
   "name": "python",
   "nbconvert_exporter": "python",
   "pygments_lexer": "ipython3",
   "version": "3.12.4"
  }
 },
 "nbformat": 4,
 "nbformat_minor": 2
}
