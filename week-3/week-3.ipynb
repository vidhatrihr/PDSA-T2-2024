{
 "cells": [
  {
   "cell_type": "code",
   "execution_count": 1,
   "metadata": {},
   "outputs": [],
   "source": [
    "class Node:\n",
    "  def __init__(self, data):\n",
    "    self.data = data\n",
    "    self.next = None\n",
    "\n",
    "  def __str__(self):\n",
    "    return str(f'Node: {self.data}')"
   ]
  },
  {
   "cell_type": "code",
   "execution_count": 2,
   "metadata": {},
   "outputs": [],
   "source": [
    "vidhatri = Node('vidhatri')\n",
    "rahul = Node('rahul')\n",
    "muskan = Node('muskan')\n",
    "cmd = Node('cmd')\n",
    "sanika = Node('sanika')"
   ]
  },
  {
   "cell_type": "code",
   "execution_count": 3,
   "metadata": {},
   "outputs": [],
   "source": [
    "muskan.next = vidhatri\n",
    "vidhatri.next = cmd\n",
    "cmd.next = rahul\n",
    "rahul.next = sanika\n",
    "\n",
    "head = muskan\n",
    "tail = sanika"
   ]
  },
  {
   "cell_type": "code",
   "execution_count": 4,
   "metadata": {},
   "outputs": [
    {
     "name": "stdout",
     "output_type": "stream",
     "text": [
      "Node: muskan\n",
      "Node: vidhatri\n",
      "Node: cmd\n",
      "Node: rahul\n",
      "Node: sanika\n"
     ]
    }
   ],
   "source": [
    "current = head\n",
    "while current is not None:\n",
    "  print(current)\n",
    "  current = current.next"
   ]
  },
  {
   "cell_type": "code",
   "execution_count": 5,
   "metadata": {},
   "outputs": [
    {
     "name": "stdout",
     "output_type": "stream",
     "text": [
      "Node: sanika\n",
      "None\n"
     ]
    }
   ],
   "source": [
    "print(tail)\n",
    "print(tail.next)"
   ]
  },
  {
   "cell_type": "code",
   "execution_count": 6,
   "metadata": {},
   "outputs": [
    {
     "name": "stdout",
     "output_type": "stream",
     "text": [
      "Node: rahul\n",
      "Node: vidhatri\n"
     ]
    }
   ],
   "source": [
    "print(cmd.next)\n",
    "print(muskan.next)"
   ]
  },
  {
   "cell_type": "markdown",
   "metadata": {},
   "source": [
    "# linked list implementation 1"
   ]
  },
  {
   "cell_type": "code",
   "execution_count": 7,
   "metadata": {},
   "outputs": [],
   "source": [
    "class Node:\n",
    "  def __init__(self, data):\n",
    "    self.data = data\n",
    "    self.next = None\n",
    "\n",
    "  def __str__(self):\n",
    "    return f'Node: {self.data}'"
   ]
  },
  {
   "cell_type": "code",
   "execution_count": 16,
   "metadata": {},
   "outputs": [
    {
     "name": "stdout",
     "output_type": "stream",
     "text": [
      "Node:vidhatri\n",
      "Node:rahul\n"
     ]
    }
   ],
   "source": [
    "class LinkedList:\n",
    "  def __init__(self):\n",
    "    self.head = None\n",
    "    self.tail = None\n",
    "\n",
    "  def is_empty(self):\n",
    "    if self.head is None:\n",
    "      return True\n",
    "    return False\n",
    "\n",
    "  def insert_start(self, data):\n",
    "    node = Node(data)\n",
    "    if self.is_empty():\n",
    "      self.head = node\n",
    "      self.tail = node\n",
    "    else:\n",
    "      node.next = self.head\n",
    "      self.head = node\n",
    "\n",
    "  def insert_end(self, data):\n",
    "    node = Node(data)\n",
    "    if self.is_empty():\n",
    "      self.head = node\n",
    "      self.tail = node\n",
    "    else:\n",
    "      self.tail.next = node\n",
    "      self.tail = node\n",
    "\n",
    "  def delete_first(self):\n",
    "    self.head = self.head.next\n",
    "\n",
    "  def delete_last(self):\n",
    "    current = self.head\n",
    "    while current.next != self.tail:\n",
    "      current = current.next\n",
    "    self.tail = current\n",
    "    current.next = None\n",
    "\n",
    "  def print(self):\n",
    "    current = self.head\n",
    "    while current is not None:\n",
    "      print(current)\n",
    "      current = current.next\n",
    "\n",
    "\n",
    "chain = LinkedList()\n",
    "\n",
    "chain.insert_start('rahul')\n",
    "chain.insert_start('vidhatri')\n",
    "chain.insert_end('harikesh')\n",
    "chain.insert_start('sanika')\n",
    "chain.delete_first()\n",
    "chain.delete_last()\n",
    "chain.print()"
   ]
  },
  {
   "cell_type": "code",
   "execution_count": 9,
   "metadata": {},
   "outputs": [],
   "source": [
    "chain.insert_end('vidhatri')\n",
    "chain.insert_end('rahul')\n",
    "chain.insert_end([1, 2, 3, 4])\n",
    "chain.insert_end('harikesh')\n",
    "chain.insert_end('cmd')\n",
    "\n",
    "chain.insert_start('vidhatri')\n",
    "chain.insert_start('rahul')\n",
    "chain.insert_start('harikesh')\n",
    "chain.insert_start('cmd')\n",
    "chain.insert_start([1, 2, 3, 4])"
   ]
  },
  {
   "cell_type": "code",
   "execution_count": 10,
   "metadata": {},
   "outputs": [
    {
     "name": "stdout",
     "output_type": "stream",
     "text": [
      "Node: [1, 2, 3, 4]\n",
      "Node: cmd\n",
      "Node: harikesh\n",
      "Node: rahul\n",
      "Node: vidhatri\n",
      "Node: rahul\n",
      "Node: vidhatri\n",
      "Node: rahul\n",
      "Node: [1, 2, 3, 4]\n",
      "Node: harikesh\n",
      "Node: cmd\n"
     ]
    }
   ],
   "source": [
    "current = chain.head\n",
    "while current is not None:\n",
    "  print(current)\n",
    "  current = current.next"
   ]
  },
  {
   "cell_type": "markdown",
   "metadata": {},
   "source": [
    "# Linked List Implementation 1\n",
    "## practice\n"
   ]
  },
  {
   "cell_type": "code",
   "execution_count": 9,
   "metadata": {},
   "outputs": [],
   "source": [
    "class Node:\n",
    "  def __init__(self, data):\n",
    "    self.data = data\n",
    "    self.next = None\n",
    "\n",
    "  def __str__(self):\n",
    "    return f' node: {self.data}'"
   ]
  },
  {
   "cell_type": "code",
   "execution_count": 33,
   "metadata": {},
   "outputs": [
    {
     "name": "stdout",
     "output_type": "stream",
     "text": [
      " node: green\n",
      " node: pink\n",
      " node: orange\n"
     ]
    }
   ],
   "source": [
    "class LinkedList():\n",
    "  def __init__(self):\n",
    "    self.head = None\n",
    "    self.tail = None\n",
    "\n",
    "  def is_empty(self):\n",
    "    if self.is_empty is None:\n",
    "      return True\n",
    "    return False\n",
    "\n",
    "  def insert_start(self, data):\n",
    "    node = Node(data)\n",
    "    if self.is_empty():\n",
    "      self.head = node\n",
    "      self.tail = node\n",
    "    else:\n",
    "      node.next = self.head\n",
    "      self.head = node\n",
    "\n",
    "  def insert_end(self, data):\n",
    "    node = Node(data)\n",
    "    if self.is_empty():\n",
    "      self.head = node\n",
    "      self.tail = node\n",
    "    else:\n",
    "      self.tail.next = node\n",
    "      self.tail = node\n",
    "\n",
    "  def delete_first(self):\n",
    "    self.head = self.head.next\n",
    "\n",
    "  def delete_end(self):\n",
    "    current = self.head\n",
    "    while current.next != self.tail:\n",
    "      current = current.next\n",
    "    self.tail = current\n",
    "    current.next = None\n",
    "\n",
    "  def print(self):\n",
    "    current = self.head\n",
    "    while current is not None:\n",
    "      print(current)\n",
    "      current = current.next\n",
    "\n",
    "\n",
    "chain = LinkedList()\n",
    "chain.insert_start('orange')\n",
    "chain.insert_start('pink')\n",
    "chain.insert_start('white')\n",
    "# chain.insert_end('yellow')\n",
    "# chain.insert_end('red')\n",
    "# chain.insert_end('purple')\n",
    "chain.delete_first()\n",
    "# chain.delete_end()\n",
    "# chain.insert_end('green')\n",
    "chain.insert_start('green')\n",
    "chain.print()"
   ]
  },
  {
   "cell_type": "code",
   "execution_count": 30,
   "metadata": {},
   "outputs": [],
   "source": [
    "class Node:\n",
    "  def __init__(self, data):\n",
    "    self.data = data\n",
    "    self.next = None\n",
    "\n",
    "  def __str__(self):\n",
    "    return f'Node: {self.data}'"
   ]
  },
  {
   "cell_type": "code",
   "execution_count": 32,
   "metadata": {},
   "outputs": [
    {
     "name": "stdout",
     "output_type": "stream",
     "text": [
      "Node: Harikesh\n",
      "Node: muskan\n",
      "Node: vaishnvi\n",
      "Node: rahul\n",
      "Node: vidhatri\n"
     ]
    }
   ],
   "source": [
    "class LinkedList():\n",
    "  def __init__(self):\n",
    "    self.head = None\n",
    "    self.tail = None\n",
    "\n",
    "  def is_empty(self):\n",
    "    if self.head is None:\n",
    "      return True\n",
    "    return False\n",
    "\n",
    "  def insert_start(self, data):\n",
    "    node = Node(data)\n",
    "    if self.is_empty():\n",
    "      self.head = node\n",
    "      self.tail = node\n",
    "    else:\n",
    "      node.next = self.head\n",
    "      self.head = node\n",
    "\n",
    "  def print(self):\n",
    "    current = self.head\n",
    "    while current is not None:\n",
    "      print(current)\n",
    "      current = current.next\n",
    "\n",
    "\n",
    "chain = LinkedList()\n",
    "chain.insert_start('vidhatri')\n",
    "chain.insert_start('rahul')\n",
    "chain.insert_start('vaishnvi')\n",
    "chain.insert_start('muskan')\n",
    "chain.insert_start('Harikesh')\n",
    "chain.print()\n",
    "\n",
    "# print(chain.head)"
   ]
  },
  {
   "cell_type": "markdown",
   "metadata": {},
   "source": [
    "# linked list implementation 2"
   ]
  },
  {
   "cell_type": "code",
   "execution_count": 7,
   "metadata": {},
   "outputs": [],
   "source": [
    "class Node:\n",
    "  def __init__(self, data):\n",
    "    self.data = data\n",
    "    self.next = None\n",
    "\n",
    "  def __str__(self):\n",
    "    return f'Node: {self.data}'"
   ]
  },
  {
   "cell_type": "code",
   "execution_count": 18,
   "metadata": {},
   "outputs": [
    {
     "name": "stdout",
     "output_type": "stream",
     "text": [
      "Node: vidhatri\n",
      "Node: rahul\n",
      "Node: sanika\n"
     ]
    }
   ],
   "source": [
    "class LinkedList:\n",
    "  def __init__(self):\n",
    "    self.head = None\n",
    "    self.tail = None\n",
    "\n",
    "  def print(self):\n",
    "    current = self.head\n",
    "    while current is not None:\n",
    "      print(current)\n",
    "      current = current.next\n",
    "\n",
    "  def is_empty(self):\n",
    "    if self.head is None:\n",
    "      return True\n",
    "    return False\n",
    "\n",
    "  def append(self, data):\n",
    "    node = Node(data)\n",
    "    if self.is_empty():\n",
    "      self.head = node\n",
    "      self.tail = node\n",
    "    else:\n",
    "      self.tail.next = node\n",
    "      self.tail = node\n",
    "\n",
    "  def delete_first(self):\n",
    "    self.head = self.head.next\n",
    "\n",
    "  def delete_last(self):\n",
    "    previous = self.head\n",
    "    while previous.next != self.tail:\n",
    "      previous = previous.next\n",
    "    self.tail = previous\n",
    "    self.tail.next = None\n",
    "\n",
    "  def delete(self, data):\n",
    "    node = self.search(data)\n",
    "    if node == self.head:\n",
    "      self.delete_first()\n",
    "      return\n",
    "    if node == self.tail:\n",
    "      self.delete_last()\n",
    "      return\n",
    "\n",
    "    previous = self.head\n",
    "    while previous.next != node:\n",
    "      previous = previous.next\n",
    "    previous.next = previous.next.next\n",
    "\n",
    "  def search(self, data):\n",
    "    current = self.head\n",
    "    while current is not None:\n",
    "      if current.data == data:\n",
    "        return current\n",
    "      current = current.next\n",
    "    return -1\n",
    "\n",
    "chain = LinkedList()\n",
    "chain.append('vidhatri')\n",
    "chain.append('cmd')\n",
    "chain.append('rahul')\n",
    "chain.append('sanika')\n",
    "\n",
    "chain.delete('cmd')\n",
    "chain.print()"
   ]
  },
  {
   "cell_type": "markdown",
   "metadata": {},
   "source": [
    "# LinkedList Implementation 2\n",
    "## practice"
   ]
  },
  {
   "cell_type": "code",
   "execution_count": 19,
   "metadata": {},
   "outputs": [],
   "source": [
    "class Node:\n",
    "  def __init__(self, data):\n",
    "    self.data = data\n",
    "    self.next = None\n",
    "\n",
    "  def __str__(self):\n",
    "    return f'node: {self.data}'"
   ]
  },
  {
   "cell_type": "code",
   "execution_count": 40,
   "metadata": {},
   "outputs": [
    {
     "name": "stdout",
     "output_type": "stream",
     "text": [
      "node: one act\n",
      "node: poetry\n",
      "node: novel\n"
     ]
    }
   ],
   "source": [
    "class LinkedList:\n",
    "  def __init__(self):\n",
    "    self.head = None\n",
    "    self.tail = None\n",
    "\n",
    "  def print(self):\n",
    "    current = self.head\n",
    "    while current is not None:\n",
    "      print(current)\n",
    "      current = current.next\n",
    "\n",
    "  def is_empty(self):\n",
    "    if self.head is None:\n",
    "      return True\n",
    "    return False\n",
    "\n",
    "  def append(self, data):\n",
    "    node = Node(data)\n",
    "    if self.is_empty():\n",
    "      self.head = node\n",
    "      self.tail = node\n",
    "    else:\n",
    "      self.tail.next = node\n",
    "      self.tail = node\n",
    "\n",
    "  def delete_first(self):\n",
    "    self.head = self.head.next\n",
    "\n",
    "  def delete_last(self):\n",
    "    previous = self.head\n",
    "    while previous.next != self.tail:\n",
    "      previous = previous.next\n",
    "    self.tail = previous\n",
    "    self.tail.next = None\n",
    "\n",
    "  def search(self, data):\n",
    "    current = self.head\n",
    "    while current is not None:\n",
    "      if current.data == data:\n",
    "        return current\n",
    "      current = current.next\n",
    "    return -1\n",
    "\n",
    "  def delete(self, data):\n",
    "    node = self.search(data)\n",
    "    if node == self.head:\n",
    "      self.delete_first()\n",
    "      return\n",
    "    if node == self.tail:\n",
    "      self.delete_last()\n",
    "      return\n",
    "    previous = self.head\n",
    "    while previous.next != node:\n",
    "      previous = previous.next\n",
    "    previous.next = previous.next.next\n",
    "\n",
    "\n",
    "chain = LinkedList()\n",
    "# chain.is_empty()\n",
    "chain.append('prose')\n",
    "chain.append('drama')\n",
    "chain.append('one act')\n",
    "chain.delete_first()\n",
    "chain.append('play')\n",
    "chain.delete_last()\n",
    "chain.append('poetry')\n",
    "chain.delete('drama')\n",
    "chain.append('novel')\n",
    "chain.print()"
   ]
  },
  {
   "cell_type": "markdown",
   "metadata": {},
   "source": [
    "## Linked List practice 20th july"
   ]
  },
  {
   "cell_type": "code",
   "execution_count": 2,
   "metadata": {},
   "outputs": [
    {
     "name": "stdout",
     "output_type": "stream",
     "text": [
      "Node: i am vidhatri\n",
      "Node:  I am Rahul\n",
      "Node:  I am Harikesh\n"
     ]
    }
   ],
   "source": [
    "class Node:\n",
    "  def __init__(self, data):\n",
    "    self.data = data\n",
    "    self.next = None\n",
    "\n",
    "  def __str__(self):\n",
    "    return str(f'Node: {self.data}')\n",
    "\n",
    "\n",
    "vidhatri = Node('i am vidhatri')\n",
    "rahul = Node(' I am Rahul')\n",
    "Harikesh = Node(' I am Harikesh')\n",
    "\n",
    "vidhatri.next = rahul\n",
    "rahul.next = Harikesh\n",
    "\n",
    "current = vidhatri\n",
    "while current is not None:\n",
    "  print(current)\n",
    "  current = current.next"
   ]
  },
  {
   "cell_type": "code",
   "execution_count": 3,
   "metadata": {},
   "outputs": [
    {
     "name": "stdout",
     "output_type": "stream",
     "text": [
      "Node: I am vaishnvi\n",
      "Node: I am muskan\n",
      "Node: I am sanika\n"
     ]
    }
   ],
   "source": [
    "class Node:\n",
    "  def __init__(self, data):\n",
    "    self.data = data\n",
    "    self.next = None\n",
    "\n",
    "  def __str__(self):\n",
    "    return str(f'Node: {self.data}')\n",
    "\n",
    "\n",
    "vidhatri = Node('I am vaishnvi')\n",
    "muskan = Node('I am muskan')\n",
    "sanika = Node('I am sanika')\n",
    "\n",
    "vidhatri.next = muskan\n",
    "muskan.next = sanika\n",
    "\n",
    "current = vidhatri\n",
    "\n",
    "while current is not None:\n",
    "  print(current)\n",
    "  current = current.next"
   ]
  },
  {
   "cell_type": "markdown",
   "metadata": {},
   "source": [
    "## Linked List implementation"
   ]
  },
  {
   "cell_type": "code",
   "execution_count": 5,
   "metadata": {},
   "outputs": [],
   "source": [
    "class Node:\n",
    "  def __init__(self, data):\n",
    "    self.data = data\n",
    "    self.next = None\n",
    "\n",
    "  def __str__(self):\n",
    "    return f'Node: {self.data}'"
   ]
  },
  {
   "cell_type": "code",
   "execution_count": 8,
   "metadata": {},
   "outputs": [],
   "source": [
    "class LinkedList:\n",
    "  def __init__(self):\n",
    "    self.head = None\n",
    "    self.tail = None\n",
    "    self.count = 0\n",
    "\n",
    "  def is_empty(self):\n",
    "    if self.head is None:\n",
    "      return True\n",
    "    return False\n",
    "\n",
    "  def insert_start(self, data):\n",
    "    self.count += 1\n",
    "\n",
    "    node = Node(data)\n",
    "    if self.is_empty():\n",
    "      self.head = node\n",
    "      self.tail = node\n",
    "    else:\n",
    "      node.next = self.head\n",
    "      self.head = node\n",
    "\n",
    "  def insert_end(self):\n",
    "    self.count += 1\n",
    "\n",
    "    node = Node(data)\n",
    "    if self.is_empty():\n",
    "      self.head = node\n",
    "      self.tail = node\n",
    "    else:\n",
    "      self.tail.next = node\n",
    "      self.tail = node\n",
    "\n",
    "  def print(self):\n",
    "    current = self.head\n",
    "    while current is not None:\n",
    "      print(current)\n",
    "      current = current.next\n",
    "\n",
    "  def delete_first(self):\n",
    "    self.count -= 1\n",
    "    self.head = self.head.next\n",
    "\n",
    "  def delete_last(self):\n",
    "    self.count -= 1"
   ]
  }
 ],
 "metadata": {
  "kernelspec": {
   "display_name": "Python 3",
   "language": "python",
   "name": "python3"
  },
  "language_info": {
   "codemirror_mode": {
    "name": "ipython",
    "version": 3
   },
   "file_extension": ".py",
   "mimetype": "text/x-python",
   "name": "python",
   "nbconvert_exporter": "python",
   "pygments_lexer": "ipython3",
   "version": "3.12.3"
  }
 },
 "nbformat": 4,
 "nbformat_minor": 2
}
