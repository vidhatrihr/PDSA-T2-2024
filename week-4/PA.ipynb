{
 "cells": [
  {
   "cell_type": "code",
   "execution_count": 32,
   "metadata": {},
   "outputs": [],
   "source": [
    "def parse_my_input(my_input):\n",
    "  data = my_input.strip().split('\\n')\n",
    "  n = int(data[0])\n",
    "  adjacency_matrix = []\n",
    "  for i in range(n):\n",
    "    row = list(map(int, data[1+i].split()))\n",
    "    adjacency_matrix.append(row)\n",
    "\n",
    "  px = int(data[n+1])\n",
    "  py = int(data[n+2])\n",
    "\n",
    "  return n, adjacency_matrix, px, py"
   ]
  },
  {
   "cell_type": "markdown",
   "metadata": {},
   "source": [
    "## GRPA 1"
   ]
  },
  {
   "cell_type": "code",
   "execution_count": 33,
   "metadata": {},
   "outputs": [
    {
     "data": {
      "text/plain": [
       "{0: [2], 1: [], 2: [], 3: [0, 1]}"
      ]
     },
     "execution_count": 33,
     "metadata": {},
     "output_type": "execute_result"
    }
   ],
   "source": [
    "def convert_matrix_to_list(adjacency_matrix):\n",
    "  n = len(adjacency_matrix)\n",
    "  adjacency_list = {i: [] for i in range(n)}\n",
    "\n",
    "  for i in range(n):\n",
    "    for j in range(n):\n",
    "      if adjacency_matrix[i][j] == 1:\n",
    "        adjacency_list[i].append(j)\n",
    "\n",
    "  return adjacency_list\n",
    "\n",
    "\n",
    "adjacency_matrix = [\n",
    "    [0, 0, 1, 0],\n",
    "    [0, 0, 0, 0],\n",
    "    [0, 0, 0, 0],\n",
    "    [1, 1, 0, 0],\n",
    "]\n",
    "convert_matrix_to_list(adjacency_matrix)"
   ]
  },
  {
   "cell_type": "code",
   "execution_count": 34,
   "metadata": {},
   "outputs": [
    {
     "name": "stdout",
     "output_type": "stream",
     "text": [
      "10\n",
      "20\n",
      "30\n",
      "[40]\n"
     ]
    }
   ],
   "source": [
    "class Queue:\n",
    "  def __init__(self):\n",
    "    self.data = []\n",
    "\n",
    "  def is_empty(self):\n",
    "    return len(self.data) == 0\n",
    "\n",
    "  def enqueue(self, value):\n",
    "    self.data.append(value)\n",
    "\n",
    "  def dequeue(self):\n",
    "    return self.data.pop(0)\n",
    "\n",
    "\n",
    "queue = Queue()\n",
    "queue.enqueue(10)\n",
    "queue.enqueue(20)\n",
    "queue.enqueue(30)\n",
    "print(queue.dequeue())\n",
    "print(queue.dequeue())\n",
    "queue.enqueue(40)\n",
    "print(queue.dequeue())\n",
    "print(queue.data)"
   ]
  },
  {
   "cell_type": "code",
   "execution_count": 35,
   "metadata": {},
   "outputs": [],
   "source": [
    "def bfs(adjacency_list, start_vertex):\n",
    "  visited = {vertex: False for vertex in adjacency_list}\n",
    "  level = {vertex: 0 for vertex in adjacency_list}\n",
    "\n",
    "  queue = Queue()\n",
    "  queue.enqueue(start_vertex)\n",
    "  visited[start_vertex] = True\n",
    "\n",
    "  while not queue.is_empty():\n",
    "    curr_vertex = queue.dequeue()\n",
    "    for adj_vertex in adjacency_list[curr_vertex]:\n",
    "      if not visited[adj_vertex]:\n",
    "        queue.enqueue(adj_vertex)\n",
    "        visited[adj_vertex] = True\n",
    "        level[adj_vertex] = level[curr_vertex]+1\n",
    "\n",
    "  return level"
   ]
  },
  {
   "cell_type": "code",
   "execution_count": 36,
   "metadata": {},
   "outputs": [
    {
     "data": {
      "text/plain": [
       "3"
      ]
     },
     "execution_count": 36,
     "metadata": {},
     "output_type": "execute_result"
    }
   ],
   "source": [
    "def find_connection_level(n, adjacency_matrix, px, py):\n",
    "  adjacency_list = convert_matrix_to_list(adjacency_matrix)\n",
    "  level = bfs(adjacency_list, px)\n",
    "  return level[py]\n",
    "\n",
    "\n",
    "find_connection_level(*parse_my_input(\"\"\"\n",
    "15\n",
    "0 1 1 0 0 0 0 0 0 0 0 0 0 0 0\n",
    "1 0 1 1 1 1 0 0 0 0 0 0 0 0 0\n",
    "1 1 0 1 1 1 0 0 0 0 0 0 0 0 0\n",
    "0 1 1 0 1 0 0 0 0 0 0 0 0 0 0\n",
    "0 1 1 1 0 1 0 0 0 0 0 0 0 0 0\n",
    "0 1 1 0 1 0 1 0 0 0 0 0 0 0 0\n",
    "0 0 0 0 0 1 0 1 0 0 0 0 0 0 0\n",
    "0 0 0 0 0 0 1 0 0 0 0 0 0 0 0\n",
    "0 0 0 0 0 0 0 0 0 0 0 1 0 0 0\n",
    "0 0 0 0 0 0 0 0 0 0 0 1 0 1 0\n",
    "0 0 0 0 0 0 0 0 0 0 0 1 0 0 1\n",
    "0 0 0 0 0 0 0 0 1 1 1 0 1 0 0\n",
    "0 0 0 0 0 0 0 0 0 0 0 1 0 0 0\n",
    "0 0 0 0 0 0 0 0 0 1 0 0 0 0 1\n",
    "0 0 0 0 0 0 0 0 0 0 1 0 0 1 0\n",
    "12\n",
    "13\n",
    "\"\"\"))"
   ]
  },
  {
   "cell_type": "markdown",
   "metadata": {},
   "source": [
    "## GRPA 2"
   ]
  },
  {
   "cell_type": "code",
   "execution_count": 37,
   "metadata": {},
   "outputs": [],
   "source": [
    "def parse_my_input(my_input):\n",
    "  data = my_input.strip().split('\\n')\n",
    "\n",
    "  V = list(map(int, data[0].split()))\n",
    "  E = [list(map(int, edge.split())) for edge in data[2:]]\n",
    "\n",
    "  return V, E"
   ]
  },
  {
   "cell_type": "code",
   "execution_count": 38,
   "metadata": {},
   "outputs": [
    {
     "data": {
      "text/plain": [
       "4"
      ]
     },
     "execution_count": 38,
     "metadata": {},
     "output_type": "execute_result"
    }
   ],
   "source": [
    "def bfs(adjacency_list, start_vertex):\n",
    "  visited = {vertex: False for vertex in adjacency_list}\n",
    "\n",
    "  queue = Queue()\n",
    "  queue.enqueue(start_vertex)\n",
    "  visited[start_vertex] = True\n",
    "\n",
    "  while not queue.is_empty():\n",
    "    curr_vertex = queue.dequeue()\n",
    "    for adj_vertex in adjacency_list[curr_vertex]:\n",
    "      if not visited[adj_vertex]:\n",
    "        queue.enqueue(adj_vertex)\n",
    "        visited[adj_vertex] = True\n",
    "  return visited\n",
    "\n",
    "\n",
    "def find_master_tank(tanks, pipes):\n",
    "  adjacency_list = {}\n",
    "  for tank in tanks:\n",
    "    adjacency_list[tank] = []\n",
    "  for i_tank, j_tank in pipes:\n",
    "    adjacency_list[i_tank].append(j_tank)\n",
    "\n",
    "  for tank in tanks:\n",
    "    visited = bfs(adjacency_list, tank)\n",
    "    if all(visited.values()):\n",
    "      return tank\n",
    "  return 0\n",
    "\n",
    "\n",
    "find_master_tank(*parse_my_input(\"\"\"\n",
    "1 2 3 4 5 6 7\n",
    "9\n",
    "1 3\n",
    "2 3\n",
    "3 6\n",
    "4 6\n",
    "4 7\n",
    "6 2\n",
    "7 5\n",
    "5 1\n",
    "5 6\n",
    "\"\"\"))"
   ]
  },
  {
   "cell_type": "markdown",
   "metadata": {},
   "source": [
    "## stack/dfs/topological sort"
   ]
  },
  {
   "cell_type": "code",
   "execution_count": 39,
   "metadata": {},
   "outputs": [],
   "source": [
    "class Stack:\n",
    "  def __init__(self):\n",
    "    self.data = []\n",
    "\n",
    "  def is_empty(self):\n",
    "    return len(self.data) == 0\n",
    "\n",
    "  def push(self, value):\n",
    "    self.data.append(value)\n",
    "\n",
    "  def pop(self):\n",
    "    return self.data.pop()\n",
    "\n",
    "  def __str__(self):\n",
    "    return str(self.data)"
   ]
  },
  {
   "cell_type": "code",
   "execution_count": 40,
   "metadata": {},
   "outputs": [],
   "source": [
    "def dfs(adjacency_list, curr_vertex, visited, stack):\n",
    "  visited[curr_vertex] = True\n",
    "\n",
    "  for adj_vertex in adjacency_list[curr_vertex]:\n",
    "    # if neighbor is not visited, call dfs on neighbor\n",
    "    if not visited[adj_vertex]:\n",
    "      dfs(adjacency_list, adj_vertex, visited, stack)\n",
    "\n",
    "  # append curr_vertex to stack\n",
    "  stack.append(curr_vertex)"
   ]
  },
  {
   "cell_type": "code",
   "execution_count": 41,
   "metadata": {},
   "outputs": [
    {
     "data": {
      "text/plain": [
       "[1, 3, 5, 2, 7, 4, 6]"
      ]
     },
     "execution_count": 41,
     "metadata": {},
     "output_type": "execute_result"
    }
   ],
   "source": [
    "def topological_sorting(adjacency_list):\n",
    "  # initialize visited dictionary and stack\n",
    "  visited = {vertex: False for vertex in adjacency_list}\n",
    "  stack = []\n",
    "\n",
    "  # for each vertex in adjacency_list:\n",
    "  for vertex in adjacency_list:\n",
    "    # if vertex is not visited, call dfs\n",
    "    if not visited[vertex]:\n",
    "      dfs(adjacency_list, vertex, visited, stack)\n",
    "\n",
    "  # return stack in reverse order\n",
    "  return stack[::-1]\n",
    "\n",
    "\n",
    "adjacency_list = {\n",
    "    1: [2, 3, 7],\n",
    "    2: [4, 7],\n",
    "    3: [5, 7],\n",
    "    4: [6],\n",
    "    5: [6],\n",
    "    7: [6],\n",
    "    6: []\n",
    "}\n",
    "\n",
    "topological_sorting(adjacency_list)"
   ]
  },
  {
   "attachments": {
    "image.png": {
     "image/png": "[encoded data removed]"
    }
   },
   "cell_type": "markdown",
   "metadata": {},
   "source": [
    "![image.png](attachment:image.png)"
   ]
  },
  {
   "cell_type": "markdown",
   "metadata": {},
   "source": [
    "## Longest path"
   ]
  },
  {
   "cell_type": "code",
   "execution_count": 42,
   "metadata": {},
   "outputs": [
    {
     "data": {
      "text/plain": [
       "{1: 0, 2: 1, 3: 1, 4: 2, 5: 2, 7: 2, 6: 3}"
      ]
     },
     "execution_count": 42,
     "metadata": {},
     "output_type": "execute_result"
    }
   ],
   "source": [
    "def longest_path(adjacency_list, start_vertex):\n",
    "  # get topological order of vertices\n",
    "  topological_order = {vertex: False for vertex in adjacency_list}\n",
    "\n",
    "  # initialize distances dictionary with -1 for all vertices, set distances[start_vertex] to 0\n",
    "  distances = {vertex: -1 for vertex in adjacency_list}\n",
    "  distances[start_vertex] = 0\n",
    "\n",
    "  for vertex in topological_order:\n",
    "    # if vertex is reachable (distances[vertex] != -1):\n",
    "    if distances[vertex] != -1:\n",
    "      for neighbor in adjacency_list[vertex]:\n",
    "        distances[neighbor] = max([distances[neighbor], distances[vertex]+1])\n",
    "\n",
    "  return distances\n",
    "\n",
    "\n",
    "adjacency_list = {\n",
    "    1: [2, 3, 7],\n",
    "    2: [4, 7],\n",
    "    3: [5, 7],\n",
    "    4: [6],\n",
    "    5: [6],\n",
    "    7: [6],\n",
    "    6: []\n",
    "}\n",
    "longest_path(adjacency_list, 1)"
   ]
  },
  {
   "cell_type": "markdown",
   "metadata": {},
   "source": [
    "## GRPA 3"
   ]
  },
  {
   "cell_type": "code",
   "execution_count": 43,
   "metadata": {},
   "outputs": [],
   "source": [
    "adjacency_list = {'Madurai': ['Cochin', 'Kanyakumari'],\n",
    "                  'Vaishali': [],\n",
    "                  'Varanasi': ['Khajuraho', 'Bodhgaya'],\n",
    "                  'Thiruvanandhapuram': ['Kanyakumari'],\n",
    "                  'Udaipur': ['Gir'],\n",
    "                  'Rishikesh': ['Delhi'],\n",
    "                  'Shimla': ['Rishikesh'],\n",
    "                  'Bangalore': ['Chennai', 'Madurai'],\n",
    "                  'Agra': ['Ranthambore'],\n",
    "                  'Bodhgaya': ['Kolkatta'],\n",
    "                  'Cochin': ['Thiruvanandhapuram'],\n",
    "                  'Pushkar': ['Udaipur', 'Ranthambore'],\n",
    "                  'Ranthambore': ['Khajuraho'],\n",
    "                  'Gir': [],\n",
    "                  'Kolkatta': ['Bangalore', 'Chennai'],\n",
    "                  'Chennai': ['Madurai'],\n",
    "                  'Sravasti': ['Kushinagar'],\n",
    "                  'Leh': ['Shimla'],\n",
    "                  'Sarnath': ['Varanasi'],\n",
    "                  'Delhi': ['Jaipur', 'Agra', 'Sravasti'],\n",
    "                  'Kanyakumari': [],\n",
    "                  'Kushinagar': ['Sarnath', 'Vaishali'],\n",
    "                  'Khajuraho': [],\n",
    "                  'Jaipur': ['Pushkar']}\n",
    "\n",
    "excepted_output = ['Leh', 'Shimla', 'Rishikesh', 'Delhi', 'Sravasti', 'Kushinagar', 'Sarnath', 'Varanasi',\n",
    "                   'Bodhgaya', 'Kolkatta', 'Bangalore', 'Chennai', 'Madurai', 'Cochin', 'Thiruvanandhapuram', 'Kanyakumari']"
   ]
  },
  {
   "cell_type": "code",
   "execution_count": 44,
   "metadata": {},
   "outputs": [],
   "source": [
    "class Stack:\n",
    "  def __init__(self):\n",
    "    self.data = []\n",
    "\n",
    "  def is_empty(self):\n",
    "    return len(self.data) == 0\n",
    "\n",
    "  def push(self, value):\n",
    "    self.data.append(value)\n",
    "\n",
    "  def pop(self):\n",
    "    return self.data.pop()\n",
    "\n",
    "  def __str__(self):\n",
    "    return str(self.data)"
   ]
  },
  {
   "cell_type": "code",
   "execution_count": 45,
   "metadata": {},
   "outputs": [],
   "source": [
    "def dfs(adjacency_list, curr_vertex, visited, stack):\n",
    "  visited[curr_vertex] = True\n",
    "\n",
    "  for adj_vertex in adjacency_list[curr_vertex]:\n",
    "    if not visited[adj_vertex]:\n",
    "      dfs(adjacency_list, adj_vertex, visited, stack)\n",
    "\n",
    "  stack.push(curr_vertex)"
   ]
  },
  {
   "cell_type": "code",
   "execution_count": 46,
   "metadata": {},
   "outputs": [],
   "source": [
    "def topological_sorting(adjacency_list):\n",
    "  visited = {vertex: False for vertex in adjacency_list}\n",
    "  stack = Stack()\n",
    "\n",
    "  for vertex in adjacency_list:\n",
    "    if not visited[vertex]:\n",
    "      dfs(adjacency_list, vertex, visited, stack)\n",
    "\n",
    "  stack.data.reverse()\n",
    "  return stack.data"
   ]
  },
  {
   "cell_type": "code",
   "execution_count": 47,
   "metadata": {},
   "outputs": [],
   "source": [
    "def dag_longest_path_distances(adjacency_list):\n",
    "  topological_order = topological_sorting(adjacency_list)\n",
    "\n",
    "  distances = {vertex: False for vertex in adjacency_list}\n",
    "  predecessors = {vertex: -1 for vertex in adjacency_list}\n",
    "\n",
    "  start_vertex = topological_order[0]\n",
    "  distances[start_vertex] = 0\n",
    "\n",
    "  for parent_vertex in topological_order:\n",
    "    if distances[parent_vertex] != -1:\n",
    "      for child_vertex in adjacency_list[parent_vertex]:\n",
    "        new_distances = distances[parent_vertex]+1\n",
    "        if distances[child_vertex] < new_distances:\n",
    "          distances[child_vertex] = new_distances\n",
    "          predecessors = parent_vertex\n",
    "  return distances, predecessors"
   ]
  },
  {
   "cell_type": "code",
   "execution_count": 48,
   "metadata": {},
   "outputs": [],
   "source": [
    "# def long_journey(adjacency_list):\n",
    "#   distances, predecessors = dag_longest_path_distances(adjacency_list)\n",
    "\n",
    "#   best_path = []\n",
    "#   city = sorted(distances, key=lambda city: distances[city])[-1]\n",
    "#   while city is not None:\n",
    "#     best_path.append(city)\n",
    "#     city = predecessors[city]\n",
    "\n",
    "#   best_path.reverse()\n",
    "#   return best_path\n",
    "\n",
    "\n",
    "# long_journey(adjacency_list) == excepted_output"
   ]
  },
  {
   "cell_type": "markdown",
   "metadata": {},
   "source": [
    "## GRPA 3 revision"
   ]
  },
  {
   "cell_type": "code",
   "execution_count": 49,
   "metadata": {},
   "outputs": [],
   "source": [
    "class Stack:\n",
    "  def __init__(self):\n",
    "    self.data = []\n",
    "\n",
    "  def is_empty(self):\n",
    "    return len(self.data) == 0\n",
    "\n",
    "  def push(self, value):\n",
    "    self.data.append(value)\n",
    "\n",
    "  def pop(self):\n",
    "    return self.data.pop()\n",
    "\n",
    "  def __str__(self):\n",
    "    return str(self.data)"
   ]
  },
  {
   "cell_type": "code",
   "execution_count": 50,
   "metadata": {},
   "outputs": [],
   "source": [
    "def dfs(adjacency_list, curr_vertex, visited, stack):\n",
    "  visited[curr_vertex] = True\n",
    "\n",
    "  for adj_vertex in adjacency_list[curr_vertex]:\n",
    "    if not visited[adj_vertex]:\n",
    "      dfs(adjacency_list, adj_vertex, visited, stack)\n",
    "\n",
    "  stack.push(curr_vertex)"
   ]
  },
  {
   "cell_type": "code",
   "execution_count": 51,
   "metadata": {},
   "outputs": [],
   "source": [
    "def topological_sort(adjacency_list):\n",
    "  visited = {vertex: False for vertex in adjacency_list}\n",
    "  stack = Stack()\n",
    "\n",
    "  for vertex in adjacency_list:\n",
    "    if not visited[vertex]:\n",
    "      dfs(adjacency_list, vertex, visited, stack)\n",
    "\n",
    "  stack.data.reverse()\n",
    "  return stack.data"
   ]
  },
  {
   "cell_type": "code",
   "execution_count": 66,
   "metadata": {},
   "outputs": [],
   "source": [
    "def longest_path(adjacency_list):\n",
    "  topological_order = topological_sort(adjacency_list)\n",
    "\n",
    "  distances = {vertex: -1 for vertex in adjacency_list}\n",
    "  predecessor = {vertex: None for vertex in adjacency_list}\n",
    "\n",
    "  start_vertex = topological_order[0]\n",
    "  distances[start_vertex] = 0\n",
    "\n",
    "  for parent in topological_order:\n",
    "    if distances[parent] != -1:\n",
    "      for child in adjacency_list[parent]:\n",
    "        new_distance = distances[parent]+1\n",
    "        if new_distance > distances[child]:\n",
    "          distances[child] = new_distance\n",
    "          predecessor[child] = parent\n",
    "\n",
    "  return distances, predecessor"
   ]
  },
  {
   "cell_type": "code",
   "execution_count": 68,
   "metadata": {},
   "outputs": [
    {
     "data": {
      "text/plain": [
       "True"
      ]
     },
     "execution_count": 68,
     "metadata": {},
     "output_type": "execute_result"
    }
   ],
   "source": [
    "def long_journey(adjacency_list):\n",
    "  distances, predecessor = longest_path(adjacency_list)\n",
    "\n",
    "  best_path = []\n",
    "  last_city = max(distances, key=distances.get)\n",
    "  while last_city is not None:\n",
    "    best_path.append(last_city)\n",
    "    last_city = predecessor[last_city]\n",
    "\n",
    "  best_path.reverse()\n",
    "  return best_path\n",
    "\n",
    "\n",
    "long_journey(adjacency_list) == excepted_output"
   ]
  },
  {
   "cell_type": "markdown",
   "metadata": {},
   "source": [
    "## GRPA 2 revision"
   ]
  },
  {
   "cell_type": "code",
   "execution_count": 79,
   "metadata": {},
   "outputs": [],
   "source": [
    "def parse_my_input(my_input):\n",
    "  data = my_input.strip().split('\\n')\n",
    "\n",
    "  V = list(map(int, data[0].split()))\n",
    "  E = []\n",
    "\n",
    "  for edge in data[2::]:\n",
    "    edge = list(map(int, edge.split()))\n",
    "    E.append(edge)\n",
    "\n",
    "  return V, E"
   ]
  },
  {
   "cell_type": "code",
   "execution_count": 84,
   "metadata": {},
   "outputs": [],
   "source": [
    "class Queue:\n",
    "  def __init__(self):\n",
    "    self.data = []\n",
    "\n",
    "  def is_empty(self):\n",
    "    return len(self.data) == 0\n",
    "\n",
    "  def enqueue(self, value):\n",
    "    self.data.append(value)\n",
    "\n",
    "  def dequeue(self):\n",
    "    return self.data.pop(0)\n",
    "\n",
    "  def __str__(self):\n",
    "    return str(self.data)"
   ]
  },
  {
   "cell_type": "code",
   "execution_count": 99,
   "metadata": {},
   "outputs": [
    {
     "data": {
      "text/plain": [
       "0"
      ]
     },
     "execution_count": 99,
     "metadata": {},
     "output_type": "execute_result"
    }
   ],
   "source": [
    "# wrong answer ❌👎\n",
    "\n",
    "def bfs(adjacency_list, start_vertex):\n",
    "  visited = {vertex: False for vertex in adjacency_list}\n",
    "\n",
    "  queue = Queue()\n",
    "  queue.enqueue(start_vertex)\n",
    "  visited[start_vertex] = True\n",
    "\n",
    "  while not queue.is_empty():\n",
    "    curr_vertex = queue.dequeue()\n",
    "\n",
    "  for adj_vertex in adjacency_list[curr_vertex]:\n",
    "    if not visited[adj_vertex]:\n",
    "      queue.enqueue(adj_vertex)\n",
    "      visited[adj_vertex] = True\n",
    "  return visited\n",
    "\n",
    "\n",
    "def find_master_tank(tanks, pipes):\n",
    "  adjacency_list = {}\n",
    "  for tank in tanks:\n",
    "    adjacency_list[tank] = []\n",
    "  for i_tank, j_tank in pipes:\n",
    "    adjacency_list[i_tank].append(j_tank)\n",
    "\n",
    "  for tank in tanks:\n",
    "    visited = bfs(adjacency_list, tank)\n",
    "    if all(visited.values()):\n",
    "      return tank\n",
    "  return 0\n",
    "\n",
    "\n",
    "find_master_tank(*parse_my_input(\"\"\"\n",
    "1 2 3 4 5 6 7 8 9 10\n",
    "12\n",
    "10 3\n",
    "3 6\n",
    "4 6\n",
    "4 7\n",
    "6 2\n",
    "7 5\n",
    "10 4\n",
    "5 6\n",
    "4 3\n",
    "6 9\n",
    "5 8\n",
    "2 1\n",
    "\"\"\"))"
   ]
  },
  {
   "cell_type": "code",
   "execution_count": 100,
   "metadata": {},
   "outputs": [],
   "source": [
    "def bfs(adjacency_list, start_vertex):\n",
    "  visited = {vertex: False for vertex in adjacency_list}\n",
    "\n",
    "  queue = Queue()\n",
    "  queue.enqueue(start_vertex)\n",
    "  visited[start_vertex] = True\n",
    "\n",
    "  while not queue.is_empty():\n",
    "    curr_vertex = queue.dequeue()\n",
    "    for adj_vertex in adjacency_list[curr_vertex]:\n",
    "      if not visited[adj_vertex]:\n",
    "        queue.enqueue(adj_vertex)\n",
    "        visited[adj_vertex] = True\n",
    "  return visited"
   ]
  },
  {
   "cell_type": "code",
   "execution_count": 101,
   "metadata": {},
   "outputs": [
    {
     "data": {
      "text/plain": [
       "10"
      ]
     },
     "execution_count": 101,
     "metadata": {},
     "output_type": "execute_result"
    }
   ],
   "source": [
    "def find_master_tank(tanks, pipes):\n",
    "  adjacency_list = {}\n",
    "  for tank in tanks:\n",
    "    adjacency_list[tank] = []\n",
    "  for i_tank, j_tank in pipes:\n",
    "    adjacency_list[i_tank].append(j_tank)\n",
    "  # print(adjacency_list)\n",
    "\n",
    "  for tank in tanks:\n",
    "    visited = bfs(adjacency_list, tank)\n",
    "    # print(tank)\n",
    "    if all(visited.values()):\n",
    "      return tank\n",
    "  return 0\n",
    "\n",
    "\n",
    "find_master_tank(*parse_my_input(\"\"\"\n",
    "1 2 3 4 5 6 7 8 9 10\n",
    "12\n",
    "10 3\n",
    "3 6\n",
    "4 6\n",
    "4 7\n",
    "6 2\n",
    "7 5\n",
    "10 4\n",
    "5 6\n",
    "4 3\n",
    "6 9\n",
    "5 8\n",
    "2 1\n",
    "\"\"\"))"
   ]
  }
 ],
 "metadata": {
  "kernelspec": {
   "display_name": "Python 3",
   "language": "python",
   "name": "python3"
  },
  "language_info": {
   "codemirror_mode": {
    "name": "ipython",
    "version": 3
   },
   "file_extension": ".py",
   "mimetype": "text/x-python",
   "name": "python",
   "nbconvert_exporter": "python",
   "pygments_lexer": "ipython3",
   "version": "3.12.3"
  }
 },
 "nbformat": 4,
 "nbformat_minor": 2
}
