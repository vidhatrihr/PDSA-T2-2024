{
 "cells": [
  {
   "cell_type": "markdown",
   "metadata": {},
   "source": [
    "# unweighted undirected graph\n",
    "## adjacency matrix"
   ]
  },
  {
   "cell_type": "code",
   "execution_count": 19,
   "metadata": {},
   "outputs": [],
   "source": [
    "import numpy as np"
   ]
  },
  {
   "cell_type": "code",
   "execution_count": 20,
   "metadata": {},
   "outputs": [
    {
     "data": {
      "text/plain": [
       "0"
      ]
     },
     "execution_count": 20,
     "metadata": {},
     "output_type": "execute_result"
    },
    {
     "data": {
      "text/plain": [
       "0.0"
      ]
     },
     "execution_count": 20,
     "metadata": {},
     "output_type": "execute_result"
    },
    {
     "data": {
      "text/plain": [
       "True"
      ]
     },
     "execution_count": 20,
     "metadata": {},
     "output_type": "execute_result"
    }
   ],
   "source": [
    "0\n",
    "0.\n",
    "0 == 0."
   ]
  },
  {
   "cell_type": "code",
   "execution_count": 21,
   "metadata": {},
   "outputs": [
    {
     "data": {
      "text/plain": [
       "array([[0., 0., 0.],\n",
       "       [0., 0., 0.],\n",
       "       [0., 0., 0.],\n",
       "       [0., 0., 0.],\n",
       "       [0., 0., 0.],\n",
       "       [0., 0., 0.],\n",
       "       [0., 0., 0.],\n",
       "       [0., 0., 0.],\n",
       "       [0., 0., 0.],\n",
       "       [0., 0., 0.]])"
      ]
     },
     "execution_count": 21,
     "metadata": {},
     "output_type": "execute_result"
    }
   ],
   "source": [
    "np.zeros(shape=(10, 3))  # shape= rows, col"
   ]
  },
  {
   "cell_type": "code",
   "execution_count": 22,
   "metadata": {},
   "outputs": [],
   "source": [
    "V = [0, 1, 2, 3, 4]\n",
    "E = [(0, 1), (0, 2), (1, 3), (1, 4), (2, 4), (2, 3), (3, 4)]"
   ]
  },
  {
   "cell_type": "code",
   "execution_count": 23,
   "metadata": {},
   "outputs": [
    {
     "data": {
      "text/plain": [
       "array([[0., 1., 1., 0., 0.],\n",
       "       [0., 0., 0., 1., 1.],\n",
       "       [0., 0., 0., 1., 1.],\n",
       "       [0., 0., 0., 0., 1.],\n",
       "       [0., 0., 0., 0., 0.]])"
      ]
     },
     "execution_count": 23,
     "metadata": {},
     "output_type": "execute_result"
    }
   ],
   "source": [
    "# using numpy\n",
    "size = len(V)\n",
    "adjacency_matrix = np.zeros(shape=(size, size))\n",
    "\n",
    "for (i, j) in E:\n",
    "  adjacency_matrix[i, j] = 1\n",
    "\n",
    "adjacency_matrix"
   ]
  },
  {
   "cell_type": "code",
   "execution_count": 24,
   "metadata": {},
   "outputs": [
    {
     "data": {
      "text/plain": [
       "[[0, 1, 1, 0, 0],\n",
       " [0, 0, 0, 1, 1],\n",
       " [0, 0, 0, 1, 1],\n",
       " [0, 0, 0, 0, 1],\n",
       " [0, 0, 0, 0, 0]]"
      ]
     },
     "execution_count": 24,
     "metadata": {},
     "output_type": "execute_result"
    }
   ],
   "source": [
    "# using python\n",
    "\n",
    "size = len(V)\n",
    "adjacency_matrix = [[0 for j in range(size)] for i in range(size)]\n",
    "\n",
    "for (i, j) in E:\n",
    "  adjacency_matrix[i][j] = 1\n",
    "\n",
    "adjacency_matrix"
   ]
  },
  {
   "cell_type": "markdown",
   "metadata": {},
   "source": [
    "## adjacency list"
   ]
  },
  {
   "cell_type": "code",
   "execution_count": 25,
   "metadata": {},
   "outputs": [
    {
     "data": {
      "text/plain": [
       "{0: [1, 2], 1: [3, 4], 2: [4, 3], 3: [4], 4: []}"
      ]
     },
     "execution_count": 25,
     "metadata": {},
     "output_type": "execute_result"
    }
   ],
   "source": [
    "adjacency_list = {}\n",
    "size = len(V)\n",
    "for i in range(size):\n",
    "  adjacency_list[i] = []\n",
    "\n",
    "for (i, j) in E:\n",
    "  adjacency_list[i].append(j)\n",
    "\n",
    "adjacency_list"
   ]
  },
  {
   "cell_type": "markdown",
   "metadata": {},
   "source": [
    "# unweighted undirected graph"
   ]
  },
  {
   "cell_type": "code",
   "execution_count": 26,
   "metadata": {},
   "outputs": [],
   "source": [
    "V = [0, 1, 2, 3, 4]\n",
    "E = [(0, 1), (0, 2), (1, 3), (1, 4), (2, 4), (2, 3), (3, 4)]\n",
    "UE = E + [(j, i) for (i, j) in E]"
   ]
  },
  {
   "cell_type": "code",
   "execution_count": 27,
   "metadata": {},
   "outputs": [
    {
     "name": "stdout",
     "output_type": "stream",
     "text": [
      "[(0, 1), (0, 2), (1, 3), (1, 4), (2, 4), (2, 3), (3, 4), (1, 0), (2, 0), (3, 1), (4, 1), (4, 2), (3, 2), (4, 3)]\n"
     ]
    }
   ],
   "source": [
    "print(E + [(j, i) for (i, j) in E])"
   ]
  },
  {
   "cell_type": "code",
   "execution_count": 28,
   "metadata": {},
   "outputs": [
    {
     "data": {
      "text/plain": [
       "[[0, 1, 1, 0, 0],\n",
       " [1, 0, 0, 1, 1],\n",
       " [1, 0, 0, 1, 1],\n",
       " [0, 1, 1, 0, 1],\n",
       " [0, 1, 1, 1, 0]]"
      ]
     },
     "execution_count": 28,
     "metadata": {},
     "output_type": "execute_result"
    }
   ],
   "source": [
    "# using python matrix\n",
    "\n",
    "size = len(V)\n",
    "adjacency_matrix = [[0 for j in range(size)] for i in range(size)]\n",
    "\n",
    "for (i, j) in UE:\n",
    "  adjacency_matrix[i][j] = 1\n",
    "\n",
    "adjacency_matrix"
   ]
  },
  {
   "cell_type": "code",
   "execution_count": 29,
   "metadata": {},
   "outputs": [
    {
     "data": {
      "text/plain": [
       "array([[0., 1., 1., 0., 0.],\n",
       "       [1., 0., 0., 1., 1.],\n",
       "       [1., 0., 0., 1., 1.],\n",
       "       [0., 1., 1., 0., 1.],\n",
       "       [0., 1., 1., 1., 0.]])"
      ]
     },
     "execution_count": 29,
     "metadata": {},
     "output_type": "execute_result"
    }
   ],
   "source": [
    "# using numpy matrix\n",
    "\n",
    "size = len(V)\n",
    "adjacency_matrix = np.zeros(shape=(size, size))\n",
    "\n",
    "for (i, j) in UE:\n",
    "  adjacency_matrix[i, j] = 1\n",
    "\n",
    "adjacency_matrix"
   ]
  },
  {
   "cell_type": "code",
   "execution_count": 30,
   "metadata": {},
   "outputs": [
    {
     "data": {
      "text/plain": [
       "{0: [1, 2], 1: [3, 4, 0], 2: [4, 3, 0], 3: [4, 1, 2], 4: [1, 2, 3]}"
      ]
     },
     "execution_count": 30,
     "metadata": {},
     "output_type": "execute_result"
    }
   ],
   "source": [
    "# list\n",
    "size = len(V)\n",
    "adjacency_list = {}\n",
    "\n",
    "for i in range(size):\n",
    "  adjacency_list[i] = []\n",
    "\n",
    "for (i, j) in UE:\n",
    "  adjacency_list[i].append(j)\n",
    "\n",
    "adjacency_list"
   ]
  },
  {
   "cell_type": "code",
   "execution_count": 31,
   "metadata": {},
   "outputs": [
    {
     "data": {
      "text/plain": [
       "[[0, 1, 1, 0, 0],\n",
       " [1, 0, 0, 1, 1],\n",
       " [1, 0, 0, 1, 1],\n",
       " [0, 1, 1, 0, 1],\n",
       " [0, 1, 1, 1, 0]]"
      ]
     },
     "execution_count": 31,
     "metadata": {},
     "output_type": "execute_result"
    }
   ],
   "source": [
    "size = len(V)\n",
    "adjacency_matrix = [[0 for j in range(size)] for i in range(size)]\n",
    "for (i, j) in UE:\n",
    "  adjacency_matrix[i][j] = 1\n",
    "\n",
    "adjacency_matrix"
   ]
  },
  {
   "cell_type": "code",
   "execution_count": 32,
   "metadata": {},
   "outputs": [
    {
     "data": {
      "text/plain": [
       "{0: [1, 2], 1: [3, 4, 0], 2: [4, 3, 0], 3: [4, 1, 2], 4: [1, 2, 3]}"
      ]
     },
     "execution_count": 32,
     "metadata": {},
     "output_type": "execute_result"
    }
   ],
   "source": [
    "size = len(V)\n",
    "adjacency_list = {}\n",
    "\n",
    "for i in range(size):\n",
    "  adjacency_list[i] = []\n",
    "\n",
    "for (i, j) in UE:\n",
    "  adjacency_list[i].append(j)\n",
    "\n",
    "adjacency_list"
   ]
  },
  {
   "cell_type": "code",
   "execution_count": 33,
   "metadata": {},
   "outputs": [
    {
     "data": {
      "text/plain": [
       "array([[0., 1., 1., 0., 0.],\n",
       "       [1., 0., 0., 1., 1.],\n",
       "       [1., 0., 0., 1., 1.],\n",
       "       [0., 1., 1., 0., 1.],\n",
       "       [0., 1., 1., 1., 0.]])"
      ]
     },
     "execution_count": 33,
     "metadata": {},
     "output_type": "execute_result"
    }
   ],
   "source": [
    "size = len(V)\n",
    "adjacency_matrix = np.zeros(shape=(size, size))\n",
    "\n",
    "for (i, j) in UE:\n",
    "  adjacency_matrix[i, j] = 1\n",
    "\n",
    "adjacency_matrix"
   ]
  },
  {
   "cell_type": "code",
   "execution_count": 34,
   "metadata": {},
   "outputs": [
    {
     "data": {
      "text/plain": [
       "{0: [1, 2], 1: [3, 4, 0], 2: [4, 3, 0], 3: [4, 1, 2], 4: [1, 2, 3]}"
      ]
     },
     "execution_count": 34,
     "metadata": {},
     "output_type": "execute_result"
    }
   ],
   "source": [
    "size = len(V)\n",
    "adjacency_list = {}\n",
    "\n",
    "for i in range(size):\n",
    "  adjacency_list[i] = []\n",
    "\n",
    "for (i, j) in UE:\n",
    "  adjacency_list[i].append(j)\n",
    "\n",
    "adjacency_list"
   ]
  },
  {
   "cell_type": "code",
   "execution_count": 35,
   "metadata": {},
   "outputs": [
    {
     "name": "stdout",
     "output_type": "stream",
     "text": [
      "10\n",
      "11\n",
      "12\n",
      "[13]\n"
     ]
    }
   ],
   "source": [
    "class Queue:\n",
    "  def __init__(self):\n",
    "    self.data = []\n",
    "\n",
    "  def is_empty(self):\n",
    "    return len(self.data) == 0\n",
    "\n",
    "  def enqueue(self, value):\n",
    "    self.data.append(value)\n",
    "\n",
    "  def dequeue(self):\n",
    "    if self.is_empty():\n",
    "      raise Exception('Queue is empty')\n",
    "    return self.data.pop(0)\n",
    "\n",
    "  def __str__(self):\n",
    "    return str(self.data)\n",
    "\n",
    "\n",
    "queue = Queue()\n",
    "queue.enqueue(10)\n",
    "queue.enqueue(11)\n",
    "print(queue.dequeue())\n",
    "print(queue.dequeue())\n",
    "queue.enqueue(12)\n",
    "print(queue.dequeue())\n",
    "queue.enqueue(13)\n",
    "\n",
    "\n",
    "print(queue)"
   ]
  },
  {
   "cell_type": "markdown",
   "metadata": {},
   "source": [
    "## Implementation BFS for adjacency list"
   ]
  },
  {
   "cell_type": "code",
   "execution_count": 36,
   "metadata": {},
   "outputs": [
    {
     "data": {
      "text/plain": [
       "{0: True, 1: True, 2: True, 3: True, 4: True}"
      ]
     },
     "execution_count": 36,
     "metadata": {},
     "output_type": "execute_result"
    }
   ],
   "source": [
    "def bfs_adjacency_list(adjacency_list, start_vertex):\n",
    "  visited = {}\n",
    "  for vertex in adjacency_list:\n",
    "    visited[vertex] = False\n",
    "\n",
    "  queue = Queue()\n",
    "  queue.enqueue(start_vertex)\n",
    "  visited[start_vertex] = True\n",
    "\n",
    "  while not queue.is_empty():\n",
    "    curr_vertex = queue.dequeue()\n",
    "    neighbors = adjacency_list[curr_vertex]\n",
    "    for adj_vertex in neighbors:\n",
    "      if visited[adj_vertex]:\n",
    "        continue\n",
    "      queue.enqueue(adj_vertex)\n",
    "      visited[adj_vertex] = True\n",
    "\n",
    "  return visited\n",
    "\n",
    "\n",
    "adjacency_list = {0: [1, 2], 1: [3, 4], 2: [4, 3], 3: [4], 4: []}\n",
    "bfs_adjacency_list(adjacency_list, 0)"
   ]
  },
  {
   "cell_type": "markdown",
   "metadata": {},
   "source": [
    "## Implementation BFS for adjacency matrix"
   ]
  },
  {
   "cell_type": "code",
   "execution_count": 37,
   "metadata": {},
   "outputs": [],
   "source": [
    "import numpy as np"
   ]
  },
  {
   "cell_type": "code",
   "execution_count": 38,
   "metadata": {},
   "outputs": [
    {
     "name": "stdout",
     "output_type": "stream",
     "text": [
      "[[0. 1. 1. 0. 0.]\n",
      " [0. 0. 0. 1. 1.]\n",
      " [0. 0. 0. 1. 1.]\n",
      " [0. 0. 0. 0. 1.]\n",
      " [0. 0. 0. 0. 0.]]\n"
     ]
    }
   ],
   "source": [
    "V = [0, 1, 2, 3, 4]\n",
    "E = [(0, 1), (0, 2), (1, 3), (1, 4), (2, 4), (2, 3), (3, 4)]\n",
    "\n",
    "size = len(V)\n",
    "adjacency_matrix = np.zeros(shape=(size, size))\n",
    "\n",
    "for (i, j) in E:\n",
    "  adjacency_matrix[i, j] = 1\n",
    "\n",
    "\n",
    "print(adjacency_matrix)"
   ]
  },
  {
   "cell_type": "code",
   "execution_count": 39,
   "metadata": {},
   "outputs": [
    {
     "data": {
      "text/plain": [
       "[]"
      ]
     },
     "execution_count": 39,
     "metadata": {},
     "output_type": "execute_result"
    }
   ],
   "source": [
    "def get_neighbors(adjacency_matrix, vertex):\n",
    "  rows, cols = adjacency_matrix.shape\n",
    "  neighbors = []\n",
    "  for j in range(cols):\n",
    "    if adjacency_matrix[vertex, j] == 1:\n",
    "      neighbors.append(j)\n",
    "\n",
    "  return neighbors\n",
    "\n",
    "\n",
    "get_neighbors(adjacency_matrix, 4)"
   ]
  },
  {
   "cell_type": "code",
   "execution_count": 40,
   "metadata": {},
   "outputs": [
    {
     "data": {
      "text/plain": [
       "{0: True, 1: True, 2: True, 3: True, 4: True}"
      ]
     },
     "execution_count": 40,
     "metadata": {},
     "output_type": "execute_result"
    }
   ],
   "source": [
    "def bfs_adjacency_matrix(adjacency_matrix, start_vertex):\n",
    "  visited = {}\n",
    "  rows, cols = adjacency_matrix.shape\n",
    "  for i in range(rows):\n",
    "    visited[i] = False\n",
    "  # print(f'{visited=}')\n",
    "\n",
    "  queue = Queue()\n",
    "  queue.enqueue(start_vertex)\n",
    "  visited[start_vertex] = True\n",
    "\n",
    "  while not queue.is_empty():\n",
    "    curr_vertex = queue.dequeue()\n",
    "    neighbors = get_neighbors(adjacency_matrix, curr_vertex)\n",
    "    for adj_vertex in neighbors:\n",
    "      if visited[adj_vertex]:\n",
    "        continue\n",
    "      queue.enqueue(adj_vertex)\n",
    "      visited[adj_vertex] = True\n",
    "  return visited\n",
    "\n",
    "\n",
    "bfs_adjacency_matrix(adjacency_matrix, 0)"
   ]
  },
  {
   "cell_type": "markdown",
   "metadata": {},
   "source": [
    "# Find [traversal order] using BFS"
   ]
  },
  {
   "cell_type": "code",
   "execution_count": 41,
   "metadata": {},
   "outputs": [
    {
     "data": {
      "text/plain": [
       "([0, 1, 2, 3, 4], {0: True, 1: True, 2: True, 3: True, 4: True})"
      ]
     },
     "execution_count": 41,
     "metadata": {},
     "output_type": "execute_result"
    }
   ],
   "source": [
    "def bfs_traversal_order(adjacency_list, start_vertex):\n",
    "  visited = {}\n",
    "  for vertex in adjacency_list:\n",
    "    visited[vertex] = False\n",
    "\n",
    "  queue = Queue()\n",
    "  queue.enqueue(start_vertex)\n",
    "  visited[start_vertex] = True\n",
    "  traversal_order = [start_vertex]\n",
    "\n",
    "  while not queue.is_empty():\n",
    "    curr_vertex = queue.dequeue()\n",
    "    neighbors = adjacency_list[curr_vertex]\n",
    "    for adj_vertex in neighbors:\n",
    "      if visited[adj_vertex]:\n",
    "        continue\n",
    "      queue.enqueue(adj_vertex)\n",
    "      visited[adj_vertex] = True\n",
    "      traversal_order.append(adj_vertex)\n",
    "\n",
    "  return (traversal_order, visited)\n",
    "\n",
    "\n",
    "adjacency_list = {0: [1, 2], 1: [3, 4], 2: [4, 3], 3: [4], 4: []}\n",
    "bfs_traversal_order(adjacency_list, 0)"
   ]
  },
  {
   "cell_type": "markdown",
   "metadata": {},
   "source": [
    "# Find parent of each vertex using BFS"
   ]
  },
  {
   "cell_type": "code",
   "execution_count": 42,
   "metadata": {},
   "outputs": [
    {
     "data": {
      "text/plain": [
       "({0: True, 1: True, 2: True, 3: True, 4: True},\n",
       " {0: -1, 1: 0, 2: 0, 3: 1, 4: 1})"
      ]
     },
     "execution_count": 42,
     "metadata": {},
     "output_type": "execute_result"
    }
   ],
   "source": [
    "def bfs_parent(adjacency_list, start_vertex):\n",
    "  visited = {}\n",
    "  parent = {}\n",
    "  for vertex in adjacency_list:\n",
    "    visited[vertex] = False\n",
    "    parent[vertex] = -1\n",
    "\n",
    "  queue = Queue()\n",
    "  queue.enqueue(start_vertex)\n",
    "  visited[start_vertex] = True\n",
    "\n",
    "  while not queue.is_empty():\n",
    "    curr_vertex = queue.dequeue()\n",
    "    neighbors = adjacency_list[curr_vertex]\n",
    "    for adj_vertex in neighbors:\n",
    "      if visited[adj_vertex]:\n",
    "        continue\n",
    "      queue.enqueue(adj_vertex)\n",
    "      visited[adj_vertex] = True\n",
    "      parent[adj_vertex] = curr_vertex\n",
    "\n",
    "  return (visited, parent)\n",
    "\n",
    "\n",
    "adjacency_list = {0: [1, 2], 1: [3, 4], 2: [4, 3], 3: [4], 4: []}\n",
    "bfs_parent(adjacency_list, 0)"
   ]
  },
  {
   "cell_type": "markdown",
   "metadata": {},
   "source": [
    "# Find level number of vertices using BFS"
   ]
  },
  {
   "cell_type": "code",
   "execution_count": 43,
   "metadata": {},
   "outputs": [
    {
     "data": {
      "text/plain": [
       "({0: -1, 1: 0, 2: 0, 3: 1, 4: 1}, {0: 0, 1: 1, 2: 1, 3: 2, 4: 2})"
      ]
     },
     "execution_count": 43,
     "metadata": {},
     "output_type": "execute_result"
    }
   ],
   "source": [
    "def bfs_level(adjacency_list, start_vertex):\n",
    "  level = {}\n",
    "  parent = {}\n",
    "  for vertex in adjacency_list:\n",
    "    level[vertex] = -1\n",
    "    parent[vertex] = -1\n",
    "\n",
    "  queue = Queue()\n",
    "  queue.enqueue(start_vertex)\n",
    "  level[start_vertex] = 0\n",
    "\n",
    "  while not queue.is_empty():\n",
    "    curr_vertex = queue.dequeue()\n",
    "    neighbors = adjacency_list[curr_vertex]\n",
    "    for adj_vertex in neighbors:\n",
    "      if level[adj_vertex] == -1:\n",
    "        queue.enqueue(adj_vertex)\n",
    "        level[adj_vertex] = level[curr_vertex]+1\n",
    "        parent[adj_vertex] = curr_vertex\n",
    "  return (parent, level)\n",
    "\n",
    "\n",
    "adjacency_list = {0: [1, 2], 1: [3, 4], 2: [4, 3], 3: [4], 4: []}\n",
    "bfs_level(adjacency_list, 0)"
   ]
  },
  {
   "cell_type": "markdown",
   "metadata": {},
   "source": [
    "# Depth First Search(DFS)"
   ]
  },
  {
   "cell_type": "markdown",
   "metadata": {},
   "source": [
    "## Implementation DFS for adjacency list"
   ]
  },
  {
   "cell_type": "markdown",
   "metadata": {},
   "source": [
    "### using stack"
   ]
  },
  {
   "cell_type": "code",
   "execution_count": 44,
   "metadata": {},
   "outputs": [
    {
     "name": "stdout",
     "output_type": "stream",
     "text": [
      "30\n",
      "20\n",
      "40\n",
      "[10]\n"
     ]
    }
   ],
   "source": [
    "class Stack:\n",
    "  def __init__(self):\n",
    "    self.data = []\n",
    "\n",
    "  def is_empty(self):\n",
    "    return len(self.data) == 0\n",
    "\n",
    "  def push(self, value):\n",
    "    self.data.append(value)\n",
    "\n",
    "  def pop(self):\n",
    "    if self.is_empty():\n",
    "      raise Exception('stack is empty')\n",
    "    return self.data.pop()\n",
    "\n",
    "  def __str__(self):\n",
    "    return str(self.data)\n",
    "\n",
    "\n",
    "stack = Stack()\n",
    "stack.push(10)\n",
    "stack.push(20)\n",
    "stack.push(30)\n",
    "print(stack.pop())\n",
    "print(stack.pop())\n",
    "stack.push(40)\n",
    "print(stack.pop())\n",
    "print(stack)"
   ]
  },
  {
   "cell_type": "code",
   "execution_count": 45,
   "metadata": {},
   "outputs": [
    {
     "data": {
      "text/plain": [
       "{0: True, 1: True, 2: True, 3: True, 4: True}"
      ]
     },
     "execution_count": 45,
     "metadata": {},
     "output_type": "execute_result"
    }
   ],
   "source": [
    "def dfs_adjacency_list(adjacency_list, start_vertex):\n",
    "  visited = {}\n",
    "  for vertex in adjacency_list:\n",
    "    visited[vertex] = False\n",
    "\n",
    "  stack = Stack()\n",
    "  stack.push(start_vertex)\n",
    "\n",
    "  while not stack.is_empty():\n",
    "    curr_vertex = stack.pop()\n",
    "    if visited[curr_vertex]:\n",
    "      continue\n",
    "    visited[curr_vertex] = True\n",
    "    neighbors = adjacency_list[curr_vertex]\n",
    "    for adj_vertex in neighbors:\n",
    "      if not visited[adj_vertex]:\n",
    "        stack.push(adj_vertex)\n",
    "  return visited\n",
    "\n",
    "\n",
    "adjacency_list = {0: [1, 2], 1: [3, 4], 2: [4, 3], 3: [4], 4: []}\n",
    "dfs_adjacency_list(adjacency_list, 0)"
   ]
  },
  {
   "cell_type": "code",
   "execution_count": 46,
   "metadata": {},
   "outputs": [
    {
     "data": {
      "text/plain": [
       "{0: True, 1: True, 2: True, 3: True, 4: True}"
      ]
     },
     "execution_count": 46,
     "metadata": {},
     "output_type": "execute_result"
    }
   ],
   "source": [
    "def dfs_adjacency_list(adjacency_list, start_vertex):\n",
    "  visited = {}\n",
    "  for vertex in adjacency_list:\n",
    "    visited[vertex] = False\n",
    "\n",
    "  stack = Stack()\n",
    "  stack.push(start_vertex)\n",
    "\n",
    "  while not stack.is_empty():\n",
    "    curr_vertex = stack.pop()\n",
    "    if not visited[curr_vertex]:\n",
    "      visited[curr_vertex] = True\n",
    "      neighbors = adjacency_list[curr_vertex]\n",
    "      for adj_vertex in neighbors:\n",
    "        if not visited[adj_vertex]:\n",
    "          stack.push(adj_vertex)\n",
    "  return visited\n",
    "\n",
    "\n",
    "adjacency_list = {0: [1, 2], 1: [3, 4], 2: [4, 3], 3: [4], 4: []}\n",
    "dfs_adjacency_list(adjacency_list, 0)"
   ]
  },
  {
   "cell_type": "markdown",
   "metadata": {},
   "source": [
    "### using recursion"
   ]
  },
  {
   "cell_type": "code",
   "execution_count": 47,
   "metadata": {},
   "outputs": [],
   "source": [
    "def init_dfs_recursive(adjacency_list):\n",
    "  visited = {}\n",
    "  for vertex in adjacency_list:\n",
    "    visited[vertex] = False\n",
    "  return visited"
   ]
  },
  {
   "cell_type": "code",
   "execution_count": 48,
   "metadata": {},
   "outputs": [
    {
     "name": "stdout",
     "output_type": "stream",
     "text": [
      "{0: True, 1: True, 2: True, 3: True, 4: True}\n"
     ]
    }
   ],
   "source": [
    "# Using global variable `visited`\n",
    "\n",
    "def dfs_adjacency_list_recursive(adjacency_list, curr_vertex):\n",
    "  visited[curr_vertex] = True  # `visited` is defined outside the function\n",
    "  neighbors = adjacency_list[curr_vertex]\n",
    "  for adj_vertex in neighbors:\n",
    "    if not visited[adj_vertex]:\n",
    "      visited[adj_vertex] = True\n",
    "      dfs_adjacency_list_recursive(adjacency_list, adj_vertex)\n",
    "\n",
    "\n",
    "# test code\n",
    "adjacency_list = {0: [1, 2], 1: [3, 4], 2: [4, 3], 3: [4], 4: []}\n",
    "visited = init_dfs_recursive(adjacency_list)\n",
    "dfs_adjacency_list_recursive(adjacency_list, 0)\n",
    "print(visited)"
   ]
  },
  {
   "cell_type": "code",
   "execution_count": 49,
   "metadata": {},
   "outputs": [
    {
     "data": {
      "text/plain": [
       "{0: True, 1: True, 2: True, 3: True, 4: True}"
      ]
     },
     "execution_count": 49,
     "metadata": {},
     "output_type": "execute_result"
    }
   ],
   "source": [
    "def dfs_adjacency_list_recursive(adjacency_list, curr_vertex, visited):\n",
    "  visited[curr_vertex] = True\n",
    "\n",
    "  neighbors = adjacency_list[curr_vertex]\n",
    "  for adj_vertex in neighbors:\n",
    "    if not visited[adj_vertex]:\n",
    "      visited[adj_vertex] = True\n",
    "      dfs_adjacency_list_recursive(adjacency_list, adj_vertex, visited)\n",
    "  return visited\n",
    "\n",
    "\n",
    "# test code\n",
    "adjacency_list = {0: [1, 2], 1: [3, 4], 2: [4, 3], 3: [4], 4: []}\n",
    "visited = init_dfs_recursive(adjacency_list)\n",
    "dfs_adjacency_list_recursive(adjacency_list, 0, visited)"
   ]
  },
  {
   "cell_type": "markdown",
   "metadata": {},
   "source": [
    "## Implementation DFS for adjacency matrix"
   ]
  },
  {
   "cell_type": "markdown",
   "metadata": {},
   "source": [
    "### using stack"
   ]
  },
  {
   "cell_type": "code",
   "execution_count": 50,
   "metadata": {},
   "outputs": [
    {
     "name": "stdout",
     "output_type": "stream",
     "text": [
      "[[0. 1. 1. 0. 0.]\n",
      " [0. 0. 0. 1. 1.]\n",
      " [0. 0. 0. 1. 1.]\n",
      " [0. 0. 0. 0. 1.]\n",
      " [0. 0. 0. 0. 0.]]\n"
     ]
    }
   ],
   "source": [
    "import numpy as np\n",
    "V = [0, 1, 2, 3, 4]\n",
    "E = [(0, 1), (0, 2), (1, 3), (1, 4), (2, 4), (2, 3), (3, 4)]\n",
    "\n",
    "size = len(V)\n",
    "adjacency_matrix = np.zeros(shape=(size, size))\n",
    "for (i, j) in E:\n",
    "  adjacency_matrix[i, j] = 1\n",
    "\n",
    "print(adjacency_matrix)"
   ]
  },
  {
   "cell_type": "code",
   "execution_count": 62,
   "metadata": {},
   "outputs": [
    {
     "name": "stdout",
     "output_type": "stream",
     "text": [
      "14\n",
      "13\n",
      "15\n",
      "[12]\n"
     ]
    }
   ],
   "source": [
    "class Stack:\n",
    "  def __init__(self):\n",
    "    self.data = []\n",
    "\n",
    "  def is_empty(self):\n",
    "    return len(self.data) == 0\n",
    "\n",
    "  def push(self, value):\n",
    "    self.data.append(value)\n",
    "\n",
    "  def pop(self):\n",
    "    if self.is_empty():\n",
    "      raise Exception('stack is empty')\n",
    "    return self.data.pop()\n",
    "\n",
    "  def __str__(self):\n",
    "    return str(self.data)\n",
    "\n",
    "\n",
    "stack = Stack()\n",
    "stack.push(12)\n",
    "stack.push(13)\n",
    "stack.push(14)\n",
    "print(stack.pop())\n",
    "print(stack.pop())\n",
    "stack.push(15)\n",
    "print(stack.pop())\n",
    "print(stack)"
   ]
  },
  {
   "cell_type": "code",
   "execution_count": 55,
   "metadata": {},
   "outputs": [
    {
     "data": {
      "text/plain": [
       "[4]"
      ]
     },
     "execution_count": 55,
     "metadata": {},
     "output_type": "execute_result"
    }
   ],
   "source": [
    "def get_neighbors(adjacency_matrix, vertex):\n",
    "  rows, cols = adjacency_matrix.shape\n",
    "  neighbors = []\n",
    "  for j in range(cols):\n",
    "    if adjacency_matrix[vertex, j] == 1:\n",
    "      neighbors.append(j)\n",
    "  return neighbors\n",
    "\n",
    "\n",
    "get_neighbors(adjacency_matrix, 3)"
   ]
  },
  {
   "cell_type": "code",
   "execution_count": 67,
   "metadata": {},
   "outputs": [
    {
     "data": {
      "text/plain": [
       "{0: True, 1: True, 2: True, 3: True, 4: True}"
      ]
     },
     "execution_count": 67,
     "metadata": {},
     "output_type": "execute_result"
    }
   ],
   "source": [
    "def dfs_adjacency_matrix(adjacency_matrix, start_vertex):\n",
    "  visited = {}\n",
    "  rows, cols = adjacency_matrix.shape\n",
    "  for i in range(rows):\n",
    "    visited[i] = False\n",
    "\n",
    "  stack = Stack()\n",
    "  stack.push(start_vertex)\n",
    "\n",
    "  while not stack.is_empty():\n",
    "    curr_vertex = stack.pop()\n",
    "    if visited[curr_vertex]:\n",
    "      continue\n",
    "    visited[curr_vertex] = True\n",
    "\n",
    "    neighbors = get_neighbors(adjacency_matrix, curr_vertex)\n",
    "    for adj_vertex in neighbors:\n",
    "      if not visited[adj_vertex]:\n",
    "        stack.push(adj_vertex)\n",
    "  return visited\n",
    "\n",
    "\n",
    "dfs_adjacency_matrix(adjacency_matrix, 0)"
   ]
  }
 ],
 "metadata": {
  "kernelspec": {
   "display_name": "Python 3",
   "language": "python",
   "name": "python3"
  },
  "language_info": {
   "codemirror_mode": {
    "name": "ipython",
    "version": 3
   },
   "file_extension": ".py",
   "mimetype": "text/x-python",
   "name": "python",
   "nbconvert_exporter": "python",
   "pygments_lexer": "ipython3",
   "version": "3.12.3"
  }
 },
 "nbformat": 4,
 "nbformat_minor": 2
}
